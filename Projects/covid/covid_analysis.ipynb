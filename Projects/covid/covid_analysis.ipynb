{
 "cells": [
  {
   "cell_type": "markdown",
   "metadata": {},
   "source": [
    "# COVID-19 Model"
   ]
  },
  {
   "cell_type": "markdown",
   "metadata": {},
   "source": [
    "__Importing Modules__"
   ]
  },
  {
   "cell_type": "code",
   "execution_count": 3,
   "metadata": {},
   "outputs": [],
   "source": [
    "import pandas as pd\n",
    "import numpy as np\n",
    "import plotly.express as px\n",
    "import matplotlib.pyplot as plt"
   ]
  },
  {
   "cell_type": "markdown",
   "metadata": {},
   "source": [
    "__Loading the Dataset__"
   ]
  },
  {
   "cell_type": "code",
   "execution_count": 4,
   "metadata": {},
   "outputs": [],
   "source": [
    "confirmed_url = \"https://raw.githubusercontent.com/CSSEGISandData/COVID-19/master/csse_covid_19_data/csse_covid_19_time_series/time_series_covid19_confirmed_global.csv\"\n",
    "recovered_url = \"https://raw.githubusercontent.com/CSSEGISandData/COVID-19/master/csse_covid_19_data/csse_covid_19_time_series/time_series_covid19_recovered_global.csv\"\n",
    "deaths_url = \"https://raw.githubusercontent.com/CSSEGISandData/COVID-19/master/csse_covid_19_data/csse_covid_19_time_series/time_series_covid19_deaths_global.csv\"\n",
    "india_url = \"https://api.covid19india.org/csv/latest/states.csv\""
   ]
  },
  {
   "cell_type": "code",
   "execution_count": 5,
   "metadata": {},
   "outputs": [],
   "source": [
    "conf_df = pd.read_csv(confirmed_url)\n",
    "rec_df = pd.read_csv(recovered_url)\n",
    "deaths_df = pd.read_csv(deaths_url)\n",
    "india_df = pd.read_csv(india_url)"
   ]
  },
  {
   "cell_type": "markdown",
   "metadata": {},
   "source": [
    "_______________________________________________________________________________________________________________________________"
   ]
  },
  {
   "cell_type": "markdown",
   "metadata": {},
   "source": [
    "## Inspecting Data"
   ]
  },
  {
   "cell_type": "markdown",
   "metadata": {},
   "source": [
    "__Shape and Size__"
   ]
  },
  {
   "cell_type": "code",
   "execution_count": 6,
   "metadata": {},
   "outputs": [
    {
     "data": {
      "text/plain": [
       "((266, 258), 68628)"
      ]
     },
     "execution_count": 6,
     "metadata": {},
     "output_type": "execute_result"
    }
   ],
   "source": [
    "conf_df.shape, conf_df.size"
   ]
  },
  {
   "cell_type": "code",
   "execution_count": 7,
   "metadata": {},
   "outputs": [
    {
     "name": "stdout",
     "output_type": "stream",
     "text": [
      "<class 'pandas.core.frame.DataFrame'>\n",
      "RangeIndex: 266 entries, 0 to 265\n",
      "Columns: 258 entries, Province/State to 10/1/20\n",
      "dtypes: float64(2), int64(254), object(2)\n",
      "memory usage: 534.1+ KB\n"
     ]
    }
   ],
   "source": [
    "conf_df.info()"
   ]
  },
  {
   "cell_type": "markdown",
   "metadata": {},
   "source": [
    "__Unique Values__"
   ]
  },
  {
   "cell_type": "code",
   "execution_count": 8,
   "metadata": {
    "scrolled": true
   },
   "outputs": [
    {
     "data": {
      "text/plain": [
       "Province/State     81\n",
       "Country/Region    188\n",
       "Lat               262\n",
       "Long              263\n",
       "1/22/20            11\n",
       "                 ... \n",
       "9/27/20           258\n",
       "9/28/20           262\n",
       "9/29/20           263\n",
       "9/30/20           261\n",
       "10/1/20           261\n",
       "Length: 258, dtype: int64"
      ]
     },
     "execution_count": 8,
     "metadata": {},
     "output_type": "execute_result"
    }
   ],
   "source": [
    "conf_df.nunique()"
   ]
  },
  {
   "cell_type": "markdown",
   "metadata": {},
   "source": [
    "__Data from India__"
   ]
  },
  {
   "cell_type": "code",
   "execution_count": 10,
   "metadata": {},
   "outputs": [
    {
     "name": "stdout",
     "output_type": "stream",
     "text": [
      "<class 'pandas.core.frame.DataFrame'>\n",
      "RangeIndex: 7205 entries, 0 to 7204\n",
      "Data columns (total 7 columns):\n",
      " #   Column     Non-Null Count  Dtype  \n",
      "---  ------     --------------  -----  \n",
      " 0   Date       7205 non-null   object \n",
      " 1   State      7205 non-null   object \n",
      " 2   Confirmed  7205 non-null   int64  \n",
      " 3   Recovered  7205 non-null   int64  \n",
      " 4   Deceased   7205 non-null   int64  \n",
      " 5   Other      7205 non-null   int64  \n",
      " 6   Tested     6455 non-null   float64\n",
      "dtypes: float64(1), int64(4), object(2)\n",
      "memory usage: 337.8+ KB\n"
     ]
    }
   ],
   "source": [
    "india_df.info()"
   ]
  },
  {
   "cell_type": "markdown",
   "metadata": {},
   "source": [
    "## Cleaning Data"
   ]
  },
  {
   "cell_type": "markdown",
   "metadata": {},
   "source": [
    "__Drop all individual state data__"
   ]
  },
  {
   "cell_type": "code",
   "execution_count": 14,
   "metadata": {},
   "outputs": [],
   "source": [
    "india_df = india_df[india_df.State == \"India\"]"
   ]
  },
  {
   "cell_type": "markdown",
   "metadata": {},
   "source": [
    "__Fill NaN of \"Tested\" with change in \"Confirmed\"__"
   ]
  },
  {
   "cell_type": "code",
   "execution_count": 15,
   "metadata": {},
   "outputs": [],
   "source": [
    "india_df[\"Tested\"].fillna(india_df[\"Confirmed\"].diff(), inplace = True)"
   ]
  },
  {
   "cell_type": "markdown",
   "metadata": {},
   "source": [
    "__Standardise Date format__"
   ]
  },
  {
   "cell_type": "code",
   "execution_count": 16,
   "metadata": {},
   "outputs": [],
   "source": [
    "india_df[\"Date\"] = pd.to_datetime(india_df[\"Date\"])"
   ]
  },
  {
   "cell_type": "markdown",
   "metadata": {},
   "source": [
    "__Drop \"State\" column__"
   ]
  },
  {
   "cell_type": "code",
   "execution_count": 17,
   "metadata": {},
   "outputs": [],
   "source": [
    "india_df.drop(\"State\", axis = 1, inplace = True)"
   ]
  },
  {
   "cell_type": "markdown",
   "metadata": {},
   "source": [
    "__Drop \"Lat\" and \"Long\" columns__"
   ]
  },
  {
   "cell_type": "code",
   "execution_count": 18,
   "metadata": {},
   "outputs": [],
   "source": [
    "conf_df.drop([\"Long\", \"Lat\"], axis = 1, inplace = True)\n",
    "rec_df.drop([\"Long\", \"Lat\"], axis = 1, inplace = True)\n",
    "deaths_df.drop([\"Long\", \"Lat\"], axis = 1, inplace = True)"
   ]
  },
  {
   "cell_type": "markdown",
   "metadata": {},
   "source": [
    "__Group data by Country and sum cases__"
   ]
  },
  {
   "cell_type": "code",
   "execution_count": 19,
   "metadata": {},
   "outputs": [],
   "source": [
    "conf_df = conf_df.groupby(\"Country/Region\").sum()\n",
    "rec_df = rec_df.groupby(\"Country/Region\").sum()\n",
    "deaths_df = deaths_df.groupby(\"Country/Region\").sum()"
   ]
  },
  {
   "cell_type": "markdown",
   "metadata": {},
   "source": [
    "## Preparing Data"
   ]
  },
  {
   "cell_type": "markdown",
   "metadata": {},
   "source": [
    "__Add \"Active\" cases column__"
   ]
  },
  {
   "cell_type": "code",
   "execution_count": 20,
   "metadata": {},
   "outputs": [],
   "source": [
    "india_df[\"Active\"] = india_df[\"Confirmed\"] - india_df[\"Recovered\"] - india_df[\"Deceased\"] - india_df[\"Other\"]"
   ]
  },
  {
   "cell_type": "markdown",
   "metadata": {},
   "source": [
    "__Add \"Other\" values to \"Deceased\"__"
   ]
  },
  {
   "cell_type": "code",
   "execution_count": 21,
   "metadata": {},
   "outputs": [],
   "source": [
    "india_df[\"Deceased\"] = india_df[\"Deceased\"] + india_df[\"Other\"]"
   ]
  },
  {
   "cell_type": "markdown",
   "metadata": {},
   "source": [
    "__Drop \"Other\" column__"
   ]
  },
  {
   "cell_type": "code",
   "execution_count": 22,
   "metadata": {},
   "outputs": [],
   "source": [
    "india_df.drop(\"Other\", axis = 1, inplace = True)"
   ]
  },
  {
   "cell_type": "markdown",
   "metadata": {},
   "source": [
    "__Sum rows to get global cases data__"
   ]
  },
  {
   "cell_type": "code",
   "execution_count": 23,
   "metadata": {},
   "outputs": [],
   "source": [
    "conf_df = conf_df.sum()\n",
    "rec_df = rec_df.sum()\n",
    "deaths_df = deaths_df.sum()"
   ]
  },
  {
   "cell_type": "markdown",
   "metadata": {},
   "source": [
    "__Create DataFrame for global dataset__"
   ]
  },
  {
   "cell_type": "code",
   "execution_count": 24,
   "metadata": {},
   "outputs": [],
   "source": [
    "global_df = pd.DataFrame()\n",
    "global_df[\"Confirmed\"] = conf_df\n",
    "global_df[\"Recovered\"] = rec_df\n",
    "global_df[\"Deceased\"] = deaths_df"
   ]
  },
  {
   "cell_type": "markdown",
   "metadata": {},
   "source": [
    "__Add \"Active\" cases column for global DataFrame__"
   ]
  },
  {
   "cell_type": "code",
   "execution_count": 25,
   "metadata": {},
   "outputs": [],
   "source": [
    "global_df[\"Active\"] = global_df[\"Confirmed\"] - global_df[\"Recovered\"] - global_df[\"Deceased\"]"
   ]
  },
  {
   "cell_type": "code",
   "execution_count": 27,
   "metadata": {},
   "outputs": [],
   "source": [
    "global_df.columns = [\"confirmed\", \"recovered\", \"deceased\", \"active\"]"
   ]
  },
  {
   "cell_type": "markdown",
   "metadata": {},
   "source": [
    "__Set \"Date\" as index for India DataFrame__"
   ]
  },
  {
   "cell_type": "code",
   "execution_count": 29,
   "metadata": {},
   "outputs": [],
   "source": [
    "india_df.set_index(\"Date\", inplace = True)"
   ]
  },
  {
   "cell_type": "code",
   "execution_count": 30,
   "metadata": {},
   "outputs": [],
   "source": [
    "india_df.columns = [\"confirmed\", \"recovered\", \"deceased\", \"tested\", \"active\"]"
   ]
  },
  {
   "cell_type": "code",
   "execution_count": 31,
   "metadata": {},
   "outputs": [],
   "source": [
    "global_df[\"active_growth\"] = global_df[\"active\"].diff()\n",
    "india_df[\"active_growth\"] = india_df[\"active\"].diff()"
   ]
  },
  {
   "cell_type": "code",
   "execution_count": 32,
   "metadata": {},
   "outputs": [],
   "source": [
    "global_df[\"growth\"] = global_df[\"confirmed\"].diff()\n",
    "india_df[\"growth\"] =  india_df[\"confirmed\"].diff()"
   ]
  },
  {
   "cell_type": "code",
   "execution_count": 33,
   "metadata": {},
   "outputs": [],
   "source": [
    "global_df[\"case_fatality_rate\"] = global_df[\"deceased\"].div(global_df[\"confirmed\"]) * 100\n",
    "india_df[\"case_fatality_rate\"] = india_df[\"deceased\"].div(india_df[\"confirmed\"]) * 100"
   ]
  },
  {
   "cell_type": "markdown",
   "metadata": {},
   "source": [
    "## Visualizing Data from India"
   ]
  },
  {
   "cell_type": "code",
   "execution_count": 44,
   "metadata": {},
   "outputs": [
    {
     "data": {
      "image/png": "[encoded data removed]",
      "text/plain": [
       "<Figure size 576x288 with 1 Axes>"
      ]
     },
     "metadata": {
      "needs_background": "light"
     },
     "output_type": "display_data"
    }
   ],
   "source": [
    "fig = plt.figure(figsize = (8, 4))\n",
    "\n",
    "axis0 = fig.add_subplot(1, 1 , 1)\n",
    "axis0.set_title(\"Confirmed Cases - India\")\n",
    "axis0.plot(india_df[\"confirmed\"], color = \"red\", label = \"Confirmed\")\n",
    "axis0.legend();"
   ]
  },
  {
   "cell_type": "code",
   "execution_count": 45,
   "metadata": {},
   "outputs": [
    {
     "data": {
      "image/png": "[encoded data removed]",
      "text/plain": [
       "<Figure size 576x288 with 1 Axes>"
      ]
     },
     "metadata": {
      "needs_background": "light"
     },
     "output_type": "display_data"
    }
   ],
   "source": [
    "fig = plt.figure(figsize = (8, 4))\n",
    "\n",
    "axis1 = fig.add_subplot(1, 1 , 1)\n",
    "axis1.set_title(\"Actives Cases - India\")\n",
    "axis1.plot(india_df[\"active\"], color = \"blue\", label = \"Active\")\n",
    "axis1.legend();"
   ]
  },
  {
   "cell_type": "code",
   "execution_count": 46,
   "metadata": {},
   "outputs": [
    {
     "data": {
      "image/png": "[encoded data removed]",
      "text/plain": [
       "<Figure size 576x288 with 1 Axes>"
      ]
     },
     "metadata": {
      "needs_background": "light"
     },
     "output_type": "display_data"
    }
   ],
   "source": [
    "fig = plt.figure(figsize = (8, 4))\n",
    "\n",
    "axis2 = fig.add_subplot(1, 1, 1)\n",
    "axis2.set_title(\"Recoveries - India\")\n",
    "axis2.plot(india_df[\"recovered\"], color = \"green\", label = \"Recovered\")\n",
    "axis2.legend();"
   ]
  },
  {
   "cell_type": "code",
   "execution_count": 47,
   "metadata": {},
   "outputs": [
    {
     "data": {
      "text/plain": [
       "<matplotlib.legend.Legend at 0xc62fad8>"
      ]
     },
     "execution_count": 47,
     "metadata": {},
     "output_type": "execute_result"
    },
    {
     "data": {
      "image/png": "[encoded data removed]",
      "text/plain": [
       "<Figure size 576x288 with 1 Axes>"
      ]
     },
     "metadata": {
      "needs_background": "light"
     },
     "output_type": "display_data"
    }
   ],
   "source": [
    "fig = plt.figure(figsize = (8, 4))\n",
    "\n",
    "axis3 = fig.add_subplot(1, 1, 1)\n",
    "axis3.set_title(\"Deaths due to COVID - India\")\n",
    "axis3.plot(india_df[\"deceased\"], color = \"black\", label = \"Deceased\")\n",
    "axis3.legend()"
   ]
  },
  {
   "cell_type": "code",
   "execution_count": 48,
   "metadata": {},
   "outputs": [
    {
     "data": {
      "text/plain": [
       "<matplotlib.legend.Legend at 0xc664448>"
      ]
     },
     "execution_count": 48,
     "metadata": {},
     "output_type": "execute_result"
    },
    {
     "data": {
      "image/png": "[encoded data removed]",
      "text/plain": [
       "<Figure size 576x288 with 1 Axes>"
      ]
     },
     "metadata": {
      "needs_background": "light"
     },
     "output_type": "display_data"
    }
   ],
   "source": [
    "fig = plt.figure(figsize = (8, 4))\n",
    "\n",
    "axis4 = fig.add_subplot(1, 1, 1)\n",
    "axis4.set_title(\"Tests Conducted - India\")\n",
    "axis4.plot(india_df[\"tested\"], color = \"violet\", label = \"Tested\")\n",
    "axis4.legend()"
   ]
  },
  {
   "cell_type": "code",
   "execution_count": 49,
   "metadata": {
    "scrolled": true
   },
   "outputs": [
    {
     "data": {
      "image/png": "[encoded data removed]",
      "text/plain": [
       "<Figure size 576x288 with 1 Axes>"
      ]
     },
     "metadata": {
      "needs_background": "light"
     },
     "output_type": "display_data"
    }
   ],
   "source": [
    "fig = plt.figure(figsize = (8, 4))\n",
    "\n",
    "axis = fig.add_subplot(1, 1, 1)\n",
    "axis.plot(india_df[\"confirmed\"], color = \"red\", label = \"Confirmed\")\n",
    "axis.plot(india_df[\"active\"], color = \"blue\", label = \"Active\")\n",
    "axis.plot(india_df[\"recovered\"], color = \"green\", label = \"Recovered\")\n",
    "axis.plot(india_df[\"deceased\"], color = \"black\", label = \"Deceased\")\n",
    "axis.plot(india_df[\"tested\"], color = \"violet\", label = \"Tested\")\n",
    "axis.legend()\n",
    "plt.show()"
   ]
  },
  {
   "cell_type": "code",
   "execution_count": 50,
   "metadata": {
    "scrolled": true
   },
   "outputs": [
    {
     "data": {
      "image/png": "[encoded data removed]",
      "text/plain": [
       "<Figure size 576x288 with 1 Axes>"
      ]
     },
     "metadata": {
      "needs_background": "light"
     },
     "output_type": "display_data"
    }
   ],
   "source": [
    "fig = plt.figure(figsize = (8, 4))\n",
    "\n",
    "axis = fig.add_subplot(1, 1 , 1)\n",
    "axis.set_title(\"Confirmed Case Growth - India\")\n",
    "axis.plot(india_df[\"growth\"], color = \"blue\");"
   ]
  },
  {
   "cell_type": "code",
   "execution_count": 51,
   "metadata": {},
   "outputs": [
    {
     "data": {
      "text/plain": [
       "97860.0"
      ]
     },
     "execution_count": 51,
     "metadata": {},
     "output_type": "execute_result"
    }
   ],
   "source": [
    "india_df[\"growth\"].max()"
   ]
  },
  {
   "cell_type": "code",
   "execution_count": 53,
   "metadata": {
    "scrolled": true
   },
   "outputs": [
    {
     "data": {
      "image/png": "[encoded data removed]",
      "text/plain": [
       "<Figure size 576x288 with 1 Axes>"
      ]
     },
     "metadata": {
      "needs_background": "light"
     },
     "output_type": "display_data"
    }
   ],
   "source": [
    "fig = plt.figure(figsize = (8, 4))\n",
    "\n",
    "axis = fig.add_subplot(1, 1 , 1)\n",
    "axis.set_title(\"Active Case Growth - India\")\n",
    "axis.plot(india_df[\"active_growth\"], color = \"blue\");"
   ]
  },
  {
   "cell_type": "code",
   "execution_count": null,
   "metadata": {},
   "outputs": [],
   "source": []
  }
 ],
 "metadata": {
  "kernelspec": {
   "display_name": "Python 3",
   "language": "python",
   "name": "python3"
  },
  "language_info": {
   "codemirror_mode": {
    "name": "ipython",
    "version": 3
   },
   "file_extension": ".py",
   "mimetype": "text/x-python",
   "name": "python",
   "nbconvert_exporter": "python",
   "pygments_lexer": "ipython3",
   "version": "3.8.4"
  }
 },
 "nbformat": 4,
 "nbformat_minor": 4
}
