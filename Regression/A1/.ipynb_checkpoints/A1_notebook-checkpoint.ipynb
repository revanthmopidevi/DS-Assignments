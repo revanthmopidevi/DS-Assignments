{
 "cells": [
  {
   "cell_type": "markdown",
   "metadata": {},
   "source": [
    "## Import Libraries"
   ]
  },
  {
   "cell_type": "code",
   "execution_count": 85,
   "metadata": {},
   "outputs": [],
   "source": [
    "import numpy as np\n",
    "import pandas as pd\n",
    "pd.options.mode.chained_assignment = None\n",
    "import matplotlib.pyplot as plt\n",
    "plt.style.use('ggplot')\n",
    "# %matplotlib inline"
   ]
  },
  {
   "cell_type": "markdown",
   "metadata": {},
   "source": [
    "<hr>"
   ]
  },
  {
   "cell_type": "markdown",
   "metadata": {},
   "source": [
    "## Load and Inspect Data"
   ]
  },
  {
   "cell_type": "code",
   "execution_count": 2,
   "metadata": {},
   "outputs": [
    {
     "data": {
      "text/html": [
       "<div>\n",
       "<style scoped>\n",
       "    .dataframe tbody tr th:only-of-type {\n",
       "        vertical-align: middle;\n",
       "    }\n",
       "\n",
       "    .dataframe tbody tr th {\n",
       "        vertical-align: top;\n",
       "    }\n",
       "\n",
       "    .dataframe thead th {\n",
       "        text-align: right;\n",
       "    }\n",
       "</style>\n",
       "<table border=\"1\" class=\"dataframe\">\n",
       "  <thead>\n",
       "    <tr style=\"text-align: right;\">\n",
       "      <th></th>\n",
       "      <th>age</th>\n",
       "      <th>bmi</th>\n",
       "      <th>children</th>\n",
       "      <th>charges</th>\n",
       "    </tr>\n",
       "  </thead>\n",
       "  <tbody>\n",
       "    <tr>\n",
       "      <th>0</th>\n",
       "      <td>19</td>\n",
       "      <td>27.900</td>\n",
       "      <td>0</td>\n",
       "      <td>16884.92400</td>\n",
       "    </tr>\n",
       "    <tr>\n",
       "      <th>1</th>\n",
       "      <td>18</td>\n",
       "      <td>33.770</td>\n",
       "      <td>1</td>\n",
       "      <td>1725.55230</td>\n",
       "    </tr>\n",
       "    <tr>\n",
       "      <th>2</th>\n",
       "      <td>28</td>\n",
       "      <td>33.000</td>\n",
       "      <td>3</td>\n",
       "      <td>4449.46200</td>\n",
       "    </tr>\n",
       "    <tr>\n",
       "      <th>3</th>\n",
       "      <td>33</td>\n",
       "      <td>22.705</td>\n",
       "      <td>0</td>\n",
       "      <td>21984.47061</td>\n",
       "    </tr>\n",
       "    <tr>\n",
       "      <th>4</th>\n",
       "      <td>32</td>\n",
       "      <td>28.880</td>\n",
       "      <td>0</td>\n",
       "      <td>3866.85520</td>\n",
       "    </tr>\n",
       "  </tbody>\n",
       "</table>\n",
       "</div>"
      ],
      "text/plain": [
       "   age     bmi  children      charges\n",
       "0   19  27.900         0  16884.92400\n",
       "1   18  33.770         1   1725.55230\n",
       "2   28  33.000         3   4449.46200\n",
       "3   33  22.705         0  21984.47061\n",
       "4   32  28.880         0   3866.85520"
      ]
     },
     "execution_count": 2,
     "metadata": {},
     "output_type": "execute_result"
    }
   ],
   "source": [
    "data = pd.read_csv(\"insurance.txt\")\n",
    "data.head()"
   ]
  },
  {
   "cell_type": "code",
   "execution_count": 3,
   "metadata": {},
   "outputs": [
    {
     "name": "stdout",
     "output_type": "stream",
     "text": [
      "<class 'pandas.core.frame.DataFrame'>\n",
      "RangeIndex: 1338 entries, 0 to 1337\n",
      "Data columns (total 4 columns):\n",
      " #   Column    Non-Null Count  Dtype  \n",
      "---  ------    --------------  -----  \n",
      " 0   age       1338 non-null   int64  \n",
      " 1   bmi       1338 non-null   float64\n",
      " 2   children  1338 non-null   int64  \n",
      " 3   charges   1338 non-null   float64\n",
      "dtypes: float64(2), int64(2)\n",
      "memory usage: 41.9 KB\n"
     ]
    }
   ],
   "source": [
    "data.info()"
   ]
  },
  {
   "cell_type": "code",
   "execution_count": 4,
   "metadata": {},
   "outputs": [
    {
     "data": {
      "text/html": [
       "<div>\n",
       "<style scoped>\n",
       "    .dataframe tbody tr th:only-of-type {\n",
       "        vertical-align: middle;\n",
       "    }\n",
       "\n",
       "    .dataframe tbody tr th {\n",
       "        vertical-align: top;\n",
       "    }\n",
       "\n",
       "    .dataframe thead th {\n",
       "        text-align: right;\n",
       "    }\n",
       "</style>\n",
       "<table border=\"1\" class=\"dataframe\">\n",
       "  <thead>\n",
       "    <tr style=\"text-align: right;\">\n",
       "      <th></th>\n",
       "      <th>age</th>\n",
       "      <th>bmi</th>\n",
       "      <th>children</th>\n",
       "      <th>charges</th>\n",
       "    </tr>\n",
       "  </thead>\n",
       "  <tbody>\n",
       "    <tr>\n",
       "      <th>count</th>\n",
       "      <td>1338.000000</td>\n",
       "      <td>1338.000000</td>\n",
       "      <td>1338.000000</td>\n",
       "      <td>1338.000000</td>\n",
       "    </tr>\n",
       "    <tr>\n",
       "      <th>mean</th>\n",
       "      <td>39.207025</td>\n",
       "      <td>30.663397</td>\n",
       "      <td>1.094918</td>\n",
       "      <td>13270.422265</td>\n",
       "    </tr>\n",
       "    <tr>\n",
       "      <th>std</th>\n",
       "      <td>14.049960</td>\n",
       "      <td>6.098187</td>\n",
       "      <td>1.205493</td>\n",
       "      <td>12110.011237</td>\n",
       "    </tr>\n",
       "    <tr>\n",
       "      <th>min</th>\n",
       "      <td>18.000000</td>\n",
       "      <td>15.960000</td>\n",
       "      <td>0.000000</td>\n",
       "      <td>1121.873900</td>\n",
       "    </tr>\n",
       "    <tr>\n",
       "      <th>25%</th>\n",
       "      <td>27.000000</td>\n",
       "      <td>26.296250</td>\n",
       "      <td>0.000000</td>\n",
       "      <td>4740.287150</td>\n",
       "    </tr>\n",
       "    <tr>\n",
       "      <th>50%</th>\n",
       "      <td>39.000000</td>\n",
       "      <td>30.400000</td>\n",
       "      <td>1.000000</td>\n",
       "      <td>9382.033000</td>\n",
       "    </tr>\n",
       "    <tr>\n",
       "      <th>75%</th>\n",
       "      <td>51.000000</td>\n",
       "      <td>34.693750</td>\n",
       "      <td>2.000000</td>\n",
       "      <td>16639.912515</td>\n",
       "    </tr>\n",
       "    <tr>\n",
       "      <th>max</th>\n",
       "      <td>64.000000</td>\n",
       "      <td>53.130000</td>\n",
       "      <td>5.000000</td>\n",
       "      <td>63770.428010</td>\n",
       "    </tr>\n",
       "  </tbody>\n",
       "</table>\n",
       "</div>"
      ],
      "text/plain": [
       "               age          bmi     children       charges\n",
       "count  1338.000000  1338.000000  1338.000000   1338.000000\n",
       "mean     39.207025    30.663397     1.094918  13270.422265\n",
       "std      14.049960     6.098187     1.205493  12110.011237\n",
       "min      18.000000    15.960000     0.000000   1121.873900\n",
       "25%      27.000000    26.296250     0.000000   4740.287150\n",
       "50%      39.000000    30.400000     1.000000   9382.033000\n",
       "75%      51.000000    34.693750     2.000000  16639.912515\n",
       "max      64.000000    53.130000     5.000000  63770.428010"
      ]
     },
     "execution_count": 4,
     "metadata": {},
     "output_type": "execute_result"
    }
   ],
   "source": [
    "data.describe()"
   ]
  },
  {
   "cell_type": "code",
   "execution_count": 5,
   "metadata": {},
   "outputs": [
    {
     "data": {
      "text/html": [
       "<div>\n",
       "<style scoped>\n",
       "    .dataframe tbody tr th:only-of-type {\n",
       "        vertical-align: middle;\n",
       "    }\n",
       "\n",
       "    .dataframe tbody tr th {\n",
       "        vertical-align: top;\n",
       "    }\n",
       "\n",
       "    .dataframe thead th {\n",
       "        text-align: right;\n",
       "    }\n",
       "</style>\n",
       "<table border=\"1\" class=\"dataframe\">\n",
       "  <thead>\n",
       "    <tr style=\"text-align: right;\">\n",
       "      <th></th>\n",
       "      <th>age</th>\n",
       "      <th>bmi</th>\n",
       "      <th>children</th>\n",
       "      <th>charges</th>\n",
       "    </tr>\n",
       "  </thead>\n",
       "  <tbody>\n",
       "    <tr>\n",
       "      <th>age</th>\n",
       "      <td>1.000000</td>\n",
       "      <td>0.109272</td>\n",
       "      <td>0.042469</td>\n",
       "      <td>0.299008</td>\n",
       "    </tr>\n",
       "    <tr>\n",
       "      <th>bmi</th>\n",
       "      <td>0.109272</td>\n",
       "      <td>1.000000</td>\n",
       "      <td>0.012759</td>\n",
       "      <td>0.198341</td>\n",
       "    </tr>\n",
       "    <tr>\n",
       "      <th>children</th>\n",
       "      <td>0.042469</td>\n",
       "      <td>0.012759</td>\n",
       "      <td>1.000000</td>\n",
       "      <td>0.067998</td>\n",
       "    </tr>\n",
       "    <tr>\n",
       "      <th>charges</th>\n",
       "      <td>0.299008</td>\n",
       "      <td>0.198341</td>\n",
       "      <td>0.067998</td>\n",
       "      <td>1.000000</td>\n",
       "    </tr>\n",
       "  </tbody>\n",
       "</table>\n",
       "</div>"
      ],
      "text/plain": [
       "               age       bmi  children   charges\n",
       "age       1.000000  0.109272  0.042469  0.299008\n",
       "bmi       0.109272  1.000000  0.012759  0.198341\n",
       "children  0.042469  0.012759  1.000000  0.067998\n",
       "charges   0.299008  0.198341  0.067998  1.000000"
      ]
     },
     "execution_count": 5,
     "metadata": {},
     "output_type": "execute_result"
    }
   ],
   "source": [
    "data.corr()"
   ]
  },
  {
   "cell_type": "markdown",
   "metadata": {},
   "source": [
    "<hr>"
   ]
  },
  {
   "cell_type": "markdown",
   "metadata": {},
   "source": [
    "## Preprocess Data"
   ]
  },
  {
   "cell_type": "markdown",
   "metadata": {},
   "source": [
    "__The purpose of the following preprocessing is to demonstrate that the employed method is functioning correctly. However, while building regression models, the training and testing datasets are standardised separately to prevent data leakage.__"
   ]
  },
  {
   "cell_type": "code",
   "execution_count": 6,
   "metadata": {},
   "outputs": [],
   "source": [
    "column_names = list(data.columns)\n",
    "standardize = lambda x : (x - x.mean()) / x.std() "
   ]
  },
  {
   "cell_type": "markdown",
   "metadata": {},
   "source": [
    "__Standardize Data__"
   ]
  },
  {
   "cell_type": "code",
   "execution_count": 7,
   "metadata": {},
   "outputs": [],
   "source": [
    "for column in column_names:\n",
    "    if column == \"charges\":\n",
    "        continue\n",
    "    data[column] = standardize(data[column])"
   ]
  },
  {
   "cell_type": "code",
   "execution_count": 8,
   "metadata": {},
   "outputs": [
    {
     "data": {
      "text/plain": [
       "age        -1.246304e-16\n",
       "bmi        -1.810543e-16\n",
       "children   -3.116590e-16\n",
       "charges     1.327042e+04\n",
       "dtype: float64"
      ]
     },
     "execution_count": 8,
     "metadata": {},
     "output_type": "execute_result"
    }
   ],
   "source": [
    "data.mean()"
   ]
  },
  {
   "cell_type": "markdown",
   "metadata": {},
   "source": [
    "Although standardised mean should be equal to 0, in reality they are infinitesimally close to zero. Double precision floats have 53 bits or 16 digits of precision, so this is expected behavior."
   ]
  },
  {
   "cell_type": "code",
   "execution_count": 9,
   "metadata": {},
   "outputs": [
    {
     "data": {
      "text/plain": [
       "age             1.000000\n",
       "bmi             1.000000\n",
       "children        1.000000\n",
       "charges     12110.011237\n",
       "dtype: float64"
      ]
     },
     "execution_count": 9,
     "metadata": {},
     "output_type": "execute_result"
    }
   ],
   "source": [
    "data.std()"
   ]
  },
  {
   "cell_type": "code",
   "execution_count": 10,
   "metadata": {},
   "outputs": [],
   "source": [
    "x1, x2, x3, y = data[\"age\"], data[\"bmi\"], data[\"children\"], data[\"charges\"]"
   ]
  },
  {
   "cell_type": "markdown",
   "metadata": {},
   "source": [
    "<hr>"
   ]
  },
  {
   "cell_type": "markdown",
   "metadata": {},
   "source": [
    "## Visualize Data"
   ]
  },
  {
   "cell_type": "code",
   "execution_count": 151,
   "metadata": {},
   "outputs": [
    {
     "data": {
      "image/png": "[encoded data removed]",
      "text/plain": [
       "<Figure size 432x288 with 1 Axes>"
      ]
     },
     "metadata": {},
     "output_type": "display_data"
    }
   ],
   "source": [
    "plt.scatter(x1, y)\n",
    "plt.xlabel(\"Age\")\n",
    "plt.ylabel(\"Charges\")\n",
    "plt.savefig(\"charges_age.jpeg\");"
   ]
  },
  {
   "cell_type": "code",
   "execution_count": 152,
   "metadata": {},
   "outputs": [
    {
     "data": {
      "image/png": "[encoded data removed]",
      "text/plain": [
       "<Figure size 432x288 with 1 Axes>"
      ]
     },
     "metadata": {},
     "output_type": "display_data"
    }
   ],
   "source": [
    "plt.scatter(x2, y)\n",
    "plt.xlabel(\"BMI\")\n",
    "plt.ylabel(\"Charges\")\n",
    "plt.savefig(\"charges_bmi.jpeg\");"
   ]
  },
  {
   "cell_type": "code",
   "execution_count": 154,
   "metadata": {},
   "outputs": [
    {
     "data": {
      "image/png": "[encoded data removed]",
      "text/plain": [
       "<Figure size 432x288 with 1 Axes>"
      ]
     },
     "metadata": {},
     "output_type": "display_data"
    }
   ],
   "source": [
    "plt.scatter(x3, y)\n",
    "plt.xlabel(\"Children\")\n",
    "plt.ylabel(\"Charges\")\n",
    "plt.savefig(\"charges_children.jpeg\");"
   ]
  },
  {
   "cell_type": "markdown",
   "metadata": {},
   "source": [
    "<hr>"
   ]
  },
  {
   "cell_type": "markdown",
   "metadata": {},
   "source": [
    "## Linear Regression Class"
   ]
  },
  {
   "cell_type": "code",
   "execution_count": 115,
   "metadata": {},
   "outputs": [],
   "source": [
    "class LinearRegression:\n",
    "    def __init__(self, data):\n",
    "        self.data = data\n",
    "        self.models1 = pd.DataFrame(columns = [\"w0\", \"w1\", \"w2\", \"w3\", \"testing_error\", \"training_error\"])\n",
    "        self.models2 = pd.DataFrame(columns = [\"w0\", \"w1\", \"w2\", \"w3\", \"testing_error\", \"training_error\", \"iterations\"])\n",
    "        self.models3 = pd.DataFrame(columns = [\"w0\", \"w1\", \"w2\", \"w3\", \"testing_error\", \"training_error\", \"iterations\"])\n",
    "        self.errors2 = []\n",
    "        self.errors3 = []\n",
    "    \n",
    "    # shuffles data randomly\n",
    "    def shuffle(self):\n",
    "        self.data = self.data.sample(frac = 1)\n",
    "    \n",
    "    # splits a data frame in 70:30 ratio\n",
    "    def split(self):\n",
    "        train = self.data[:int(0.7 * len(data))]\n",
    "        test = self.data[int(0.7 * len(data)):]\n",
    "        return train, test\n",
    "    \n",
    "    # standardizes data\n",
    "    def standardize(self, data):\n",
    "        column_names = list(data.columns)\n",
    "        standardize = lambda x : (x - x.mean()) / x.std()\n",
    "        for column in column_names:\n",
    "            if column == \"charges\":\n",
    "                continue\n",
    "            data[column] = standardize(data[column])\n",
    "        return data\n",
    "    \n",
    "    # computes and returns X and Y matrices\n",
    "    def matrices(self, train):\n",
    "        x1, x2, x3, y = train[\"age\"], train[\"bmi\"], train[\"children\"], train[\"charges\"]\n",
    "        x1, x2, x3= np.array(x1), np.array(x2), np.array(x3)\n",
    "        Y = np.array(y)\n",
    "        n = len(Y)\n",
    "        Y = Y.reshape((n, 1))\n",
    "        x0 = np.ones((n,1))\n",
    "        x1 = np.reshape(x1, (n, 1))\n",
    "        x2 = np.reshape(x2, (n, 1))\n",
    "        x3 = np.reshape(x3, (n, 1))\n",
    "        X = np.append(x0, x1, axis=1)\n",
    "        X = np.append(X, x2, axis=1)\n",
    "        X = np.append(X, x3, axis=1)\n",
    "        return X, Y\n",
    "    \n",
    "    # Sum of Squares of Error Function\n",
    "    def error(self, X, Y, w):\n",
    "        Y_pred = np.dot(X, w)\n",
    "        sose = (1/2) * np.sum(np.square(Y_pred-Y))\n",
    "        return float(sose)\n",
    "    \n",
    "    # tests the model against testing data\n",
    "    def testModel(self, test, w):\n",
    "        Xt, Yt = self.matrices(test)\n",
    "        testing_error = self.error(Xt, Yt, w)\n",
    "        return testing_error\n",
    "           \n",
    "    # Performs Linear Regression by Normal Equations and returns corresponding Regression Weights\n",
    "    def solve(self, X, Y):\n",
    "        XT = np.transpose(X)\n",
    "        A = XT.dot(X)\n",
    "        A_inv = np.linalg.inv(A)\n",
    "        b = XT.dot(Y)\n",
    "        w = A_inv.dot(b)\n",
    "        return w\n",
    "\n",
    "    # Implements Gradient Descent Algorithm\n",
    "    def gradientDescent(self, X, Y, w, learning_rate = 1e-7):\n",
    "        i = 1\n",
    "        errors = []\n",
    "        error, prev_error = float(\"inf\"), 0\n",
    "        while abs(prev_error-error) > 1e-5:\n",
    "            prev_error = error\n",
    "            Y_pred = X.dot(w)\n",
    "            gradient = np.dot(X.transpose(), Y_pred- Y)\n",
    "            w -= learning_rate * gradient\n",
    "            error = self.error(X, Y, w)\n",
    "            errors.append(error)\n",
    "            i+=1\n",
    "        return w, errors, i\n",
    "\n",
    "    # Implements Stochastic Gradient Descent Algorithm\n",
    "    def stochasticGradientDescent(self, X, Y, w, learning_rate = 1e-5):\n",
    "        m, i = len(Y), 0\n",
    "        errors = []\n",
    "        error, prev_error = float(\"inf\"), 0\n",
    "        while abs(prev_error-error) > 1e-2:\n",
    "            prev_error = error\n",
    "            x = X[i%m].reshape(1, 4)\n",
    "            y = Y[i%m].reshape(1, 1)\n",
    "            y_pred = x.dot(w)\n",
    "            gradient = np.dot(x.transpose(), y_pred- y)\n",
    "            w -= learning_rate * gradient\n",
    "            error = self.error(X, Y, w)\n",
    "            errors.append(error)\n",
    "            i+=1\n",
    "        return w, errors, i + 1\n",
    "\n",
    "    # main function to build models\n",
    "    def buildModels(self, number = 20):\n",
    "        for i in range(number):\n",
    "            self.shuffle()                                                                  # shuffle dataset\n",
    "            train, test = self.split()                                                      # split dataset\n",
    "            train = self.standardize(train)                                                 # standardise training data\n",
    "            test = self.standardize(test)                                                   # standardise testing data\n",
    "            X, Y = self.matrices(train)                                                     # obtain X and Y matrices\n",
    "            w1 = self.solve(X, Y)                                                           # regression by normal equations\n",
    "            w2 = np.random.rand(4, 1)                                                       # generate random weights w for grad. desc.\n",
    "            w2, model_errors2 , iterations2 = self.gradientDescent(X, Y, w2)                # regression by gradient descent\n",
    "            w3 = np.random.rand(4, 1)                                                       # generate random weights w for st. grad. desc.\n",
    "            w3, model_errors3 , iterations3 = self.stochasticGradientDescent(X, Y, w3)      # regression by stochastic grad. desc.\n",
    "            training_error1 = self.error(X, Y, w1)                                          # calculate training error\n",
    "            training_error2 = self.error(X, Y, w2)                                          # calculate training error\n",
    "            training_error3 = self.error(X, Y, w3)                                          # calculate training error\n",
    "            testing_error1 = self.testModel(test, w1)                                       # calculate testing error\n",
    "            testing_error2 = self.testModel(test, w2)                                       # calculate testing error\n",
    "            testing_error3 = self.testModel(test, w3)                                       # calculate testing error\n",
    "            # append the model, errors to models dataframe\n",
    "            model1 = list(w1)\n",
    "            model2 = list(w2)\n",
    "            model3 = list(w3)\n",
    "            model1.append(testing_error1)\n",
    "            model2.append(testing_error2)\n",
    "            model3.append(testing_error3)\n",
    "            model1.append(training_error1)\n",
    "            model2.append(training_error2)\n",
    "            model3.append(training_error3)\n",
    "            model2.append(iterations2)\n",
    "            model3.append(iterations3)\n",
    "            model1 = pd.Series(model1, index = self.models1.columns)\n",
    "            model2 = pd.Series(model2, index = self.models2.columns)\n",
    "            model3 = pd.Series(model3, index = self.models3.columns)\n",
    "            self.models1 = self.models1.append(model1, ignore_index=True)\n",
    "            self.models2 = self.models2.append(model2, ignore_index=True)\n",
    "            self.models3 = self.models3.append(model3, ignore_index=True)\n",
    "            self.errors2.append(model_errors2)\n",
    "            self.errors3.append(model_errors3)"
   ]
  },
  {
   "cell_type": "markdown",
   "metadata": {},
   "source": [
    "<hr>"
   ]
  },
  {
   "cell_type": "markdown",
   "metadata": {},
   "source": [
    "## Build Regression Models"
   ]
  },
  {
   "cell_type": "code",
   "execution_count": 116,
   "metadata": {},
   "outputs": [],
   "source": [
    "data = pd.read_csv(\"insurance.txt\")"
   ]
  },
  {
   "cell_type": "code",
   "execution_count": 117,
   "metadata": {},
   "outputs": [],
   "source": [
    "lr_models = LinearRegression(data)\n",
    "lr_models.buildModels(20)"
   ]
  },
  {
   "cell_type": "markdown",
   "metadata": {},
   "source": [
    "#### Linear Regression Models - Normal Equations"
   ]
  },
  {
   "cell_type": "code",
   "execution_count": 118,
   "metadata": {},
   "outputs": [
    {
     "data": {
      "text/html": [
       "<div>\n",
       "<style scoped>\n",
       "    .dataframe tbody tr th:only-of-type {\n",
       "        vertical-align: middle;\n",
       "    }\n",
       "\n",
       "    .dataframe tbody tr th {\n",
       "        vertical-align: top;\n",
       "    }\n",
       "\n",
       "    .dataframe thead th {\n",
       "        text-align: right;\n",
       "    }\n",
       "</style>\n",
       "<table border=\"1\" class=\"dataframe\">\n",
       "  <thead>\n",
       "    <tr style=\"text-align: right;\">\n",
       "      <th></th>\n",
       "      <th>w0</th>\n",
       "      <th>w1</th>\n",
       "      <th>w2</th>\n",
       "      <th>w3</th>\n",
       "      <th>testing_error</th>\n",
       "      <th>training_error</th>\n",
       "    </tr>\n",
       "  </thead>\n",
       "  <tbody>\n",
       "    <tr>\n",
       "      <th>0</th>\n",
       "      <td>[13575.259360650643]</td>\n",
       "      <td>[3083.941352260557]</td>\n",
       "      <td>[2275.8417312163047]</td>\n",
       "      <td>[612.8965857808448]</td>\n",
       "      <td>2.527376e+10</td>\n",
       "      <td>6.117133e+10</td>\n",
       "    </tr>\n",
       "    <tr>\n",
       "      <th>1</th>\n",
       "      <td>[13702.237742318375]</td>\n",
       "      <td>[3356.852682027966]</td>\n",
       "      <td>[2555.9634767820476]</td>\n",
       "      <td>[659.964645534041]</td>\n",
       "      <td>2.375120e+10</td>\n",
       "      <td>6.281277e+10</td>\n",
       "    </tr>\n",
       "    <tr>\n",
       "      <th>2</th>\n",
       "      <td>[13158.975150821576]</td>\n",
       "      <td>[3566.383492565934]</td>\n",
       "      <td>[2053.8352951608235]</td>\n",
       "      <td>[778.720691761744]</td>\n",
       "      <td>2.772058e+10</td>\n",
       "      <td>5.858356e+10</td>\n",
       "    </tr>\n",
       "    <tr>\n",
       "      <th>3</th>\n",
       "      <td>[13093.714879229698]</td>\n",
       "      <td>[3742.8987930669464]</td>\n",
       "      <td>[1702.017091055805]</td>\n",
       "      <td>[960.63722091569]</td>\n",
       "      <td>2.940431e+10</td>\n",
       "      <td>5.704414e+10</td>\n",
       "    </tr>\n",
       "    <tr>\n",
       "      <th>4</th>\n",
       "      <td>[12857.346835116461]</td>\n",
       "      <td>[3758.420466538567]</td>\n",
       "      <td>[1620.2550175121905]</td>\n",
       "      <td>[342.57798384042525]</td>\n",
       "      <td>3.034175e+10</td>\n",
       "      <td>5.620226e+10</td>\n",
       "    </tr>\n",
       "    <tr>\n",
       "      <th>5</th>\n",
       "      <td>[13053.28046895192]</td>\n",
       "      <td>[3455.8728571476195]</td>\n",
       "      <td>[1881.2998321441607]</td>\n",
       "      <td>[511.8434499734846]</td>\n",
       "      <td>2.766962e+10</td>\n",
       "      <td>5.855535e+10</td>\n",
       "    </tr>\n",
       "    <tr>\n",
       "      <th>6</th>\n",
       "      <td>[13163.152730287406]</td>\n",
       "      <td>[3519.1723654932953]</td>\n",
       "      <td>[2155.7819559555414]</td>\n",
       "      <td>[768.8394770028383]</td>\n",
       "      <td>2.535184e+10</td>\n",
       "      <td>6.091743e+10</td>\n",
       "    </tr>\n",
       "    <tr>\n",
       "      <th>7</th>\n",
       "      <td>[13597.010758557693]</td>\n",
       "      <td>[3429.554943033325]</td>\n",
       "      <td>[1946.9895607873596]</td>\n",
       "      <td>[795.4142523198476]</td>\n",
       "      <td>2.185061e+10</td>\n",
       "      <td>6.449712e+10</td>\n",
       "    </tr>\n",
       "    <tr>\n",
       "      <th>8</th>\n",
       "      <td>[13067.495911324788]</td>\n",
       "      <td>[3513.032904750682]</td>\n",
       "      <td>[1766.9016344564236]</td>\n",
       "      <td>[841.2773655440684]</td>\n",
       "      <td>2.686299e+10</td>\n",
       "      <td>5.954564e+10</td>\n",
       "    </tr>\n",
       "    <tr>\n",
       "      <th>9</th>\n",
       "      <td>[12764.384152285253]</td>\n",
       "      <td>[3429.476793576131]</td>\n",
       "      <td>[1636.776017153904]</td>\n",
       "      <td>[440.7863045004934]</td>\n",
       "      <td>3.080021e+10</td>\n",
       "      <td>5.584986e+10</td>\n",
       "    </tr>\n",
       "    <tr>\n",
       "      <th>10</th>\n",
       "      <td>[13172.985296858975]</td>\n",
       "      <td>[3389.543725836059]</td>\n",
       "      <td>[1993.124125110411]</td>\n",
       "      <td>[699.213977921681]</td>\n",
       "      <td>2.712012e+10</td>\n",
       "      <td>5.920906e+10</td>\n",
       "    </tr>\n",
       "    <tr>\n",
       "      <th>11</th>\n",
       "      <td>[13253.230395586546]</td>\n",
       "      <td>[3222.834987070765]</td>\n",
       "      <td>[1934.9711835300059]</td>\n",
       "      <td>[1026.4080192816623]</td>\n",
       "      <td>2.647975e+10</td>\n",
       "      <td>5.995174e+10</td>\n",
       "    </tr>\n",
       "    <tr>\n",
       "      <th>12</th>\n",
       "      <td>[13699.907723556626]</td>\n",
       "      <td>[3306.311927944518]</td>\n",
       "      <td>[2028.3636414130892]</td>\n",
       "      <td>[654.6282637337894]</td>\n",
       "      <td>2.359644e+10</td>\n",
       "      <td>6.294994e+10</td>\n",
       "    </tr>\n",
       "    <tr>\n",
       "      <th>13</th>\n",
       "      <td>[13259.37520664424]</td>\n",
       "      <td>[3353.676574314149]</td>\n",
       "      <td>[2134.5588394171637]</td>\n",
       "      <td>[812.5236471105197]</td>\n",
       "      <td>2.472573e+10</td>\n",
       "      <td>6.155657e+10</td>\n",
       "    </tr>\n",
       "    <tr>\n",
       "      <th>14</th>\n",
       "      <td>[13385.79659833227]</td>\n",
       "      <td>[3373.534104657351]</td>\n",
       "      <td>[1942.2046065394786]</td>\n",
       "      <td>[897.516393873834]</td>\n",
       "      <td>2.502206e+10</td>\n",
       "      <td>6.133715e+10</td>\n",
       "    </tr>\n",
       "    <tr>\n",
       "      <th>15</th>\n",
       "      <td>[13560.09720951816]</td>\n",
       "      <td>[3514.907440201344]</td>\n",
       "      <td>[2190.619894470172]</td>\n",
       "      <td>[695.10851480143]</td>\n",
       "      <td>2.302458e+10</td>\n",
       "      <td>6.339867e+10</td>\n",
       "    </tr>\n",
       "    <tr>\n",
       "      <th>16</th>\n",
       "      <td>[13236.697017466884]</td>\n",
       "      <td>[2874.3000089504662]</td>\n",
       "      <td>[1765.7302700223763]</td>\n",
       "      <td>[566.4729471045765]</td>\n",
       "      <td>2.668342e+10</td>\n",
       "      <td>5.980512e+10</td>\n",
       "    </tr>\n",
       "    <tr>\n",
       "      <th>17</th>\n",
       "      <td>[13071.24504580128]</td>\n",
       "      <td>[3239.1267985168415]</td>\n",
       "      <td>[1864.649007781774]</td>\n",
       "      <td>[868.0820020301198]</td>\n",
       "      <td>2.787698e+10</td>\n",
       "      <td>5.854134e+10</td>\n",
       "    </tr>\n",
       "    <tr>\n",
       "      <th>18</th>\n",
       "      <td>[13304.683749838678]</td>\n",
       "      <td>[3448.6948827236965]</td>\n",
       "      <td>[1604.4251204764248]</td>\n",
       "      <td>[619.393177604824]</td>\n",
       "      <td>2.532765e+10</td>\n",
       "      <td>6.100397e+10</td>\n",
       "    </tr>\n",
       "    <tr>\n",
       "      <th>19</th>\n",
       "      <td>[13706.506246601493]</td>\n",
       "      <td>[3404.1869619983745]</td>\n",
       "      <td>[2228.5198666183983]</td>\n",
       "      <td>[281.6738761119464]</td>\n",
       "      <td>2.255135e+10</td>\n",
       "      <td>6.392995e+10</td>\n",
       "    </tr>\n",
       "  </tbody>\n",
       "</table>\n",
       "</div>"
      ],
      "text/plain": [
       "                      w0                    w1                    w2  \\\n",
       "0   [13575.259360650643]   [3083.941352260557]  [2275.8417312163047]   \n",
       "1   [13702.237742318375]   [3356.852682027966]  [2555.9634767820476]   \n",
       "2   [13158.975150821576]   [3566.383492565934]  [2053.8352951608235]   \n",
       "3   [13093.714879229698]  [3742.8987930669464]   [1702.017091055805]   \n",
       "4   [12857.346835116461]   [3758.420466538567]  [1620.2550175121905]   \n",
       "5    [13053.28046895192]  [3455.8728571476195]  [1881.2998321441607]   \n",
       "6   [13163.152730287406]  [3519.1723654932953]  [2155.7819559555414]   \n",
       "7   [13597.010758557693]   [3429.554943033325]  [1946.9895607873596]   \n",
       "8   [13067.495911324788]   [3513.032904750682]  [1766.9016344564236]   \n",
       "9   [12764.384152285253]   [3429.476793576131]   [1636.776017153904]   \n",
       "10  [13172.985296858975]   [3389.543725836059]   [1993.124125110411]   \n",
       "11  [13253.230395586546]   [3222.834987070765]  [1934.9711835300059]   \n",
       "12  [13699.907723556626]   [3306.311927944518]  [2028.3636414130892]   \n",
       "13   [13259.37520664424]   [3353.676574314149]  [2134.5588394171637]   \n",
       "14   [13385.79659833227]   [3373.534104657351]  [1942.2046065394786]   \n",
       "15   [13560.09720951816]   [3514.907440201344]   [2190.619894470172]   \n",
       "16  [13236.697017466884]  [2874.3000089504662]  [1765.7302700223763]   \n",
       "17   [13071.24504580128]  [3239.1267985168415]   [1864.649007781774]   \n",
       "18  [13304.683749838678]  [3448.6948827236965]  [1604.4251204764248]   \n",
       "19  [13706.506246601493]  [3404.1869619983745]  [2228.5198666183983]   \n",
       "\n",
       "                      w3  testing_error  training_error  \n",
       "0    [612.8965857808448]   2.527376e+10    6.117133e+10  \n",
       "1     [659.964645534041]   2.375120e+10    6.281277e+10  \n",
       "2     [778.720691761744]   2.772058e+10    5.858356e+10  \n",
       "3      [960.63722091569]   2.940431e+10    5.704414e+10  \n",
       "4   [342.57798384042525]   3.034175e+10    5.620226e+10  \n",
       "5    [511.8434499734846]   2.766962e+10    5.855535e+10  \n",
       "6    [768.8394770028383]   2.535184e+10    6.091743e+10  \n",
       "7    [795.4142523198476]   2.185061e+10    6.449712e+10  \n",
       "8    [841.2773655440684]   2.686299e+10    5.954564e+10  \n",
       "9    [440.7863045004934]   3.080021e+10    5.584986e+10  \n",
       "10    [699.213977921681]   2.712012e+10    5.920906e+10  \n",
       "11  [1026.4080192816623]   2.647975e+10    5.995174e+10  \n",
       "12   [654.6282637337894]   2.359644e+10    6.294994e+10  \n",
       "13   [812.5236471105197]   2.472573e+10    6.155657e+10  \n",
       "14    [897.516393873834]   2.502206e+10    6.133715e+10  \n",
       "15     [695.10851480143]   2.302458e+10    6.339867e+10  \n",
       "16   [566.4729471045765]   2.668342e+10    5.980512e+10  \n",
       "17   [868.0820020301198]   2.787698e+10    5.854134e+10  \n",
       "18    [619.393177604824]   2.532765e+10    6.100397e+10  \n",
       "19   [281.6738761119464]   2.255135e+10    6.392995e+10  "
      ]
     },
     "execution_count": 118,
     "metadata": {},
     "output_type": "execute_result"
    }
   ],
   "source": [
    "lr_models.models1"
   ]
  },
  {
   "cell_type": "markdown",
   "metadata": {},
   "source": [
    "#### Linear Regression Models - Gradient Descent"
   ]
  },
  {
   "cell_type": "code",
   "execution_count": 119,
   "metadata": {},
   "outputs": [
    {
     "data": {
      "text/html": [
       "<div>\n",
       "<style scoped>\n",
       "    .dataframe tbody tr th:only-of-type {\n",
       "        vertical-align: middle;\n",
       "    }\n",
       "\n",
       "    .dataframe tbody tr th {\n",
       "        vertical-align: top;\n",
       "    }\n",
       "\n",
       "    .dataframe thead th {\n",
       "        text-align: right;\n",
       "    }\n",
       "</style>\n",
       "<table border=\"1\" class=\"dataframe\">\n",
       "  <thead>\n",
       "    <tr style=\"text-align: right;\">\n",
       "      <th></th>\n",
       "      <th>w0</th>\n",
       "      <th>w1</th>\n",
       "      <th>w2</th>\n",
       "      <th>w3</th>\n",
       "      <th>testing_error</th>\n",
       "      <th>training_error</th>\n",
       "      <th>iterations</th>\n",
       "    </tr>\n",
       "  </thead>\n",
       "  <tbody>\n",
       "    <tr>\n",
       "      <th>0</th>\n",
       "      <td>[13575.243952515384]</td>\n",
       "      <td>[3083.9384092142554]</td>\n",
       "      <td>[2275.8432051660006]</td>\n",
       "      <td>[612.8976672406633]</td>\n",
       "      <td>2.527375e+10</td>\n",
       "      <td>6.117133e+10</td>\n",
       "      <td>146242</td>\n",
       "    </tr>\n",
       "    <tr>\n",
       "      <th>1</th>\n",
       "      <td>[13702.221593669907]</td>\n",
       "      <td>[3356.8498272368747]</td>\n",
       "      <td>[2555.964420576078]</td>\n",
       "      <td>[659.9655265521477]</td>\n",
       "      <td>2.375119e+10</td>\n",
       "      <td>6.281277e+10</td>\n",
       "      <td>145840</td>\n",
       "    </tr>\n",
       "    <tr>\n",
       "      <th>2</th>\n",
       "      <td>[13158.960583766191]</td>\n",
       "      <td>[3566.378801150959]</td>\n",
       "      <td>[2053.8381794816796]</td>\n",
       "      <td>[778.7224192763]</td>\n",
       "      <td>2.772058e+10</td>\n",
       "      <td>5.858356e+10</td>\n",
       "      <td>146509</td>\n",
       "    </tr>\n",
       "    <tr>\n",
       "      <th>3</th>\n",
       "      <td>[13093.700830777254]</td>\n",
       "      <td>[3742.8925778275407]</td>\n",
       "      <td>[1702.022115257907]</td>\n",
       "      <td>[960.6366424398798]</td>\n",
       "      <td>2.940431e+10</td>\n",
       "      <td>5.704414e+10</td>\n",
       "      <td>146843</td>\n",
       "    </tr>\n",
       "    <tr>\n",
       "      <th>4</th>\n",
       "      <td>[12857.333735519855]</td>\n",
       "      <td>[3758.412805870167]</td>\n",
       "      <td>[1620.26098316494]</td>\n",
       "      <td>[342.5800093323637]</td>\n",
       "      <td>3.034175e+10</td>\n",
       "      <td>5.620226e+10</td>\n",
       "      <td>147396</td>\n",
       "    </tr>\n",
       "    <tr>\n",
       "      <th>5</th>\n",
       "      <td>[13053.265945316352]</td>\n",
       "      <td>[3455.8673637338093]</td>\n",
       "      <td>[1881.3039576922338]</td>\n",
       "      <td>[511.84498137583574]</td>\n",
       "      <td>2.766962e+10</td>\n",
       "      <td>5.855535e+10</td>\n",
       "      <td>146455</td>\n",
       "    </tr>\n",
       "    <tr>\n",
       "      <th>6</th>\n",
       "      <td>[13163.137929721335]</td>\n",
       "      <td>[3519.1669901232904]</td>\n",
       "      <td>[2155.7852214675695]</td>\n",
       "      <td>[768.842139229553]</td>\n",
       "      <td>2.535184e+10</td>\n",
       "      <td>6.091743e+10</td>\n",
       "      <td>146343</td>\n",
       "    </tr>\n",
       "    <tr>\n",
       "      <th>7</th>\n",
       "      <td>[13596.994873752448]</td>\n",
       "      <td>[3429.5513370698563]</td>\n",
       "      <td>[1946.9911200601427]</td>\n",
       "      <td>[795.4149562764295]</td>\n",
       "      <td>2.185060e+10</td>\n",
       "      <td>6.449712e+10</td>\n",
       "      <td>145934</td>\n",
       "    </tr>\n",
       "    <tr>\n",
       "      <th>8</th>\n",
       "      <td>[13067.481569225329]</td>\n",
       "      <td>[3513.0276790433495]</td>\n",
       "      <td>[1766.9055058963559]</td>\n",
       "      <td>[841.2785509245981]</td>\n",
       "      <td>2.686299e+10</td>\n",
       "      <td>5.954564e+10</td>\n",
       "      <td>146601</td>\n",
       "    </tr>\n",
       "    <tr>\n",
       "      <th>9</th>\n",
       "      <td>[12764.368920556497]</td>\n",
       "      <td>[3429.4716915394424]</td>\n",
       "      <td>[1636.7794726896561]</td>\n",
       "      <td>[440.78726788367953]</td>\n",
       "      <td>3.080021e+10</td>\n",
       "      <td>5.584986e+10</td>\n",
       "      <td>145707</td>\n",
       "    </tr>\n",
       "    <tr>\n",
       "      <th>10</th>\n",
       "      <td>[13172.969232356487]</td>\n",
       "      <td>[3389.539791214589]</td>\n",
       "      <td>[1993.1260585631917]</td>\n",
       "      <td>[699.2147662551996]</td>\n",
       "      <td>2.712012e+10</td>\n",
       "      <td>5.920906e+10</td>\n",
       "      <td>145475</td>\n",
       "    </tr>\n",
       "    <tr>\n",
       "      <th>11</th>\n",
       "      <td>[13253.214890579125]</td>\n",
       "      <td>[3222.8295190733793]</td>\n",
       "      <td>[1934.9758845973388]</td>\n",
       "      <td>[1026.4076631713071]</td>\n",
       "      <td>2.647975e+10</td>\n",
       "      <td>5.995174e+10</td>\n",
       "      <td>145919</td>\n",
       "    </tr>\n",
       "    <tr>\n",
       "      <th>12</th>\n",
       "      <td>[13699.892174524151]</td>\n",
       "      <td>[3306.307970298351]</td>\n",
       "      <td>[2028.3659246790662]</td>\n",
       "      <td>[654.6297764416115]</td>\n",
       "      <td>2.359644e+10</td>\n",
       "      <td>6.294994e+10</td>\n",
       "      <td>146243</td>\n",
       "    </tr>\n",
       "    <tr>\n",
       "      <th>13</th>\n",
       "      <td>[13259.359738643918]</td>\n",
       "      <td>[3353.673199900333]</td>\n",
       "      <td>[2134.5603055867214]</td>\n",
       "      <td>[812.5244159844408]</td>\n",
       "      <td>2.472573e+10</td>\n",
       "      <td>6.155657e+10</td>\n",
       "      <td>145949</td>\n",
       "    </tr>\n",
       "    <tr>\n",
       "      <th>14</th>\n",
       "      <td>[13385.781741872115]</td>\n",
       "      <td>[3373.529796723057]</td>\n",
       "      <td>[1942.2065971225782]</td>\n",
       "      <td>[897.5186702318988]</td>\n",
       "      <td>2.502205e+10</td>\n",
       "      <td>6.133715e+10</td>\n",
       "      <td>146482</td>\n",
       "    </tr>\n",
       "    <tr>\n",
       "      <th>15</th>\n",
       "      <td>[13560.081024941162]</td>\n",
       "      <td>[3514.9039697788007]</td>\n",
       "      <td>[2190.6209018101736]</td>\n",
       "      <td>[695.1092862092718]</td>\n",
       "      <td>2.302457e+10</td>\n",
       "      <td>6.339867e+10</td>\n",
       "      <td>145705</td>\n",
       "    </tr>\n",
       "    <tr>\n",
       "      <th>16</th>\n",
       "      <td>[13236.681503222595]</td>\n",
       "      <td>[2874.296462363546]</td>\n",
       "      <td>[1765.732257963531]</td>\n",
       "      <td>[566.4743166255754]</td>\n",
       "      <td>2.668343e+10</td>\n",
       "      <td>5.980512e+10</td>\n",
       "      <td>145899</td>\n",
       "    </tr>\n",
       "    <tr>\n",
       "      <th>17</th>\n",
       "      <td>[13071.228990238884]</td>\n",
       "      <td>[3239.123086363628]</td>\n",
       "      <td>[1864.6506698986523]</td>\n",
       "      <td>[868.0827988266797]</td>\n",
       "      <td>2.787699e+10</td>\n",
       "      <td>5.854134e+10</td>\n",
       "      <td>145398</td>\n",
       "    </tr>\n",
       "    <tr>\n",
       "      <th>18</th>\n",
       "      <td>[13304.668509478623]</td>\n",
       "      <td>[3448.688518341954]</td>\n",
       "      <td>[1604.4289217393928]</td>\n",
       "      <td>[619.3968657150338]</td>\n",
       "      <td>2.532764e+10</td>\n",
       "      <td>6.100397e+10</td>\n",
       "      <td>146144</td>\n",
       "    </tr>\n",
       "    <tr>\n",
       "      <th>19</th>\n",
       "      <td>[13706.488730159735]</td>\n",
       "      <td>[3404.183341250588]</td>\n",
       "      <td>[2228.520532095001]</td>\n",
       "      <td>[281.67526891018133]</td>\n",
       "      <td>2.255134e+10</td>\n",
       "      <td>6.392995e+10</td>\n",
       "      <td>144975</td>\n",
       "    </tr>\n",
       "  </tbody>\n",
       "</table>\n",
       "</div>"
      ],
      "text/plain": [
       "                      w0                    w1                    w2  \\\n",
       "0   [13575.243952515384]  [3083.9384092142554]  [2275.8432051660006]   \n",
       "1   [13702.221593669907]  [3356.8498272368747]   [2555.964420576078]   \n",
       "2   [13158.960583766191]   [3566.378801150959]  [2053.8381794816796]   \n",
       "3   [13093.700830777254]  [3742.8925778275407]   [1702.022115257907]   \n",
       "4   [12857.333735519855]   [3758.412805870167]    [1620.26098316494]   \n",
       "5   [13053.265945316352]  [3455.8673637338093]  [1881.3039576922338]   \n",
       "6   [13163.137929721335]  [3519.1669901232904]  [2155.7852214675695]   \n",
       "7   [13596.994873752448]  [3429.5513370698563]  [1946.9911200601427]   \n",
       "8   [13067.481569225329]  [3513.0276790433495]  [1766.9055058963559]   \n",
       "9   [12764.368920556497]  [3429.4716915394424]  [1636.7794726896561]   \n",
       "10  [13172.969232356487]   [3389.539791214589]  [1993.1260585631917]   \n",
       "11  [13253.214890579125]  [3222.8295190733793]  [1934.9758845973388]   \n",
       "12  [13699.892174524151]   [3306.307970298351]  [2028.3659246790662]   \n",
       "13  [13259.359738643918]   [3353.673199900333]  [2134.5603055867214]   \n",
       "14  [13385.781741872115]   [3373.529796723057]  [1942.2065971225782]   \n",
       "15  [13560.081024941162]  [3514.9039697788007]  [2190.6209018101736]   \n",
       "16  [13236.681503222595]   [2874.296462363546]   [1765.732257963531]   \n",
       "17  [13071.228990238884]   [3239.123086363628]  [1864.6506698986523]   \n",
       "18  [13304.668509478623]   [3448.688518341954]  [1604.4289217393928]   \n",
       "19  [13706.488730159735]   [3404.183341250588]   [2228.520532095001]   \n",
       "\n",
       "                      w3  testing_error  training_error iterations  \n",
       "0    [612.8976672406633]   2.527375e+10    6.117133e+10     146242  \n",
       "1    [659.9655265521477]   2.375119e+10    6.281277e+10     145840  \n",
       "2       [778.7224192763]   2.772058e+10    5.858356e+10     146509  \n",
       "3    [960.6366424398798]   2.940431e+10    5.704414e+10     146843  \n",
       "4    [342.5800093323637]   3.034175e+10    5.620226e+10     147396  \n",
       "5   [511.84498137583574]   2.766962e+10    5.855535e+10     146455  \n",
       "6     [768.842139229553]   2.535184e+10    6.091743e+10     146343  \n",
       "7    [795.4149562764295]   2.185060e+10    6.449712e+10     145934  \n",
       "8    [841.2785509245981]   2.686299e+10    5.954564e+10     146601  \n",
       "9   [440.78726788367953]   3.080021e+10    5.584986e+10     145707  \n",
       "10   [699.2147662551996]   2.712012e+10    5.920906e+10     145475  \n",
       "11  [1026.4076631713071]   2.647975e+10    5.995174e+10     145919  \n",
       "12   [654.6297764416115]   2.359644e+10    6.294994e+10     146243  \n",
       "13   [812.5244159844408]   2.472573e+10    6.155657e+10     145949  \n",
       "14   [897.5186702318988]   2.502205e+10    6.133715e+10     146482  \n",
       "15   [695.1092862092718]   2.302457e+10    6.339867e+10     145705  \n",
       "16   [566.4743166255754]   2.668343e+10    5.980512e+10     145899  \n",
       "17   [868.0827988266797]   2.787699e+10    5.854134e+10     145398  \n",
       "18   [619.3968657150338]   2.532764e+10    6.100397e+10     146144  \n",
       "19  [281.67526891018133]   2.255134e+10    6.392995e+10     144975  "
      ]
     },
     "execution_count": 119,
     "metadata": {},
     "output_type": "execute_result"
    }
   ],
   "source": [
    "lr_models.models2"
   ]
  },
  {
   "cell_type": "markdown",
   "metadata": {},
   "source": [
    "#### Linear Regression Models - Stochastic Gradient Descent"
   ]
  },
  {
   "cell_type": "code",
   "execution_count": 120,
   "metadata": {},
   "outputs": [
    {
     "data": {
      "text/html": [
       "<div>\n",
       "<style scoped>\n",
       "    .dataframe tbody tr th:only-of-type {\n",
       "        vertical-align: middle;\n",
       "    }\n",
       "\n",
       "    .dataframe tbody tr th {\n",
       "        vertical-align: top;\n",
       "    }\n",
       "\n",
       "    .dataframe thead th {\n",
       "        text-align: right;\n",
       "    }\n",
       "</style>\n",
       "<table border=\"1\" class=\"dataframe\">\n",
       "  <thead>\n",
       "    <tr style=\"text-align: right;\">\n",
       "      <th></th>\n",
       "      <th>w0</th>\n",
       "      <th>w1</th>\n",
       "      <th>w2</th>\n",
       "      <th>w3</th>\n",
       "      <th>testing_error</th>\n",
       "      <th>training_error</th>\n",
       "      <th>iterations</th>\n",
       "    </tr>\n",
       "  </thead>\n",
       "  <tbody>\n",
       "    <tr>\n",
       "      <th>0</th>\n",
       "      <td>[13572.984097774186]</td>\n",
       "      <td>[3082.775005895236]</td>\n",
       "      <td>[2274.661334213778]</td>\n",
       "      <td>[614.7457957842397]</td>\n",
       "      <td>2.527280e+10</td>\n",
       "      <td>6.117133e+10</td>\n",
       "      <td>867697</td>\n",
       "    </tr>\n",
       "    <tr>\n",
       "      <th>1</th>\n",
       "      <td>[13698.201167968644]</td>\n",
       "      <td>[3354.3291010146013]</td>\n",
       "      <td>[2557.3036373750197]</td>\n",
       "      <td>[660.9121020186442]</td>\n",
       "      <td>2.374967e+10</td>\n",
       "      <td>6.281278e+10</td>\n",
       "      <td>784406</td>\n",
       "    </tr>\n",
       "    <tr>\n",
       "      <th>2</th>\n",
       "      <td>[13156.058751892435]</td>\n",
       "      <td>[3564.7834454113586]</td>\n",
       "      <td>[2054.835650591244]</td>\n",
       "      <td>[780.3137560034897]</td>\n",
       "      <td>2.772094e+10</td>\n",
       "      <td>5.858357e+10</td>\n",
       "      <td>818333</td>\n",
       "    </tr>\n",
       "    <tr>\n",
       "      <th>3</th>\n",
       "      <td>[13089.487397109053]</td>\n",
       "      <td>[3740.5076258664403]</td>\n",
       "      <td>[1701.5239671697911]</td>\n",
       "      <td>[960.777460098444]</td>\n",
       "      <td>2.940448e+10</td>\n",
       "      <td>5.704415e+10</td>\n",
       "      <td>801883</td>\n",
       "    </tr>\n",
       "    <tr>\n",
       "      <th>4</th>\n",
       "      <td>[12853.578654221265]</td>\n",
       "      <td>[3756.1122600821864]</td>\n",
       "      <td>[1620.3891294950986]</td>\n",
       "      <td>[341.07699889156595]</td>\n",
       "      <td>3.034338e+10</td>\n",
       "      <td>5.620227e+10</td>\n",
       "      <td>795649</td>\n",
       "    </tr>\n",
       "    <tr>\n",
       "      <th>5</th>\n",
       "      <td>[13031.226730106824]</td>\n",
       "      <td>[3450.659074118787]</td>\n",
       "      <td>[1883.15734166847]</td>\n",
       "      <td>[512.5845675388647]</td>\n",
       "      <td>2.767525e+10</td>\n",
       "      <td>5.855559e+10</td>\n",
       "      <td>631270</td>\n",
       "    </tr>\n",
       "    <tr>\n",
       "      <th>6</th>\n",
       "      <td>[13159.814024627667]</td>\n",
       "      <td>[3516.6233657747725]</td>\n",
       "      <td>[2156.307560198926]</td>\n",
       "      <td>[767.2505777053568]</td>\n",
       "      <td>2.535160e+10</td>\n",
       "      <td>6.091744e+10</td>\n",
       "      <td>805050</td>\n",
       "    </tr>\n",
       "    <tr>\n",
       "      <th>7</th>\n",
       "      <td>[13594.084821508519]</td>\n",
       "      <td>[3427.4922149228046]</td>\n",
       "      <td>[1948.0725130793562]</td>\n",
       "      <td>[795.1873535305306]</td>\n",
       "      <td>2.184902e+10</td>\n",
       "      <td>6.449713e+10</td>\n",
       "      <td>808363</td>\n",
       "    </tr>\n",
       "    <tr>\n",
       "      <th>8</th>\n",
       "      <td>[13062.303632955056]</td>\n",
       "      <td>[3512.1588073020052]</td>\n",
       "      <td>[1768.5962065785095]</td>\n",
       "      <td>[843.4704948941265]</td>\n",
       "      <td>2.686427e+10</td>\n",
       "      <td>5.954566e+10</td>\n",
       "      <td>741656</td>\n",
       "    </tr>\n",
       "    <tr>\n",
       "      <th>9</th>\n",
       "      <td>[12759.704599972622]</td>\n",
       "      <td>[3427.8933775002274]</td>\n",
       "      <td>[1636.2508845723412]</td>\n",
       "      <td>[439.15018414641816]</td>\n",
       "      <td>3.080412e+10</td>\n",
       "      <td>5.584988e+10</td>\n",
       "      <td>815487</td>\n",
       "    </tr>\n",
       "    <tr>\n",
       "      <th>10</th>\n",
       "      <td>[13160.546907725151]</td>\n",
       "      <td>[3387.989127642725]</td>\n",
       "      <td>[1992.6144154912208]</td>\n",
       "      <td>[698.9177495955191]</td>\n",
       "      <td>2.712174e+10</td>\n",
       "      <td>5.920913e+10</td>\n",
       "      <td>699436</td>\n",
       "    </tr>\n",
       "    <tr>\n",
       "      <th>11</th>\n",
       "      <td>[13250.714360617354]</td>\n",
       "      <td>[3221.637660761353]</td>\n",
       "      <td>[1932.7064155129717]</td>\n",
       "      <td>[1025.2134299960537]</td>\n",
       "      <td>2.647971e+10</td>\n",
       "      <td>5.995174e+10</td>\n",
       "      <td>895473</td>\n",
       "    </tr>\n",
       "    <tr>\n",
       "      <th>12</th>\n",
       "      <td>[13695.919069839381]</td>\n",
       "      <td>[3305.559061137987]</td>\n",
       "      <td>[2027.7313124786597]</td>\n",
       "      <td>[656.5383798299821]</td>\n",
       "      <td>2.359422e+10</td>\n",
       "      <td>6.294995e+10</td>\n",
       "      <td>833670</td>\n",
       "    </tr>\n",
       "    <tr>\n",
       "      <th>13</th>\n",
       "      <td>[13254.376656208684]</td>\n",
       "      <td>[3353.0739892680504]</td>\n",
       "      <td>[2132.8569500648186]</td>\n",
       "      <td>[811.6356668691195]</td>\n",
       "      <td>2.472538e+10</td>\n",
       "      <td>6.155659e+10</td>\n",
       "      <td>798976</td>\n",
       "    </tr>\n",
       "    <tr>\n",
       "      <th>14</th>\n",
       "      <td>[13385.328642036355]</td>\n",
       "      <td>[3373.2765407116794]</td>\n",
       "      <td>[1941.1334685680474]</td>\n",
       "      <td>[897.5550512534663]</td>\n",
       "      <td>2.502210e+10</td>\n",
       "      <td>6.133715e+10</td>\n",
       "      <td>905431</td>\n",
       "    </tr>\n",
       "    <tr>\n",
       "      <th>15</th>\n",
       "      <td>[13553.996073357803]</td>\n",
       "      <td>[3514.072860202101]</td>\n",
       "      <td>[2189.0534489149186]</td>\n",
       "      <td>[694.9398932591267]</td>\n",
       "      <td>2.302164e+10</td>\n",
       "      <td>6.339869e+10</td>\n",
       "      <td>796999</td>\n",
       "    </tr>\n",
       "    <tr>\n",
       "      <th>16</th>\n",
       "      <td>[13231.08285809803]</td>\n",
       "      <td>[2874.5167219238697]</td>\n",
       "      <td>[1766.9249281106177]</td>\n",
       "      <td>[568.4985415006632]</td>\n",
       "      <td>2.668275e+10</td>\n",
       "      <td>5.980513e+10</td>\n",
       "      <td>776611</td>\n",
       "    </tr>\n",
       "    <tr>\n",
       "      <th>17</th>\n",
       "      <td>[13068.403501069257]</td>\n",
       "      <td>[3239.687798275509]</td>\n",
       "      <td>[1862.5976763547524]</td>\n",
       "      <td>[869.1021088138359]</td>\n",
       "      <td>2.787833e+10</td>\n",
       "      <td>5.854135e+10</td>\n",
       "      <td>840648</td>\n",
       "    </tr>\n",
       "    <tr>\n",
       "      <th>18</th>\n",
       "      <td>[13303.569298032382]</td>\n",
       "      <td>[3447.6911006037158]</td>\n",
       "      <td>[1606.323530453942]</td>\n",
       "      <td>[620.5881461914458]</td>\n",
       "      <td>2.532646e+10</td>\n",
       "      <td>6.100397e+10</td>\n",
       "      <td>871488</td>\n",
       "    </tr>\n",
       "    <tr>\n",
       "      <th>19</th>\n",
       "      <td>[13704.216313740044]</td>\n",
       "      <td>[3404.288573988838]</td>\n",
       "      <td>[2227.98666242501]</td>\n",
       "      <td>[279.38323985854083]</td>\n",
       "      <td>2.255097e+10</td>\n",
       "      <td>6.392995e+10</td>\n",
       "      <td>846431</td>\n",
       "    </tr>\n",
       "  </tbody>\n",
       "</table>\n",
       "</div>"
      ],
      "text/plain": [
       "                      w0                    w1                    w2  \\\n",
       "0   [13572.984097774186]   [3082.775005895236]   [2274.661334213778]   \n",
       "1   [13698.201167968644]  [3354.3291010146013]  [2557.3036373750197]   \n",
       "2   [13156.058751892435]  [3564.7834454113586]   [2054.835650591244]   \n",
       "3   [13089.487397109053]  [3740.5076258664403]  [1701.5239671697911]   \n",
       "4   [12853.578654221265]  [3756.1122600821864]  [1620.3891294950986]   \n",
       "5   [13031.226730106824]   [3450.659074118787]    [1883.15734166847]   \n",
       "6   [13159.814024627667]  [3516.6233657747725]   [2156.307560198926]   \n",
       "7   [13594.084821508519]  [3427.4922149228046]  [1948.0725130793562]   \n",
       "8   [13062.303632955056]  [3512.1588073020052]  [1768.5962065785095]   \n",
       "9   [12759.704599972622]  [3427.8933775002274]  [1636.2508845723412]   \n",
       "10  [13160.546907725151]   [3387.989127642725]  [1992.6144154912208]   \n",
       "11  [13250.714360617354]   [3221.637660761353]  [1932.7064155129717]   \n",
       "12  [13695.919069839381]   [3305.559061137987]  [2027.7313124786597]   \n",
       "13  [13254.376656208684]  [3353.0739892680504]  [2132.8569500648186]   \n",
       "14  [13385.328642036355]  [3373.2765407116794]  [1941.1334685680474]   \n",
       "15  [13553.996073357803]   [3514.072860202101]  [2189.0534489149186]   \n",
       "16   [13231.08285809803]  [2874.5167219238697]  [1766.9249281106177]   \n",
       "17  [13068.403501069257]   [3239.687798275509]  [1862.5976763547524]   \n",
       "18  [13303.569298032382]  [3447.6911006037158]   [1606.323530453942]   \n",
       "19  [13704.216313740044]   [3404.288573988838]    [2227.98666242501]   \n",
       "\n",
       "                      w3  testing_error  training_error iterations  \n",
       "0    [614.7457957842397]   2.527280e+10    6.117133e+10     867697  \n",
       "1    [660.9121020186442]   2.374967e+10    6.281278e+10     784406  \n",
       "2    [780.3137560034897]   2.772094e+10    5.858357e+10     818333  \n",
       "3     [960.777460098444]   2.940448e+10    5.704415e+10     801883  \n",
       "4   [341.07699889156595]   3.034338e+10    5.620227e+10     795649  \n",
       "5    [512.5845675388647]   2.767525e+10    5.855559e+10     631270  \n",
       "6    [767.2505777053568]   2.535160e+10    6.091744e+10     805050  \n",
       "7    [795.1873535305306]   2.184902e+10    6.449713e+10     808363  \n",
       "8    [843.4704948941265]   2.686427e+10    5.954566e+10     741656  \n",
       "9   [439.15018414641816]   3.080412e+10    5.584988e+10     815487  \n",
       "10   [698.9177495955191]   2.712174e+10    5.920913e+10     699436  \n",
       "11  [1025.2134299960537]   2.647971e+10    5.995174e+10     895473  \n",
       "12   [656.5383798299821]   2.359422e+10    6.294995e+10     833670  \n",
       "13   [811.6356668691195]   2.472538e+10    6.155659e+10     798976  \n",
       "14   [897.5550512534663]   2.502210e+10    6.133715e+10     905431  \n",
       "15   [694.9398932591267]   2.302164e+10    6.339869e+10     796999  \n",
       "16   [568.4985415006632]   2.668275e+10    5.980513e+10     776611  \n",
       "17   [869.1021088138359]   2.787833e+10    5.854135e+10     840648  \n",
       "18   [620.5881461914458]   2.532646e+10    6.100397e+10     871488  \n",
       "19  [279.38323985854083]   2.255097e+10    6.392995e+10     846431  "
      ]
     },
     "execution_count": 120,
     "metadata": {},
     "output_type": "execute_result"
    }
   ],
   "source": [
    "lr_models.models3"
   ]
  },
  {
   "cell_type": "markdown",
   "metadata": {},
   "source": [
    "### Describe Regression Models"
   ]
  },
  {
   "cell_type": "code",
   "execution_count": 122,
   "metadata": {},
   "outputs": [
    {
     "data": {
      "text/html": [
       "<div>\n",
       "<style scoped>\n",
       "    .dataframe tbody tr th:only-of-type {\n",
       "        vertical-align: middle;\n",
       "    }\n",
       "\n",
       "    .dataframe tbody tr th {\n",
       "        vertical-align: top;\n",
       "    }\n",
       "\n",
       "    .dataframe thead th {\n",
       "        text-align: right;\n",
       "    }\n",
       "</style>\n",
       "<table border=\"1\" class=\"dataframe\">\n",
       "  <thead>\n",
       "    <tr style=\"text-align: right;\">\n",
       "      <th></th>\n",
       "      <th>testing_error</th>\n",
       "      <th>training_error</th>\n",
       "    </tr>\n",
       "  </thead>\n",
       "  <tbody>\n",
       "    <tr>\n",
       "      <th>count</th>\n",
       "      <td>2.000000e+01</td>\n",
       "      <td>2.000000e+01</td>\n",
       "    </tr>\n",
       "    <tr>\n",
       "      <th>mean</th>\n",
       "      <td>2.607175e+10</td>\n",
       "      <td>6.034315e+10</td>\n",
       "    </tr>\n",
       "    <tr>\n",
       "      <th>std</th>\n",
       "      <td>2.493408e+09</td>\n",
       "      <td>2.475010e+09</td>\n",
       "    </tr>\n",
       "    <tr>\n",
       "      <th>min</th>\n",
       "      <td>2.185061e+10</td>\n",
       "      <td>5.584986e+10</td>\n",
       "    </tr>\n",
       "    <tr>\n",
       "      <th>25%</th>\n",
       "      <td>2.448209e+10</td>\n",
       "      <td>5.857651e+10</td>\n",
       "    </tr>\n",
       "    <tr>\n",
       "      <th>50%</th>\n",
       "      <td>2.591579e+10</td>\n",
       "      <td>6.043458e+10</td>\n",
       "    </tr>\n",
       "    <tr>\n",
       "      <th>75%</th>\n",
       "      <td>2.768236e+10</td>\n",
       "      <td>6.187062e+10</td>\n",
       "    </tr>\n",
       "    <tr>\n",
       "      <th>max</th>\n",
       "      <td>3.080021e+10</td>\n",
       "      <td>6.449712e+10</td>\n",
       "    </tr>\n",
       "  </tbody>\n",
       "</table>\n",
       "</div>"
      ],
      "text/plain": [
       "       testing_error  training_error\n",
       "count   2.000000e+01    2.000000e+01\n",
       "mean    2.607175e+10    6.034315e+10\n",
       "std     2.493408e+09    2.475010e+09\n",
       "min     2.185061e+10    5.584986e+10\n",
       "25%     2.448209e+10    5.857651e+10\n",
       "50%     2.591579e+10    6.043458e+10\n",
       "75%     2.768236e+10    6.187062e+10\n",
       "max     3.080021e+10    6.449712e+10"
      ]
     },
     "execution_count": 122,
     "metadata": {},
     "output_type": "execute_result"
    }
   ],
   "source": [
    "lr_models.models1.describe()"
   ]
  },
  {
   "cell_type": "code",
   "execution_count": 123,
   "metadata": {},
   "outputs": [
    {
     "data": {
      "text/html": [
       "<div>\n",
       "<style scoped>\n",
       "    .dataframe tbody tr th:only-of-type {\n",
       "        vertical-align: middle;\n",
       "    }\n",
       "\n",
       "    .dataframe tbody tr th {\n",
       "        vertical-align: top;\n",
       "    }\n",
       "\n",
       "    .dataframe thead th {\n",
       "        text-align: right;\n",
       "    }\n",
       "</style>\n",
       "<table border=\"1\" class=\"dataframe\">\n",
       "  <thead>\n",
       "    <tr style=\"text-align: right;\">\n",
       "      <th></th>\n",
       "      <th>testing_error</th>\n",
       "      <th>training_error</th>\n",
       "    </tr>\n",
       "  </thead>\n",
       "  <tbody>\n",
       "    <tr>\n",
       "      <th>count</th>\n",
       "      <td>2.000000e+01</td>\n",
       "      <td>2.000000e+01</td>\n",
       "    </tr>\n",
       "    <tr>\n",
       "      <th>mean</th>\n",
       "      <td>2.607175e+10</td>\n",
       "      <td>6.034315e+10</td>\n",
       "    </tr>\n",
       "    <tr>\n",
       "      <th>std</th>\n",
       "      <td>2.493412e+09</td>\n",
       "      <td>2.475010e+09</td>\n",
       "    </tr>\n",
       "    <tr>\n",
       "      <th>min</th>\n",
       "      <td>2.185060e+10</td>\n",
       "      <td>5.584986e+10</td>\n",
       "    </tr>\n",
       "    <tr>\n",
       "      <th>25%</th>\n",
       "      <td>2.448209e+10</td>\n",
       "      <td>5.857651e+10</td>\n",
       "    </tr>\n",
       "    <tr>\n",
       "      <th>50%</th>\n",
       "      <td>2.591580e+10</td>\n",
       "      <td>6.043458e+10</td>\n",
       "    </tr>\n",
       "    <tr>\n",
       "      <th>75%</th>\n",
       "      <td>2.768236e+10</td>\n",
       "      <td>6.187062e+10</td>\n",
       "    </tr>\n",
       "    <tr>\n",
       "      <th>max</th>\n",
       "      <td>3.080021e+10</td>\n",
       "      <td>6.449712e+10</td>\n",
       "    </tr>\n",
       "  </tbody>\n",
       "</table>\n",
       "</div>"
      ],
      "text/plain": [
       "       testing_error  training_error\n",
       "count   2.000000e+01    2.000000e+01\n",
       "mean    2.607175e+10    6.034315e+10\n",
       "std     2.493412e+09    2.475010e+09\n",
       "min     2.185060e+10    5.584986e+10\n",
       "25%     2.448209e+10    5.857651e+10\n",
       "50%     2.591580e+10    6.043458e+10\n",
       "75%     2.768236e+10    6.187062e+10\n",
       "max     3.080021e+10    6.449712e+10"
      ]
     },
     "execution_count": 123,
     "metadata": {},
     "output_type": "execute_result"
    }
   ],
   "source": [
    "lr_models.models2.describe()"
   ]
  },
  {
   "cell_type": "code",
   "execution_count": 124,
   "metadata": {},
   "outputs": [
    {
     "data": {
      "text/html": [
       "<div>\n",
       "<style scoped>\n",
       "    .dataframe tbody tr th:only-of-type {\n",
       "        vertical-align: middle;\n",
       "    }\n",
       "\n",
       "    .dataframe tbody tr th {\n",
       "        vertical-align: top;\n",
       "    }\n",
       "\n",
       "    .dataframe thead th {\n",
       "        text-align: right;\n",
       "    }\n",
       "</style>\n",
       "<table border=\"1\" class=\"dataframe\">\n",
       "  <thead>\n",
       "    <tr style=\"text-align: right;\">\n",
       "      <th></th>\n",
       "      <th>testing_error</th>\n",
       "      <th>training_error</th>\n",
       "    </tr>\n",
       "  </thead>\n",
       "  <tbody>\n",
       "    <tr>\n",
       "      <th>count</th>\n",
       "      <td>2.000000e+01</td>\n",
       "      <td>2.000000e+01</td>\n",
       "    </tr>\n",
       "    <tr>\n",
       "      <th>mean</th>\n",
       "      <td>2.607194e+10</td>\n",
       "      <td>6.034317e+10</td>\n",
       "    </tr>\n",
       "    <tr>\n",
       "      <th>std</th>\n",
       "      <td>2.494857e+09</td>\n",
       "      <td>2.474999e+09</td>\n",
       "    </tr>\n",
       "    <tr>\n",
       "      <th>min</th>\n",
       "      <td>2.184902e+10</td>\n",
       "      <td>5.584988e+10</td>\n",
       "    </tr>\n",
       "    <tr>\n",
       "      <th>25%</th>\n",
       "      <td>2.448146e+10</td>\n",
       "      <td>5.857657e+10</td>\n",
       "    </tr>\n",
       "    <tr>\n",
       "      <th>50%</th>\n",
       "      <td>2.591565e+10</td>\n",
       "      <td>6.043459e+10</td>\n",
       "    </tr>\n",
       "    <tr>\n",
       "      <th>75%</th>\n",
       "      <td>2.768667e+10</td>\n",
       "      <td>6.187064e+10</td>\n",
       "    </tr>\n",
       "    <tr>\n",
       "      <th>max</th>\n",
       "      <td>3.080412e+10</td>\n",
       "      <td>6.449713e+10</td>\n",
       "    </tr>\n",
       "  </tbody>\n",
       "</table>\n",
       "</div>"
      ],
      "text/plain": [
       "       testing_error  training_error\n",
       "count   2.000000e+01    2.000000e+01\n",
       "mean    2.607194e+10    6.034317e+10\n",
       "std     2.494857e+09    2.474999e+09\n",
       "min     2.184902e+10    5.584988e+10\n",
       "25%     2.448146e+10    5.857657e+10\n",
       "50%     2.591565e+10    6.043459e+10\n",
       "75%     2.768667e+10    6.187064e+10\n",
       "max     3.080412e+10    6.449713e+10"
      ]
     },
     "execution_count": 124,
     "metadata": {},
     "output_type": "execute_result"
    }
   ],
   "source": [
    "lr_models.models3.describe()"
   ]
  },
  {
   "cell_type": "markdown",
   "metadata": {},
   "source": [
    "### Mean, Variance and Minimum of Training Error"
   ]
  },
  {
   "cell_type": "markdown",
   "metadata": {},
   "source": [
    "__Normal Equations__"
   ]
  },
  {
   "cell_type": "code",
   "execution_count": 155,
   "metadata": {},
   "outputs": [
    {
     "name": "stdout",
     "output_type": "stream",
     "text": [
      "Mean of training error obtained over 20 regression models = 60343148245.36564\n"
     ]
    }
   ],
   "source": [
    "print(f\"Mean of training error obtained over 20 regression models = {lr_models.models1.training_error.mean()}\")"
   ]
  },
  {
   "cell_type": "code",
   "execution_count": 156,
   "metadata": {
    "scrolled": true
   },
   "outputs": [
    {
     "name": "stdout",
     "output_type": "stream",
     "text": [
      "Variance of training error obtained over 20 regression models = 6.125676045026992e+18\n"
     ]
    }
   ],
   "source": [
    "print(f\"Variance of training error obtained over 20 regression models = {lr_models.models1.training_error.var()}\")"
   ]
  },
  {
   "cell_type": "code",
   "execution_count": 157,
   "metadata": {},
   "outputs": [
    {
     "name": "stdout",
     "output_type": "stream",
     "text": [
      "Minimum training error obtained over 20 regression models = 55849864379.25154\n"
     ]
    }
   ],
   "source": [
    "print(f\"Minimum training error obtained over 20 regression models = {lr_models.models1.training_error.min()}\")"
   ]
  },
  {
   "cell_type": "markdown",
   "metadata": {},
   "source": [
    "__Gradient Descent__"
   ]
  },
  {
   "cell_type": "code",
   "execution_count": 158,
   "metadata": {},
   "outputs": [
    {
     "name": "stdout",
     "output_type": "stream",
     "text": [
      "Mean of training error obtained over 20 regression models = 60343148245.48977\n"
     ]
    }
   ],
   "source": [
    "print(f\"Mean of training error obtained over 20 regression models = {lr_models.models2.training_error.mean()}\")"
   ]
  },
  {
   "cell_type": "code",
   "execution_count": 159,
   "metadata": {},
   "outputs": [
    {
     "name": "stdout",
     "output_type": "stream",
     "text": [
      "Variance of training error obtained over 20 regression models = 6.125676045042612e+18\n"
     ]
    }
   ],
   "source": [
    "print(f\"Variance of training error obtained over 20 regression models = {lr_models.models2.training_error.var()}\")"
   ]
  },
  {
   "cell_type": "code",
   "execution_count": 160,
   "metadata": {},
   "outputs": [
    {
     "name": "stdout",
     "output_type": "stream",
     "text": [
      "Minimum training error obtained over 20 regression models = 55849864379.37653\n"
     ]
    }
   ],
   "source": [
    "print(f\"Minimum training error obtained over 20 regression models = {lr_models.models2.training_error.min()}\")"
   ]
  },
  {
   "cell_type": "markdown",
   "metadata": {},
   "source": [
    "__Stochastic Gradient Descent__"
   ]
  },
  {
   "cell_type": "code",
   "execution_count": 161,
   "metadata": {},
   "outputs": [
    {
     "name": "stdout",
     "output_type": "stream",
     "text": [
      "Mean of training error obtained over 20 regression models = 60343172601.89815\n"
     ]
    }
   ],
   "source": [
    "print(f\"Mean of training error obtained over 20 regression models = {lr_models.models3.training_error.mean()}\")"
   ]
  },
  {
   "cell_type": "code",
   "execution_count": 162,
   "metadata": {},
   "outputs": [
    {
     "name": "stdout",
     "output_type": "stream",
     "text": [
      "Variance of training error obtained over 20 regression models = 6.125621830425649e+18\n"
     ]
    }
   ],
   "source": [
    "print(f\"Variance of training error obtained over 20 regression models = {lr_models.models3.training_error.var()}\")"
   ]
  },
  {
   "cell_type": "code",
   "execution_count": 163,
   "metadata": {},
   "outputs": [
    {
     "name": "stdout",
     "output_type": "stream",
     "text": [
      "Minimum training error obtained over 20 regression models = 55849877328.86045\n"
     ]
    }
   ],
   "source": [
    "print(f\"Minimum training error obtained over 20 regression models = {lr_models.models3.training_error.min()}\")"
   ]
  },
  {
   "cell_type": "markdown",
   "metadata": {},
   "source": [
    "### Mean, Variance and Mean of Testing Error"
   ]
  },
  {
   "cell_type": "markdown",
   "metadata": {},
   "source": [
    "__Normal Equations__"
   ]
  },
  {
   "cell_type": "code",
   "execution_count": 164,
   "metadata": {},
   "outputs": [
    {
     "name": "stdout",
     "output_type": "stream",
     "text": [
      "Mean of testing error obtained over 20 regression models = 26071746483.02218\n"
     ]
    }
   ],
   "source": [
    "print(f\"Mean of testing error obtained over 20 regression models = {lr_models.models1.testing_error.mean()}\")"
   ]
  },
  {
   "cell_type": "code",
   "execution_count": 165,
   "metadata": {},
   "outputs": [
    {
     "name": "stdout",
     "output_type": "stream",
     "text": [
      "Variance of training error obtained over 20 regression models = 6.217081826684456e+18\n"
     ]
    }
   ],
   "source": [
    "print(f\"Variance of training error obtained over 20 regression models = {lr_models.models1.testing_error.var()}\")"
   ]
  },
  {
   "cell_type": "code",
   "execution_count": 166,
   "metadata": {},
   "outputs": [
    {
     "name": "stdout",
     "output_type": "stream",
     "text": [
      "Minimum testing error obtained over 20 regression models = 21850607942.52415\n"
     ]
    }
   ],
   "source": [
    "print(f\"Minimum testing error obtained over 20 regression models = {lr_models.models1.testing_error.min()}\")"
   ]
  },
  {
   "cell_type": "markdown",
   "metadata": {},
   "source": [
    "__Gradient Descent__"
   ]
  },
  {
   "cell_type": "code",
   "execution_count": 167,
   "metadata": {},
   "outputs": [
    {
     "name": "stdout",
     "output_type": "stream",
     "text": [
      "Mean of testing error obtained over 20 regression models = 26071745191.58776\n"
     ]
    }
   ],
   "source": [
    "print(f\"Mean of testing error obtained over 20 regression models = {lr_models.models2.testing_error.mean()}\")"
   ]
  },
  {
   "cell_type": "code",
   "execution_count": 168,
   "metadata": {},
   "outputs": [
    {
     "name": "stdout",
     "output_type": "stream",
     "text": [
      "Variance of testing error obtained over 20 regression models = 6.217102077946414e+18\n"
     ]
    }
   ],
   "source": [
    "print(f\"Variance of testing error obtained over 20 regression models = {lr_models.models2.testing_error.var()}\")"
   ]
  },
  {
   "cell_type": "code",
   "execution_count": 169,
   "metadata": {},
   "outputs": [
    {
     "name": "stdout",
     "output_type": "stream",
     "text": [
      "Minimum testing error obtained over 20 regression models = 21850600701.38988\n"
     ]
    }
   ],
   "source": [
    "print(f\"Minimum testing error obtained over 20 regression models = {lr_models.models2.testing_error.min()}\")"
   ]
  },
  {
   "cell_type": "markdown",
   "metadata": {},
   "source": [
    "__Stochastic Gradient Descent__"
   ]
  },
  {
   "cell_type": "code",
   "execution_count": 170,
   "metadata": {},
   "outputs": [
    {
     "name": "stdout",
     "output_type": "stream",
     "text": [
      "Mean of testing error obtained over 20 regression models = 26071942065.3881\n"
     ]
    }
   ],
   "source": [
    "print(f\"Mean of testing error obtained over 20 regression models = {lr_models.models3.testing_error.mean()}\")"
   ]
  },
  {
   "cell_type": "code",
   "execution_count": 171,
   "metadata": {},
   "outputs": [
    {
     "name": "stdout",
     "output_type": "stream",
     "text": [
      "Variance of training error obtained over 20 regression models = 6.224311377590369e+18\n"
     ]
    }
   ],
   "source": [
    "print(f\"Variance of training error obtained over 20 regression models = {lr_models.models3.testing_error.var()}\")"
   ]
  },
  {
   "cell_type": "code",
   "execution_count": 172,
   "metadata": {},
   "outputs": [
    {
     "name": "stdout",
     "output_type": "stream",
     "text": [
      "Minimum testing error obtained over 20 regression models = 21849018211.54329\n"
     ]
    }
   ],
   "source": [
    "print(f\"Minimum testing error obtained over 20 regression models = {lr_models.models3.testing_error.min()}\")"
   ]
  },
  {
   "cell_type": "markdown",
   "metadata": {},
   "source": [
    "### Plot the Convergence: Error vs Epochs"
   ]
  },
  {
   "cell_type": "markdown",
   "metadata": {},
   "source": [
    "__Plot of $E(\\omega)$ against the number of iterations of Gradient Descent__"
   ]
  },
  {
   "cell_type": "code",
   "execution_count": 173,
   "metadata": {},
   "outputs": [],
   "source": [
    "errorsGD = np.array(lr_models.errors2, dtype=object)"
   ]
  },
  {
   "cell_type": "code",
   "execution_count": 174,
   "metadata": {},
   "outputs": [
    {
     "data": {
      "image/png": "[encoded data removed]",
      "text/plain": [
       "<Figure size 432x288 with 1 Axes>"
      ]
     },
     "metadata": {},
     "output_type": "display_data"
    }
   ],
   "source": [
    "for error in errorsGD:\n",
    "    plt.plot(error)\n",
    "    plt.xlabel(\"Iterations\")\n",
    "    plt.ylabel(\"$E(\\omega)$\")\n",
    "    plt.title(\"Values of the Error Function over Iterations of Gradient Descent\")\n",
    "plt.savefig(\"GD_error_epoch.jpeg\");"
   ]
  },
  {
   "cell_type": "markdown",
   "metadata": {},
   "source": [
    "__Plot of $E(\\omega)$ against the number of iterations of Stochastic Gradient Descent__"
   ]
  },
  {
   "cell_type": "code",
   "execution_count": 175,
   "metadata": {},
   "outputs": [],
   "source": [
    "errorsSGD = np.array(lr_models.errors3, dtype=object)"
   ]
  },
  {
   "cell_type": "code",
   "execution_count": 176,
   "metadata": {},
   "outputs": [
    {
     "data": {
      "image/png": "[encoded data removed]",
      "text/plain": [
       "<Figure size 432x288 with 1 Axes>"
      ]
     },
     "metadata": {},
     "output_type": "display_data"
    }
   ],
   "source": [
    "for error in errorsSGD:\n",
    "    plt.plot(error)\n",
    "    plt.xlabel(\"Iterations\")\n",
    "    plt.ylabel(\"$E(\\omega)$\")\n",
    "    plt.title(\"Values of the Error Function over Iterations of Stochastic Gradient Descent\");\n",
    "plt.savefig(\"SGD_error_epoch.jpeg\")"
   ]
  }
 ],
 "metadata": {
  "kernelspec": {
   "display_name": "Python 3",
   "language": "python",
   "name": "python3"
  },
  "language_info": {
   "codemirror_mode": {
    "name": "ipython",
    "version": 3
   },
   "file_extension": ".py",
   "mimetype": "text/x-python",
   "name": "python",
   "nbconvert_exporter": "python",
   "pygments_lexer": "ipython3",
   "version": "3.8.6"
  }
 },
 "nbformat": 4,
 "nbformat_minor": 4
}
