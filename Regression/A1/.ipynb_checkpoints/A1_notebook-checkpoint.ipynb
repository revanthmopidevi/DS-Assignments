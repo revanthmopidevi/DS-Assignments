{
 "cells": [
  {
   "cell_type": "markdown",
   "metadata": {},
   "source": [
    "## Import Libraries"
   ]
  },
  {
   "cell_type": "code",
   "execution_count": 1,
   "metadata": {},
   "outputs": [],
   "source": [
    "import numpy as np\n",
    "import pandas as pd\n",
    "pd.options.mode.chained_assignment = None\n",
    "import matplotlib.pyplot as plt\n",
    "plt.style.use('ggplot')\n",
    "# %matplotlib inline"
   ]
  },
  {
   "cell_type": "markdown",
   "metadata": {},
   "source": [
    "<hr>"
   ]
  },
  {
   "cell_type": "markdown",
   "metadata": {},
   "source": [
    "## Load and Inspect Data"
   ]
  },
  {
   "cell_type": "code",
   "execution_count": 2,
   "metadata": {},
   "outputs": [
    {
     "data": {
      "text/html": [
       "<div>\n",
       "<style scoped>\n",
       "    .dataframe tbody tr th:only-of-type {\n",
       "        vertical-align: middle;\n",
       "    }\n",
       "\n",
       "    .dataframe tbody tr th {\n",
       "        vertical-align: top;\n",
       "    }\n",
       "\n",
       "    .dataframe thead th {\n",
       "        text-align: right;\n",
       "    }\n",
       "</style>\n",
       "<table border=\"1\" class=\"dataframe\">\n",
       "  <thead>\n",
       "    <tr style=\"text-align: right;\">\n",
       "      <th></th>\n",
       "      <th>age</th>\n",
       "      <th>bmi</th>\n",
       "      <th>children</th>\n",
       "      <th>charges</th>\n",
       "    </tr>\n",
       "  </thead>\n",
       "  <tbody>\n",
       "    <tr>\n",
       "      <th>0</th>\n",
       "      <td>19</td>\n",
       "      <td>27.900</td>\n",
       "      <td>0</td>\n",
       "      <td>16884.92400</td>\n",
       "    </tr>\n",
       "    <tr>\n",
       "      <th>1</th>\n",
       "      <td>18</td>\n",
       "      <td>33.770</td>\n",
       "      <td>1</td>\n",
       "      <td>1725.55230</td>\n",
       "    </tr>\n",
       "    <tr>\n",
       "      <th>2</th>\n",
       "      <td>28</td>\n",
       "      <td>33.000</td>\n",
       "      <td>3</td>\n",
       "      <td>4449.46200</td>\n",
       "    </tr>\n",
       "    <tr>\n",
       "      <th>3</th>\n",
       "      <td>33</td>\n",
       "      <td>22.705</td>\n",
       "      <td>0</td>\n",
       "      <td>21984.47061</td>\n",
       "    </tr>\n",
       "    <tr>\n",
       "      <th>4</th>\n",
       "      <td>32</td>\n",
       "      <td>28.880</td>\n",
       "      <td>0</td>\n",
       "      <td>3866.85520</td>\n",
       "    </tr>\n",
       "  </tbody>\n",
       "</table>\n",
       "</div>"
      ],
      "text/plain": [
       "   age     bmi  children      charges\n",
       "0   19  27.900         0  16884.92400\n",
       "1   18  33.770         1   1725.55230\n",
       "2   28  33.000         3   4449.46200\n",
       "3   33  22.705         0  21984.47061\n",
       "4   32  28.880         0   3866.85520"
      ]
     },
     "execution_count": 2,
     "metadata": {},
     "output_type": "execute_result"
    }
   ],
   "source": [
    "data = pd.read_csv(\"insurance.txt\")\n",
    "data.head()"
   ]
  },
  {
   "cell_type": "code",
   "execution_count": 3,
   "metadata": {},
   "outputs": [
    {
     "name": "stdout",
     "output_type": "stream",
     "text": [
      "<class 'pandas.core.frame.DataFrame'>\n",
      "RangeIndex: 1338 entries, 0 to 1337\n",
      "Data columns (total 4 columns):\n",
      " #   Column    Non-Null Count  Dtype  \n",
      "---  ------    --------------  -----  \n",
      " 0   age       1338 non-null   int64  \n",
      " 1   bmi       1338 non-null   float64\n",
      " 2   children  1338 non-null   int64  \n",
      " 3   charges   1338 non-null   float64\n",
      "dtypes: float64(2), int64(2)\n",
      "memory usage: 41.9 KB\n"
     ]
    }
   ],
   "source": [
    "data.info()"
   ]
  },
  {
   "cell_type": "code",
   "execution_count": 4,
   "metadata": {},
   "outputs": [
    {
     "data": {
      "text/html": [
       "<div>\n",
       "<style scoped>\n",
       "    .dataframe tbody tr th:only-of-type {\n",
       "        vertical-align: middle;\n",
       "    }\n",
       "\n",
       "    .dataframe tbody tr th {\n",
       "        vertical-align: top;\n",
       "    }\n",
       "\n",
       "    .dataframe thead th {\n",
       "        text-align: right;\n",
       "    }\n",
       "</style>\n",
       "<table border=\"1\" class=\"dataframe\">\n",
       "  <thead>\n",
       "    <tr style=\"text-align: right;\">\n",
       "      <th></th>\n",
       "      <th>age</th>\n",
       "      <th>bmi</th>\n",
       "      <th>children</th>\n",
       "      <th>charges</th>\n",
       "    </tr>\n",
       "  </thead>\n",
       "  <tbody>\n",
       "    <tr>\n",
       "      <th>count</th>\n",
       "      <td>1338.000000</td>\n",
       "      <td>1338.000000</td>\n",
       "      <td>1338.000000</td>\n",
       "      <td>1338.000000</td>\n",
       "    </tr>\n",
       "    <tr>\n",
       "      <th>mean</th>\n",
       "      <td>39.207025</td>\n",
       "      <td>30.663397</td>\n",
       "      <td>1.094918</td>\n",
       "      <td>13270.422265</td>\n",
       "    </tr>\n",
       "    <tr>\n",
       "      <th>std</th>\n",
       "      <td>14.049960</td>\n",
       "      <td>6.098187</td>\n",
       "      <td>1.205493</td>\n",
       "      <td>12110.011237</td>\n",
       "    </tr>\n",
       "    <tr>\n",
       "      <th>min</th>\n",
       "      <td>18.000000</td>\n",
       "      <td>15.960000</td>\n",
       "      <td>0.000000</td>\n",
       "      <td>1121.873900</td>\n",
       "    </tr>\n",
       "    <tr>\n",
       "      <th>25%</th>\n",
       "      <td>27.000000</td>\n",
       "      <td>26.296250</td>\n",
       "      <td>0.000000</td>\n",
       "      <td>4740.287150</td>\n",
       "    </tr>\n",
       "    <tr>\n",
       "      <th>50%</th>\n",
       "      <td>39.000000</td>\n",
       "      <td>30.400000</td>\n",
       "      <td>1.000000</td>\n",
       "      <td>9382.033000</td>\n",
       "    </tr>\n",
       "    <tr>\n",
       "      <th>75%</th>\n",
       "      <td>51.000000</td>\n",
       "      <td>34.693750</td>\n",
       "      <td>2.000000</td>\n",
       "      <td>16639.912515</td>\n",
       "    </tr>\n",
       "    <tr>\n",
       "      <th>max</th>\n",
       "      <td>64.000000</td>\n",
       "      <td>53.130000</td>\n",
       "      <td>5.000000</td>\n",
       "      <td>63770.428010</td>\n",
       "    </tr>\n",
       "  </tbody>\n",
       "</table>\n",
       "</div>"
      ],
      "text/plain": [
       "               age          bmi     children       charges\n",
       "count  1338.000000  1338.000000  1338.000000   1338.000000\n",
       "mean     39.207025    30.663397     1.094918  13270.422265\n",
       "std      14.049960     6.098187     1.205493  12110.011237\n",
       "min      18.000000    15.960000     0.000000   1121.873900\n",
       "25%      27.000000    26.296250     0.000000   4740.287150\n",
       "50%      39.000000    30.400000     1.000000   9382.033000\n",
       "75%      51.000000    34.693750     2.000000  16639.912515\n",
       "max      64.000000    53.130000     5.000000  63770.428010"
      ]
     },
     "execution_count": 4,
     "metadata": {},
     "output_type": "execute_result"
    }
   ],
   "source": [
    "data.describe()"
   ]
  },
  {
   "cell_type": "code",
   "execution_count": 5,
   "metadata": {},
   "outputs": [
    {
     "data": {
      "text/html": [
       "<div>\n",
       "<style scoped>\n",
       "    .dataframe tbody tr th:only-of-type {\n",
       "        vertical-align: middle;\n",
       "    }\n",
       "\n",
       "    .dataframe tbody tr th {\n",
       "        vertical-align: top;\n",
       "    }\n",
       "\n",
       "    .dataframe thead th {\n",
       "        text-align: right;\n",
       "    }\n",
       "</style>\n",
       "<table border=\"1\" class=\"dataframe\">\n",
       "  <thead>\n",
       "    <tr style=\"text-align: right;\">\n",
       "      <th></th>\n",
       "      <th>age</th>\n",
       "      <th>bmi</th>\n",
       "      <th>children</th>\n",
       "      <th>charges</th>\n",
       "    </tr>\n",
       "  </thead>\n",
       "  <tbody>\n",
       "    <tr>\n",
       "      <th>age</th>\n",
       "      <td>1.000000</td>\n",
       "      <td>0.109272</td>\n",
       "      <td>0.042469</td>\n",
       "      <td>0.299008</td>\n",
       "    </tr>\n",
       "    <tr>\n",
       "      <th>bmi</th>\n",
       "      <td>0.109272</td>\n",
       "      <td>1.000000</td>\n",
       "      <td>0.012759</td>\n",
       "      <td>0.198341</td>\n",
       "    </tr>\n",
       "    <tr>\n",
       "      <th>children</th>\n",
       "      <td>0.042469</td>\n",
       "      <td>0.012759</td>\n",
       "      <td>1.000000</td>\n",
       "      <td>0.067998</td>\n",
       "    </tr>\n",
       "    <tr>\n",
       "      <th>charges</th>\n",
       "      <td>0.299008</td>\n",
       "      <td>0.198341</td>\n",
       "      <td>0.067998</td>\n",
       "      <td>1.000000</td>\n",
       "    </tr>\n",
       "  </tbody>\n",
       "</table>\n",
       "</div>"
      ],
      "text/plain": [
       "               age       bmi  children   charges\n",
       "age       1.000000  0.109272  0.042469  0.299008\n",
       "bmi       0.109272  1.000000  0.012759  0.198341\n",
       "children  0.042469  0.012759  1.000000  0.067998\n",
       "charges   0.299008  0.198341  0.067998  1.000000"
      ]
     },
     "execution_count": 5,
     "metadata": {},
     "output_type": "execute_result"
    }
   ],
   "source": [
    "data.corr()"
   ]
  },
  {
   "cell_type": "markdown",
   "metadata": {},
   "source": [
    "<hr>"
   ]
  },
  {
   "cell_type": "markdown",
   "metadata": {},
   "source": [
    "## Preprocess Data"
   ]
  },
  {
   "cell_type": "markdown",
   "metadata": {},
   "source": [
    "__The purpose of the following preprocessing is to demonstrate that the employed method is functioning correctly. However, while building regression models, the training and testing datasets are standardised separately to prevent data leakage.__"
   ]
  },
  {
   "cell_type": "code",
   "execution_count": 6,
   "metadata": {},
   "outputs": [],
   "source": [
    "column_names = list(data.columns)\n",
    "standardize = lambda x : (x - x.mean()) / x.std() "
   ]
  },
  {
   "cell_type": "markdown",
   "metadata": {},
   "source": [
    "__Standardize Data__"
   ]
  },
  {
   "cell_type": "code",
   "execution_count": 7,
   "metadata": {},
   "outputs": [],
   "source": [
    "for column in column_names:\n",
    "    if column == \"charges\":\n",
    "        continue\n",
    "    data[column] = standardize(data[column])"
   ]
  },
  {
   "cell_type": "code",
   "execution_count": 8,
   "metadata": {},
   "outputs": [
    {
     "data": {
      "text/plain": [
       "age        -1.246304e-16\n",
       "bmi        -1.810543e-16\n",
       "children   -3.116590e-16\n",
       "charges     1.327042e+04\n",
       "dtype: float64"
      ]
     },
     "execution_count": 8,
     "metadata": {},
     "output_type": "execute_result"
    }
   ],
   "source": [
    "data.mean()"
   ]
  },
  {
   "cell_type": "markdown",
   "metadata": {},
   "source": [
    "Although standardised mean should be equal to 0, in reality they are infinitesimally close to zero. Double precision floats have 53 bits or 16 digits of precision, so this is expected behavior."
   ]
  },
  {
   "cell_type": "code",
   "execution_count": 9,
   "metadata": {},
   "outputs": [
    {
     "data": {
      "text/plain": [
       "age             1.000000\n",
       "bmi             1.000000\n",
       "children        1.000000\n",
       "charges     12110.011237\n",
       "dtype: float64"
      ]
     },
     "execution_count": 9,
     "metadata": {},
     "output_type": "execute_result"
    }
   ],
   "source": [
    "data.std()"
   ]
  },
  {
   "cell_type": "code",
   "execution_count": 10,
   "metadata": {},
   "outputs": [],
   "source": [
    "x1, x2, x3, y = data[\"age\"], data[\"bmi\"], data[\"children\"], data[\"charges\"]"
   ]
  },
  {
   "cell_type": "markdown",
   "metadata": {},
   "source": [
    "<hr>"
   ]
  },
  {
   "cell_type": "markdown",
   "metadata": {},
   "source": [
    "## Visualize Data"
   ]
  },
  {
   "cell_type": "code",
   "execution_count": 11,
   "metadata": {},
   "outputs": [
    {
     "data": {
      "image/png": "[encoded data removed]",
      "text/plain": [
       "<Figure size 432x288 with 1 Axes>"
      ]
     },
     "metadata": {},
     "output_type": "display_data"
    }
   ],
   "source": [
    "plt.scatter(x1, y)\n",
    "plt.xlabel(\"Age\")\n",
    "plt.ylabel(\"Charges\")\n",
    "plt.savefig(\"charges_age.jpeg\");"
   ]
  },
  {
   "cell_type": "code",
   "execution_count": 12,
   "metadata": {},
   "outputs": [
    {
     "data": {
      "image/png": "[encoded data removed]",
      "text/plain": [
       "<Figure size 432x288 with 1 Axes>"
      ]
     },
     "metadata": {},
     "output_type": "display_data"
    }
   ],
   "source": [
    "plt.scatter(x2, y)\n",
    "plt.xlabel(\"BMI\")\n",
    "plt.ylabel(\"Charges\")\n",
    "plt.savefig(\"charges_bmi.jpeg\");"
   ]
  },
  {
   "cell_type": "code",
   "execution_count": 13,
   "metadata": {},
   "outputs": [
    {
     "data": {
      "image/png": "[encoded data removed]",
      "text/plain": [
       "<Figure size 432x288 with 1 Axes>"
      ]
     },
     "metadata": {},
     "output_type": "display_data"
    }
   ],
   "source": [
    "plt.scatter(x3, y)\n",
    "plt.xlabel(\"Children\")\n",
    "plt.ylabel(\"Charges\")\n",
    "plt.savefig(\"charges_children.jpeg\");"
   ]
  },
  {
   "cell_type": "markdown",
   "metadata": {},
   "source": [
    "<hr>"
   ]
  },
  {
   "cell_type": "markdown",
   "metadata": {},
   "source": [
    "## Linear Regression Class"
   ]
  },
  {
   "cell_type": "code",
   "execution_count": 14,
   "metadata": {},
   "outputs": [],
   "source": [
    "class LinearRegression:\n",
    "    def __init__(self, data):\n",
    "        self.data = data\n",
    "        self.models1 = pd.DataFrame(columns = [\"w0\", \"w1\", \"w2\", \"w3\", \"testing_error\", \"training_error\"])\n",
    "        self.models2 = pd.DataFrame(columns = [\"w0\", \"w1\", \"w2\", \"w3\", \"testing_error\", \"training_error\", \"iterations\"])\n",
    "        self.models3 = pd.DataFrame(columns = [\"w0\", \"w1\", \"w2\", \"w3\", \"testing_error\", \"training_error\", \"iterations\"])\n",
    "        self.errors2 = []\n",
    "        self.errors3 = []\n",
    "    \n",
    "    # shuffles data randomly\n",
    "    def shuffle(self):\n",
    "        self.data = self.data.sample(frac = 1)\n",
    "    \n",
    "    # splits a data frame in 70:30 ratio\n",
    "    def split(self):\n",
    "        train = self.data[:int(0.7 * len(data))]\n",
    "        test = self.data[int(0.7 * len(data)):]\n",
    "        return train, test\n",
    "    \n",
    "    # standardizes data\n",
    "    def standardize(self, data):\n",
    "        column_names = list(data.columns)\n",
    "        standardize = lambda x : (x - x.mean()) / x.std()\n",
    "        for column in column_names:\n",
    "            if column == \"charges\":\n",
    "                continue\n",
    "            data[column] = standardize(data[column])\n",
    "        return data\n",
    "    \n",
    "    # computes and returns X and Y matrices\n",
    "    def matrices(self, train):\n",
    "        x1, x2, x3, y = train[\"age\"], train[\"bmi\"], train[\"children\"], train[\"charges\"]\n",
    "        x1, x2, x3= np.array(x1), np.array(x2), np.array(x3)\n",
    "        Y = np.array(y)\n",
    "        n = len(Y)\n",
    "        Y = Y.reshape((n, 1))\n",
    "        x0 = np.ones((n,1))\n",
    "        x1 = np.reshape(x1, (n, 1))\n",
    "        x2 = np.reshape(x2, (n, 1))\n",
    "        x3 = np.reshape(x3, (n, 1))\n",
    "        X = np.append(x0, x1, axis=1)\n",
    "        X = np.append(X, x2, axis=1)\n",
    "        X = np.append(X, x3, axis=1)\n",
    "        return X, Y\n",
    "    \n",
    "    # Sum of Squares of Error Function\n",
    "    def error(self, X, Y, w):\n",
    "        Y_pred = np.dot(X, w)\n",
    "        sose = (1/2) * np.sum(np.square(Y_pred-Y))\n",
    "        return float(sose)\n",
    "    \n",
    "    # tests the model against testing data\n",
    "    def testModel(self, test, w):\n",
    "        Xt, Yt = self.matrices(test)\n",
    "        testing_error = self.error(Xt, Yt, w)\n",
    "        return testing_error\n",
    "           \n",
    "    # Performs Linear Regression by Normal Equations and returns corresponding Regression Weights\n",
    "    def solve(self, X, Y):\n",
    "        XT = np.transpose(X)\n",
    "        A = XT.dot(X)\n",
    "        A_inv = np.linalg.inv(A)\n",
    "        b = XT.dot(Y)\n",
    "        w = A_inv.dot(b)\n",
    "        return w\n",
    "\n",
    "    # Implements Gradient Descent Algorithm\n",
    "    def gradientDescent(self, X, Y, w, learning_rate = 1e-7):\n",
    "        i = 1\n",
    "        errors = []\n",
    "        error, prev_error = float(\"inf\"), 0\n",
    "        while abs(prev_error-error) > 1e-5:\n",
    "            prev_error = error\n",
    "            Y_pred = X.dot(w)\n",
    "            gradient = np.dot(X.transpose(), Y_pred- Y)\n",
    "            w -= learning_rate * gradient\n",
    "            error = self.error(X, Y, w)\n",
    "            errors.append(error)\n",
    "            i+=1\n",
    "        return w, errors, i\n",
    "\n",
    "    # Implements Stochastic Gradient Descent Algorithm\n",
    "    def stochasticGradientDescent(self, X, Y, w, learning_rate = 1e-5):\n",
    "        m, i = len(Y), 0\n",
    "        errors = []\n",
    "        error, prev_error = float(\"inf\"), 0\n",
    "        while abs(prev_error-error) > 1e-2:\n",
    "            prev_error = error\n",
    "            x = X[i%m].reshape(1, 4)\n",
    "            y = Y[i%m].reshape(1, 1)\n",
    "            y_pred = x.dot(w)\n",
    "            gradient = np.dot(x.transpose(), y_pred- y)\n",
    "            w -= learning_rate * gradient\n",
    "            error = self.error(X, Y, w)\n",
    "            errors.append(error)\n",
    "            i+=1\n",
    "        return w, errors, i + 1\n",
    "\n",
    "    # main function to build models\n",
    "    def buildModels(self, number = 20):\n",
    "        for i in range(number):\n",
    "            self.shuffle()                                                                  # shuffle dataset\n",
    "            train, test = self.split()                                                      # split dataset\n",
    "            train = self.standardize(train)                                                 # standardise training data\n",
    "            test = self.standardize(test)                                                   # standardise testing data\n",
    "            X, Y = self.matrices(train)                                                     # obtain X and Y matrices\n",
    "            w1 = self.solve(X, Y)                                                           # regression by normal equations\n",
    "            w2 = np.random.rand(4, 1)                                                       # generate random weights w for grad. desc.\n",
    "            w2, model_errors2 , iterations2 = self.gradientDescent(X, Y, w2)                # regression by gradient descent\n",
    "            w3 = np.random.rand(4, 1)                                                       # generate random weights w for st. grad. desc.\n",
    "            w3, model_errors3 , iterations3 = self.stochasticGradientDescent(X, Y, w3)      # regression by stochastic grad. desc.\n",
    "            training_error1 = self.error(X, Y, w1)                                          # calculate training error\n",
    "            training_error2 = self.error(X, Y, w2)                                          # calculate training error\n",
    "            training_error3 = self.error(X, Y, w3)                                          # calculate training error\n",
    "            testing_error1 = self.testModel(test, w1)                                       # calculate testing error\n",
    "            testing_error2 = self.testModel(test, w2)                                       # calculate testing error\n",
    "            testing_error3 = self.testModel(test, w3)                                       # calculate testing error\n",
    "            # append the model, errors to models dataframe\n",
    "            model1 = list(w1)\n",
    "            model2 = list(w2)\n",
    "            model3 = list(w3)\n",
    "            model1.append(testing_error1)\n",
    "            model2.append(testing_error2)\n",
    "            model3.append(testing_error3)\n",
    "            model1.append(training_error1)\n",
    "            model2.append(training_error2)\n",
    "            model3.append(training_error3)\n",
    "            model2.append(iterations2)\n",
    "            model3.append(iterations3)\n",
    "            model1 = pd.Series(model1, index = self.models1.columns)\n",
    "            model2 = pd.Series(model2, index = self.models2.columns)\n",
    "            model3 = pd.Series(model3, index = self.models3.columns)\n",
    "            self.models1 = self.models1.append(model1, ignore_index=True)\n",
    "            self.models2 = self.models2.append(model2, ignore_index=True)\n",
    "            self.models3 = self.models3.append(model3, ignore_index=True)\n",
    "            self.errors2.append(model_errors2)\n",
    "            self.errors3.append(model_errors3)"
   ]
  },
  {
   "cell_type": "markdown",
   "metadata": {},
   "source": [
    "<hr>"
   ]
  },
  {
   "cell_type": "markdown",
   "metadata": {},
   "source": [
    "## Build Regression Models"
   ]
  },
  {
   "cell_type": "code",
   "execution_count": 15,
   "metadata": {},
   "outputs": [],
   "source": [
    "data = pd.read_csv(\"insurance.txt\")"
   ]
  },
  {
   "cell_type": "code",
   "execution_count": 16,
   "metadata": {},
   "outputs": [],
   "source": [
    "lr_models = LinearRegression(data)\n",
    "lr_models.buildModels(20)"
   ]
  },
  {
   "cell_type": "markdown",
   "metadata": {},
   "source": [
    "#### Linear Regression Models - Normal Equations"
   ]
  },
  {
   "cell_type": "code",
   "execution_count": 17,
   "metadata": {
    "scrolled": true
   },
   "outputs": [
    {
     "data": {
      "text/html": [
       "<div>\n",
       "<style scoped>\n",
       "    .dataframe tbody tr th:only-of-type {\n",
       "        vertical-align: middle;\n",
       "    }\n",
       "\n",
       "    .dataframe tbody tr th {\n",
       "        vertical-align: top;\n",
       "    }\n",
       "\n",
       "    .dataframe thead th {\n",
       "        text-align: right;\n",
       "    }\n",
       "</style>\n",
       "<table border=\"1\" class=\"dataframe\">\n",
       "  <thead>\n",
       "    <tr style=\"text-align: right;\">\n",
       "      <th></th>\n",
       "      <th>w0</th>\n",
       "      <th>w1</th>\n",
       "      <th>w2</th>\n",
       "      <th>w3</th>\n",
       "      <th>testing_error</th>\n",
       "      <th>training_error</th>\n",
       "    </tr>\n",
       "  </thead>\n",
       "  <tbody>\n",
       "    <tr>\n",
       "      <th>0</th>\n",
       "      <td>[13072.157252916671]</td>\n",
       "      <td>[3173.6711350795026]</td>\n",
       "      <td>[2172.652465579652]</td>\n",
       "      <td>[569.7149647829754]</td>\n",
       "      <td>2.766659e+10</td>\n",
       "      <td>5.868913e+10</td>\n",
       "    </tr>\n",
       "    <tr>\n",
       "      <th>1</th>\n",
       "      <td>[13274.255625030979]</td>\n",
       "      <td>[3507.1265095675412]</td>\n",
       "      <td>[2264.001551742749]</td>\n",
       "      <td>[913.3113199110223]</td>\n",
       "      <td>2.639870e+10</td>\n",
       "      <td>5.997557e+10</td>\n",
       "    </tr>\n",
       "    <tr>\n",
       "      <th>2</th>\n",
       "      <td>[13482.077127585468]</td>\n",
       "      <td>[3355.4248291029735]</td>\n",
       "      <td>[1868.9517319400634]</td>\n",
       "      <td>[723.516139454789]</td>\n",
       "      <td>2.481143e+10</td>\n",
       "      <td>6.153464e+10</td>\n",
       "    </tr>\n",
       "    <tr>\n",
       "      <th>3</th>\n",
       "      <td>[13096.61393816132]</td>\n",
       "      <td>[3320.2392537805476]</td>\n",
       "      <td>[1751.268284384702]</td>\n",
       "      <td>[128.00203037624772]</td>\n",
       "      <td>2.739213e+10</td>\n",
       "      <td>5.915158e+10</td>\n",
       "    </tr>\n",
       "    <tr>\n",
       "      <th>4</th>\n",
       "      <td>[13230.655181248942]</td>\n",
       "      <td>[3276.556657624632]</td>\n",
       "      <td>[2081.4072978393733]</td>\n",
       "      <td>[1056.9045649845043]</td>\n",
       "      <td>2.627252e+10</td>\n",
       "      <td>6.008478e+10</td>\n",
       "    </tr>\n",
       "    <tr>\n",
       "      <th>5</th>\n",
       "      <td>[13246.185100223296]</td>\n",
       "      <td>[3348.218878314866]</td>\n",
       "      <td>[2080.4077189002]</td>\n",
       "      <td>[835.1008646505434]</td>\n",
       "      <td>2.692570e+10</td>\n",
       "      <td>5.934776e+10</td>\n",
       "    </tr>\n",
       "    <tr>\n",
       "      <th>6</th>\n",
       "      <td>[13541.246220298073]</td>\n",
       "      <td>[3809.519390085981]</td>\n",
       "      <td>[1874.412743033794]</td>\n",
       "      <td>[618.1288862141785]</td>\n",
       "      <td>2.484104e+10</td>\n",
       "      <td>6.166281e+10</td>\n",
       "    </tr>\n",
       "    <tr>\n",
       "      <th>7</th>\n",
       "      <td>[13648.274978141026]</td>\n",
       "      <td>[3315.6203895545787]</td>\n",
       "      <td>[2233.788050319717]</td>\n",
       "      <td>[498.5685917518636]</td>\n",
       "      <td>2.298719e+10</td>\n",
       "      <td>6.350406e+10</td>\n",
       "    </tr>\n",
       "    <tr>\n",
       "      <th>8</th>\n",
       "      <td>[13364.931043941238]</td>\n",
       "      <td>[3694.8391932227255]</td>\n",
       "      <td>[1752.1195630785423]</td>\n",
       "      <td>[620.8734678471185]</td>\n",
       "      <td>2.310860e+10</td>\n",
       "      <td>6.326582e+10</td>\n",
       "    </tr>\n",
       "    <tr>\n",
       "      <th>9</th>\n",
       "      <td>[13088.107286613249]</td>\n",
       "      <td>[3260.601070950185]</td>\n",
       "      <td>[1803.6651937769252]</td>\n",
       "      <td>[748.4033354218057]</td>\n",
       "      <td>2.742639e+10</td>\n",
       "      <td>5.902140e+10</td>\n",
       "    </tr>\n",
       "    <tr>\n",
       "      <th>10</th>\n",
       "      <td>[13331.613132787392]</td>\n",
       "      <td>[3620.9196405316516]</td>\n",
       "      <td>[2264.1333137728575]</td>\n",
       "      <td>[655.4750013395659]</td>\n",
       "      <td>2.553612e+10</td>\n",
       "      <td>6.078687e+10</td>\n",
       "    </tr>\n",
       "    <tr>\n",
       "      <th>11</th>\n",
       "      <td>[13103.985071698718]</td>\n",
       "      <td>[3407.082260078148]</td>\n",
       "      <td>[1778.7749906186577]</td>\n",
       "      <td>[629.4547769925526]</td>\n",
       "      <td>2.750384e+10</td>\n",
       "      <td>5.882640e+10</td>\n",
       "    </tr>\n",
       "    <tr>\n",
       "      <th>12</th>\n",
       "      <td>[13399.463308001068]</td>\n",
       "      <td>[3316.642506551879]</td>\n",
       "      <td>[2068.1635451204234]</td>\n",
       "      <td>[835.8096077367837]</td>\n",
       "      <td>2.611287e+10</td>\n",
       "      <td>6.021128e+10</td>\n",
       "    </tr>\n",
       "    <tr>\n",
       "      <th>13</th>\n",
       "      <td>[13226.853877060894]</td>\n",
       "      <td>[3318.7843377478694]</td>\n",
       "      <td>[1816.346524881205]</td>\n",
       "      <td>[627.5361478196786]</td>\n",
       "      <td>2.600639e+10</td>\n",
       "      <td>6.033372e+10</td>\n",
       "    </tr>\n",
       "    <tr>\n",
       "      <th>14</th>\n",
       "      <td>[13333.673399027779]</td>\n",
       "      <td>[3376.78123295007]</td>\n",
       "      <td>[2232.9091894992575]</td>\n",
       "      <td>[730.7074820873747]</td>\n",
       "      <td>2.647897e+10</td>\n",
       "      <td>5.988620e+10</td>\n",
       "    </tr>\n",
       "    <tr>\n",
       "      <th>15</th>\n",
       "      <td>[13690.222744945519]</td>\n",
       "      <td>[3190.0946685396325]</td>\n",
       "      <td>[2186.972803802003]</td>\n",
       "      <td>[709.9356426558462]</td>\n",
       "      <td>2.495973e+10</td>\n",
       "      <td>6.162371e+10</td>\n",
       "    </tr>\n",
       "    <tr>\n",
       "      <th>16</th>\n",
       "      <td>[13292.246682456207]</td>\n",
       "      <td>[3495.9138057480536]</td>\n",
       "      <td>[1895.76112260121]</td>\n",
       "      <td>[641.3534236879706]</td>\n",
       "      <td>2.317410e+10</td>\n",
       "      <td>6.317174e+10</td>\n",
       "    </tr>\n",
       "    <tr>\n",
       "      <th>17</th>\n",
       "      <td>[13400.403987979702]</td>\n",
       "      <td>[3406.980397525283]</td>\n",
       "      <td>[2228.5894042257983]</td>\n",
       "      <td>[613.7019896517256]</td>\n",
       "      <td>2.403968e+10</td>\n",
       "      <td>6.233176e+10</td>\n",
       "    </tr>\n",
       "    <tr>\n",
       "      <th>18</th>\n",
       "      <td>[13467.24419703953]</td>\n",
       "      <td>[3168.347358209725]</td>\n",
       "      <td>[2185.763694084179]</td>\n",
       "      <td>[1015.1831646081567]</td>\n",
       "      <td>2.488758e+10</td>\n",
       "      <td>6.171339e+10</td>\n",
       "    </tr>\n",
       "    <tr>\n",
       "      <th>19</th>\n",
       "      <td>[13360.447862039533]</td>\n",
       "      <td>[3748.6916176986083]</td>\n",
       "      <td>[1999.1904685747045]</td>\n",
       "      <td>[547.5112427355607]</td>\n",
       "      <td>2.444390e+10</td>\n",
       "      <td>6.214717e+10</td>\n",
       "    </tr>\n",
       "  </tbody>\n",
       "</table>\n",
       "</div>"
      ],
      "text/plain": [
       "                      w0                    w1                    w2  \\\n",
       "0   [13072.157252916671]  [3173.6711350795026]   [2172.652465579652]   \n",
       "1   [13274.255625030979]  [3507.1265095675412]   [2264.001551742749]   \n",
       "2   [13482.077127585468]  [3355.4248291029735]  [1868.9517319400634]   \n",
       "3    [13096.61393816132]  [3320.2392537805476]   [1751.268284384702]   \n",
       "4   [13230.655181248942]   [3276.556657624632]  [2081.4072978393733]   \n",
       "5   [13246.185100223296]   [3348.218878314866]     [2080.4077189002]   \n",
       "6   [13541.246220298073]   [3809.519390085981]   [1874.412743033794]   \n",
       "7   [13648.274978141026]  [3315.6203895545787]   [2233.788050319717]   \n",
       "8   [13364.931043941238]  [3694.8391932227255]  [1752.1195630785423]   \n",
       "9   [13088.107286613249]   [3260.601070950185]  [1803.6651937769252]   \n",
       "10  [13331.613132787392]  [3620.9196405316516]  [2264.1333137728575]   \n",
       "11  [13103.985071698718]   [3407.082260078148]  [1778.7749906186577]   \n",
       "12  [13399.463308001068]   [3316.642506551879]  [2068.1635451204234]   \n",
       "13  [13226.853877060894]  [3318.7843377478694]   [1816.346524881205]   \n",
       "14  [13333.673399027779]    [3376.78123295007]  [2232.9091894992575]   \n",
       "15  [13690.222744945519]  [3190.0946685396325]   [2186.972803802003]   \n",
       "16  [13292.246682456207]  [3495.9138057480536]    [1895.76112260121]   \n",
       "17  [13400.403987979702]   [3406.980397525283]  [2228.5894042257983]   \n",
       "18   [13467.24419703953]   [3168.347358209725]   [2185.763694084179]   \n",
       "19  [13360.447862039533]  [3748.6916176986083]  [1999.1904685747045]   \n",
       "\n",
       "                      w3  testing_error  training_error  \n",
       "0    [569.7149647829754]   2.766659e+10    5.868913e+10  \n",
       "1    [913.3113199110223]   2.639870e+10    5.997557e+10  \n",
       "2     [723.516139454789]   2.481143e+10    6.153464e+10  \n",
       "3   [128.00203037624772]   2.739213e+10    5.915158e+10  \n",
       "4   [1056.9045649845043]   2.627252e+10    6.008478e+10  \n",
       "5    [835.1008646505434]   2.692570e+10    5.934776e+10  \n",
       "6    [618.1288862141785]   2.484104e+10    6.166281e+10  \n",
       "7    [498.5685917518636]   2.298719e+10    6.350406e+10  \n",
       "8    [620.8734678471185]   2.310860e+10    6.326582e+10  \n",
       "9    [748.4033354218057]   2.742639e+10    5.902140e+10  \n",
       "10   [655.4750013395659]   2.553612e+10    6.078687e+10  \n",
       "11   [629.4547769925526]   2.750384e+10    5.882640e+10  \n",
       "12   [835.8096077367837]   2.611287e+10    6.021128e+10  \n",
       "13   [627.5361478196786]   2.600639e+10    6.033372e+10  \n",
       "14   [730.7074820873747]   2.647897e+10    5.988620e+10  \n",
       "15   [709.9356426558462]   2.495973e+10    6.162371e+10  \n",
       "16   [641.3534236879706]   2.317410e+10    6.317174e+10  \n",
       "17   [613.7019896517256]   2.403968e+10    6.233176e+10  \n",
       "18  [1015.1831646081567]   2.488758e+10    6.171339e+10  \n",
       "19   [547.5112427355607]   2.444390e+10    6.214717e+10  "
      ]
     },
     "execution_count": 17,
     "metadata": {},
     "output_type": "execute_result"
    }
   ],
   "source": [
    "lr_models.models1"
   ]
  },
  {
   "cell_type": "markdown",
   "metadata": {},
   "source": [
    "#### Linear Regression Models - Gradient Descent"
   ]
  },
  {
   "cell_type": "code",
   "execution_count": 18,
   "metadata": {},
   "outputs": [
    {
     "data": {
      "text/html": [
       "<div>\n",
       "<style scoped>\n",
       "    .dataframe tbody tr th:only-of-type {\n",
       "        vertical-align: middle;\n",
       "    }\n",
       "\n",
       "    .dataframe tbody tr th {\n",
       "        vertical-align: top;\n",
       "    }\n",
       "\n",
       "    .dataframe thead th {\n",
       "        text-align: right;\n",
       "    }\n",
       "</style>\n",
       "<table border=\"1\" class=\"dataframe\">\n",
       "  <thead>\n",
       "    <tr style=\"text-align: right;\">\n",
       "      <th></th>\n",
       "      <th>w0</th>\n",
       "      <th>w1</th>\n",
       "      <th>w2</th>\n",
       "      <th>w3</th>\n",
       "      <th>testing_error</th>\n",
       "      <th>training_error</th>\n",
       "      <th>iterations</th>\n",
       "    </tr>\n",
       "  </thead>\n",
       "  <tbody>\n",
       "    <tr>\n",
       "      <th>0</th>\n",
       "      <td>[13072.142207938474]</td>\n",
       "      <td>[3173.667317195016]</td>\n",
       "      <td>[2172.653751292538]</td>\n",
       "      <td>[569.7173903721999]</td>\n",
       "      <td>2.766659e+10</td>\n",
       "      <td>5.868913e+10</td>\n",
       "      <td>146094</td>\n",
       "    </tr>\n",
       "    <tr>\n",
       "      <th>1</th>\n",
       "      <td>[13274.240797107554]</td>\n",
       "      <td>[3507.121193095363]</td>\n",
       "      <td>[2264.005080789216]</td>\n",
       "      <td>[913.3134506456043]</td>\n",
       "      <td>2.639870e+10</td>\n",
       "      <td>5.997557e+10</td>\n",
       "      <td>146413</td>\n",
       "    </tr>\n",
       "    <tr>\n",
       "      <th>2</th>\n",
       "      <td>[13482.06030303248]</td>\n",
       "      <td>[3355.4209047288964]</td>\n",
       "      <td>[1868.953650070515]</td>\n",
       "      <td>[723.5167294531007]</td>\n",
       "      <td>2.481142e+10</td>\n",
       "      <td>6.153464e+10</td>\n",
       "      <td>145229</td>\n",
       "    </tr>\n",
       "    <tr>\n",
       "      <th>3</th>\n",
       "      <td>[13096.600248721812]</td>\n",
       "      <td>[3320.232492716989]</td>\n",
       "      <td>[1751.272864385082]</td>\n",
       "      <td>[128.00599472581212]</td>\n",
       "      <td>2.739213e+10</td>\n",
       "      <td>5.915158e+10</td>\n",
       "      <td>147122</td>\n",
       "    </tr>\n",
       "    <tr>\n",
       "      <th>4</th>\n",
       "      <td>[13230.639975549244]</td>\n",
       "      <td>[3276.553137972186]</td>\n",
       "      <td>[2081.409723151141]</td>\n",
       "      <td>[1056.9046832931306]</td>\n",
       "      <td>2.627252e+10</td>\n",
       "      <td>6.008478e+10</td>\n",
       "      <td>146109</td>\n",
       "    </tr>\n",
       "    <tr>\n",
       "      <th>5</th>\n",
       "      <td>[13246.170718638998]</td>\n",
       "      <td>[3348.2134999946275]</td>\n",
       "      <td>[2080.412064194506]</td>\n",
       "      <td>[835.1019599447218]</td>\n",
       "      <td>2.692570e+10</td>\n",
       "      <td>5.934776e+10</td>\n",
       "      <td>146717</td>\n",
       "    </tr>\n",
       "    <tr>\n",
       "      <th>6</th>\n",
       "      <td>[13541.231813298458]</td>\n",
       "      <td>[3809.5133282535503]</td>\n",
       "      <td>[1874.4171905609146]</td>\n",
       "      <td>[618.1308554879473]</td>\n",
       "      <td>2.484103e+10</td>\n",
       "      <td>6.166281e+10</td>\n",
       "      <td>146933</td>\n",
       "    </tr>\n",
       "    <tr>\n",
       "      <th>7</th>\n",
       "      <td>[13648.258703747528]</td>\n",
       "      <td>[3315.6168999330685]</td>\n",
       "      <td>[2233.7890135955927]</td>\n",
       "      <td>[498.5703052408616]</td>\n",
       "      <td>2.298718e+10</td>\n",
       "      <td>6.350406e+10</td>\n",
       "      <td>145715</td>\n",
       "    </tr>\n",
       "    <tr>\n",
       "      <th>8</th>\n",
       "      <td>[13364.916762074321]</td>\n",
       "      <td>[3694.8334150189144]</td>\n",
       "      <td>[1752.122858739431]</td>\n",
       "      <td>[620.8766881481132]</td>\n",
       "      <td>2.310859e+10</td>\n",
       "      <td>6.326582e+10</td>\n",
       "      <td>146886</td>\n",
       "    </tr>\n",
       "    <tr>\n",
       "      <th>9</th>\n",
       "      <td>[13088.091896004544]</td>\n",
       "      <td>[3260.5968901598785]</td>\n",
       "      <td>[1803.667317834975]</td>\n",
       "      <td>[748.4049237572754]</td>\n",
       "      <td>2.742640e+10</td>\n",
       "      <td>5.902140e+10</td>\n",
       "      <td>145864</td>\n",
       "    </tr>\n",
       "    <tr>\n",
       "      <th>10</th>\n",
       "      <td>[13331.598031755706]</td>\n",
       "      <td>[3620.9146529215686]</td>\n",
       "      <td>[2264.1356232852804]</td>\n",
       "      <td>[655.4779451163782]</td>\n",
       "      <td>2.553612e+10</td>\n",
       "      <td>6.078687e+10</td>\n",
       "      <td>146264</td>\n",
       "    </tr>\n",
       "    <tr>\n",
       "      <th>11</th>\n",
       "      <td>[13103.969999183786]</td>\n",
       "      <td>[3407.078049746128]</td>\n",
       "      <td>[1778.777232315498]</td>\n",
       "      <td>[629.4557324853573]</td>\n",
       "      <td>2.750384e+10</td>\n",
       "      <td>5.882640e+10</td>\n",
       "      <td>146100</td>\n",
       "    </tr>\n",
       "    <tr>\n",
       "      <th>12</th>\n",
       "      <td>[13399.447007783396]</td>\n",
       "      <td>[3316.6390554905906]</td>\n",
       "      <td>[2068.1651645912802]</td>\n",
       "      <td>[835.8104369137301]</td>\n",
       "      <td>2.611287e+10</td>\n",
       "      <td>6.021128e+10</td>\n",
       "      <td>145502</td>\n",
       "    </tr>\n",
       "    <tr>\n",
       "      <th>13</th>\n",
       "      <td>[13226.839216922295]</td>\n",
       "      <td>[3318.7795063577937]</td>\n",
       "      <td>[1816.348958224951]</td>\n",
       "      <td>[627.5386761061405]</td>\n",
       "      <td>2.600639e+10</td>\n",
       "      <td>6.033372e+10</td>\n",
       "      <td>146496</td>\n",
       "    </tr>\n",
       "    <tr>\n",
       "      <th>14</th>\n",
       "      <td>[13333.658219592393]</td>\n",
       "      <td>[3376.7772377380275]</td>\n",
       "      <td>[2232.9109268824236]</td>\n",
       "      <td>[730.7093519990386]</td>\n",
       "      <td>2.647897e+10</td>\n",
       "      <td>5.988620e+10</td>\n",
       "      <td>146210</td>\n",
       "    </tr>\n",
       "    <tr>\n",
       "      <th>15</th>\n",
       "      <td>[13690.20574462871]</td>\n",
       "      <td>[3190.09161338715]</td>\n",
       "      <td>[2186.973905286314]</td>\n",
       "      <td>[709.9363605776854]</td>\n",
       "      <td>2.495973e+10</td>\n",
       "      <td>6.162371e+10</td>\n",
       "      <td>145282</td>\n",
       "    </tr>\n",
       "    <tr>\n",
       "      <th>16</th>\n",
       "      <td>[13292.2318398452]</td>\n",
       "      <td>[3495.908124898003]</td>\n",
       "      <td>[1895.765195757137]</td>\n",
       "      <td>[641.355472477525]</td>\n",
       "      <td>2.317410e+10</td>\n",
       "      <td>6.317174e+10</td>\n",
       "      <td>146417</td>\n",
       "    </tr>\n",
       "    <tr>\n",
       "      <th>17</th>\n",
       "      <td>[13400.388336442913]</td>\n",
       "      <td>[3406.9764726383764]</td>\n",
       "      <td>[2228.591172831457]</td>\n",
       "      <td>[613.7038103907579]</td>\n",
       "      <td>2.403968e+10</td>\n",
       "      <td>6.233176e+10</td>\n",
       "      <td>145936</td>\n",
       "    </tr>\n",
       "    <tr>\n",
       "      <th>18</th>\n",
       "      <td>[13467.22865141155]</td>\n",
       "      <td>[3168.34451226173]</td>\n",
       "      <td>[2185.7650852654792]</td>\n",
       "      <td>[1015.1832627318521]</td>\n",
       "      <td>2.488758e+10</td>\n",
       "      <td>6.171339e+10</td>\n",
       "      <td>146062</td>\n",
       "    </tr>\n",
       "    <tr>\n",
       "      <th>19</th>\n",
       "      <td>[13360.432855312352]</td>\n",
       "      <td>[3748.686584823426]</td>\n",
       "      <td>[1999.1939455694796]</td>\n",
       "      <td>[547.511674373858]</td>\n",
       "      <td>2.444390e+10</td>\n",
       "      <td>6.214717e+10</td>\n",
       "      <td>146354</td>\n",
       "    </tr>\n",
       "  </tbody>\n",
       "</table>\n",
       "</div>"
      ],
      "text/plain": [
       "                      w0                    w1                    w2  \\\n",
       "0   [13072.142207938474]   [3173.667317195016]   [2172.653751292538]   \n",
       "1   [13274.240797107554]   [3507.121193095363]   [2264.005080789216]   \n",
       "2    [13482.06030303248]  [3355.4209047288964]   [1868.953650070515]   \n",
       "3   [13096.600248721812]   [3320.232492716989]   [1751.272864385082]   \n",
       "4   [13230.639975549244]   [3276.553137972186]   [2081.409723151141]   \n",
       "5   [13246.170718638998]  [3348.2134999946275]   [2080.412064194506]   \n",
       "6   [13541.231813298458]  [3809.5133282535503]  [1874.4171905609146]   \n",
       "7   [13648.258703747528]  [3315.6168999330685]  [2233.7890135955927]   \n",
       "8   [13364.916762074321]  [3694.8334150189144]   [1752.122858739431]   \n",
       "9   [13088.091896004544]  [3260.5968901598785]   [1803.667317834975]   \n",
       "10  [13331.598031755706]  [3620.9146529215686]  [2264.1356232852804]   \n",
       "11  [13103.969999183786]   [3407.078049746128]   [1778.777232315498]   \n",
       "12  [13399.447007783396]  [3316.6390554905906]  [2068.1651645912802]   \n",
       "13  [13226.839216922295]  [3318.7795063577937]   [1816.348958224951]   \n",
       "14  [13333.658219592393]  [3376.7772377380275]  [2232.9109268824236]   \n",
       "15   [13690.20574462871]    [3190.09161338715]   [2186.973905286314]   \n",
       "16    [13292.2318398452]   [3495.908124898003]   [1895.765195757137]   \n",
       "17  [13400.388336442913]  [3406.9764726383764]   [2228.591172831457]   \n",
       "18   [13467.22865141155]    [3168.34451226173]  [2185.7650852654792]   \n",
       "19  [13360.432855312352]   [3748.686584823426]  [1999.1939455694796]   \n",
       "\n",
       "                      w3  testing_error  training_error iterations  \n",
       "0    [569.7173903721999]   2.766659e+10    5.868913e+10     146094  \n",
       "1    [913.3134506456043]   2.639870e+10    5.997557e+10     146413  \n",
       "2    [723.5167294531007]   2.481142e+10    6.153464e+10     145229  \n",
       "3   [128.00599472581212]   2.739213e+10    5.915158e+10     147122  \n",
       "4   [1056.9046832931306]   2.627252e+10    6.008478e+10     146109  \n",
       "5    [835.1019599447218]   2.692570e+10    5.934776e+10     146717  \n",
       "6    [618.1308554879473]   2.484103e+10    6.166281e+10     146933  \n",
       "7    [498.5703052408616]   2.298718e+10    6.350406e+10     145715  \n",
       "8    [620.8766881481132]   2.310859e+10    6.326582e+10     146886  \n",
       "9    [748.4049237572754]   2.742640e+10    5.902140e+10     145864  \n",
       "10   [655.4779451163782]   2.553612e+10    6.078687e+10     146264  \n",
       "11   [629.4557324853573]   2.750384e+10    5.882640e+10     146100  \n",
       "12   [835.8104369137301]   2.611287e+10    6.021128e+10     145502  \n",
       "13   [627.5386761061405]   2.600639e+10    6.033372e+10     146496  \n",
       "14   [730.7093519990386]   2.647897e+10    5.988620e+10     146210  \n",
       "15   [709.9363605776854]   2.495973e+10    6.162371e+10     145282  \n",
       "16    [641.355472477525]   2.317410e+10    6.317174e+10     146417  \n",
       "17   [613.7038103907579]   2.403968e+10    6.233176e+10     145936  \n",
       "18  [1015.1832627318521]   2.488758e+10    6.171339e+10     146062  \n",
       "19    [547.511674373858]   2.444390e+10    6.214717e+10     146354  "
      ]
     },
     "execution_count": 18,
     "metadata": {},
     "output_type": "execute_result"
    }
   ],
   "source": [
    "lr_models.models2"
   ]
  },
  {
   "cell_type": "markdown",
   "metadata": {},
   "source": [
    "#### Linear Regression Models - Stochastic Gradient Descent"
   ]
  },
  {
   "cell_type": "code",
   "execution_count": 19,
   "metadata": {},
   "outputs": [
    {
     "data": {
      "text/html": [
       "<div>\n",
       "<style scoped>\n",
       "    .dataframe tbody tr th:only-of-type {\n",
       "        vertical-align: middle;\n",
       "    }\n",
       "\n",
       "    .dataframe tbody tr th {\n",
       "        vertical-align: top;\n",
       "    }\n",
       "\n",
       "    .dataframe thead th {\n",
       "        text-align: right;\n",
       "    }\n",
       "</style>\n",
       "<table border=\"1\" class=\"dataframe\">\n",
       "  <thead>\n",
       "    <tr style=\"text-align: right;\">\n",
       "      <th></th>\n",
       "      <th>w0</th>\n",
       "      <th>w1</th>\n",
       "      <th>w2</th>\n",
       "      <th>w3</th>\n",
       "      <th>testing_error</th>\n",
       "      <th>training_error</th>\n",
       "      <th>iterations</th>\n",
       "    </tr>\n",
       "  </thead>\n",
       "  <tbody>\n",
       "    <tr>\n",
       "      <th>0</th>\n",
       "      <td>[13071.179444392286]</td>\n",
       "      <td>[3174.536142389335]</td>\n",
       "      <td>[2174.1187630838886]</td>\n",
       "      <td>[570.4156365220362]</td>\n",
       "      <td>2.766679e+10</td>\n",
       "      <td>5.868913e+10</td>\n",
       "      <td>853718</td>\n",
       "    </tr>\n",
       "    <tr>\n",
       "      <th>1</th>\n",
       "      <td>[13270.988061097298]</td>\n",
       "      <td>[3506.1263224422833]</td>\n",
       "      <td>[2263.08234078904]</td>\n",
       "      <td>[913.9845463036701]</td>\n",
       "      <td>2.639839e+10</td>\n",
       "      <td>5.997557e+10</td>\n",
       "      <td>819755</td>\n",
       "    </tr>\n",
       "    <tr>\n",
       "      <th>2</th>\n",
       "      <td>[13478.521079290776]</td>\n",
       "      <td>[3353.816586405118]</td>\n",
       "      <td>[1868.0499068577656]</td>\n",
       "      <td>[722.7362555318196]</td>\n",
       "      <td>2.481060e+10</td>\n",
       "      <td>6.153465e+10</td>\n",
       "      <td>832702</td>\n",
       "    </tr>\n",
       "    <tr>\n",
       "      <th>3</th>\n",
       "      <td>[13094.467908229346]</td>\n",
       "      <td>[3317.430701111887]</td>\n",
       "      <td>[1753.0693293120771]</td>\n",
       "      <td>[127.85584430738317]</td>\n",
       "      <td>2.739244e+10</td>\n",
       "      <td>5.915159e+10</td>\n",
       "      <td>810071</td>\n",
       "    </tr>\n",
       "    <tr>\n",
       "      <th>4</th>\n",
       "      <td>[13226.85127645541]</td>\n",
       "      <td>[3274.6918615286786]</td>\n",
       "      <td>[2080.8486808466478]</td>\n",
       "      <td>[1056.7781201100258]</td>\n",
       "      <td>2.627281e+10</td>\n",
       "      <td>6.008479e+10</td>\n",
       "      <td>816825</td>\n",
       "    </tr>\n",
       "    <tr>\n",
       "      <th>5</th>\n",
       "      <td>[13243.758607017064]</td>\n",
       "      <td>[3346.1753030103373]</td>\n",
       "      <td>[2081.2564906928746]</td>\n",
       "      <td>[835.7054940736176]</td>\n",
       "      <td>2.692602e+10</td>\n",
       "      <td>5.934777e+10</td>\n",
       "      <td>829609</td>\n",
       "    </tr>\n",
       "    <tr>\n",
       "      <th>6</th>\n",
       "      <td>[13538.415991714215]</td>\n",
       "      <td>[3809.641714148102]</td>\n",
       "      <td>[1875.0557329401197]</td>\n",
       "      <td>[617.4132781542809]</td>\n",
       "      <td>2.484001e+10</td>\n",
       "      <td>6.166282e+10</td>\n",
       "      <td>859275</td>\n",
       "    </tr>\n",
       "    <tr>\n",
       "      <th>7</th>\n",
       "      <td>[13639.527596442764]</td>\n",
       "      <td>[3313.754861664402]</td>\n",
       "      <td>[2231.3800886118556]</td>\n",
       "      <td>[498.55330955567933]</td>\n",
       "      <td>2.298219e+10</td>\n",
       "      <td>6.350410e+10</td>\n",
       "      <td>748811</td>\n",
       "    </tr>\n",
       "    <tr>\n",
       "      <th>8</th>\n",
       "      <td>[13362.756565554455]</td>\n",
       "      <td>[3692.6706126413783]</td>\n",
       "      <td>[1754.0971242505514]</td>\n",
       "      <td>[621.3519738460095]</td>\n",
       "      <td>2.310692e+10</td>\n",
       "      <td>6.326582e+10</td>\n",
       "      <td>823840</td>\n",
       "    </tr>\n",
       "    <tr>\n",
       "      <th>9</th>\n",
       "      <td>[13084.212144271769]</td>\n",
       "      <td>[3259.838035853891]</td>\n",
       "      <td>[1802.0232970138757]</td>\n",
       "      <td>[748.8059377336481]</td>\n",
       "      <td>2.742798e+10</td>\n",
       "      <td>5.902141e+10</td>\n",
       "      <td>824217</td>\n",
       "    </tr>\n",
       "    <tr>\n",
       "      <th>10</th>\n",
       "      <td>[13329.057945223245]</td>\n",
       "      <td>[3620.117163589231]</td>\n",
       "      <td>[2263.6069140662144]</td>\n",
       "      <td>[655.1165882710867]</td>\n",
       "      <td>2.553545e+10</td>\n",
       "      <td>6.078687e+10</td>\n",
       "      <td>850098</td>\n",
       "    </tr>\n",
       "    <tr>\n",
       "      <th>11</th>\n",
       "      <td>[13103.112660083825]</td>\n",
       "      <td>[3407.989779396259]</td>\n",
       "      <td>[1778.162678652901]</td>\n",
       "      <td>[630.0828371227532]</td>\n",
       "      <td>2.750420e+10</td>\n",
       "      <td>5.882640e+10</td>\n",
       "      <td>861440</td>\n",
       "    </tr>\n",
       "    <tr>\n",
       "      <th>12</th>\n",
       "      <td>[13397.000112592463]</td>\n",
       "      <td>[3313.7393316514253]</td>\n",
       "      <td>[2069.9257250289916]</td>\n",
       "      <td>[837.1629617509935]</td>\n",
       "      <td>2.611312e+10</td>\n",
       "      <td>6.021129e+10</td>\n",
       "      <td>815328</td>\n",
       "    </tr>\n",
       "    <tr>\n",
       "      <th>13</th>\n",
       "      <td>[13206.126903549708]</td>\n",
       "      <td>[3314.0623591954472]</td>\n",
       "      <td>[1814.9757249808831]</td>\n",
       "      <td>[628.9719986751478]</td>\n",
       "      <td>2.600852e+10</td>\n",
       "      <td>6.033393e+10</td>\n",
       "      <td>650911</td>\n",
       "    </tr>\n",
       "    <tr>\n",
       "      <th>14</th>\n",
       "      <td>[13330.571319609808]</td>\n",
       "      <td>[3375.669671751133]</td>\n",
       "      <td>[2233.6433957897125]</td>\n",
       "      <td>[732.0667470717209]</td>\n",
       "      <td>2.647903e+10</td>\n",
       "      <td>5.988621e+10</td>\n",
       "      <td>838896</td>\n",
       "    </tr>\n",
       "    <tr>\n",
       "      <th>15</th>\n",
       "      <td>[13686.466853471828]</td>\n",
       "      <td>[3188.2324030209447]</td>\n",
       "      <td>[2186.9513548774094]</td>\n",
       "      <td>[709.179893852237]</td>\n",
       "      <td>2.495797e+10</td>\n",
       "      <td>6.162372e+10</td>\n",
       "      <td>836038</td>\n",
       "    </tr>\n",
       "    <tr>\n",
       "      <th>16</th>\n",
       "      <td>[13290.559906506354]</td>\n",
       "      <td>[3495.4251036325704]</td>\n",
       "      <td>[1896.2529808741792]</td>\n",
       "      <td>[642.4901004814911]</td>\n",
       "      <td>2.317390e+10</td>\n",
       "      <td>6.317174e+10</td>\n",
       "      <td>845963</td>\n",
       "    </tr>\n",
       "    <tr>\n",
       "      <th>17</th>\n",
       "      <td>[13400.121272581342]</td>\n",
       "      <td>[3407.3528628327736]</td>\n",
       "      <td>[2229.2054768982757]</td>\n",
       "      <td>[613.3708864846583]</td>\n",
       "      <td>2.403988e+10</td>\n",
       "      <td>6.233176e+10</td>\n",
       "      <td>918418</td>\n",
       "    </tr>\n",
       "    <tr>\n",
       "      <th>18</th>\n",
       "      <td>[13462.90618293975]</td>\n",
       "      <td>[3166.162655912955]</td>\n",
       "      <td>[2186.8868148468423]</td>\n",
       "      <td>[1013.1038389554399]</td>\n",
       "      <td>2.488626e+10</td>\n",
       "      <td>6.171341e+10</td>\n",
       "      <td>786728</td>\n",
       "    </tr>\n",
       "    <tr>\n",
       "      <th>19</th>\n",
       "      <td>[13355.646958730453]</td>\n",
       "      <td>[3746.571399907587]</td>\n",
       "      <td>[1998.4439126472678]</td>\n",
       "      <td>[545.8044199298054]</td>\n",
       "      <td>2.444243e+10</td>\n",
       "      <td>6.214718e+10</td>\n",
       "      <td>800767</td>\n",
       "    </tr>\n",
       "  </tbody>\n",
       "</table>\n",
       "</div>"
      ],
      "text/plain": [
       "                      w0                    w1                    w2  \\\n",
       "0   [13071.179444392286]   [3174.536142389335]  [2174.1187630838886]   \n",
       "1   [13270.988061097298]  [3506.1263224422833]    [2263.08234078904]   \n",
       "2   [13478.521079290776]   [3353.816586405118]  [1868.0499068577656]   \n",
       "3   [13094.467908229346]   [3317.430701111887]  [1753.0693293120771]   \n",
       "4    [13226.85127645541]  [3274.6918615286786]  [2080.8486808466478]   \n",
       "5   [13243.758607017064]  [3346.1753030103373]  [2081.2564906928746]   \n",
       "6   [13538.415991714215]   [3809.641714148102]  [1875.0557329401197]   \n",
       "7   [13639.527596442764]   [3313.754861664402]  [2231.3800886118556]   \n",
       "8   [13362.756565554455]  [3692.6706126413783]  [1754.0971242505514]   \n",
       "9   [13084.212144271769]   [3259.838035853891]  [1802.0232970138757]   \n",
       "10  [13329.057945223245]   [3620.117163589231]  [2263.6069140662144]   \n",
       "11  [13103.112660083825]   [3407.989779396259]   [1778.162678652901]   \n",
       "12  [13397.000112592463]  [3313.7393316514253]  [2069.9257250289916]   \n",
       "13  [13206.126903549708]  [3314.0623591954472]  [1814.9757249808831]   \n",
       "14  [13330.571319609808]   [3375.669671751133]  [2233.6433957897125]   \n",
       "15  [13686.466853471828]  [3188.2324030209447]  [2186.9513548774094]   \n",
       "16  [13290.559906506354]  [3495.4251036325704]  [1896.2529808741792]   \n",
       "17  [13400.121272581342]  [3407.3528628327736]  [2229.2054768982757]   \n",
       "18   [13462.90618293975]   [3166.162655912955]  [2186.8868148468423]   \n",
       "19  [13355.646958730453]   [3746.571399907587]  [1998.4439126472678]   \n",
       "\n",
       "                      w3  testing_error  training_error iterations  \n",
       "0    [570.4156365220362]   2.766679e+10    5.868913e+10     853718  \n",
       "1    [913.9845463036701]   2.639839e+10    5.997557e+10     819755  \n",
       "2    [722.7362555318196]   2.481060e+10    6.153465e+10     832702  \n",
       "3   [127.85584430738317]   2.739244e+10    5.915159e+10     810071  \n",
       "4   [1056.7781201100258]   2.627281e+10    6.008479e+10     816825  \n",
       "5    [835.7054940736176]   2.692602e+10    5.934777e+10     829609  \n",
       "6    [617.4132781542809]   2.484001e+10    6.166282e+10     859275  \n",
       "7   [498.55330955567933]   2.298219e+10    6.350410e+10     748811  \n",
       "8    [621.3519738460095]   2.310692e+10    6.326582e+10     823840  \n",
       "9    [748.8059377336481]   2.742798e+10    5.902141e+10     824217  \n",
       "10   [655.1165882710867]   2.553545e+10    6.078687e+10     850098  \n",
       "11   [630.0828371227532]   2.750420e+10    5.882640e+10     861440  \n",
       "12   [837.1629617509935]   2.611312e+10    6.021129e+10     815328  \n",
       "13   [628.9719986751478]   2.600852e+10    6.033393e+10     650911  \n",
       "14   [732.0667470717209]   2.647903e+10    5.988621e+10     838896  \n",
       "15    [709.179893852237]   2.495797e+10    6.162372e+10     836038  \n",
       "16   [642.4901004814911]   2.317390e+10    6.317174e+10     845963  \n",
       "17   [613.3708864846583]   2.403988e+10    6.233176e+10     918418  \n",
       "18  [1013.1038389554399]   2.488626e+10    6.171341e+10     786728  \n",
       "19   [545.8044199298054]   2.444243e+10    6.214718e+10     800767  "
      ]
     },
     "execution_count": 19,
     "metadata": {},
     "output_type": "execute_result"
    }
   ],
   "source": [
    "lr_models.models3"
   ]
  },
  {
   "cell_type": "markdown",
   "metadata": {},
   "source": [
    "### Describe Regression Models"
   ]
  },
  {
   "cell_type": "code",
   "execution_count": 20,
   "metadata": {},
   "outputs": [
    {
     "data": {
      "text/html": [
       "<div>\n",
       "<style scoped>\n",
       "    .dataframe tbody tr th:only-of-type {\n",
       "        vertical-align: middle;\n",
       "    }\n",
       "\n",
       "    .dataframe tbody tr th {\n",
       "        vertical-align: top;\n",
       "    }\n",
       "\n",
       "    .dataframe thead th {\n",
       "        text-align: right;\n",
       "    }\n",
       "</style>\n",
       "<table border=\"1\" class=\"dataframe\">\n",
       "  <thead>\n",
       "    <tr style=\"text-align: right;\">\n",
       "      <th></th>\n",
       "      <th>testing_error</th>\n",
       "      <th>training_error</th>\n",
       "    </tr>\n",
       "  </thead>\n",
       "  <tbody>\n",
       "    <tr>\n",
       "      <th>count</th>\n",
       "      <td>2.000000e+01</td>\n",
       "      <td>2.000000e+01</td>\n",
       "    </tr>\n",
       "    <tr>\n",
       "      <th>mean</th>\n",
       "      <td>2.554867e+10</td>\n",
       "      <td>6.086349e+10</td>\n",
       "    </tr>\n",
       "    <tr>\n",
       "      <th>std</th>\n",
       "      <td>1.508712e+09</td>\n",
       "      <td>1.535985e+09</td>\n",
       "    </tr>\n",
       "    <tr>\n",
       "      <th>min</th>\n",
       "      <td>2.298719e+10</td>\n",
       "      <td>5.868913e+10</td>\n",
       "    </tr>\n",
       "    <tr>\n",
       "      <th>25%</th>\n",
       "      <td>2.471955e+10</td>\n",
       "      <td>5.975159e+10</td>\n",
       "    </tr>\n",
       "    <tr>\n",
       "      <th>50%</th>\n",
       "      <td>2.577125e+10</td>\n",
       "      <td>6.056029e+10</td>\n",
       "    </tr>\n",
       "    <tr>\n",
       "      <th>75%</th>\n",
       "      <td>2.659066e+10</td>\n",
       "      <td>6.182184e+10</td>\n",
       "    </tr>\n",
       "    <tr>\n",
       "      <th>max</th>\n",
       "      <td>2.766659e+10</td>\n",
       "      <td>6.350406e+10</td>\n",
       "    </tr>\n",
       "  </tbody>\n",
       "</table>\n",
       "</div>"
      ],
      "text/plain": [
       "       testing_error  training_error\n",
       "count   2.000000e+01    2.000000e+01\n",
       "mean    2.554867e+10    6.086349e+10\n",
       "std     1.508712e+09    1.535985e+09\n",
       "min     2.298719e+10    5.868913e+10\n",
       "25%     2.471955e+10    5.975159e+10\n",
       "50%     2.577125e+10    6.056029e+10\n",
       "75%     2.659066e+10    6.182184e+10\n",
       "max     2.766659e+10    6.350406e+10"
      ]
     },
     "execution_count": 20,
     "metadata": {},
     "output_type": "execute_result"
    }
   ],
   "source": [
    "lr_models.models1.describe()"
   ]
  },
  {
   "cell_type": "code",
   "execution_count": 21,
   "metadata": {},
   "outputs": [
    {
     "data": {
      "text/html": [
       "<div>\n",
       "<style scoped>\n",
       "    .dataframe tbody tr th:only-of-type {\n",
       "        vertical-align: middle;\n",
       "    }\n",
       "\n",
       "    .dataframe tbody tr th {\n",
       "        vertical-align: top;\n",
       "    }\n",
       "\n",
       "    .dataframe thead th {\n",
       "        text-align: right;\n",
       "    }\n",
       "</style>\n",
       "<table border=\"1\" class=\"dataframe\">\n",
       "  <thead>\n",
       "    <tr style=\"text-align: right;\">\n",
       "      <th></th>\n",
       "      <th>testing_error</th>\n",
       "      <th>training_error</th>\n",
       "    </tr>\n",
       "  </thead>\n",
       "  <tbody>\n",
       "    <tr>\n",
       "      <th>count</th>\n",
       "      <td>2.000000e+01</td>\n",
       "      <td>2.000000e+01</td>\n",
       "    </tr>\n",
       "    <tr>\n",
       "      <th>mean</th>\n",
       "      <td>2.554867e+10</td>\n",
       "      <td>6.086349e+10</td>\n",
       "    </tr>\n",
       "    <tr>\n",
       "      <th>std</th>\n",
       "      <td>1.508715e+09</td>\n",
       "      <td>1.535985e+09</td>\n",
       "    </tr>\n",
       "    <tr>\n",
       "      <th>min</th>\n",
       "      <td>2.298718e+10</td>\n",
       "      <td>5.868913e+10</td>\n",
       "    </tr>\n",
       "    <tr>\n",
       "      <th>25%</th>\n",
       "      <td>2.471954e+10</td>\n",
       "      <td>5.975159e+10</td>\n",
       "    </tr>\n",
       "    <tr>\n",
       "      <th>50%</th>\n",
       "      <td>2.577125e+10</td>\n",
       "      <td>6.056029e+10</td>\n",
       "    </tr>\n",
       "    <tr>\n",
       "      <th>75%</th>\n",
       "      <td>2.659066e+10</td>\n",
       "      <td>6.182184e+10</td>\n",
       "    </tr>\n",
       "    <tr>\n",
       "      <th>max</th>\n",
       "      <td>2.766659e+10</td>\n",
       "      <td>6.350406e+10</td>\n",
       "    </tr>\n",
       "  </tbody>\n",
       "</table>\n",
       "</div>"
      ],
      "text/plain": [
       "       testing_error  training_error\n",
       "count   2.000000e+01    2.000000e+01\n",
       "mean    2.554867e+10    6.086349e+10\n",
       "std     1.508715e+09    1.535985e+09\n",
       "min     2.298718e+10    5.868913e+10\n",
       "25%     2.471954e+10    5.975159e+10\n",
       "50%     2.577125e+10    6.056029e+10\n",
       "75%     2.659066e+10    6.182184e+10\n",
       "max     2.766659e+10    6.350406e+10"
      ]
     },
     "execution_count": 21,
     "metadata": {},
     "output_type": "execute_result"
    }
   ],
   "source": [
    "lr_models.models2.describe()"
   ]
  },
  {
   "cell_type": "code",
   "execution_count": 22,
   "metadata": {},
   "outputs": [
    {
     "data": {
      "text/html": [
       "<div>\n",
       "<style scoped>\n",
       "    .dataframe tbody tr th:only-of-type {\n",
       "        vertical-align: middle;\n",
       "    }\n",
       "\n",
       "    .dataframe tbody tr th {\n",
       "        vertical-align: top;\n",
       "    }\n",
       "\n",
       "    .dataframe thead th {\n",
       "        text-align: right;\n",
       "    }\n",
       "</style>\n",
       "<table border=\"1\" class=\"dataframe\">\n",
       "  <thead>\n",
       "    <tr style=\"text-align: right;\">\n",
       "      <th></th>\n",
       "      <th>testing_error</th>\n",
       "      <th>training_error</th>\n",
       "    </tr>\n",
       "  </thead>\n",
       "  <tbody>\n",
       "    <tr>\n",
       "      <th>count</th>\n",
       "      <td>2.000000e+01</td>\n",
       "      <td>2.000000e+01</td>\n",
       "    </tr>\n",
       "    <tr>\n",
       "      <th>mean</th>\n",
       "      <td>2.554824e+10</td>\n",
       "      <td>6.086351e+10</td>\n",
       "    </tr>\n",
       "    <tr>\n",
       "      <th>std</th>\n",
       "      <td>1.509697e+09</td>\n",
       "      <td>1.535985e+09</td>\n",
       "    </tr>\n",
       "    <tr>\n",
       "      <th>min</th>\n",
       "      <td>2.298219e+10</td>\n",
       "      <td>5.868913e+10</td>\n",
       "    </tr>\n",
       "    <tr>\n",
       "      <th>25%</th>\n",
       "      <td>2.471856e+10</td>\n",
       "      <td>5.975160e+10</td>\n",
       "    </tr>\n",
       "    <tr>\n",
       "      <th>50%</th>\n",
       "      <td>2.577198e+10</td>\n",
       "      <td>6.056040e+10</td>\n",
       "    </tr>\n",
       "    <tr>\n",
       "      <th>75%</th>\n",
       "      <td>2.659078e+10</td>\n",
       "      <td>6.182185e+10</td>\n",
       "    </tr>\n",
       "    <tr>\n",
       "      <th>max</th>\n",
       "      <td>2.766679e+10</td>\n",
       "      <td>6.350410e+10</td>\n",
       "    </tr>\n",
       "  </tbody>\n",
       "</table>\n",
       "</div>"
      ],
      "text/plain": [
       "       testing_error  training_error\n",
       "count   2.000000e+01    2.000000e+01\n",
       "mean    2.554824e+10    6.086351e+10\n",
       "std     1.509697e+09    1.535985e+09\n",
       "min     2.298219e+10    5.868913e+10\n",
       "25%     2.471856e+10    5.975160e+10\n",
       "50%     2.577198e+10    6.056040e+10\n",
       "75%     2.659078e+10    6.182185e+10\n",
       "max     2.766679e+10    6.350410e+10"
      ]
     },
     "execution_count": 22,
     "metadata": {},
     "output_type": "execute_result"
    }
   ],
   "source": [
    "lr_models.models3.describe()"
   ]
  },
  {
   "cell_type": "markdown",
   "metadata": {},
   "source": [
    "### Mean, Variance and Minimum of Training Error"
   ]
  },
  {
   "cell_type": "markdown",
   "metadata": {},
   "source": [
    "__Normal Equations__"
   ]
  },
  {
   "cell_type": "code",
   "execution_count": 23,
   "metadata": {},
   "outputs": [
    {
     "name": "stdout",
     "output_type": "stream",
     "text": [
      "Mean of training error obtained over 20 regression models = 60863489090.22312\n"
     ]
    }
   ],
   "source": [
    "print(f\"Mean of training error obtained over 20 regression models = {lr_models.models1.training_error.mean()}\")"
   ]
  },
  {
   "cell_type": "code",
   "execution_count": 24,
   "metadata": {
    "scrolled": true
   },
   "outputs": [
    {
     "name": "stdout",
     "output_type": "stream",
     "text": [
      "Variance of training error obtained over 20 regression models = 2.3592510523138785e+18\n"
     ]
    }
   ],
   "source": [
    "print(f\"Variance of training error obtained over 20 regression models = {lr_models.models1.training_error.var()}\")"
   ]
  },
  {
   "cell_type": "code",
   "execution_count": 25,
   "metadata": {},
   "outputs": [
    {
     "name": "stdout",
     "output_type": "stream",
     "text": [
      "Minimum training error obtained over 20 regression models = 58689130587.04303\n"
     ]
    }
   ],
   "source": [
    "print(f\"Minimum training error obtained over 20 regression models = {lr_models.models1.training_error.min()}\")"
   ]
  },
  {
   "cell_type": "markdown",
   "metadata": {},
   "source": [
    "__Gradient Descent__"
   ]
  },
  {
   "cell_type": "code",
   "execution_count": 26,
   "metadata": {},
   "outputs": [
    {
     "name": "stdout",
     "output_type": "stream",
     "text": [
      "Mean of training error obtained over 20 regression models = 60863489090.34578\n"
     ]
    }
   ],
   "source": [
    "print(f\"Mean of training error obtained over 20 regression models = {lr_models.models2.training_error.mean()}\")"
   ]
  },
  {
   "cell_type": "code",
   "execution_count": 27,
   "metadata": {},
   "outputs": [
    {
     "name": "stdout",
     "output_type": "stream",
     "text": [
      "Variance of training error obtained over 20 regression models = 2.359251052323336e+18\n"
     ]
    }
   ],
   "source": [
    "print(f\"Variance of training error obtained over 20 regression models = {lr_models.models2.training_error.var()}\")"
   ]
  },
  {
   "cell_type": "code",
   "execution_count": 28,
   "metadata": {},
   "outputs": [
    {
     "name": "stdout",
     "output_type": "stream",
     "text": [
      "Minimum training error obtained over 20 regression models = 58689130587.1583\n"
     ]
    }
   ],
   "source": [
    "print(f\"Minimum training error obtained over 20 regression models = {lr_models.models2.training_error.min()}\")"
   ]
  },
  {
   "cell_type": "markdown",
   "metadata": {},
   "source": [
    "__Stochastic Gradient Descent__"
   ]
  },
  {
   "cell_type": "code",
   "execution_count": 29,
   "metadata": {},
   "outputs": [
    {
     "name": "stdout",
     "output_type": "stream",
     "text": [
      "Mean of training error obtained over 20 regression models = 60863507490.357376\n"
     ]
    }
   ],
   "source": [
    "print(f\"Mean of training error obtained over 20 regression models = {lr_models.models3.training_error.mean()}\")"
   ]
  },
  {
   "cell_type": "code",
   "execution_count": 30,
   "metadata": {},
   "outputs": [
    {
     "name": "stdout",
     "output_type": "stream",
     "text": [
      "Variance of training error obtained over 20 regression models = 2.3592502939019807e+18\n"
     ]
    }
   ],
   "source": [
    "print(f\"Variance of training error obtained over 20 regression models = {lr_models.models3.training_error.var()}\")"
   ]
  },
  {
   "cell_type": "code",
   "execution_count": 31,
   "metadata": {},
   "outputs": [
    {
     "name": "stdout",
     "output_type": "stream",
     "text": [
      "Minimum training error obtained over 20 regression models = 58689132776.446106\n"
     ]
    }
   ],
   "source": [
    "print(f\"Minimum training error obtained over 20 regression models = {lr_models.models3.training_error.min()}\")"
   ]
  },
  {
   "cell_type": "markdown",
   "metadata": {},
   "source": [
    "### Mean, Variance and Mean of Testing Error"
   ]
  },
  {
   "cell_type": "markdown",
   "metadata": {},
   "source": [
    "__Normal Equations__"
   ]
  },
  {
   "cell_type": "code",
   "execution_count": 32,
   "metadata": {},
   "outputs": [
    {
     "name": "stdout",
     "output_type": "stream",
     "text": [
      "Mean of testing error obtained over 20 regression models = 25548673963.726776\n"
     ]
    }
   ],
   "source": [
    "print(f\"Mean of testing error obtained over 20 regression models = {lr_models.models1.testing_error.mean()}\")"
   ]
  },
  {
   "cell_type": "code",
   "execution_count": 33,
   "metadata": {},
   "outputs": [
    {
     "name": "stdout",
     "output_type": "stream",
     "text": [
      "Variance of training error obtained over 20 regression models = 2.2762131308133821e+18\n"
     ]
    }
   ],
   "source": [
    "print(f\"Variance of training error obtained over 20 regression models = {lr_models.models1.testing_error.var()}\")"
   ]
  },
  {
   "cell_type": "code",
   "execution_count": 34,
   "metadata": {},
   "outputs": [
    {
     "name": "stdout",
     "output_type": "stream",
     "text": [
      "Minimum testing error obtained over 20 regression models = 22987187804.050194\n"
     ]
    }
   ],
   "source": [
    "print(f\"Minimum testing error obtained over 20 regression models = {lr_models.models1.testing_error.min()}\")"
   ]
  },
  {
   "cell_type": "markdown",
   "metadata": {},
   "source": [
    "__Gradient Descent__"
   ]
  },
  {
   "cell_type": "code",
   "execution_count": 35,
   "metadata": {},
   "outputs": [
    {
     "name": "stdout",
     "output_type": "stream",
     "text": [
      "Mean of testing error obtained over 20 regression models = 25548672100.185345\n"
     ]
    }
   ],
   "source": [
    "print(f\"Mean of testing error obtained over 20 regression models = {lr_models.models2.testing_error.mean()}\")"
   ]
  },
  {
   "cell_type": "code",
   "execution_count": 36,
   "metadata": {},
   "outputs": [
    {
     "name": "stdout",
     "output_type": "stream",
     "text": [
      "Variance of testing error obtained over 20 regression models = 2.2762222241018094e+18\n"
     ]
    }
   ],
   "source": [
    "print(f\"Variance of testing error obtained over 20 regression models = {lr_models.models2.testing_error.var()}\")"
   ]
  },
  {
   "cell_type": "code",
   "execution_count": 37,
   "metadata": {},
   "outputs": [
    {
     "name": "stdout",
     "output_type": "stream",
     "text": [
      "Minimum testing error obtained over 20 regression models = 22987179664.889412\n"
     ]
    }
   ],
   "source": [
    "print(f\"Minimum testing error obtained over 20 regression models = {lr_models.models2.testing_error.min()}\")"
   ]
  },
  {
   "cell_type": "markdown",
   "metadata": {},
   "source": [
    "__Stochastic Gradient Descent__"
   ]
  },
  {
   "cell_type": "code",
   "execution_count": 38,
   "metadata": {},
   "outputs": [
    {
     "name": "stdout",
     "output_type": "stream",
     "text": [
      "Mean of testing error obtained over 20 regression models = 25548244755.53107\n"
     ]
    }
   ],
   "source": [
    "print(f\"Mean of testing error obtained over 20 regression models = {lr_models.models3.testing_error.mean()}\")"
   ]
  },
  {
   "cell_type": "code",
   "execution_count": 39,
   "metadata": {},
   "outputs": [
    {
     "name": "stdout",
     "output_type": "stream",
     "text": [
      "Variance of training error obtained over 20 regression models = 2.279184996206161e+18\n"
     ]
    }
   ],
   "source": [
    "print(f\"Variance of training error obtained over 20 regression models = {lr_models.models3.testing_error.var()}\")"
   ]
  },
  {
   "cell_type": "code",
   "execution_count": 40,
   "metadata": {},
   "outputs": [
    {
     "name": "stdout",
     "output_type": "stream",
     "text": [
      "Minimum testing error obtained over 20 regression models = 22982193889.584408\n"
     ]
    }
   ],
   "source": [
    "print(f\"Minimum testing error obtained over 20 regression models = {lr_models.models3.testing_error.min()}\")"
   ]
  },
  {
   "cell_type": "markdown",
   "metadata": {},
   "source": [
    "### Plot the Convergence: Error vs Epochs"
   ]
  },
  {
   "cell_type": "markdown",
   "metadata": {},
   "source": [
    "__Plot of $E(\\omega)$ against the number of iterations of Gradient Descent__"
   ]
  },
  {
   "cell_type": "code",
   "execution_count": 41,
   "metadata": {},
   "outputs": [],
   "source": [
    "errorsGD = np.array(lr_models.errors2, dtype=object)"
   ]
  },
  {
   "cell_type": "code",
   "execution_count": 42,
   "metadata": {},
   "outputs": [
    {
     "data": {
      "image/png": "[encoded data removed]",
      "text/plain": [
       "<Figure size 432x288 with 1 Axes>"
      ]
     },
     "metadata": {},
     "output_type": "display_data"
    }
   ],
   "source": [
    "for error in errorsGD:\n",
    "    plt.plot(error)\n",
    "    plt.xlabel(\"Iterations\")\n",
    "    plt.ylabel(\"$E(\\omega)$\")\n",
    "    plt.title(\"Values of the Error Function over Iterations of Gradient Descent\")\n",
    "plt.savefig(\"GD_error_epoch.jpeg\");"
   ]
  },
  {
   "cell_type": "markdown",
   "metadata": {},
   "source": [
    "__Plot of $E(\\omega)$ against the number of iterations of Stochastic Gradient Descent__"
   ]
  },
  {
   "cell_type": "code",
   "execution_count": 43,
   "metadata": {},
   "outputs": [],
   "source": [
    "errorsSGD = np.array(lr_models.errors3, dtype=object)"
   ]
  },
  {
   "cell_type": "code",
   "execution_count": 44,
   "metadata": {},
   "outputs": [
    {
     "data": {
      "image/png": "[encoded data removed]",
      "text/plain": [
       "<Figure size 432x288 with 1 Axes>"
      ]
     },
     "metadata": {},
     "output_type": "display_data"
    }
   ],
   "source": [
    "for error in errorsSGD:\n",
    "    plt.plot(error)\n",
    "    plt.xlabel(\"Iterations\")\n",
    "    plt.ylabel(\"$E(\\omega)$\")\n",
    "    plt.title(\"Values of the Error Function over Iterations of Stochastic Gradient Descent\");\n",
    "plt.savefig(\"SGD_error_epoch.jpeg\")"
   ]
  }
 ],
 "metadata": {
  "kernelspec": {
   "display_name": "Python 3",
   "language": "python",
   "name": "python3"
  },
  "language_info": {
   "codemirror_mode": {
    "name": "ipython",
    "version": 3
   },
   "file_extension": ".py",
   "mimetype": "text/x-python",
   "name": "python",
   "nbconvert_exporter": "python",
   "pygments_lexer": "ipython3",
   "version": "3.8.6"
  }
 },
 "nbformat": 4,
 "nbformat_minor": 4
}
