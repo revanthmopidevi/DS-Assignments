{
 "cells": [
  {
   "cell_type": "code",
   "execution_count": 104,
   "metadata": {},
   "outputs": [],
   "source": [
    "import numpy as np\n",
    "import pandas as pd\n",
    "import matplotlib.pyplot as plt"
   ]
  },
  {
   "cell_type": "markdown",
   "metadata": {},
   "source": [
    "-------------------------------------------------------------------------------------------------------------------------------"
   ]
  },
  {
   "cell_type": "markdown",
   "metadata": {},
   "source": [
    "## Inspect Data"
   ]
  },
  {
   "cell_type": "code",
   "execution_count": 105,
   "metadata": {},
   "outputs": [
    {
     "data": {
      "text/html": [
       "<div>\n",
       "<style scoped>\n",
       "    .dataframe tbody tr th:only-of-type {\n",
       "        vertical-align: middle;\n",
       "    }\n",
       "\n",
       "    .dataframe tbody tr th {\n",
       "        vertical-align: top;\n",
       "    }\n",
       "\n",
       "    .dataframe thead th {\n",
       "        text-align: right;\n",
       "    }\n",
       "</style>\n",
       "<table border=\"1\" class=\"dataframe\">\n",
       "  <thead>\n",
       "    <tr style=\"text-align: right;\">\n",
       "      <th></th>\n",
       "      <th>age</th>\n",
       "      <th>bmi</th>\n",
       "      <th>children</th>\n",
       "      <th>charges</th>\n",
       "    </tr>\n",
       "  </thead>\n",
       "  <tbody>\n",
       "    <tr>\n",
       "      <th>0</th>\n",
       "      <td>19</td>\n",
       "      <td>27.9</td>\n",
       "      <td>0</td>\n",
       "      <td>16884.924</td>\n",
       "    </tr>\n",
       "  </tbody>\n",
       "</table>\n",
       "</div>"
      ],
      "text/plain": [
       "   age   bmi  children    charges\n",
       "0   19  27.9         0  16884.924"
      ]
     },
     "execution_count": 105,
     "metadata": {},
     "output_type": "execute_result"
    }
   ],
   "source": [
    "data = pd.read_csv(\"insurance.txt\")\n",
    "data.head(1)"
   ]
  },
  {
   "cell_type": "code",
   "execution_count": 106,
   "metadata": {},
   "outputs": [
    {
     "name": "stdout",
     "output_type": "stream",
     "text": [
      "<class 'pandas.core.frame.DataFrame'>\n",
      "RangeIndex: 1338 entries, 0 to 1337\n",
      "Data columns (total 4 columns):\n",
      " #   Column    Non-Null Count  Dtype  \n",
      "---  ------    --------------  -----  \n",
      " 0   age       1338 non-null   int64  \n",
      " 1   bmi       1338 non-null   float64\n",
      " 2   children  1338 non-null   int64  \n",
      " 3   charges   1338 non-null   float64\n",
      "dtypes: float64(2), int64(2)\n",
      "memory usage: 41.9 KB\n"
     ]
    }
   ],
   "source": [
    "data.info()"
   ]
  },
  {
   "cell_type": "code",
   "execution_count": 107,
   "metadata": {},
   "outputs": [
    {
     "data": {
      "text/html": [
       "<div>\n",
       "<style scoped>\n",
       "    .dataframe tbody tr th:only-of-type {\n",
       "        vertical-align: middle;\n",
       "    }\n",
       "\n",
       "    .dataframe tbody tr th {\n",
       "        vertical-align: top;\n",
       "    }\n",
       "\n",
       "    .dataframe thead th {\n",
       "        text-align: right;\n",
       "    }\n",
       "</style>\n",
       "<table border=\"1\" class=\"dataframe\">\n",
       "  <thead>\n",
       "    <tr style=\"text-align: right;\">\n",
       "      <th></th>\n",
       "      <th>age</th>\n",
       "      <th>bmi</th>\n",
       "      <th>children</th>\n",
       "      <th>charges</th>\n",
       "    </tr>\n",
       "  </thead>\n",
       "  <tbody>\n",
       "    <tr>\n",
       "      <th>count</th>\n",
       "      <td>1338.000000</td>\n",
       "      <td>1338.000000</td>\n",
       "      <td>1338.000000</td>\n",
       "      <td>1338.000000</td>\n",
       "    </tr>\n",
       "    <tr>\n",
       "      <th>mean</th>\n",
       "      <td>39.207025</td>\n",
       "      <td>30.663397</td>\n",
       "      <td>1.094918</td>\n",
       "      <td>13270.422265</td>\n",
       "    </tr>\n",
       "    <tr>\n",
       "      <th>std</th>\n",
       "      <td>14.049960</td>\n",
       "      <td>6.098187</td>\n",
       "      <td>1.205493</td>\n",
       "      <td>12110.011237</td>\n",
       "    </tr>\n",
       "    <tr>\n",
       "      <th>min</th>\n",
       "      <td>18.000000</td>\n",
       "      <td>15.960000</td>\n",
       "      <td>0.000000</td>\n",
       "      <td>1121.873900</td>\n",
       "    </tr>\n",
       "    <tr>\n",
       "      <th>25%</th>\n",
       "      <td>27.000000</td>\n",
       "      <td>26.296250</td>\n",
       "      <td>0.000000</td>\n",
       "      <td>4740.287150</td>\n",
       "    </tr>\n",
       "    <tr>\n",
       "      <th>50%</th>\n",
       "      <td>39.000000</td>\n",
       "      <td>30.400000</td>\n",
       "      <td>1.000000</td>\n",
       "      <td>9382.033000</td>\n",
       "    </tr>\n",
       "    <tr>\n",
       "      <th>75%</th>\n",
       "      <td>51.000000</td>\n",
       "      <td>34.693750</td>\n",
       "      <td>2.000000</td>\n",
       "      <td>16639.912515</td>\n",
       "    </tr>\n",
       "    <tr>\n",
       "      <th>max</th>\n",
       "      <td>64.000000</td>\n",
       "      <td>53.130000</td>\n",
       "      <td>5.000000</td>\n",
       "      <td>63770.428010</td>\n",
       "    </tr>\n",
       "  </tbody>\n",
       "</table>\n",
       "</div>"
      ],
      "text/plain": [
       "               age          bmi     children       charges\n",
       "count  1338.000000  1338.000000  1338.000000   1338.000000\n",
       "mean     39.207025    30.663397     1.094918  13270.422265\n",
       "std      14.049960     6.098187     1.205493  12110.011237\n",
       "min      18.000000    15.960000     0.000000   1121.873900\n",
       "25%      27.000000    26.296250     0.000000   4740.287150\n",
       "50%      39.000000    30.400000     1.000000   9382.033000\n",
       "75%      51.000000    34.693750     2.000000  16639.912515\n",
       "max      64.000000    53.130000     5.000000  63770.428010"
      ]
     },
     "execution_count": 107,
     "metadata": {},
     "output_type": "execute_result"
    }
   ],
   "source": [
    "data.describe()"
   ]
  },
  {
   "cell_type": "markdown",
   "metadata": {},
   "source": [
    "-------------------------------------------------------------------------------------------------------------------------------"
   ]
  },
  {
   "cell_type": "markdown",
   "metadata": {},
   "source": [
    "## Preprocess Data"
   ]
  },
  {
   "cell_type": "code",
   "execution_count": 108,
   "metadata": {},
   "outputs": [],
   "source": [
    "column_names = list(data.columns)\n",
    "standardize = lambda x : (x - x.mean()) / x.std() "
   ]
  },
  {
   "cell_type": "markdown",
   "metadata": {},
   "source": [
    "__Standardize Data__"
   ]
  },
  {
   "cell_type": "code",
   "execution_count": 109,
   "metadata": {},
   "outputs": [],
   "source": [
    "for column in column_names:\n",
    "    data[column] = standardize(data[column])"
   ]
  },
  {
   "cell_type": "code",
   "execution_count": 110,
   "metadata": {},
   "outputs": [
    {
     "data": {
      "text/plain": [
       "age        -1.246304e-16\n",
       "bmi        -1.810543e-16\n",
       "children   -3.116590e-16\n",
       "charges    -7.218939e-17\n",
       "dtype: float64"
      ]
     },
     "execution_count": 110,
     "metadata": {},
     "output_type": "execute_result"
    }
   ],
   "source": [
    "data.mean()"
   ]
  },
  {
   "cell_type": "markdown",
   "metadata": {},
   "source": [
    "Although standardised mean should be equal to 0, in reality they are infinitesimally close to zero. Double precision floats have 53 bits or 16 digits of precision, so this is expected behavior."
   ]
  },
  {
   "cell_type": "code",
   "execution_count": 111,
   "metadata": {},
   "outputs": [
    {
     "data": {
      "text/plain": [
       "age         1.0\n",
       "bmi         1.0\n",
       "children    1.0\n",
       "charges     1.0\n",
       "dtype: float64"
      ]
     },
     "execution_count": 111,
     "metadata": {},
     "output_type": "execute_result"
    }
   ],
   "source": [
    "data.std()"
   ]
  },
  {
   "cell_type": "markdown",
   "metadata": {},
   "source": [
    "__Shuffle and Split Data__"
   ]
  },
  {
   "cell_type": "code",
   "execution_count": 112,
   "metadata": {},
   "outputs": [],
   "source": [
    "def shuffle_split(data):\n",
    "    data = data.sample(frac = 1)\n",
    "    train = data[:int(0.7 * len(data))]\n",
    "    test = data[int(0.7 * len(data)):]\n",
    "    return train, test"
   ]
  },
  {
   "cell_type": "code",
   "execution_count": 113,
   "metadata": {},
   "outputs": [],
   "source": [
    "train, test = shuffle_split(data)\n",
    "x1, x2, x3, y = train[\"age\"], train[\"bmi\"], train[\"children\"], train[\"charges\"]"
   ]
  },
  {
   "cell_type": "markdown",
   "metadata": {},
   "source": [
    "## Visualize Data"
   ]
  },
  {
   "cell_type": "code",
   "execution_count": 114,
   "metadata": {},
   "outputs": [
    {
     "data": {
      "image/png": "[encoded data removed]",
      "text/plain": [
       "<Figure size 432x288 with 1 Axes>"
      ]
     },
     "metadata": {
      "needs_background": "light"
     },
     "output_type": "display_data"
    }
   ],
   "source": [
    "plt.scatter(x1, y)\n",
    "plt.xlabel(\"age\")\n",
    "plt.ylabel(\"charges\");"
   ]
  },
  {
   "cell_type": "code",
   "execution_count": 115,
   "metadata": {},
   "outputs": [
    {
     "data": {
      "image/png": "[encoded data removed]",
      "text/plain": [
       "<Figure size 432x288 with 1 Axes>"
      ]
     },
     "metadata": {
      "needs_background": "light"
     },
     "output_type": "display_data"
    }
   ],
   "source": [
    "plt.scatter(x2, y)\n",
    "plt.xlabel(\"BMI\")\n",
    "plt.ylabel(\"charges\");"
   ]
  },
  {
   "cell_type": "code",
   "execution_count": 116,
   "metadata": {},
   "outputs": [
    {
     "data": {
      "image/png": "[encoded data removed]",
      "text/plain": [
       "<Figure size 432x288 with 1 Axes>"
      ]
     },
     "metadata": {
      "needs_background": "light"
     },
     "output_type": "display_data"
    }
   ],
   "source": [
    "plt.scatter(x3, y)\n",
    "plt.xlabel(\"children\")\n",
    "plt.ylabel(\"charges\");"
   ]
  },
  {
   "cell_type": "markdown",
   "metadata": {},
   "source": [
    "## Build Regression Models"
   ]
  },
  {
   "cell_type": "markdown",
   "metadata": {},
   "source": [
    "$y = w_{0} + w_{1}x_{1} + w_{2}x_{2} + w_{3}x_{3}$"
   ]
  },
  {
   "cell_type": "markdown",
   "metadata": {},
   "source": [
    "$x_{1}, x_{2}, x_{3}$ represent the age, bmi and number of children respectively. $ w_{1},w_{2}, w_{3}$ are weights associated with $x_{1}, x_{2}, x_{3}$."
   ]
  },
  {
   "cell_type": "markdown",
   "metadata": {},
   "source": [
    "$$X = \n",
    "\\begin{bmatrix} \n",
    "1 & x_{11} & x_{12} & x_{13}\\\\\n",
    "1 & x_{21} & x_{22} & x_{23}\\\\\n",
    ". & . & . & . \\\\\n",
    ". & . & . & . \\\\\n",
    "1 & x_{m1} & x_{m2} & x_{m3}\\\\\n",
    "\\end{bmatrix}\n",
    "\\quad\n",
    "$$\n",
    "$$ $$\n",
    "$$Y = \n",
    "\\begin{bmatrix} \n",
    "y_{1}\\\\\n",
    "y_{2}\\\\\n",
    ".\\\\\n",
    ".\\\\\n",
    "y_{m}\\\\\n",
    "\\end{bmatrix}\n",
    "\\quad\n",
    "$$ where $m$ = size of training data\n",
    "$$ $$\n",
    "$$ω = \n",
    "\\begin{bmatrix} \n",
    "ω_{0}\\\\\n",
    "ω_{1}\\\\\n",
    "ω_{2}\\\\\n",
    "ω_{3}\\\\\n",
    "\\end{bmatrix}\n",
    "\\quad\n",
    "$$\n",
    "$$ $$\n",
    "$$b = X^{T} . Y$$"
   ]
  },
  {
   "cell_type": "markdown",
   "metadata": {},
   "source": [
    "$$ ω = (X^{T}.X)^{-1}x^{T}.Y = (X^{T}.X)^{-1}.b$$"
   ]
  },
  {
   "cell_type": "code",
   "execution_count": 153,
   "metadata": {},
   "outputs": [],
   "source": [
    "class Model:\n",
    "    def __init__(self, data):\n",
    "        self.data = data\n",
    "        self.models = pd.DataFrame(columns = [\"w0\", \"w1\", \"w2\", \"w3\", \"testing_error\", \"training_error\"])\n",
    "        self.model = np.zeros((4, 1))\n",
    "        self.min_error = float(\"inf\")\n",
    "    \n",
    "    def __shuffle(self):\n",
    "        self.data = self.data.sample(frac = 1)\n",
    "    \n",
    "    def __split(self):\n",
    "        train = self.data[:int(0.7 * len(data))]\n",
    "        test = self.data[int(0.7 * len(data)):]\n",
    "        return train, test\n",
    "\n",
    "    def __matrices(self, train):\n",
    "        x1, x2, x3, y = train[\"age\"], train[\"bmi\"], train[\"children\"], train[\"charges\"]\n",
    "        x1 = np.array(x1)\n",
    "        x2 = np.array(x2)\n",
    "        x3 = np.array(x3)\n",
    "        Y = np.array(y)\n",
    "        n = len(Y)\n",
    "        x0 = np.ones((n,1))\n",
    "        x1 = np.reshape(x1, (n, 1))\n",
    "        x2 = np.reshape(x2, (n, 1))\n",
    "        x3 = np.reshape(x3, (n, 1))\n",
    "        X = np.append(x0, x1, axis=1)\n",
    "        X = np.append(X, x2, axis=1)\n",
    "        X = np.append(X, x3, axis=1)\n",
    "        return X, Y\n",
    "    \n",
    "    def __solve(self, X, Y):\n",
    "        XT = np.transpose(X)\n",
    "        A = XT.dot(X)\n",
    "        A_inv = np.linalg.inv(A)\n",
    "        b = XT.dot(Y)\n",
    "        w = A_inv.dot(b)\n",
    "        return w\n",
    "    \n",
    "    def __error(self, X, Y, w):\n",
    "        error = 0\n",
    "        for i in range(len(X)):\n",
    "            error += (X[i].dot(w) - Y[i])**2\n",
    "        error /= 2 * len(Y)\n",
    "        return error\n",
    "    \n",
    "    def __testModel(self, test, w):\n",
    "        Xt, Yt = self.__matrices(test)\n",
    "        testing_error = self.__error(Xt, Yt, w)\n",
    "        return testing_error\n",
    "    \n",
    "    def buildModels(self, number = 20):\n",
    "        for i in range(number):\n",
    "            self.__shuffle()\n",
    "            train, test = self.__split()\n",
    "            X, Y = self.__matrices(train)\n",
    "            w = self.__solve(X, Y)\n",
    "            training_error = self.__error(X, Y, w)\n",
    "            testing_error = self.__testModel(test, w)\n",
    "            model = list(w)\n",
    "            model.append(testing_error)\n",
    "            model.append(training_error)\n",
    "            model = pd.Series(model, index = self.models.columns)\n",
    "            self.models = self.models.append(model, ignore_index=True)\n",
    "            if self.min_error > testing_error:\n",
    "                self.min_error = testing_error\n",
    "                self.model = w"
   ]
  },
  {
   "cell_type": "code",
   "execution_count": 159,
   "metadata": {},
   "outputs": [
    {
     "data": {
      "text/html": [
       "<div>\n",
       "<style scoped>\n",
       "    .dataframe tbody tr th:only-of-type {\n",
       "        vertical-align: middle;\n",
       "    }\n",
       "\n",
       "    .dataframe tbody tr th {\n",
       "        vertical-align: top;\n",
       "    }\n",
       "\n",
       "    .dataframe thead th {\n",
       "        text-align: right;\n",
       "    }\n",
       "</style>\n",
       "<table border=\"1\" class=\"dataframe\">\n",
       "  <thead>\n",
       "    <tr style=\"text-align: right;\">\n",
       "      <th></th>\n",
       "      <th>w0</th>\n",
       "      <th>w1</th>\n",
       "      <th>w2</th>\n",
       "      <th>w3</th>\n",
       "      <th>testing_error</th>\n",
       "      <th>training_error</th>\n",
       "    </tr>\n",
       "  </thead>\n",
       "  <tbody>\n",
       "    <tr>\n",
       "      <th>0</th>\n",
       "      <td>-0.008596</td>\n",
       "      <td>0.268240</td>\n",
       "      <td>0.175542</td>\n",
       "      <td>0.048271</td>\n",
       "      <td>0.419129</td>\n",
       "      <td>0.448613</td>\n",
       "    </tr>\n",
       "    <tr>\n",
       "      <th>1</th>\n",
       "      <td>-0.020551</td>\n",
       "      <td>0.303936</td>\n",
       "      <td>0.117790</td>\n",
       "      <td>0.053750</td>\n",
       "      <td>0.489413</td>\n",
       "      <td>0.420552</td>\n",
       "    </tr>\n",
       "    <tr>\n",
       "      <th>2</th>\n",
       "      <td>0.001579</td>\n",
       "      <td>0.284138</td>\n",
       "      <td>0.178974</td>\n",
       "      <td>0.069630</td>\n",
       "      <td>0.440887</td>\n",
       "      <td>0.439395</td>\n",
       "    </tr>\n",
       "    <tr>\n",
       "      <th>3</th>\n",
       "      <td>-0.009042</td>\n",
       "      <td>0.300213</td>\n",
       "      <td>0.126653</td>\n",
       "      <td>0.043230</td>\n",
       "      <td>0.473768</td>\n",
       "      <td>0.426469</td>\n",
       "    </tr>\n",
       "    <tr>\n",
       "      <th>4</th>\n",
       "      <td>-0.003058</td>\n",
       "      <td>0.312699</td>\n",
       "      <td>0.146619</td>\n",
       "      <td>0.055796</td>\n",
       "      <td>0.454199</td>\n",
       "      <td>0.434405</td>\n",
       "    </tr>\n",
       "    <tr>\n",
       "      <th>5</th>\n",
       "      <td>0.000195</td>\n",
       "      <td>0.256981</td>\n",
       "      <td>0.158111</td>\n",
       "      <td>0.059612</td>\n",
       "      <td>0.455812</td>\n",
       "      <td>0.433102</td>\n",
       "    </tr>\n",
       "    <tr>\n",
       "      <th>6</th>\n",
       "      <td>-0.036479</td>\n",
       "      <td>0.306883</td>\n",
       "      <td>0.123822</td>\n",
       "      <td>0.052172</td>\n",
       "      <td>0.489847</td>\n",
       "      <td>0.420734</td>\n",
       "    </tr>\n",
       "    <tr>\n",
       "      <th>7</th>\n",
       "      <td>0.023667</td>\n",
       "      <td>0.266370</td>\n",
       "      <td>0.167919</td>\n",
       "      <td>0.066794</td>\n",
       "      <td>0.381687</td>\n",
       "      <td>0.465115</td>\n",
       "    </tr>\n",
       "    <tr>\n",
       "      <th>8</th>\n",
       "      <td>-0.017718</td>\n",
       "      <td>0.286933</td>\n",
       "      <td>0.153425</td>\n",
       "      <td>0.053801</td>\n",
       "      <td>0.460456</td>\n",
       "      <td>0.431068</td>\n",
       "    </tr>\n",
       "    <tr>\n",
       "      <th>9</th>\n",
       "      <td>0.012159</td>\n",
       "      <td>0.270404</td>\n",
       "      <td>0.173188</td>\n",
       "      <td>0.049769</td>\n",
       "      <td>0.429615</td>\n",
       "      <td>0.444104</td>\n",
       "    </tr>\n",
       "    <tr>\n",
       "      <th>10</th>\n",
       "      <td>0.024904</td>\n",
       "      <td>0.267686</td>\n",
       "      <td>0.191646</td>\n",
       "      <td>0.030475</td>\n",
       "      <td>0.401811</td>\n",
       "      <td>0.457174</td>\n",
       "    </tr>\n",
       "    <tr>\n",
       "      <th>11</th>\n",
       "      <td>0.030334</td>\n",
       "      <td>0.270166</td>\n",
       "      <td>0.186857</td>\n",
       "      <td>0.066129</td>\n",
       "      <td>0.374473</td>\n",
       "      <td>0.468662</td>\n",
       "    </tr>\n",
       "    <tr>\n",
       "      <th>12</th>\n",
       "      <td>-0.018148</td>\n",
       "      <td>0.309793</td>\n",
       "      <td>0.128741</td>\n",
       "      <td>0.063234</td>\n",
       "      <td>0.464561</td>\n",
       "      <td>0.430789</td>\n",
       "    </tr>\n",
       "    <tr>\n",
       "      <th>13</th>\n",
       "      <td>-0.015974</td>\n",
       "      <td>0.288766</td>\n",
       "      <td>0.157770</td>\n",
       "      <td>0.048110</td>\n",
       "      <td>0.475971</td>\n",
       "      <td>0.424340</td>\n",
       "    </tr>\n",
       "    <tr>\n",
       "      <th>14</th>\n",
       "      <td>-0.006947</td>\n",
       "      <td>0.289997</td>\n",
       "      <td>0.140123</td>\n",
       "      <td>0.032456</td>\n",
       "      <td>0.462694</td>\n",
       "      <td>0.430647</td>\n",
       "    </tr>\n",
       "    <tr>\n",
       "      <th>15</th>\n",
       "      <td>0.003135</td>\n",
       "      <td>0.289834</td>\n",
       "      <td>0.199610</td>\n",
       "      <td>0.058474</td>\n",
       "      <td>0.441214</td>\n",
       "      <td>0.439865</td>\n",
       "    </tr>\n",
       "    <tr>\n",
       "      <th>16</th>\n",
       "      <td>-0.037901</td>\n",
       "      <td>0.262480</td>\n",
       "      <td>0.153033</td>\n",
       "      <td>0.069695</td>\n",
       "      <td>0.539136</td>\n",
       "      <td>0.398426</td>\n",
       "    </tr>\n",
       "    <tr>\n",
       "      <th>17</th>\n",
       "      <td>-0.009088</td>\n",
       "      <td>0.244857</td>\n",
       "      <td>0.163166</td>\n",
       "      <td>0.075488</td>\n",
       "      <td>0.488047</td>\n",
       "      <td>0.420005</td>\n",
       "    </tr>\n",
       "    <tr>\n",
       "      <th>18</th>\n",
       "      <td>0.017890</td>\n",
       "      <td>0.260846</td>\n",
       "      <td>0.164101</td>\n",
       "      <td>0.054509</td>\n",
       "      <td>0.379220</td>\n",
       "      <td>0.466029</td>\n",
       "    </tr>\n",
       "    <tr>\n",
       "      <th>19</th>\n",
       "      <td>-0.021181</td>\n",
       "      <td>0.290673</td>\n",
       "      <td>0.141972</td>\n",
       "      <td>0.085928</td>\n",
       "      <td>0.513503</td>\n",
       "      <td>0.409461</td>\n",
       "    </tr>\n",
       "  </tbody>\n",
       "</table>\n",
       "</div>"
      ],
      "text/plain": [
       "          w0        w1        w2        w3  testing_error  training_error\n",
       "0  -0.008596  0.268240  0.175542  0.048271       0.419129        0.448613\n",
       "1  -0.020551  0.303936  0.117790  0.053750       0.489413        0.420552\n",
       "2   0.001579  0.284138  0.178974  0.069630       0.440887        0.439395\n",
       "3  -0.009042  0.300213  0.126653  0.043230       0.473768        0.426469\n",
       "4  -0.003058  0.312699  0.146619  0.055796       0.454199        0.434405\n",
       "5   0.000195  0.256981  0.158111  0.059612       0.455812        0.433102\n",
       "6  -0.036479  0.306883  0.123822  0.052172       0.489847        0.420734\n",
       "7   0.023667  0.266370  0.167919  0.066794       0.381687        0.465115\n",
       "8  -0.017718  0.286933  0.153425  0.053801       0.460456        0.431068\n",
       "9   0.012159  0.270404  0.173188  0.049769       0.429615        0.444104\n",
       "10  0.024904  0.267686  0.191646  0.030475       0.401811        0.457174\n",
       "11  0.030334  0.270166  0.186857  0.066129       0.374473        0.468662\n",
       "12 -0.018148  0.309793  0.128741  0.063234       0.464561        0.430789\n",
       "13 -0.015974  0.288766  0.157770  0.048110       0.475971        0.424340\n",
       "14 -0.006947  0.289997  0.140123  0.032456       0.462694        0.430647\n",
       "15  0.003135  0.289834  0.199610  0.058474       0.441214        0.439865\n",
       "16 -0.037901  0.262480  0.153033  0.069695       0.539136        0.398426\n",
       "17 -0.009088  0.244857  0.163166  0.075488       0.488047        0.420005\n",
       "18  0.017890  0.260846  0.164101  0.054509       0.379220        0.466029\n",
       "19 -0.021181  0.290673  0.141972  0.085928       0.513503        0.409461"
      ]
     },
     "execution_count": 159,
     "metadata": {},
     "output_type": "execute_result"
    }
   ],
   "source": [
    "final_model = Model(data)\n",
    "final_model.buildModels()\n",
    "final_model.models"
   ]
  },
  {
   "cell_type": "code",
   "execution_count": 156,
   "metadata": {},
   "outputs": [
    {
     "data": {
      "text/plain": [
       "0.4350534838629222"
      ]
     },
     "execution_count": 156,
     "metadata": {},
     "output_type": "execute_result"
    }
   ],
   "source": [
    "final_model.models.testing_error.mean()"
   ]
  },
  {
   "cell_type": "code",
   "execution_count": 157,
   "metadata": {},
   "outputs": [
    {
     "data": {
      "text/plain": [
       "0.0006722991769891268"
      ]
     },
     "execution_count": 157,
     "metadata": {},
     "output_type": "execute_result"
    }
   ],
   "source": [
    "final_model.models.testing_error.var()"
   ]
  }
 ],
 "metadata": {
  "kernelspec": {
   "display_name": "Python 3",
   "language": "python",
   "name": "python3"
  },
  "language_info": {
   "codemirror_mode": {
    "name": "ipython",
    "version": 3
   },
   "file_extension": ".py",
   "mimetype": "text/x-python",
   "name": "python",
   "nbconvert_exporter": "python",
   "pygments_lexer": "ipython3",
   "version": "3.8.6"
  }
 },
 "nbformat": 4,
 "nbformat_minor": 4
}
