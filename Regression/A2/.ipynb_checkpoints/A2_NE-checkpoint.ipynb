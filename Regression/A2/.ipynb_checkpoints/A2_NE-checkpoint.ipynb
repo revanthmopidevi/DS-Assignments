{
 "cells": [
  {
   "cell_type": "markdown",
   "metadata": {},
   "source": [
    "# Linear Regression by solving Normal Equations"
   ]
  },
  {
   "cell_type": "markdown",
   "metadata": {},
   "source": [
    "## Import Libraries"
   ]
  },
  {
   "cell_type": "code",
   "execution_count": 77,
   "metadata": {},
   "outputs": [],
   "source": [
    "import numpy as np\n",
    "import pandas as pd\n",
    "import matplotlib.pyplot as plt"
   ]
  },
  {
   "cell_type": "markdown",
   "metadata": {},
   "source": [
    "## Load and Inspect Data"
   ]
  },
  {
   "cell_type": "code",
   "execution_count": 78,
   "metadata": {},
   "outputs": [
    {
     "data": {
      "text/html": [
       "<div>\n",
       "<style scoped>\n",
       "    .dataframe tbody tr th:only-of-type {\n",
       "        vertical-align: middle;\n",
       "    }\n",
       "\n",
       "    .dataframe tbody tr th {\n",
       "        vertical-align: top;\n",
       "    }\n",
       "\n",
       "    .dataframe thead th {\n",
       "        text-align: right;\n",
       "    }\n",
       "</style>\n",
       "<table border=\"1\" class=\"dataframe\">\n",
       "  <thead>\n",
       "    <tr style=\"text-align: right;\">\n",
       "      <th></th>\n",
       "      <th>age</th>\n",
       "      <th>bmi</th>\n",
       "      <th>children</th>\n",
       "      <th>charges</th>\n",
       "    </tr>\n",
       "  </thead>\n",
       "  <tbody>\n",
       "    <tr>\n",
       "      <th>0</th>\n",
       "      <td>19</td>\n",
       "      <td>27.9</td>\n",
       "      <td>0</td>\n",
       "      <td>16884.924</td>\n",
       "    </tr>\n",
       "  </tbody>\n",
       "</table>\n",
       "</div>"
      ],
      "text/plain": [
       "   age   bmi  children    charges\n",
       "0   19  27.9         0  16884.924"
      ]
     },
     "execution_count": 78,
     "metadata": {},
     "output_type": "execute_result"
    }
   ],
   "source": [
    "data = pd.read_csv(\"insurance.txt\")\n",
    "data.head(1)"
   ]
  },
  {
   "cell_type": "code",
   "execution_count": 79,
   "metadata": {},
   "outputs": [
    {
     "name": "stdout",
     "output_type": "stream",
     "text": [
      "<class 'pandas.core.frame.DataFrame'>\n",
      "RangeIndex: 1338 entries, 0 to 1337\n",
      "Data columns (total 4 columns):\n",
      " #   Column    Non-Null Count  Dtype  \n",
      "---  ------    --------------  -----  \n",
      " 0   age       1338 non-null   int64  \n",
      " 1   bmi       1338 non-null   float64\n",
      " 2   children  1338 non-null   int64  \n",
      " 3   charges   1338 non-null   float64\n",
      "dtypes: float64(2), int64(2)\n",
      "memory usage: 41.9 KB\n"
     ]
    }
   ],
   "source": [
    "data.info()"
   ]
  },
  {
   "cell_type": "code",
   "execution_count": 80,
   "metadata": {},
   "outputs": [
    {
     "data": {
      "text/html": [
       "<div>\n",
       "<style scoped>\n",
       "    .dataframe tbody tr th:only-of-type {\n",
       "        vertical-align: middle;\n",
       "    }\n",
       "\n",
       "    .dataframe tbody tr th {\n",
       "        vertical-align: top;\n",
       "    }\n",
       "\n",
       "    .dataframe thead th {\n",
       "        text-align: right;\n",
       "    }\n",
       "</style>\n",
       "<table border=\"1\" class=\"dataframe\">\n",
       "  <thead>\n",
       "    <tr style=\"text-align: right;\">\n",
       "      <th></th>\n",
       "      <th>age</th>\n",
       "      <th>bmi</th>\n",
       "      <th>children</th>\n",
       "      <th>charges</th>\n",
       "    </tr>\n",
       "  </thead>\n",
       "  <tbody>\n",
       "    <tr>\n",
       "      <th>count</th>\n",
       "      <td>1338.000000</td>\n",
       "      <td>1338.000000</td>\n",
       "      <td>1338.000000</td>\n",
       "      <td>1338.000000</td>\n",
       "    </tr>\n",
       "    <tr>\n",
       "      <th>mean</th>\n",
       "      <td>39.207025</td>\n",
       "      <td>30.663397</td>\n",
       "      <td>1.094918</td>\n",
       "      <td>13270.422265</td>\n",
       "    </tr>\n",
       "    <tr>\n",
       "      <th>std</th>\n",
       "      <td>14.049960</td>\n",
       "      <td>6.098187</td>\n",
       "      <td>1.205493</td>\n",
       "      <td>12110.011237</td>\n",
       "    </tr>\n",
       "    <tr>\n",
       "      <th>min</th>\n",
       "      <td>18.000000</td>\n",
       "      <td>15.960000</td>\n",
       "      <td>0.000000</td>\n",
       "      <td>1121.873900</td>\n",
       "    </tr>\n",
       "    <tr>\n",
       "      <th>25%</th>\n",
       "      <td>27.000000</td>\n",
       "      <td>26.296250</td>\n",
       "      <td>0.000000</td>\n",
       "      <td>4740.287150</td>\n",
       "    </tr>\n",
       "    <tr>\n",
       "      <th>50%</th>\n",
       "      <td>39.000000</td>\n",
       "      <td>30.400000</td>\n",
       "      <td>1.000000</td>\n",
       "      <td>9382.033000</td>\n",
       "    </tr>\n",
       "    <tr>\n",
       "      <th>75%</th>\n",
       "      <td>51.000000</td>\n",
       "      <td>34.693750</td>\n",
       "      <td>2.000000</td>\n",
       "      <td>16639.912515</td>\n",
       "    </tr>\n",
       "    <tr>\n",
       "      <th>max</th>\n",
       "      <td>64.000000</td>\n",
       "      <td>53.130000</td>\n",
       "      <td>5.000000</td>\n",
       "      <td>63770.428010</td>\n",
       "    </tr>\n",
       "  </tbody>\n",
       "</table>\n",
       "</div>"
      ],
      "text/plain": [
       "               age          bmi     children       charges\n",
       "count  1338.000000  1338.000000  1338.000000   1338.000000\n",
       "mean     39.207025    30.663397     1.094918  13270.422265\n",
       "std      14.049960     6.098187     1.205493  12110.011237\n",
       "min      18.000000    15.960000     0.000000   1121.873900\n",
       "25%      27.000000    26.296250     0.000000   4740.287150\n",
       "50%      39.000000    30.400000     1.000000   9382.033000\n",
       "75%      51.000000    34.693750     2.000000  16639.912515\n",
       "max      64.000000    53.130000     5.000000  63770.428010"
      ]
     },
     "execution_count": 80,
     "metadata": {},
     "output_type": "execute_result"
    }
   ],
   "source": [
    "data.describe()"
   ]
  },
  {
   "cell_type": "markdown",
   "metadata": {},
   "source": [
    "## Preprocess Data"
   ]
  },
  {
   "cell_type": "markdown",
   "metadata": {},
   "source": [
    "__The purpose of the following preprocessing is to demonstrate that the employed method is functioning correctly. However, while building regression models, the training and testing datasets are standardised separately to prevent data leakage.__"
   ]
  },
  {
   "cell_type": "code",
   "execution_count": 81,
   "metadata": {},
   "outputs": [],
   "source": [
    "column_names = list(data.columns)\n",
    "standardize = lambda x : (x - x.mean()) / x.std() "
   ]
  },
  {
   "cell_type": "markdown",
   "metadata": {},
   "source": [
    "__Standardize Data__"
   ]
  },
  {
   "cell_type": "code",
   "execution_count": 82,
   "metadata": {},
   "outputs": [],
   "source": [
    "for column in column_names:\n",
    "    data[column] = standardize(data[column])"
   ]
  },
  {
   "cell_type": "code",
   "execution_count": 83,
   "metadata": {},
   "outputs": [
    {
     "data": {
      "text/plain": [
       "age        -1.246304e-16\n",
       "bmi        -1.810543e-16\n",
       "children   -3.116590e-16\n",
       "charges    -7.218939e-17\n",
       "dtype: float64"
      ]
     },
     "execution_count": 83,
     "metadata": {},
     "output_type": "execute_result"
    }
   ],
   "source": [
    "data.mean()"
   ]
  },
  {
   "cell_type": "markdown",
   "metadata": {},
   "source": [
    "Although standardised mean should be equal to 0, in reality they are infinitesimally close to zero. Double precision floats have 53 bits or 16 digits of precision, so this is expected behavior."
   ]
  },
  {
   "cell_type": "code",
   "execution_count": 84,
   "metadata": {},
   "outputs": [
    {
     "data": {
      "text/plain": [
       "age         1.0\n",
       "bmi         1.0\n",
       "children    1.0\n",
       "charges     1.0\n",
       "dtype: float64"
      ]
     },
     "execution_count": 84,
     "metadata": {},
     "output_type": "execute_result"
    }
   ],
   "source": [
    "data.std()"
   ]
  },
  {
   "cell_type": "code",
   "execution_count": 85,
   "metadata": {},
   "outputs": [],
   "source": [
    "x1, x2, x3, y = data[\"age\"], data[\"bmi\"], data[\"children\"], data[\"charges\"]"
   ]
  },
  {
   "cell_type": "markdown",
   "metadata": {},
   "source": [
    "## Visualize Data"
   ]
  },
  {
   "cell_type": "code",
   "execution_count": 86,
   "metadata": {},
   "outputs": [
    {
     "data": {
      "image/png": "[encoded data removed]",
      "text/plain": [
       "<Figure size 432x288 with 1 Axes>"
      ]
     },
     "metadata": {
      "needs_background": "light"
     },
     "output_type": "display_data"
    }
   ],
   "source": [
    "plt.scatter(x1, y)\n",
    "plt.xlabel(\"Age\")\n",
    "plt.ylabel(\"Charges\");"
   ]
  },
  {
   "cell_type": "code",
   "execution_count": 87,
   "metadata": {},
   "outputs": [
    {
     "data": {
      "image/png": "[encoded data removed]",
      "text/plain": [
       "<Figure size 432x288 with 1 Axes>"
      ]
     },
     "metadata": {
      "needs_background": "light"
     },
     "output_type": "display_data"
    }
   ],
   "source": [
    "plt.scatter(x2, y)\n",
    "plt.xlabel(\"BMI\")\n",
    "plt.ylabel(\"Charges\");"
   ]
  },
  {
   "cell_type": "code",
   "execution_count": 88,
   "metadata": {},
   "outputs": [
    {
     "data": {
      "image/png": "[encoded data removed]",
      "text/plain": [
       "<Figure size 432x288 with 1 Axes>"
      ]
     },
     "metadata": {
      "needs_background": "light"
     },
     "output_type": "display_data"
    }
   ],
   "source": [
    "plt.scatter(x3, y)\n",
    "plt.xlabel(\"Children\")\n",
    "plt.ylabel(\"Charges\");"
   ]
  },
  {
   "cell_type": "markdown",
   "metadata": {},
   "source": [
    "## Build Regression Models"
   ]
  },
  {
   "cell_type": "markdown",
   "metadata": {},
   "source": [
    "$y = w_{0} + w_{1}x_{1} + w_{2}x_{2} + w_{3}x_{3}$"
   ]
  },
  {
   "cell_type": "markdown",
   "metadata": {},
   "source": [
    "$x_{1}, x_{2}, x_{3}$ represent the age, bmi and number of children respectively. $ w_{1},w_{2}, w_{3}$ are weights associated with $x_{1}, x_{2}, x_{3}$."
   ]
  },
  {
   "cell_type": "markdown",
   "metadata": {},
   "source": [
    "$$X = \n",
    "\\begin{bmatrix} \n",
    "1 & x_{11} & x_{12} & x_{13}\\\\\n",
    "1 & x_{21} & x_{22} & x_{23}\\\\\n",
    ". & . & . & . \\\\\n",
    ". & . & . & . \\\\\n",
    "1 & x_{m1} & x_{m2} & x_{m3}\\\\\n",
    "\\end{bmatrix}\n",
    "\\quad\n",
    "$$\n",
    "$$ $$\n",
    "$$Y = \n",
    "\\begin{bmatrix} \n",
    "y_{1}\\\\\n",
    "y_{2}\\\\\n",
    ".\\\\\n",
    ".\\\\\n",
    "y_{m}\\\\\n",
    "\\end{bmatrix}\n",
    "\\quad\n",
    "$$ where $m$ = size of training data\n",
    "$$ $$\n",
    "$$ω = \n",
    "\\begin{bmatrix} \n",
    "ω_{0}\\\\\n",
    "ω_{1}\\\\\n",
    "ω_{2}\\\\\n",
    "ω_{3}\\\\\n",
    "\\end{bmatrix}\n",
    "\\quad\n",
    "$$\n",
    "$$ $$\n",
    "$$b = X^{T} . Y$$"
   ]
  },
  {
   "cell_type": "markdown",
   "metadata": {},
   "source": [
    "$$ ω = (X^{T}.X)^{-1}x^{T}.Y = (X^{T}.X)^{-1}.b$$"
   ]
  },
  {
   "cell_type": "markdown",
   "metadata": {},
   "source": [
    "__Re-importing Unprocessed Data__"
   ]
  },
  {
   "cell_type": "code",
   "execution_count": 89,
   "metadata": {},
   "outputs": [],
   "source": [
    "data = pd.read_csv(\"insurance.txt\")\n",
    "pd.options.mode.chained_assignment = None"
   ]
  },
  {
   "cell_type": "code",
   "execution_count": 141,
   "metadata": {},
   "outputs": [],
   "source": [
    "class LinearRegressionNE:\n",
    "    def __init__(self, data):\n",
    "        self.data = data\n",
    "        self.models = pd.DataFrame(columns = [\"w0\", \"w1\", \"w2\", \"w3\", \"testing_error\", \"training_error\"])\n",
    "        self.model = np.zeros((4, 1))\n",
    "        self.min_error = float(\"inf\")\n",
    "        self.buildModels()\n",
    "    \n",
    "    # shuffles data randomly\n",
    "    def __shuffle(self):\n",
    "        self.data = self.data.sample(frac = 1)\n",
    "    \n",
    "    # splits a data frame in 70:30 ratio\n",
    "    def __split(self):\n",
    "        train = self.data[:int(0.7 * len(data))]\n",
    "        test = self.data[int(0.7 * len(data)):]\n",
    "        return train, test\n",
    "    \n",
    "    # standardizes data\n",
    "    def __standardize(self, data):\n",
    "        column_names = list(data.columns)\n",
    "        standardize = lambda x : (x - x.mean()) / x.std()\n",
    "        for column in column_names:\n",
    "            data[column] = standardize(data[column])\n",
    "        return data\n",
    "    \n",
    "    # computes and returns X and Y matrices\n",
    "    def __matrices(self, train):\n",
    "        x1, x2, x3, y = train[\"age\"], train[\"bmi\"], train[\"children\"], train[\"charges\"]\n",
    "        x1 = np.array(x1)\n",
    "        x2 = np.array(x2)\n",
    "        x3 = np.array(x3)\n",
    "        Y = np.array(y)\n",
    "        n = len(Y)\n",
    "        Y = Y.reshape((n, 1))\n",
    "        x0 = np.ones((n,1))\n",
    "        x1 = np.reshape(x1, (n, 1))\n",
    "        x2 = np.reshape(x2, (n, 1))\n",
    "        x3 = np.reshape(x3, (n, 1))\n",
    "        X = np.append(x0, x1, axis=1)\n",
    "        X = np.append(X, x2, axis=1)\n",
    "        X = np.append(X, x3, axis=1)\n",
    "        return X, Y\n",
    "    \n",
    "    # calculates Mean Square Error\n",
    "    def __error(self, X, Y, w):\n",
    "        error = 0\n",
    "        m = len(Y)\n",
    "        for i in range(len(X)):\n",
    "            error += (X[i].dot(w) - Y[i])**2\n",
    "        error /= 2 * m\n",
    "        return error\n",
    "    \n",
    "    # tests the model against testing data\n",
    "    def __testModel(self, test, w):\n",
    "        Xt, Yt = self.__matrices(test)\n",
    "        testing_error = self.__error(Xt, Yt, w)\n",
    "        return testing_error\n",
    "    \n",
    "    # main function to build models\n",
    "    def buildModels(self, number = 20):\n",
    "        for i in range(number):\n",
    "            # shuffle dataset\n",
    "            self.__shuffle()\n",
    "            # split dataset\n",
    "            train, test = self.__split()\n",
    "            # standardise training and testing data\n",
    "            train = self.__standardize(train)\n",
    "            test = self.__standardize(test)\n",
    "            # obtain X and Y matrices\n",
    "            X, Y = self.__matrices(train)\n",
    "            # obtain the best-fit model weights\n",
    "            w = self.__solve(X, Y)\n",
    "            # calculate training error\n",
    "            training_error = self.__error(X, Y, w)[0]\n",
    "            # calculate testing error\n",
    "            testing_error = self.__testModel(test, w)[0]\n",
    "            # append the model, errors to models dataframe\n",
    "            model = list(w)\n",
    "            model.append(testing_error)\n",
    "            model.append(training_error)\n",
    "            model = pd.Series(model, index = self.models.columns)\n",
    "            # the model with least testing error is accepted as the final model\n",
    "            self.models = self.models.append(model, ignore_index=True)\n",
    "            if self.min_error > testing_error:\n",
    "                self.min_error = testing_error\n",
    "                self.model = w\n",
    "\n",
    "    #_____________________________________________________________________#           \n",
    "    # solves normal equations and returns corresponding regression weights\n",
    "    def __solve(self, X, Y):\n",
    "        XT = np.transpose(X)\n",
    "        A = XT.dot(X)\n",
    "        A_inv = np.linalg.inv(A)\n",
    "        b = XT.dot(Y)\n",
    "        w = A_inv.dot(b)\n",
    "        return w\n",
    "    #_____________________________________________________________________#"
   ]
  },
  {
   "cell_type": "markdown",
   "metadata": {},
   "source": [
    "__20 Linear Regression Models__"
   ]
  },
  {
   "cell_type": "code",
   "execution_count": 142,
   "metadata": {},
   "outputs": [
    {
     "data": {
      "text/html": [
       "<div>\n",
       "<style scoped>\n",
       "    .dataframe tbody tr th:only-of-type {\n",
       "        vertical-align: middle;\n",
       "    }\n",
       "\n",
       "    .dataframe tbody tr th {\n",
       "        vertical-align: top;\n",
       "    }\n",
       "\n",
       "    .dataframe thead th {\n",
       "        text-align: right;\n",
       "    }\n",
       "</style>\n",
       "<table border=\"1\" class=\"dataframe\">\n",
       "  <thead>\n",
       "    <tr style=\"text-align: right;\">\n",
       "      <th></th>\n",
       "      <th>w0</th>\n",
       "      <th>w1</th>\n",
       "      <th>w2</th>\n",
       "      <th>w3</th>\n",
       "      <th>testing_error</th>\n",
       "      <th>training_error</th>\n",
       "    </tr>\n",
       "  </thead>\n",
       "  <tbody>\n",
       "    <tr>\n",
       "      <th>0</th>\n",
       "      <td>[6.343203683066225e-17]</td>\n",
       "      <td>[0.27976559142582097]</td>\n",
       "      <td>[0.17708111298416634]</td>\n",
       "      <td>[0.05672934386028288]</td>\n",
       "      <td>0.445762</td>\n",
       "      <td>0.436452</td>\n",
       "    </tr>\n",
       "    <tr>\n",
       "      <th>1</th>\n",
       "      <td>[-1.7371576821692717e-18]</td>\n",
       "      <td>[0.24765510924211354]</td>\n",
       "      <td>[0.1739784232060041]</td>\n",
       "      <td>[0.044480750603750105]</td>\n",
       "      <td>0.421331</td>\n",
       "      <td>0.447061</td>\n",
       "    </tr>\n",
       "    <tr>\n",
       "      <th>2</th>\n",
       "      <td>[5.425396807127789e-17]</td>\n",
       "      <td>[0.2765997503029296]</td>\n",
       "      <td>[0.15351324645277714]</td>\n",
       "      <td>[0.051884913952220384]</td>\n",
       "      <td>0.427933</td>\n",
       "      <td>0.443017</td>\n",
       "    </tr>\n",
       "    <tr>\n",
       "      <th>3</th>\n",
       "      <td>[8.94028720127154e-18]</td>\n",
       "      <td>[0.28445048696414743]</td>\n",
       "      <td>[0.1708451197105456]</td>\n",
       "      <td>[0.04740900837381033]</td>\n",
       "      <td>0.441230</td>\n",
       "      <td>0.437040</td>\n",
       "    </tr>\n",
       "    <tr>\n",
       "      <th>4</th>\n",
       "      <td>[5.1771510231515725e-17]</td>\n",
       "      <td>[0.3038838575101528]</td>\n",
       "      <td>[0.15404860359232847]</td>\n",
       "      <td>[0.0383282371434479]</td>\n",
       "      <td>0.444017</td>\n",
       "      <td>0.436176</td>\n",
       "    </tr>\n",
       "    <tr>\n",
       "      <th>5</th>\n",
       "      <td>[4.7871788314908976e-17]</td>\n",
       "      <td>[0.3149626029307796]</td>\n",
       "      <td>[0.19087139704204095]</td>\n",
       "      <td>[0.054017299422235196]</td>\n",
       "      <td>0.473869</td>\n",
       "      <td>0.424543</td>\n",
       "    </tr>\n",
       "    <tr>\n",
       "      <th>6</th>\n",
       "      <td>[7.685492881699184e-17]</td>\n",
       "      <td>[0.2586496468499852]</td>\n",
       "      <td>[0.18142946131977117]</td>\n",
       "      <td>[0.04150984425466987]</td>\n",
       "      <td>0.428501</td>\n",
       "      <td>0.443115</td>\n",
       "    </tr>\n",
       "    <tr>\n",
       "      <th>7</th>\n",
       "      <td>[-2.580928368890184e-17]</td>\n",
       "      <td>[0.28318668075166525]</td>\n",
       "      <td>[0.17239280901607484]</td>\n",
       "      <td>[0.03294848933563441]</td>\n",
       "      <td>0.437887</td>\n",
       "      <td>0.439008</td>\n",
       "    </tr>\n",
       "    <tr>\n",
       "      <th>8</th>\n",
       "      <td>[6.071561827465881e-17]</td>\n",
       "      <td>[0.27924667425926974]</td>\n",
       "      <td>[0.19596597232233448]</td>\n",
       "      <td>[0.07723918249568809]</td>\n",
       "      <td>0.457493</td>\n",
       "      <td>0.432283</td>\n",
       "    </tr>\n",
       "    <tr>\n",
       "      <th>9</th>\n",
       "      <td>[2.71570592976048e-18]</td>\n",
       "      <td>[0.2954494411135865]</td>\n",
       "      <td>[0.15424156510560855]</td>\n",
       "      <td>[0.061073089713381816]</td>\n",
       "      <td>0.446112</td>\n",
       "      <td>0.435151</td>\n",
       "    </tr>\n",
       "    <tr>\n",
       "      <th>10</th>\n",
       "      <td>[-4.975169982899286e-18]</td>\n",
       "      <td>[0.28897856690535584]</td>\n",
       "      <td>[0.16406493846822245]</td>\n",
       "      <td>[0.05888044244405074]</td>\n",
       "      <td>0.441986</td>\n",
       "      <td>0.436534</td>\n",
       "    </tr>\n",
       "    <tr>\n",
       "      <th>11</th>\n",
       "      <td>[1.0131949916017274e-17]</td>\n",
       "      <td>[0.2982981562394705]</td>\n",
       "      <td>[0.18841287351163358]</td>\n",
       "      <td>[0.06981823793908618]</td>\n",
       "      <td>0.466548</td>\n",
       "      <td>0.427723</td>\n",
       "    </tr>\n",
       "    <tr>\n",
       "      <th>12</th>\n",
       "      <td>[-6.29133582296253e-17]</td>\n",
       "      <td>[0.30172524474869733]</td>\n",
       "      <td>[0.1546199819262923]</td>\n",
       "      <td>[0.023061844950729927]</td>\n",
       "      <td>0.443649</td>\n",
       "      <td>0.437144</td>\n",
       "    </tr>\n",
       "    <tr>\n",
       "      <th>13</th>\n",
       "      <td>[1.3301969540680066e-17]</td>\n",
       "      <td>[0.2834605446834298]</td>\n",
       "      <td>[0.15886368662496672]</td>\n",
       "      <td>[0.037110639822815164]</td>\n",
       "      <td>0.434151</td>\n",
       "      <td>0.440541</td>\n",
       "    </tr>\n",
       "    <tr>\n",
       "      <th>14</th>\n",
       "      <td>[-6.71194504121307e-17]</td>\n",
       "      <td>[0.310566836817454]</td>\n",
       "      <td>[0.17307481017957876]</td>\n",
       "      <td>[0.009279128309003246]</td>\n",
       "      <td>0.462488</td>\n",
       "      <td>0.429828</td>\n",
       "    </tr>\n",
       "    <tr>\n",
       "      <th>15</th>\n",
       "      <td>[-4.4246925120907555e-17]</td>\n",
       "      <td>[0.2838657163370624]</td>\n",
       "      <td>[0.13791709359173443]</td>\n",
       "      <td>[0.014867891686335523]</td>\n",
       "      <td>0.425224</td>\n",
       "      <td>0.445630</td>\n",
       "    </tr>\n",
       "    <tr>\n",
       "      <th>16</th>\n",
       "      <td>[1.1292642037392656e-17]</td>\n",
       "      <td>[0.28046597880997043]</td>\n",
       "      <td>[0.13699117407302905]</td>\n",
       "      <td>[0.0735322189101888]</td>\n",
       "      <td>0.430826</td>\n",
       "      <td>0.441505</td>\n",
       "    </tr>\n",
       "    <tr>\n",
       "      <th>17</th>\n",
       "      <td>[-8.66765978632083e-17]</td>\n",
       "      <td>[0.2772790412892455]</td>\n",
       "      <td>[0.16157596462750962]</td>\n",
       "      <td>[0.056856742213813864]</td>\n",
       "      <td>0.431116</td>\n",
       "      <td>0.440851</td>\n",
       "    </tr>\n",
       "    <tr>\n",
       "      <th>18</th>\n",
       "      <td>[2.8582731315164824e-17]</td>\n",
       "      <td>[0.2809230124212792]</td>\n",
       "      <td>[0.19583460098830033]</td>\n",
       "      <td>[0.06450880632860599]</td>\n",
       "      <td>0.457347</td>\n",
       "      <td>0.430402</td>\n",
       "    </tr>\n",
       "    <tr>\n",
       "      <th>19</th>\n",
       "      <td>[-4.119175800963029e-17]</td>\n",
       "      <td>[0.27225906585126064]</td>\n",
       "      <td>[0.1643504373340572]</td>\n",
       "      <td>[0.05675514009323257]</td>\n",
       "      <td>0.428251</td>\n",
       "      <td>0.441769</td>\n",
       "    </tr>\n",
       "  </tbody>\n",
       "</table>\n",
       "</div>"
      ],
      "text/plain": [
       "                           w0                     w1                     w2  \\\n",
       "0     [6.343203683066225e-17]  [0.27976559142582097]  [0.17708111298416634]   \n",
       "1   [-1.7371576821692717e-18]  [0.24765510924211354]   [0.1739784232060041]   \n",
       "2     [5.425396807127789e-17]   [0.2765997503029296]  [0.15351324645277714]   \n",
       "3      [8.94028720127154e-18]  [0.28445048696414743]   [0.1708451197105456]   \n",
       "4    [5.1771510231515725e-17]   [0.3038838575101528]  [0.15404860359232847]   \n",
       "5    [4.7871788314908976e-17]   [0.3149626029307796]  [0.19087139704204095]   \n",
       "6     [7.685492881699184e-17]   [0.2586496468499852]  [0.18142946131977117]   \n",
       "7    [-2.580928368890184e-17]  [0.28318668075166525]  [0.17239280901607484]   \n",
       "8     [6.071561827465881e-17]  [0.27924667425926974]  [0.19596597232233448]   \n",
       "9      [2.71570592976048e-18]   [0.2954494411135865]  [0.15424156510560855]   \n",
       "10   [-4.975169982899286e-18]  [0.28897856690535584]  [0.16406493846822245]   \n",
       "11   [1.0131949916017274e-17]   [0.2982981562394705]  [0.18841287351163358]   \n",
       "12    [-6.29133582296253e-17]  [0.30172524474869733]   [0.1546199819262923]   \n",
       "13   [1.3301969540680066e-17]   [0.2834605446834298]  [0.15886368662496672]   \n",
       "14    [-6.71194504121307e-17]    [0.310566836817454]  [0.17307481017957876]   \n",
       "15  [-4.4246925120907555e-17]   [0.2838657163370624]  [0.13791709359173443]   \n",
       "16   [1.1292642037392656e-17]  [0.28046597880997043]  [0.13699117407302905]   \n",
       "17    [-8.66765978632083e-17]   [0.2772790412892455]  [0.16157596462750962]   \n",
       "18   [2.8582731315164824e-17]   [0.2809230124212792]  [0.19583460098830033]   \n",
       "19   [-4.119175800963029e-17]  [0.27225906585126064]   [0.1643504373340572]   \n",
       "\n",
       "                        w3  testing_error  training_error  \n",
       "0    [0.05672934386028288]       0.445762        0.436452  \n",
       "1   [0.044480750603750105]       0.421331        0.447061  \n",
       "2   [0.051884913952220384]       0.427933        0.443017  \n",
       "3    [0.04740900837381033]       0.441230        0.437040  \n",
       "4     [0.0383282371434479]       0.444017        0.436176  \n",
       "5   [0.054017299422235196]       0.473869        0.424543  \n",
       "6    [0.04150984425466987]       0.428501        0.443115  \n",
       "7    [0.03294848933563441]       0.437887        0.439008  \n",
       "8    [0.07723918249568809]       0.457493        0.432283  \n",
       "9   [0.061073089713381816]       0.446112        0.435151  \n",
       "10   [0.05888044244405074]       0.441986        0.436534  \n",
       "11   [0.06981823793908618]       0.466548        0.427723  \n",
       "12  [0.023061844950729927]       0.443649        0.437144  \n",
       "13  [0.037110639822815164]       0.434151        0.440541  \n",
       "14  [0.009279128309003246]       0.462488        0.429828  \n",
       "15  [0.014867891686335523]       0.425224        0.445630  \n",
       "16    [0.0735322189101888]       0.430826        0.441505  \n",
       "17  [0.056856742213813864]       0.431116        0.440851  \n",
       "18   [0.06450880632860599]       0.457347        0.430402  \n",
       "19   [0.05675514009323257]       0.428251        0.441769  "
      ]
     },
     "execution_count": 142,
     "metadata": {},
     "output_type": "execute_result"
    }
   ],
   "source": [
    "final_model = LinearRegressionNE(data)\n",
    "final_model.models"
   ]
  },
  {
   "cell_type": "code",
   "execution_count": 143,
   "metadata": {},
   "outputs": [
    {
     "data": {
      "text/html": [
       "<div>\n",
       "<style scoped>\n",
       "    .dataframe tbody tr th:only-of-type {\n",
       "        vertical-align: middle;\n",
       "    }\n",
       "\n",
       "    .dataframe tbody tr th {\n",
       "        vertical-align: top;\n",
       "    }\n",
       "\n",
       "    .dataframe thead th {\n",
       "        text-align: right;\n",
       "    }\n",
       "</style>\n",
       "<table border=\"1\" class=\"dataframe\">\n",
       "  <thead>\n",
       "    <tr style=\"text-align: right;\">\n",
       "      <th></th>\n",
       "      <th>testing_error</th>\n",
       "      <th>training_error</th>\n",
       "    </tr>\n",
       "  </thead>\n",
       "  <tbody>\n",
       "    <tr>\n",
       "      <th>count</th>\n",
       "      <td>20.000000</td>\n",
       "      <td>20.000000</td>\n",
       "    </tr>\n",
       "    <tr>\n",
       "      <th>mean</th>\n",
       "      <td>0.442286</td>\n",
       "      <td>0.437289</td>\n",
       "    </tr>\n",
       "    <tr>\n",
       "      <th>std</th>\n",
       "      <td>0.014779</td>\n",
       "      <td>0.006005</td>\n",
       "    </tr>\n",
       "    <tr>\n",
       "      <th>min</th>\n",
       "      <td>0.421331</td>\n",
       "      <td>0.424543</td>\n",
       "    </tr>\n",
       "    <tr>\n",
       "      <th>25%</th>\n",
       "      <td>0.430245</td>\n",
       "      <td>0.434434</td>\n",
       "    </tr>\n",
       "    <tr>\n",
       "      <th>50%</th>\n",
       "      <td>0.441608</td>\n",
       "      <td>0.437092</td>\n",
       "    </tr>\n",
       "    <tr>\n",
       "      <th>75%</th>\n",
       "      <td>0.448921</td>\n",
       "      <td>0.441571</td>\n",
       "    </tr>\n",
       "    <tr>\n",
       "      <th>max</th>\n",
       "      <td>0.473869</td>\n",
       "      <td>0.447061</td>\n",
       "    </tr>\n",
       "  </tbody>\n",
       "</table>\n",
       "</div>"
      ],
      "text/plain": [
       "       testing_error  training_error\n",
       "count      20.000000       20.000000\n",
       "mean        0.442286        0.437289\n",
       "std         0.014779        0.006005\n",
       "min         0.421331        0.424543\n",
       "25%         0.430245        0.434434\n",
       "50%         0.441608        0.437092\n",
       "75%         0.448921        0.441571\n",
       "max         0.473869        0.447061"
      ]
     },
     "execution_count": 143,
     "metadata": {},
     "output_type": "execute_result"
    }
   ],
   "source": [
    "final_model.models.describe()"
   ]
  },
  {
   "cell_type": "code",
   "execution_count": 144,
   "metadata": {},
   "outputs": [
    {
     "name": "stdout",
     "output_type": "stream",
     "text": [
      "Mean of testing error obtained over 20 regression models = 0.44228606405570303\n"
     ]
    }
   ],
   "source": [
    "print(f\"Mean of testing error obtained over 20 regression models = {final_model.models.testing_error.mean()}\")"
   ]
  },
  {
   "cell_type": "code",
   "execution_count": 145,
   "metadata": {},
   "outputs": [
    {
     "name": "stdout",
     "output_type": "stream",
     "text": [
      "Variance of testing error obtained over 20 regression models = 0.00021841654666908758\n"
     ]
    }
   ],
   "source": [
    "print(f\"Variance of testing error obtained over 20 regression models = {final_model.models.testing_error.var()}\")"
   ]
  },
  {
   "cell_type": "code",
   "execution_count": 146,
   "metadata": {},
   "outputs": [
    {
     "name": "stdout",
     "output_type": "stream",
     "text": [
      "Minimum testing error obtained over 20 regression models = 0.4213312819571342\n"
     ]
    }
   ],
   "source": [
    "print(f\"Minimum testing error obtained over 20 regression models = {final_model.models.testing_error.min()}\")"
   ]
  },
  {
   "cell_type": "code",
   "execution_count": 147,
   "metadata": {},
   "outputs": [
    {
     "name": "stdout",
     "output_type": "stream",
     "text": [
      "Minimum training error obtained over 20 regression models = 0.4245425343190137\n"
     ]
    }
   ],
   "source": [
    "print(f\"Minimum training error obtained over 20 regression models = {final_model.models.training_error.min()}\")"
   ]
  },
  {
   "cell_type": "markdown",
   "metadata": {},
   "source": [
    "-------------------------------------------------------------------------------------------------------------------------------"
   ]
  },
  {
   "cell_type": "markdown",
   "metadata": {},
   "source": [
    "# Linear Regression by solving Normal Equations"
   ]
  },
  {
   "cell_type": "code",
   "execution_count": 148,
   "metadata": {},
   "outputs": [],
   "source": [
    "data = pd.read_csv(\"insurance.txt\")"
   ]
  },
  {
   "cell_type": "code",
   "execution_count": 236,
   "metadata": {},
   "outputs": [],
   "source": [
    "class LinearRegressionGD:\n",
    "    def __init__(self, data):\n",
    "        self.data = data\n",
    "        self.errors = []\n",
    "        self.models = pd.DataFrame(columns = [\"w0\", \"w1\", \"w2\", \"w3\", \"testing_error\", \"training_error\"])\n",
    "        self.buildModels()\n",
    "    \n",
    "    # shuffles data randomly\n",
    "    def __shuffle(self):\n",
    "        self.data = self.data.sample(frac = 1)\n",
    "    \n",
    "    # splits a data frame in 70:30 ratio\n",
    "    def __split(self):\n",
    "        train = self.data[:int(0.7 * len(data))]\n",
    "        test = self.data[int(0.7 * len(data)):]\n",
    "        return train, test\n",
    "    \n",
    "    # standardizes data\n",
    "    def __standardize(self, data):\n",
    "        column_names = list(data.columns)\n",
    "        standardize = lambda x : (x - x.mean()) / x.std()\n",
    "        for column in column_names:\n",
    "            data[column] = standardize(data[column])\n",
    "        return data\n",
    "    \n",
    "    # computes and returns X and Y matrices\n",
    "    def __matrices(self, train):\n",
    "        x1, x2, x3, y = train[\"age\"], train[\"bmi\"], train[\"children\"], train[\"charges\"]\n",
    "        x1 = np.array(x1)\n",
    "        x2 = np.array(x2)\n",
    "        x3 = np.array(x3)\n",
    "        Y = np.array(y)\n",
    "        n = len(Y)\n",
    "        Y = Y.reshape(n, 1)\n",
    "        x0 = np.ones((n,1))\n",
    "        x1 = np.reshape(x1, (n, 1))\n",
    "        x2 = np.reshape(x2, (n, 1))\n",
    "        x3 = np.reshape(x3, (n, 1))\n",
    "        X = np.append(x0, x1, axis=1)\n",
    "        X = np.append(X, x2, axis=1)\n",
    "        X = np.append(X, x3, axis=1)\n",
    "        return X, Y\n",
    "    \n",
    "    # calculates Mean Square Error\n",
    "    def __error(self, X, Y, w):\n",
    "        error = 0\n",
    "        m = len(Y)\n",
    "        for i in range(len(X)):\n",
    "            error += (X[i].dot(w) - Y[i])**2\n",
    "        error /= 2 * m\n",
    "        return error\n",
    "    \n",
    "    # tests the model against testing data\n",
    "    def __testModel(self, test, w):\n",
    "        Xt, Yt = self.__matrices(test)\n",
    "        testing_error = self.__error(Xt, Yt, w)\n",
    "        return testing_error\n",
    "    \n",
    "    # main function to build models\n",
    "    def buildModels(self, number = 20):\n",
    "        for i in range(number):\n",
    "            # shuffle dataset\n",
    "            self.__shuffle()\n",
    "            # split dataset\n",
    "            train, test = self.__split()\n",
    "            # standardise training and testing data\n",
    "            train = self.__standardize(train)\n",
    "            test = self.__standardize(test)\n",
    "            # obtain X and Y matrices\n",
    "            X, Y = self.__matrices(train)\n",
    "            # obtain the best-fit model weights\n",
    "            w = np.random.rand(4, 1)\n",
    "            w, model_errors = self.__gradientDescent(X, Y, w)\n",
    "            # calculate training error\n",
    "            training_error = self.__error(X, Y, w)[0]\n",
    "            # calculate testing error\n",
    "            testing_error = self.__testModel(test, w)[0]\n",
    "            # append the model, errors to models dataframe\n",
    "            model = list(w)\n",
    "            model.append(testing_error)\n",
    "            model.append(training_error)\n",
    "            model = pd.Series(model, index = self.models.columns)\n",
    "            # the model with least testing error is accepted as the final model\n",
    "            self.models = self.models.append(model, ignore_index=True)\n",
    "            self.errors.append(model_errors)\n",
    "            \n",
    "    def __gradientDescent(self, X, Y, w):\n",
    "        eta = 5e-7\n",
    "        m = len(Y)\n",
    "        errors = []\n",
    "        error, prev_error = float(\"inf\"), 0\n",
    "        while abs(error - prev_error) > 1e-5:\n",
    "            prev_error = error\n",
    "            Y_pred = X.dot(w)\n",
    "            grad = np.dot(X.transpose(), Y_pred- Y)\n",
    "            w -= eta * grad * (1 / m)\n",
    "            error = self.__error(X, Y, w)[0]\n",
    "            errors.append(error)\n",
    "        return w, errors"
   ]
  },
  {
   "cell_type": "code",
   "execution_count": 237,
   "metadata": {},
   "outputs": [
    {
     "data": {
      "text/html": [
       "<div>\n",
       "<style scoped>\n",
       "    .dataframe tbody tr th:only-of-type {\n",
       "        vertical-align: middle;\n",
       "    }\n",
       "\n",
       "    .dataframe tbody tr th {\n",
       "        vertical-align: top;\n",
       "    }\n",
       "\n",
       "    .dataframe thead th {\n",
       "        text-align: right;\n",
       "    }\n",
       "</style>\n",
       "<table border=\"1\" class=\"dataframe\">\n",
       "  <thead>\n",
       "    <tr style=\"text-align: right;\">\n",
       "      <th></th>\n",
       "      <th>w0</th>\n",
       "      <th>w1</th>\n",
       "      <th>w2</th>\n",
       "      <th>w3</th>\n",
       "      <th>testing_error</th>\n",
       "      <th>training_error</th>\n",
       "    </tr>\n",
       "  </thead>\n",
       "  <tbody>\n",
       "    <tr>\n",
       "      <th>0</th>\n",
       "      <td>[0.17983944723532563]</td>\n",
       "      <td>[0.5341923863471393]</td>\n",
       "      <td>[0.97535218235481]</td>\n",
       "      <td>[0.09458433456945269]</td>\n",
       "      <td>0.844040</td>\n",
       "      <td>0.831852</td>\n",
       "    </tr>\n",
       "    <tr>\n",
       "      <th>1</th>\n",
       "      <td>[0.8387539155767627]</td>\n",
       "      <td>[0.6667702018657659]</td>\n",
       "      <td>[0.9968658866205469]</td>\n",
       "      <td>[0.9060267160976535]</td>\n",
       "      <td>1.528669</td>\n",
       "      <td>1.669360</td>\n",
       "    </tr>\n",
       "    <tr>\n",
       "      <th>2</th>\n",
       "      <td>[0.5941441746119209]</td>\n",
       "      <td>[0.716324300584179]</td>\n",
       "      <td>[0.6358831567170804]</td>\n",
       "      <td>[0.5344261462890753]</td>\n",
       "      <td>0.994489</td>\n",
       "      <td>0.958884</td>\n",
       "    </tr>\n",
       "    <tr>\n",
       "      <th>3</th>\n",
       "      <td>[0.9454940437257888]</td>\n",
       "      <td>[0.8472545625875698]</td>\n",
       "      <td>[0.6385706714652697]</td>\n",
       "      <td>[0.7862972737983217]</td>\n",
       "      <td>1.474673</td>\n",
       "      <td>1.479397</td>\n",
       "    </tr>\n",
       "    <tr>\n",
       "      <th>4</th>\n",
       "      <td>[0.6318815650332976]</td>\n",
       "      <td>[0.9312648708515232]</td>\n",
       "      <td>[0.9562279488216139]</td>\n",
       "      <td>[0.30314370815449204]</td>\n",
       "      <td>1.296232</td>\n",
       "      <td>1.244455</td>\n",
       "    </tr>\n",
       "    <tr>\n",
       "      <th>5</th>\n",
       "      <td>[0.13858128814341003]</td>\n",
       "      <td>[0.061798266775131144]</td>\n",
       "      <td>[0.548266625784988]</td>\n",
       "      <td>[0.3208319465629005]</td>\n",
       "      <td>0.543673</td>\n",
       "      <td>0.582693</td>\n",
       "    </tr>\n",
       "    <tr>\n",
       "      <th>6</th>\n",
       "      <td>[0.38201296137481927]</td>\n",
       "      <td>[0.6209340686521785]</td>\n",
       "      <td>[0.5357826502366345]</td>\n",
       "      <td>[0.021649902891103762]</td>\n",
       "      <td>0.694506</td>\n",
       "      <td>0.638181</td>\n",
       "    </tr>\n",
       "    <tr>\n",
       "      <th>7</th>\n",
       "      <td>[0.6898335076063314]</td>\n",
       "      <td>[0.2355234987503209]</td>\n",
       "      <td>[0.5802061258391926]</td>\n",
       "      <td>[0.6546236873047155]</td>\n",
       "      <td>0.964450</td>\n",
       "      <td>0.938017</td>\n",
       "    </tr>\n",
       "    <tr>\n",
       "      <th>8</th>\n",
       "      <td>[0.9064890928142173]</td>\n",
       "      <td>[0.5171609552858539]</td>\n",
       "      <td>[0.5537717386793835]</td>\n",
       "      <td>[0.07582348718523053]</td>\n",
       "      <td>0.955000</td>\n",
       "      <td>0.970908</td>\n",
       "    </tr>\n",
       "    <tr>\n",
       "      <th>9</th>\n",
       "      <td>[0.280298459637332]</td>\n",
       "      <td>[0.14446307400783093]</td>\n",
       "      <td>[0.5110465516968518]</td>\n",
       "      <td>[0.6358781840227783]</td>\n",
       "      <td>0.703485</td>\n",
       "      <td>0.715025</td>\n",
       "    </tr>\n",
       "    <tr>\n",
       "      <th>10</th>\n",
       "      <td>[0.6818615022460853]</td>\n",
       "      <td>[0.5958302862057439]</td>\n",
       "      <td>[0.2701995633533791]</td>\n",
       "      <td>[0.7289025691997677]</td>\n",
       "      <td>0.902993</td>\n",
       "      <td>0.999837</td>\n",
       "    </tr>\n",
       "    <tr>\n",
       "      <th>11</th>\n",
       "      <td>[0.8397892825901078]</td>\n",
       "      <td>[0.6204925962193523]</td>\n",
       "      <td>[0.46554100459774705]</td>\n",
       "      <td>[0.8319620612518023]</td>\n",
       "      <td>1.219392</td>\n",
       "      <td>1.228202</td>\n",
       "    </tr>\n",
       "    <tr>\n",
       "      <th>12</th>\n",
       "      <td>[0.634786147630383]</td>\n",
       "      <td>[0.06496721399003233]</td>\n",
       "      <td>[0.8102366848331835]</td>\n",
       "      <td>[0.5155144578480869]</td>\n",
       "      <td>0.963963</td>\n",
       "      <td>0.960501</td>\n",
       "    </tr>\n",
       "    <tr>\n",
       "      <th>13</th>\n",
       "      <td>[0.8535988381612466]</td>\n",
       "      <td>[0.8709671435226088]</td>\n",
       "      <td>[0.6093240829523203]</td>\n",
       "      <td>[0.20408659997237688]</td>\n",
       "      <td>1.060979</td>\n",
       "      <td>1.153565</td>\n",
       "    </tr>\n",
       "    <tr>\n",
       "      <th>14</th>\n",
       "      <td>[0.7266607155091785]</td>\n",
       "      <td>[0.43110323083715485]</td>\n",
       "      <td>[0.5133232704474902]</td>\n",
       "      <td>[0.5521756000126619]</td>\n",
       "      <td>0.949841</td>\n",
       "      <td>0.894547</td>\n",
       "    </tr>\n",
       "    <tr>\n",
       "      <th>15</th>\n",
       "      <td>[0.9155950478152544]</td>\n",
       "      <td>[0.670665854644429]</td>\n",
       "      <td>[0.6278470951864026]</td>\n",
       "      <td>[0.017184170252959447]</td>\n",
       "      <td>1.051175</td>\n",
       "      <td>1.068547</td>\n",
       "    </tr>\n",
       "    <tr>\n",
       "      <th>16</th>\n",
       "      <td>[0.2933513514656084]</td>\n",
       "      <td>[0.4473418454242991]</td>\n",
       "      <td>[0.3178118625096992]</td>\n",
       "      <td>[0.9391745390110229]</td>\n",
       "      <td>0.900365</td>\n",
       "      <td>0.915656</td>\n",
       "    </tr>\n",
       "    <tr>\n",
       "      <th>17</th>\n",
       "      <td>[0.1367393494989098]</td>\n",
       "      <td>[0.9747729948912929]</td>\n",
       "      <td>[0.7262274883446025]</td>\n",
       "      <td>[0.3123642787068075]</td>\n",
       "      <td>0.994388</td>\n",
       "      <td>0.911337</td>\n",
       "    </tr>\n",
       "    <tr>\n",
       "      <th>18</th>\n",
       "      <td>[0.5608562921817593]</td>\n",
       "      <td>[0.2883274520184494]</td>\n",
       "      <td>[0.414382560150703]</td>\n",
       "      <td>[0.3619296436610065]</td>\n",
       "      <td>0.703487</td>\n",
       "      <td>0.666351</td>\n",
       "    </tr>\n",
       "    <tr>\n",
       "      <th>19</th>\n",
       "      <td>[0.34745843203182597]</td>\n",
       "      <td>[0.772810122144571]</td>\n",
       "      <td>[0.5228014121855996]</td>\n",
       "      <td>[0.8969755380231585]</td>\n",
       "      <td>1.113224</td>\n",
       "      <td>1.073423</td>\n",
       "    </tr>\n",
       "  </tbody>\n",
       "</table>\n",
       "</div>"
      ],
      "text/plain": [
       "                       w0                      w1                     w2  \\\n",
       "0   [0.17983944723532563]    [0.5341923863471393]     [0.97535218235481]   \n",
       "1    [0.8387539155767627]    [0.6667702018657659]   [0.9968658866205469]   \n",
       "2    [0.5941441746119209]     [0.716324300584179]   [0.6358831567170804]   \n",
       "3    [0.9454940437257888]    [0.8472545625875698]   [0.6385706714652697]   \n",
       "4    [0.6318815650332976]    [0.9312648708515232]   [0.9562279488216139]   \n",
       "5   [0.13858128814341003]  [0.061798266775131144]    [0.548266625784988]   \n",
       "6   [0.38201296137481927]    [0.6209340686521785]   [0.5357826502366345]   \n",
       "7    [0.6898335076063314]    [0.2355234987503209]   [0.5802061258391926]   \n",
       "8    [0.9064890928142173]    [0.5171609552858539]   [0.5537717386793835]   \n",
       "9     [0.280298459637332]   [0.14446307400783093]   [0.5110465516968518]   \n",
       "10   [0.6818615022460853]    [0.5958302862057439]   [0.2701995633533791]   \n",
       "11   [0.8397892825901078]    [0.6204925962193523]  [0.46554100459774705]   \n",
       "12    [0.634786147630383]   [0.06496721399003233]   [0.8102366848331835]   \n",
       "13   [0.8535988381612466]    [0.8709671435226088]   [0.6093240829523203]   \n",
       "14   [0.7266607155091785]   [0.43110323083715485]   [0.5133232704474902]   \n",
       "15   [0.9155950478152544]     [0.670665854644429]   [0.6278470951864026]   \n",
       "16   [0.2933513514656084]    [0.4473418454242991]   [0.3178118625096992]   \n",
       "17   [0.1367393494989098]    [0.9747729948912929]   [0.7262274883446025]   \n",
       "18   [0.5608562921817593]    [0.2883274520184494]    [0.414382560150703]   \n",
       "19  [0.34745843203182597]     [0.772810122144571]   [0.5228014121855996]   \n",
       "\n",
       "                        w3  testing_error  training_error  \n",
       "0    [0.09458433456945269]       0.844040        0.831852  \n",
       "1     [0.9060267160976535]       1.528669        1.669360  \n",
       "2     [0.5344261462890753]       0.994489        0.958884  \n",
       "3     [0.7862972737983217]       1.474673        1.479397  \n",
       "4    [0.30314370815449204]       1.296232        1.244455  \n",
       "5     [0.3208319465629005]       0.543673        0.582693  \n",
       "6   [0.021649902891103762]       0.694506        0.638181  \n",
       "7     [0.6546236873047155]       0.964450        0.938017  \n",
       "8    [0.07582348718523053]       0.955000        0.970908  \n",
       "9     [0.6358781840227783]       0.703485        0.715025  \n",
       "10    [0.7289025691997677]       0.902993        0.999837  \n",
       "11    [0.8319620612518023]       1.219392        1.228202  \n",
       "12    [0.5155144578480869]       0.963963        0.960501  \n",
       "13   [0.20408659997237688]       1.060979        1.153565  \n",
       "14    [0.5521756000126619]       0.949841        0.894547  \n",
       "15  [0.017184170252959447]       1.051175        1.068547  \n",
       "16    [0.9391745390110229]       0.900365        0.915656  \n",
       "17    [0.3123642787068075]       0.994388        0.911337  \n",
       "18    [0.3619296436610065]       0.703487        0.666351  \n",
       "19    [0.8969755380231585]       1.113224        1.073423  "
      ]
     },
     "execution_count": 237,
     "metadata": {},
     "output_type": "execute_result"
    }
   ],
   "source": [
    "final_model = LinearRegressionGD(data)\n",
    "final_model.models"
   ]
  },
  {
   "cell_type": "code",
   "execution_count": 238,
   "metadata": {},
   "outputs": [
    {
     "data": {
      "text/plain": [
       "[[0.8318524885540153, 0.8318520718219636],\n",
       " [1.6693615917160445, 1.6693602361320232],\n",
       " [0.9588840855698629, 0.9588835117864619],\n",
       " [1.4793980345077775, 1.4793969270402376],\n",
       " [1.2444555850926804, 1.2444547188753834],\n",
       " [0.582692947835959, 0.5826928106275819],\n",
       " [0.6381812930073607, 0.6381810779791904],\n",
       " [0.938017560233444, 0.9380170582279265],\n",
       " [0.9709082722086543, 0.9709077353581197],\n",
       " [0.7150249462808597, 0.7150246834677441],\n",
       " [0.9998376063790259, 0.9998370506298112],\n",
       " [1.2282026345001784, 1.2282018287219123],\n",
       " [0.9605012144722638, 0.960500709109845],\n",
       " [1.1535652870832063, 1.1535645535239842],\n",
       " [0.8945474240685599, 0.8945469500149772],\n",
       " [1.068547460119972, 1.0685468142550856],\n",
       " [0.9156565581678373, 0.9156560632528721],\n",
       " [0.911337203521669, 0.9113366578314944],\n",
       " [0.6663514203519671, 0.6663511855632792],\n",
       " [1.0734237856202047, 1.0734231038059043]]"
      ]
     },
     "execution_count": 238,
     "metadata": {},
     "output_type": "execute_result"
    }
   ],
   "source": [
    "final_model.errors"
   ]
  },
  {
   "cell_type": "code",
   "execution_count": null,
   "metadata": {},
   "outputs": [],
   "source": []
  }
 ],
 "metadata": {
  "kernelspec": {
   "display_name": "Python 3",
   "language": "python",
   "name": "python3"
  },
  "language_info": {
   "codemirror_mode": {
    "name": "ipython",
    "version": 3
   },
   "file_extension": ".py",
   "mimetype": "text/x-python",
   "name": "python",
   "nbconvert_exporter": "python",
   "pygments_lexer": "ipython3",
   "version": "3.8.6"
  }
 },
 "nbformat": 4,
 "nbformat_minor": 4
}
