{
 "cells": [
  {
   "cell_type": "markdown",
   "metadata": {},
   "source": [
    "## Import Libraries"
   ]
  },
  {
   "cell_type": "code",
   "execution_count": 1,
   "metadata": {},
   "outputs": [],
   "source": [
    "import numpy as np\n",
    "import pandas as pd\n",
    "pd.options.mode.chained_assignment = None\n",
    "import matplotlib.pyplot as plt\n",
    "plt.style.use('ggplot')\n",
    "%matplotlib inline"
   ]
  },
  {
   "cell_type": "markdown",
   "metadata": {},
   "source": [
    "-------------------------------------------------------------------------------------------------------------------------------"
   ]
  },
  {
   "cell_type": "markdown",
   "metadata": {},
   "source": [
    "## Load and Inspect Data"
   ]
  },
  {
   "cell_type": "code",
   "execution_count": 2,
   "metadata": {},
   "outputs": [
    {
     "data": {
      "text/html": [
       "<div>\n",
       "<style scoped>\n",
       "    .dataframe tbody tr th:only-of-type {\n",
       "        vertical-align: middle;\n",
       "    }\n",
       "\n",
       "    .dataframe tbody tr th {\n",
       "        vertical-align: top;\n",
       "    }\n",
       "\n",
       "    .dataframe thead th {\n",
       "        text-align: right;\n",
       "    }\n",
       "</style>\n",
       "<table border=\"1\" class=\"dataframe\">\n",
       "  <thead>\n",
       "    <tr style=\"text-align: right;\">\n",
       "      <th></th>\n",
       "      <th>age</th>\n",
       "      <th>bmi</th>\n",
       "      <th>children</th>\n",
       "      <th>charges</th>\n",
       "    </tr>\n",
       "  </thead>\n",
       "  <tbody>\n",
       "    <tr>\n",
       "      <th>0</th>\n",
       "      <td>19</td>\n",
       "      <td>27.900</td>\n",
       "      <td>0</td>\n",
       "      <td>16884.92400</td>\n",
       "    </tr>\n",
       "    <tr>\n",
       "      <th>1</th>\n",
       "      <td>18</td>\n",
       "      <td>33.770</td>\n",
       "      <td>1</td>\n",
       "      <td>1725.55230</td>\n",
       "    </tr>\n",
       "    <tr>\n",
       "      <th>2</th>\n",
       "      <td>28</td>\n",
       "      <td>33.000</td>\n",
       "      <td>3</td>\n",
       "      <td>4449.46200</td>\n",
       "    </tr>\n",
       "    <tr>\n",
       "      <th>3</th>\n",
       "      <td>33</td>\n",
       "      <td>22.705</td>\n",
       "      <td>0</td>\n",
       "      <td>21984.47061</td>\n",
       "    </tr>\n",
       "    <tr>\n",
       "      <th>4</th>\n",
       "      <td>32</td>\n",
       "      <td>28.880</td>\n",
       "      <td>0</td>\n",
       "      <td>3866.85520</td>\n",
       "    </tr>\n",
       "  </tbody>\n",
       "</table>\n",
       "</div>"
      ],
      "text/plain": [
       "   age     bmi  children      charges\n",
       "0   19  27.900         0  16884.92400\n",
       "1   18  33.770         1   1725.55230\n",
       "2   28  33.000         3   4449.46200\n",
       "3   33  22.705         0  21984.47061\n",
       "4   32  28.880         0   3866.85520"
      ]
     },
     "execution_count": 2,
     "metadata": {},
     "output_type": "execute_result"
    }
   ],
   "source": [
    "data = pd.read_csv(\"insurance.txt\")\n",
    "data.head()"
   ]
  },
  {
   "cell_type": "code",
   "execution_count": 3,
   "metadata": {},
   "outputs": [
    {
     "name": "stdout",
     "output_type": "stream",
     "text": [
      "<class 'pandas.core.frame.DataFrame'>\n",
      "RangeIndex: 1338 entries, 0 to 1337\n",
      "Data columns (total 4 columns):\n",
      " #   Column    Non-Null Count  Dtype  \n",
      "---  ------    --------------  -----  \n",
      " 0   age       1338 non-null   int64  \n",
      " 1   bmi       1338 non-null   float64\n",
      " 2   children  1338 non-null   int64  \n",
      " 3   charges   1338 non-null   float64\n",
      "dtypes: float64(2), int64(2)\n",
      "memory usage: 41.9 KB\n"
     ]
    }
   ],
   "source": [
    "data.info()"
   ]
  },
  {
   "cell_type": "code",
   "execution_count": 4,
   "metadata": {},
   "outputs": [
    {
     "data": {
      "text/html": [
       "<div>\n",
       "<style scoped>\n",
       "    .dataframe tbody tr th:only-of-type {\n",
       "        vertical-align: middle;\n",
       "    }\n",
       "\n",
       "    .dataframe tbody tr th {\n",
       "        vertical-align: top;\n",
       "    }\n",
       "\n",
       "    .dataframe thead th {\n",
       "        text-align: right;\n",
       "    }\n",
       "</style>\n",
       "<table border=\"1\" class=\"dataframe\">\n",
       "  <thead>\n",
       "    <tr style=\"text-align: right;\">\n",
       "      <th></th>\n",
       "      <th>age</th>\n",
       "      <th>bmi</th>\n",
       "      <th>children</th>\n",
       "      <th>charges</th>\n",
       "    </tr>\n",
       "  </thead>\n",
       "  <tbody>\n",
       "    <tr>\n",
       "      <th>count</th>\n",
       "      <td>1338.000000</td>\n",
       "      <td>1338.000000</td>\n",
       "      <td>1338.000000</td>\n",
       "      <td>1338.000000</td>\n",
       "    </tr>\n",
       "    <tr>\n",
       "      <th>mean</th>\n",
       "      <td>39.207025</td>\n",
       "      <td>30.663397</td>\n",
       "      <td>1.094918</td>\n",
       "      <td>13270.422265</td>\n",
       "    </tr>\n",
       "    <tr>\n",
       "      <th>std</th>\n",
       "      <td>14.049960</td>\n",
       "      <td>6.098187</td>\n",
       "      <td>1.205493</td>\n",
       "      <td>12110.011237</td>\n",
       "    </tr>\n",
       "    <tr>\n",
       "      <th>min</th>\n",
       "      <td>18.000000</td>\n",
       "      <td>15.960000</td>\n",
       "      <td>0.000000</td>\n",
       "      <td>1121.873900</td>\n",
       "    </tr>\n",
       "    <tr>\n",
       "      <th>25%</th>\n",
       "      <td>27.000000</td>\n",
       "      <td>26.296250</td>\n",
       "      <td>0.000000</td>\n",
       "      <td>4740.287150</td>\n",
       "    </tr>\n",
       "    <tr>\n",
       "      <th>50%</th>\n",
       "      <td>39.000000</td>\n",
       "      <td>30.400000</td>\n",
       "      <td>1.000000</td>\n",
       "      <td>9382.033000</td>\n",
       "    </tr>\n",
       "    <tr>\n",
       "      <th>75%</th>\n",
       "      <td>51.000000</td>\n",
       "      <td>34.693750</td>\n",
       "      <td>2.000000</td>\n",
       "      <td>16639.912515</td>\n",
       "    </tr>\n",
       "    <tr>\n",
       "      <th>max</th>\n",
       "      <td>64.000000</td>\n",
       "      <td>53.130000</td>\n",
       "      <td>5.000000</td>\n",
       "      <td>63770.428010</td>\n",
       "    </tr>\n",
       "  </tbody>\n",
       "</table>\n",
       "</div>"
      ],
      "text/plain": [
       "               age          bmi     children       charges\n",
       "count  1338.000000  1338.000000  1338.000000   1338.000000\n",
       "mean     39.207025    30.663397     1.094918  13270.422265\n",
       "std      14.049960     6.098187     1.205493  12110.011237\n",
       "min      18.000000    15.960000     0.000000   1121.873900\n",
       "25%      27.000000    26.296250     0.000000   4740.287150\n",
       "50%      39.000000    30.400000     1.000000   9382.033000\n",
       "75%      51.000000    34.693750     2.000000  16639.912515\n",
       "max      64.000000    53.130000     5.000000  63770.428010"
      ]
     },
     "execution_count": 4,
     "metadata": {},
     "output_type": "execute_result"
    }
   ],
   "source": [
    "data.describe()"
   ]
  },
  {
   "cell_type": "markdown",
   "metadata": {},
   "source": [
    "-------------------------------------------------------------------------------------------------------------------------------"
   ]
  },
  {
   "cell_type": "markdown",
   "metadata": {},
   "source": [
    "## Preprocess Data"
   ]
  },
  {
   "cell_type": "markdown",
   "metadata": {},
   "source": [
    "__The purpose of the following preprocessing is to demonstrate that the employed method is functioning correctly. However, while building regression models, the training and testing datasets are standardised separately to prevent data leakage.__"
   ]
  },
  {
   "cell_type": "code",
   "execution_count": 5,
   "metadata": {},
   "outputs": [],
   "source": [
    "column_names = list(data.columns)\n",
    "standardize = lambda x : (x - x.mean()) / x.std() "
   ]
  },
  {
   "cell_type": "markdown",
   "metadata": {},
   "source": [
    "__Standardize Data__"
   ]
  },
  {
   "cell_type": "code",
   "execution_count": 6,
   "metadata": {},
   "outputs": [],
   "source": [
    "for column in column_names:\n",
    "    if column == \"charges\":\n",
    "        continue\n",
    "    data[column] = standardize(data[column])"
   ]
  },
  {
   "cell_type": "code",
   "execution_count": 7,
   "metadata": {},
   "outputs": [
    {
     "data": {
      "text/plain": [
       "age        -1.246304e-16\n",
       "bmi        -1.810543e-16\n",
       "children   -3.116590e-16\n",
       "charges     1.327042e+04\n",
       "dtype: float64"
      ]
     },
     "execution_count": 7,
     "metadata": {},
     "output_type": "execute_result"
    }
   ],
   "source": [
    "data.mean()"
   ]
  },
  {
   "cell_type": "markdown",
   "metadata": {},
   "source": [
    "Although standardised mean should be equal to 0, in reality they are infinitesimally close to zero. Double precision floats have 53 bits or 16 digits of precision, so this is expected behavior."
   ]
  },
  {
   "cell_type": "code",
   "execution_count": 8,
   "metadata": {},
   "outputs": [
    {
     "data": {
      "text/plain": [
       "age             1.000000\n",
       "bmi             1.000000\n",
       "children        1.000000\n",
       "charges     12110.011237\n",
       "dtype: float64"
      ]
     },
     "execution_count": 8,
     "metadata": {},
     "output_type": "execute_result"
    }
   ],
   "source": [
    "data.std()"
   ]
  },
  {
   "cell_type": "code",
   "execution_count": 9,
   "metadata": {},
   "outputs": [],
   "source": [
    "x1, x2, x3, y = data[\"age\"], data[\"bmi\"], data[\"children\"], data[\"charges\"]"
   ]
  },
  {
   "cell_type": "markdown",
   "metadata": {},
   "source": [
    "-------------------------------------------------------------------------------------------------------------------------------"
   ]
  },
  {
   "cell_type": "markdown",
   "metadata": {},
   "source": [
    "## Visualize Data"
   ]
  },
  {
   "cell_type": "code",
   "execution_count": 10,
   "metadata": {},
   "outputs": [
    {
     "data": {
      "image/png": "[encoded data removed]",
      "text/plain": [
       "<Figure size 432x288 with 1 Axes>"
      ]
     },
     "metadata": {
      "needs_background": "light"
     },
     "output_type": "display_data"
    }
   ],
   "source": [
    "plt.scatter(x1, y)\n",
    "plt.xlabel(\"Age\")\n",
    "plt.ylabel(\"Charges\");"
   ]
  },
  {
   "cell_type": "code",
   "execution_count": 11,
   "metadata": {},
   "outputs": [
    {
     "data": {
      "image/png": "[encoded data removed]",
      "text/plain": [
       "<Figure size 432x288 with 1 Axes>"
      ]
     },
     "metadata": {
      "needs_background": "light"
     },
     "output_type": "display_data"
    }
   ],
   "source": [
    "plt.scatter(x2, y)\n",
    "plt.xlabel(\"BMI\")\n",
    "plt.ylabel(\"Charges\");"
   ]
  },
  {
   "cell_type": "code",
   "execution_count": 12,
   "metadata": {},
   "outputs": [
    {
     "data": {
      "image/png": "[encoded data removed]",
      "text/plain": [
       "<Figure size 432x288 with 1 Axes>"
      ]
     },
     "metadata": {
      "needs_background": "light"
     },
     "output_type": "display_data"
    }
   ],
   "source": [
    "plt.scatter(x3, y)\n",
    "plt.xlabel(\"Children\")\n",
    "plt.ylabel(\"Charges\");"
   ]
  },
  {
   "cell_type": "markdown",
   "metadata": {},
   "source": [
    "-------------------------------------------------------------------------------------------------------------------------------"
   ]
  },
  {
   "cell_type": "markdown",
   "metadata": {},
   "source": [
    "## Linear Regression Algorithms"
   ]
  },
  {
   "cell_type": "markdown",
   "metadata": {},
   "source": [
    "### Linear Regression by Solving Normal Equations"
   ]
  },
  {
   "cell_type": "markdown",
   "metadata": {},
   "source": [
    "$y = w_{0} + w_{1}x_{1} + w_{2}x_{2} + w_{3}x_{3}$"
   ]
  },
  {
   "cell_type": "markdown",
   "metadata": {},
   "source": [
    "$x_{1}, x_{2}, x_{3}$ represent the age, bmi and number of children respectively. $ w_{1},w_{2}, w_{3}$ are weights associated with $x_{1}, x_{2}, x_{3}$."
   ]
  },
  {
   "cell_type": "markdown",
   "metadata": {},
   "source": [
    "$$X = \n",
    "\\begin{bmatrix} \n",
    "1 & x_{11} & x_{12} & x_{13}\\\\\n",
    "1 & x_{21} & x_{22} & x_{23}\\\\\n",
    ". & . & . & . \\\\\n",
    ". & . & . & . \\\\\n",
    "1 & x_{m1} & x_{m2} & x_{m3}\\\\\n",
    "\\end{bmatrix}\n",
    "\\quad\n",
    "$$\n",
    "$$ $$\n",
    "$$Y = \n",
    "\\begin{bmatrix} \n",
    "y_{1}\\\\\n",
    "y_{2}\\\\\n",
    ".\\\\\n",
    ".\\\\\n",
    "y_{m}\\\\\n",
    "\\end{bmatrix}\n",
    "\\quad\n",
    "$$ where $m$ = size of training data\n",
    "$$ $$\n",
    "$$ω = \n",
    "\\begin{bmatrix} \n",
    "ω_{0}\\\\\n",
    "ω_{1}\\\\\n",
    "ω_{2}\\\\\n",
    "ω_{3}\\\\\n",
    "\\end{bmatrix}\n",
    "\\quad\n",
    "$$\n",
    "$$ $$\n",
    "$$b = X^{T} . Y$$"
   ]
  },
  {
   "cell_type": "markdown",
   "metadata": {},
   "source": [
    "$$ ω = (X^{T}.X)^{-1}x^{T}.Y = (X^{T}.X)^{-1}.b$$"
   ]
  },
  {
   "cell_type": "markdown",
   "metadata": {},
   "source": [
    "### Linear Regression by Gradient Descent"
   ]
  },
  {
   "cell_type": "markdown",
   "metadata": {},
   "source": [
    "$$\n",
    "E(ω) = \n",
    "\\begin{equation}\n",
    "\\frac{1}{2} * \\sum_{n=0}^{N} (x_{n}*ω - y_{n})^{2} \n",
    "\\end{equation}\n",
    "$$\n",
    "$$ $$\n",
    "$$Sum of Squares of Errors$$\n",
    "$$ $$\n",
    "$$ \n",
    "\\begin{equation}\n",
    "\\frac{\\partial E(ω)}{\\partial ω} = (X.ω - Y).X\n",
    "\\end{equation}\n",
    "$$\n",
    "$$ $$\n",
    "$$ Gradient$$\n",
    "$$ $$\n",
    "$$\n",
    "ω = ω - η * \\frac{\\partial E(ω)}{\\partial ω}\n",
    "$$\n",
    "$$ $$\n",
    "where $η$ is the learning rate"
   ]
  },
  {
   "cell_type": "markdown",
   "metadata": {},
   "source": [
    "### Linear Regression by Stochastic Gradient Descent"
   ]
  },
  {
   "cell_type": "markdown",
   "metadata": {},
   "source": [
    "SGD makes sequential passes over the training data, and during each pass, updates feature weights one example at a time with the aim of approaching the optimal weights that minimize the loss."
   ]
  },
  {
   "cell_type": "markdown",
   "metadata": {},
   "source": [
    "$$ \n",
    "\\begin{equation}\n",
    "\\frac{\\partial E(ω)}{\\partial ω}_{ω=ω_{n}} = (x_{n}.ω_{n} - y_{n}).x_{n}\n",
    "\\end{equation}\n",
    "$$\n",
    "$$ $$\n",
    "$$ Gradient$$\n",
    "$$ $$\n",
    "$$\n",
    "ω = ω - η * \\frac{\\partial E(ω)}{\\partial ω}_{ω = w_{n}}\n",
    "$$\n",
    "$$ $$\n",
    "where $η$ is the learning rate"
   ]
  },
  {
   "cell_type": "code",
   "execution_count": 13,
   "metadata": {},
   "outputs": [],
   "source": [
    "class LinearRegression:\n",
    "    def __init__(self, data):\n",
    "        self.data = data\n",
    "        self.models1 = pd.DataFrame(columns = [\"w0\", \"w1\", \"w2\", \"w3\", \"testing_error\", \"training_error\"])\n",
    "        self.models2 = pd.DataFrame(columns = [\"w0\", \"w1\", \"w2\", \"w3\", \"testing_error\", \"training_error\", \"iterations\"])\n",
    "        self.models3 = pd.DataFrame(columns = [\"w0\", \"w1\", \"w2\", \"w3\", \"testing_error\", \"training_error\", \"iterations\"])\n",
    "        self.errors2 = []\n",
    "        self.errors3 = []\n",
    "    \n",
    "    # shuffles data randomly\n",
    "    def shuffle(self):\n",
    "        self.data = self.data.sample(frac = 1)\n",
    "    \n",
    "    # splits a data frame in 70:30 ratio\n",
    "    def split(self):\n",
    "        train = self.data[:int(0.7 * len(data))]\n",
    "        test = self.data[int(0.7 * len(data)):]\n",
    "        return train, test\n",
    "    \n",
    "    # standardizes data\n",
    "    def standardize(self, data):\n",
    "        column_names = list(data.columns)\n",
    "        standardize = lambda x : (x - x.mean()) / x.std()\n",
    "        for column in column_names:\n",
    "            if column == \"charges\":\n",
    "                continue\n",
    "            data[column] = standardize(data[column])\n",
    "        return data\n",
    "    \n",
    "    # computes and returns X and Y matrices\n",
    "    def matrices(self, train):\n",
    "        x1, x2, x3, y = train[\"age\"], train[\"bmi\"], train[\"children\"], train[\"charges\"]\n",
    "        x1, x2, x3= np.array(x1), np.array(x2), np.array(x3)\n",
    "        Y = np.array(y)\n",
    "        n = len(Y)\n",
    "        Y = Y.reshape((n, 1))\n",
    "        x0 = np.ones((n,1))\n",
    "        x1 = np.reshape(x1, (n, 1))\n",
    "        x2 = np.reshape(x2, (n, 1))\n",
    "        x3 = np.reshape(x3, (n, 1))\n",
    "        X = np.append(x0, x1, axis=1)\n",
    "        X = np.append(X, x2, axis=1)\n",
    "        X = np.append(X, x3, axis=1)\n",
    "        return X, Y\n",
    "    \n",
    "    # Sum of Squares Error Function\n",
    "    def error(self, X, Y, w):\n",
    "        Y_pred = np.dot(X, w)\n",
    "        mse = (1/2) * np.sum(np.square(Y_pred-Y))\n",
    "        return float(mse)\n",
    "    \n",
    "    # tests the model against testing data\n",
    "    def testModel(self, test, w):\n",
    "        Xt, Yt = self.matrices(test)\n",
    "        testing_error = self.error(Xt, Yt, w)\n",
    "        return testing_error\n",
    "           \n",
    "    # Performs Linear Regression by Normal Equations and returns corresponding Regression Weights\n",
    "    def solve(self, X, Y):\n",
    "        XT = np.transpose(X)\n",
    "        A = XT.dot(X)\n",
    "        A_inv = np.linalg.inv(A)\n",
    "        b = XT.dot(Y)\n",
    "        w = A_inv.dot(b)\n",
    "        return w\n",
    "\n",
    "    # Implements Gradient Descent Algorithm\n",
    "    def gradientDescent(self, X, Y, w, learning_rate = 1e-7):\n",
    "        i = 1\n",
    "        errors = []\n",
    "        error, prev_error = float(\"inf\"), 0\n",
    "        while abs(prev_error-error) > 1e-5:\n",
    "            prev_error = error\n",
    "            Y_pred = X.dot(w)\n",
    "            gradient = np.dot(X.transpose(), Y_pred- Y)\n",
    "            w -= learning_rate * gradient\n",
    "            error = self.error(X, Y, w)\n",
    "            errors.append(error)\n",
    "            i+=1\n",
    "        return w, errors, i\n",
    "\n",
    "    # Implements Stochastic Gradient Descent Algorithm\n",
    "    def stochasticGradientDescent(self, X, Y, w, learning_rate = 1e-5):\n",
    "        m, i = len(Y), 0\n",
    "        errors = []\n",
    "        error, prev_error = float(\"inf\"), 0\n",
    "        while abs(prev_error-error) > 1e-2:\n",
    "            prev_error = error\n",
    "            x = X[i%m].reshape(1, 4)\n",
    "            y = Y[i%m].reshape(1, 1)\n",
    "            y_pred = x.dot(w)\n",
    "            gradient = np.dot(x.transpose(), y_pred- y)\n",
    "            w -= learning_rate * gradient\n",
    "            error = self.error(X, Y, w)\n",
    "            errors.append(error)\n",
    "            i+=1\n",
    "        return w, errors, i + 1\n",
    "\n",
    "    # main function to build models\n",
    "    def buildModels(self, number = 20):\n",
    "        for i in range(number):\n",
    "            self.shuffle()                                                                  # shuffle dataset\n",
    "            train, test = self.split()                                                      # split dataset\n",
    "            train = self.standardize(train)                                                 # standardise training data\n",
    "            test = self.standardize(test)                                                   # standardise testing data\n",
    "            X, Y = self.matrices(train)                                                     # obtain X and Y matrices\n",
    "            w1 = self.solve(X, Y)                                                           # regression by normal equations\n",
    "            w2 = np.random.rand(4, 1)                                                       # generate random weights w for grad. desc.\n",
    "            w2, model_errors2 , iterations2 = self.gradientDescent(X, Y, w2)                # regression by gradient descent\n",
    "            w3 = np.random.rand(4, 1)                                                       # generate random weights w for st. grad. desc.\n",
    "            w3, model_errors3 , iterations3 = self.stochasticGradientDescent(X, Y, w3)      # regression by stochastic grad. desc.\n",
    "            training_error1 = self.error(X, Y, w1)                                          # calculate training error\n",
    "            training_error2 = self.error(X, Y, w2)                                          # calculate training error\n",
    "            training_error3 = self.error(X, Y, w3)                                          # calculate training error\n",
    "            testing_error1 = self.testModel(test, w1)                                       # calculate testing error\n",
    "            testing_error2 = self.testModel(test, w2)                                       # calculate testing error\n",
    "            testing_error3 = self.testModel(test, w3)                                       # calculate testing error\n",
    "            # append the model, errors to models dataframe\n",
    "            model1 = list(w1)\n",
    "            model2 = list(w2)\n",
    "            model3 = list(w3)\n",
    "            model1.append(testing_error1)\n",
    "            model2.append(testing_error2)\n",
    "            model3.append(testing_error3)\n",
    "            model1.append(training_error1)\n",
    "            model2.append(training_error2)\n",
    "            model3.append(training_error3)\n",
    "            model2.append(iterations2)\n",
    "            model3.append(iterations3)\n",
    "            model1 = pd.Series(model1, index = self.models1.columns)\n",
    "            model2 = pd.Series(model2, index = self.models2.columns)\n",
    "            model3 = pd.Series(model3, index = self.models3.columns)\n",
    "            self.models1 = self.models1.append(model1, ignore_index=True)\n",
    "            self.models2 = self.models2.append(model2, ignore_index=True)\n",
    "            self.models3 = self.models3.append(model3, ignore_index=True)\n",
    "            self.errors2.append(model_errors2)\n",
    "            self.errors3.append(model_errors3)"
   ]
  },
  {
   "cell_type": "markdown",
   "metadata": {},
   "source": [
    "-------------------------------------------------------------------------------------------------------------------------------"
   ]
  },
  {
   "cell_type": "markdown",
   "metadata": {},
   "source": [
    "## Build Regression Models"
   ]
  },
  {
   "cell_type": "code",
   "execution_count": 14,
   "metadata": {},
   "outputs": [],
   "source": [
    "data = pd.read_csv(\"insurance.txt\")"
   ]
  },
  {
   "cell_type": "code",
   "execution_count": 15,
   "metadata": {},
   "outputs": [],
   "source": [
    "lr_models = LinearRegression(data)\n",
    "lr_models.buildModels(20)"
   ]
  },
  {
   "cell_type": "code",
   "execution_count": 16,
   "metadata": {},
   "outputs": [
    {
     "data": {
      "text/html": [
       "<div>\n",
       "<style scoped>\n",
       "    .dataframe tbody tr th:only-of-type {\n",
       "        vertical-align: middle;\n",
       "    }\n",
       "\n",
       "    .dataframe tbody tr th {\n",
       "        vertical-align: top;\n",
       "    }\n",
       "\n",
       "    .dataframe thead th {\n",
       "        text-align: right;\n",
       "    }\n",
       "</style>\n",
       "<table border=\"1\" class=\"dataframe\">\n",
       "  <thead>\n",
       "    <tr style=\"text-align: right;\">\n",
       "      <th></th>\n",
       "      <th>w0</th>\n",
       "      <th>w1</th>\n",
       "      <th>w2</th>\n",
       "      <th>w3</th>\n",
       "      <th>testing_error</th>\n",
       "      <th>training_error</th>\n",
       "    </tr>\n",
       "  </thead>\n",
       "  <tbody>\n",
       "    <tr>\n",
       "      <th>0</th>\n",
       "      <td>[12953.975642360036]</td>\n",
       "      <td>[3565.153936548785]</td>\n",
       "      <td>[1797.2183016090771]</td>\n",
       "      <td>[944.131387779112]</td>\n",
       "      <td>2.721124e+10</td>\n",
       "      <td>5.931968e+10</td>\n",
       "    </tr>\n",
       "    <tr>\n",
       "      <th>1</th>\n",
       "      <td>[13190.765298631411]</td>\n",
       "      <td>[3502.2479339037336]</td>\n",
       "      <td>[1975.0884079842403]</td>\n",
       "      <td>[1017.2185897042829]</td>\n",
       "      <td>2.681669e+10</td>\n",
       "      <td>5.953484e+10</td>\n",
       "    </tr>\n",
       "    <tr>\n",
       "      <th>2</th>\n",
       "      <td>[13477.83997080021]</td>\n",
       "      <td>[3303.86427162192]</td>\n",
       "      <td>[2230.59601105275]</td>\n",
       "      <td>[790.2273346599802]</td>\n",
       "      <td>2.562280e+10</td>\n",
       "      <td>6.071248e+10</td>\n",
       "    </tr>\n",
       "    <tr>\n",
       "      <th>3</th>\n",
       "      <td>[13254.16894898398]</td>\n",
       "      <td>[3378.0765486849373]</td>\n",
       "      <td>[1888.009241659542]</td>\n",
       "      <td>[1059.8533138814694]</td>\n",
       "      <td>2.733418e+10</td>\n",
       "      <td>5.903676e+10</td>\n",
       "    </tr>\n",
       "    <tr>\n",
       "      <th>4</th>\n",
       "      <td>[13413.27570029808]</td>\n",
       "      <td>[3337.515096470517]</td>\n",
       "      <td>[2169.6063252910917]</td>\n",
       "      <td>[815.9697394945039]</td>\n",
       "      <td>2.485916e+10</td>\n",
       "      <td>6.141635e+10</td>\n",
       "    </tr>\n",
       "    <tr>\n",
       "      <th>5</th>\n",
       "      <td>[12937.101357456195]</td>\n",
       "      <td>[3160.5279126702994]</td>\n",
       "      <td>[2126.6315205037827]</td>\n",
       "      <td>[851.230816060956]</td>\n",
       "      <td>2.805667e+10</td>\n",
       "      <td>5.833751e+10</td>\n",
       "    </tr>\n",
       "    <tr>\n",
       "      <th>6</th>\n",
       "      <td>[13614.085983877147]</td>\n",
       "      <td>[3464.1633474435]</td>\n",
       "      <td>[2247.3893621667094]</td>\n",
       "      <td>[832.6604715126866]</td>\n",
       "      <td>2.188803e+10</td>\n",
       "      <td>6.448979e+10</td>\n",
       "    </tr>\n",
       "    <tr>\n",
       "      <th>7</th>\n",
       "      <td>[13098.554588503204]</td>\n",
       "      <td>[3544.8116222953245]</td>\n",
       "      <td>[1913.055147435476]</td>\n",
       "      <td>[577.1672872265862]</td>\n",
       "      <td>2.680380e+10</td>\n",
       "      <td>5.952613e+10</td>\n",
       "    </tr>\n",
       "    <tr>\n",
       "      <th>8</th>\n",
       "      <td>[13528.695143513898]</td>\n",
       "      <td>[3195.5491409027104]</td>\n",
       "      <td>[2225.05889401268]</td>\n",
       "      <td>[356.8982824489853]</td>\n",
       "      <td>2.416453e+10</td>\n",
       "      <td>6.221197e+10</td>\n",
       "    </tr>\n",
       "    <tr>\n",
       "      <th>9</th>\n",
       "      <td>[13678.903676720085]</td>\n",
       "      <td>[2975.9522329614215]</td>\n",
       "      <td>[2393.92932893499]</td>\n",
       "      <td>[649.2222226290323]</td>\n",
       "      <td>2.381970e+10</td>\n",
       "      <td>6.281163e+10</td>\n",
       "    </tr>\n",
       "    <tr>\n",
       "      <th>10</th>\n",
       "      <td>[13377.524735747877]</td>\n",
       "      <td>[3158.3828317483403]</td>\n",
       "      <td>[2131.4149321784253]</td>\n",
       "      <td>[672.8547082324415]</td>\n",
       "      <td>2.649470e+10</td>\n",
       "      <td>5.979005e+10</td>\n",
       "    </tr>\n",
       "    <tr>\n",
       "      <th>11</th>\n",
       "      <td>[13274.83553415491]</td>\n",
       "      <td>[3243.888151612416]</td>\n",
       "      <td>[1985.4648610996962]</td>\n",
       "      <td>[678.1404999296076]</td>\n",
       "      <td>2.485240e+10</td>\n",
       "      <td>6.140602e+10</td>\n",
       "    </tr>\n",
       "    <tr>\n",
       "      <th>12</th>\n",
       "      <td>[13188.07624793697]</td>\n",
       "      <td>[3789.451123161389]</td>\n",
       "      <td>[2301.537295519436]</td>\n",
       "      <td>[629.5083397074835]</td>\n",
       "      <td>2.756564e+10</td>\n",
       "      <td>5.885873e+10</td>\n",
       "    </tr>\n",
       "    <tr>\n",
       "      <th>13</th>\n",
       "      <td>[13437.48134131303]</td>\n",
       "      <td>[3578.449552159568]</td>\n",
       "      <td>[2144.9213721973147]</td>\n",
       "      <td>[779.1544610720988]</td>\n",
       "      <td>2.502616e+10</td>\n",
       "      <td>6.123135e+10</td>\n",
       "    </tr>\n",
       "    <tr>\n",
       "      <th>14</th>\n",
       "      <td>[13543.779665331196]</td>\n",
       "      <td>[3301.0192001147634]</td>\n",
       "      <td>[2250.4080199180707]</td>\n",
       "      <td>[724.549670402988]</td>\n",
       "      <td>2.376013e+10</td>\n",
       "      <td>6.256758e+10</td>\n",
       "    </tr>\n",
       "    <tr>\n",
       "      <th>15</th>\n",
       "      <td>[12638.097211741448]</td>\n",
       "      <td>[3121.0239335858073]</td>\n",
       "      <td>[1804.2440372217857]</td>\n",
       "      <td>[383.5949139092421]</td>\n",
       "      <td>2.939908e+10</td>\n",
       "      <td>5.744889e+10</td>\n",
       "    </tr>\n",
       "    <tr>\n",
       "      <th>16</th>\n",
       "      <td>[13444.419302530994]</td>\n",
       "      <td>[3493.8574156960362]</td>\n",
       "      <td>[1932.6189076041846]</td>\n",
       "      <td>[853.3915775666792]</td>\n",
       "      <td>2.544623e+10</td>\n",
       "      <td>6.086392e+10</td>\n",
       "    </tr>\n",
       "    <tr>\n",
       "      <th>17</th>\n",
       "      <td>[13527.599418418804]</td>\n",
       "      <td>[3550.5900519915695]</td>\n",
       "      <td>[2313.992413752898]</td>\n",
       "      <td>[397.1738582906985]</td>\n",
       "      <td>2.333508e+10</td>\n",
       "      <td>6.304335e+10</td>\n",
       "    </tr>\n",
       "    <tr>\n",
       "      <th>18</th>\n",
       "      <td>[13444.2544417938]</td>\n",
       "      <td>[3832.186297865878]</td>\n",
       "      <td>[2570.109250888178]</td>\n",
       "      <td>[935.0896569345329]</td>\n",
       "      <td>2.445608e+10</td>\n",
       "      <td>6.228622e+10</td>\n",
       "    </tr>\n",
       "    <tr>\n",
       "      <th>19</th>\n",
       "      <td>[12809.60219118483]</td>\n",
       "      <td>[3127.7829195433906]</td>\n",
       "      <td>[1641.0420861778314]</td>\n",
       "      <td>[959.1392726975589]</td>\n",
       "      <td>3.091991e+10</td>\n",
       "      <td>5.568938e+10</td>\n",
       "    </tr>\n",
       "  </tbody>\n",
       "</table>\n",
       "</div>"
      ],
      "text/plain": [
       "                      w0                    w1                    w2  \\\n",
       "0   [12953.975642360036]   [3565.153936548785]  [1797.2183016090771]   \n",
       "1   [13190.765298631411]  [3502.2479339037336]  [1975.0884079842403]   \n",
       "2    [13477.83997080021]    [3303.86427162192]    [2230.59601105275]   \n",
       "3    [13254.16894898398]  [3378.0765486849373]   [1888.009241659542]   \n",
       "4    [13413.27570029808]   [3337.515096470517]  [2169.6063252910917]   \n",
       "5   [12937.101357456195]  [3160.5279126702994]  [2126.6315205037827]   \n",
       "6   [13614.085983877147]     [3464.1633474435]  [2247.3893621667094]   \n",
       "7   [13098.554588503204]  [3544.8116222953245]   [1913.055147435476]   \n",
       "8   [13528.695143513898]  [3195.5491409027104]    [2225.05889401268]   \n",
       "9   [13678.903676720085]  [2975.9522329614215]    [2393.92932893499]   \n",
       "10  [13377.524735747877]  [3158.3828317483403]  [2131.4149321784253]   \n",
       "11   [13274.83553415491]   [3243.888151612416]  [1985.4648610996962]   \n",
       "12   [13188.07624793697]   [3789.451123161389]   [2301.537295519436]   \n",
       "13   [13437.48134131303]   [3578.449552159568]  [2144.9213721973147]   \n",
       "14  [13543.779665331196]  [3301.0192001147634]  [2250.4080199180707]   \n",
       "15  [12638.097211741448]  [3121.0239335858073]  [1804.2440372217857]   \n",
       "16  [13444.419302530994]  [3493.8574156960362]  [1932.6189076041846]   \n",
       "17  [13527.599418418804]  [3550.5900519915695]   [2313.992413752898]   \n",
       "18    [13444.2544417938]   [3832.186297865878]   [2570.109250888178]   \n",
       "19   [12809.60219118483]  [3127.7829195433906]  [1641.0420861778314]   \n",
       "\n",
       "                      w3  testing_error  training_error  \n",
       "0     [944.131387779112]   2.721124e+10    5.931968e+10  \n",
       "1   [1017.2185897042829]   2.681669e+10    5.953484e+10  \n",
       "2    [790.2273346599802]   2.562280e+10    6.071248e+10  \n",
       "3   [1059.8533138814694]   2.733418e+10    5.903676e+10  \n",
       "4    [815.9697394945039]   2.485916e+10    6.141635e+10  \n",
       "5     [851.230816060956]   2.805667e+10    5.833751e+10  \n",
       "6    [832.6604715126866]   2.188803e+10    6.448979e+10  \n",
       "7    [577.1672872265862]   2.680380e+10    5.952613e+10  \n",
       "8    [356.8982824489853]   2.416453e+10    6.221197e+10  \n",
       "9    [649.2222226290323]   2.381970e+10    6.281163e+10  \n",
       "10   [672.8547082324415]   2.649470e+10    5.979005e+10  \n",
       "11   [678.1404999296076]   2.485240e+10    6.140602e+10  \n",
       "12   [629.5083397074835]   2.756564e+10    5.885873e+10  \n",
       "13   [779.1544610720988]   2.502616e+10    6.123135e+10  \n",
       "14    [724.549670402988]   2.376013e+10    6.256758e+10  \n",
       "15   [383.5949139092421]   2.939908e+10    5.744889e+10  \n",
       "16   [853.3915775666792]   2.544623e+10    6.086392e+10  \n",
       "17   [397.1738582906985]   2.333508e+10    6.304335e+10  \n",
       "18   [935.0896569345329]   2.445608e+10    6.228622e+10  \n",
       "19   [959.1392726975589]   3.091991e+10    5.568938e+10  "
      ]
     },
     "execution_count": 16,
     "metadata": {},
     "output_type": "execute_result"
    }
   ],
   "source": [
    "lr_models.models1"
   ]
  },
  {
   "cell_type": "code",
   "execution_count": 17,
   "metadata": {},
   "outputs": [
    {
     "data": {
      "text/html": [
       "<div>\n",
       "<style scoped>\n",
       "    .dataframe tbody tr th:only-of-type {\n",
       "        vertical-align: middle;\n",
       "    }\n",
       "\n",
       "    .dataframe tbody tr th {\n",
       "        vertical-align: top;\n",
       "    }\n",
       "\n",
       "    .dataframe thead th {\n",
       "        text-align: right;\n",
       "    }\n",
       "</style>\n",
       "<table border=\"1\" class=\"dataframe\">\n",
       "  <thead>\n",
       "    <tr style=\"text-align: right;\">\n",
       "      <th></th>\n",
       "      <th>w0</th>\n",
       "      <th>w1</th>\n",
       "      <th>w2</th>\n",
       "      <th>w3</th>\n",
       "      <th>testing_error</th>\n",
       "      <th>training_error</th>\n",
       "      <th>iterations</th>\n",
       "    </tr>\n",
       "  </thead>\n",
       "  <tbody>\n",
       "    <tr>\n",
       "      <th>0</th>\n",
       "      <td>[12953.96024310307]</td>\n",
       "      <td>[3565.148265047724]</td>\n",
       "      <td>[1797.222701495846]</td>\n",
       "      <td>[944.1314931017929]</td>\n",
       "      <td>2.721124e+10</td>\n",
       "      <td>5.931968e+10</td>\n",
       "      <td>145748</td>\n",
       "    </tr>\n",
       "    <tr>\n",
       "      <th>1</th>\n",
       "      <td>[13190.750314906256]</td>\n",
       "      <td>[3502.241791240155]</td>\n",
       "      <td>[1975.0924940578113]</td>\n",
       "      <td>[1017.2222067520996]</td>\n",
       "      <td>2.681669e+10</td>\n",
       "      <td>5.953484e+10</td>\n",
       "      <td>146234</td>\n",
       "    </tr>\n",
       "    <tr>\n",
       "      <th>2</th>\n",
       "      <td>[13477.824893218722]</td>\n",
       "      <td>[3303.860618431959]</td>\n",
       "      <td>[2230.5984001352213]</td>\n",
       "      <td>[790.2284052558074]</td>\n",
       "      <td>2.562279e+10</td>\n",
       "      <td>6.071248e+10</td>\n",
       "      <td>146397</td>\n",
       "    </tr>\n",
       "    <tr>\n",
       "      <th>3</th>\n",
       "      <td>[13254.15385361536]</td>\n",
       "      <td>[3378.071853124994]</td>\n",
       "      <td>[1888.0121306743517]</td>\n",
       "      <td>[1059.8549849588344]</td>\n",
       "      <td>2.733418e+10</td>\n",
       "      <td>5.903676e+10</td>\n",
       "      <td>146206</td>\n",
       "    </tr>\n",
       "    <tr>\n",
       "      <th>4</th>\n",
       "      <td>[13413.260181054286]</td>\n",
       "      <td>[3337.51149029781]</td>\n",
       "      <td>[2169.607430536272]</td>\n",
       "      <td>[815.9715289865761]</td>\n",
       "      <td>2.485915e+10</td>\n",
       "      <td>6.141635e+10</td>\n",
       "      <td>146037</td>\n",
       "    </tr>\n",
       "    <tr>\n",
       "      <th>5</th>\n",
       "      <td>[12937.085759057096]</td>\n",
       "      <td>[3160.524701758909]</td>\n",
       "      <td>[2126.6334580929847]</td>\n",
       "      <td>[851.2305561311847]</td>\n",
       "      <td>2.805668e+10</td>\n",
       "      <td>5.833751e+10</td>\n",
       "      <td>145597</td>\n",
       "    </tr>\n",
       "    <tr>\n",
       "      <th>6</th>\n",
       "      <td>[13614.070429904985]</td>\n",
       "      <td>[3464.1587266336082]</td>\n",
       "      <td>[2247.3928059281016]</td>\n",
       "      <td>[832.6618276575506]</td>\n",
       "      <td>2.188802e+10</td>\n",
       "      <td>6.448979e+10</td>\n",
       "      <td>146172</td>\n",
       "    </tr>\n",
       "    <tr>\n",
       "      <th>7</th>\n",
       "      <td>[13098.539844603398]</td>\n",
       "      <td>[3544.8057251414707]</td>\n",
       "      <td>[1913.0598719387688]</td>\n",
       "      <td>[577.1681235179586]</td>\n",
       "      <td>2.680380e+10</td>\n",
       "      <td>5.952613e+10</td>\n",
       "      <td>146331</td>\n",
       "    </tr>\n",
       "    <tr>\n",
       "      <th>8</th>\n",
       "      <td>[13528.678679912924]</td>\n",
       "      <td>[3195.5457269611034]</td>\n",
       "      <td>[2225.0603825044986]</td>\n",
       "      <td>[356.8996193981702]</td>\n",
       "      <td>2.416452e+10</td>\n",
       "      <td>6.221197e+10</td>\n",
       "      <td>145498</td>\n",
       "    </tr>\n",
       "    <tr>\n",
       "      <th>9</th>\n",
       "      <td>[13678.88758874181]</td>\n",
       "      <td>[2975.9502625768564]</td>\n",
       "      <td>[2393.929683066972]</td>\n",
       "      <td>[649.2218335095786]</td>\n",
       "      <td>2.381969e+10</td>\n",
       "      <td>6.281163e+10</td>\n",
       "      <td>145862</td>\n",
       "    </tr>\n",
       "    <tr>\n",
       "      <th>10</th>\n",
       "      <td>[13377.509551357574]</td>\n",
       "      <td>[3158.3790478368483]</td>\n",
       "      <td>[2131.417210095063]</td>\n",
       "      <td>[672.8564702387944]</td>\n",
       "      <td>2.649470e+10</td>\n",
       "      <td>5.979005e+10</td>\n",
       "      <td>146242</td>\n",
       "    </tr>\n",
       "    <tr>\n",
       "      <th>11</th>\n",
       "      <td>[13274.820328844891]</td>\n",
       "      <td>[3243.8845581787355]</td>\n",
       "      <td>[1985.4666709004864]</td>\n",
       "      <td>[678.1418119271857]</td>\n",
       "      <td>2.485241e+10</td>\n",
       "      <td>6.140602e+10</td>\n",
       "      <td>146145</td>\n",
       "    </tr>\n",
       "    <tr>\n",
       "      <th>12</th>\n",
       "      <td>[13188.061019797928]</td>\n",
       "      <td>[3789.4458122662345]</td>\n",
       "      <td>[2301.541141668392]</td>\n",
       "      <td>[629.5097811802152]</td>\n",
       "      <td>2.756564e+10</td>\n",
       "      <td>5.885873e+10</td>\n",
       "      <td>146059</td>\n",
       "    </tr>\n",
       "    <tr>\n",
       "      <th>13</th>\n",
       "      <td>[13437.466243570118]</td>\n",
       "      <td>[3578.4445506577877]</td>\n",
       "      <td>[2144.9246967412582]</td>\n",
       "      <td>[779.1563168591605]</td>\n",
       "      <td>2.502616e+10</td>\n",
       "      <td>6.123135e+10</td>\n",
       "      <td>146351</td>\n",
       "    </tr>\n",
       "    <tr>\n",
       "      <th>14</th>\n",
       "      <td>[13543.764107504827]</td>\n",
       "      <td>[3301.014764082432]</td>\n",
       "      <td>[2250.411473018412]</td>\n",
       "      <td>[724.5498238798033]</td>\n",
       "      <td>2.376012e+10</td>\n",
       "      <td>6.256758e+10</td>\n",
       "      <td>146114</td>\n",
       "    </tr>\n",
       "    <tr>\n",
       "      <th>15</th>\n",
       "      <td>[12638.08174566505]</td>\n",
       "      <td>[3121.0197277970624]</td>\n",
       "      <td>[1804.2461769526315]</td>\n",
       "      <td>[383.5967396288762]</td>\n",
       "      <td>2.939910e+10</td>\n",
       "      <td>5.744889e+10</td>\n",
       "      <td>145438</td>\n",
       "    </tr>\n",
       "    <tr>\n",
       "      <th>16</th>\n",
       "      <td>[13444.40535752632]</td>\n",
       "      <td>[3493.850475932008]</td>\n",
       "      <td>[1932.6251062464867]</td>\n",
       "      <td>[853.3921082778684]</td>\n",
       "      <td>2.544623e+10</td>\n",
       "      <td>6.086392e+10</td>\n",
       "      <td>147205</td>\n",
       "    </tr>\n",
       "    <tr>\n",
       "      <th>17</th>\n",
       "      <td>[13527.583426799234]</td>\n",
       "      <td>[3550.585360132843]</td>\n",
       "      <td>[2313.9946653324314]</td>\n",
       "      <td>[397.17622157198974]</td>\n",
       "      <td>2.333507e+10</td>\n",
       "      <td>6.304335e+10</td>\n",
       "      <td>145808</td>\n",
       "    </tr>\n",
       "    <tr>\n",
       "      <th>18</th>\n",
       "      <td>[13444.238218862374]</td>\n",
       "      <td>[3832.183038563619]</td>\n",
       "      <td>[2570.109435632107]</td>\n",
       "      <td>[935.0896673225901]</td>\n",
       "      <td>2.445607e+10</td>\n",
       "      <td>6.228622e+10</td>\n",
       "      <td>145588</td>\n",
       "    </tr>\n",
       "    <tr>\n",
       "      <th>19</th>\n",
       "      <td>[12809.587134572233]</td>\n",
       "      <td>[3127.7776715732994]</td>\n",
       "      <td>[1641.046112019444]</td>\n",
       "      <td>[959.140701053152]</td>\n",
       "      <td>3.091992e+10</td>\n",
       "      <td>5.568938e+10</td>\n",
       "      <td>145869</td>\n",
       "    </tr>\n",
       "  </tbody>\n",
       "</table>\n",
       "</div>"
      ],
      "text/plain": [
       "                      w0                    w1                    w2  \\\n",
       "0    [12953.96024310307]   [3565.148265047724]   [1797.222701495846]   \n",
       "1   [13190.750314906256]   [3502.241791240155]  [1975.0924940578113]   \n",
       "2   [13477.824893218722]   [3303.860618431959]  [2230.5984001352213]   \n",
       "3    [13254.15385361536]   [3378.071853124994]  [1888.0121306743517]   \n",
       "4   [13413.260181054286]    [3337.51149029781]   [2169.607430536272]   \n",
       "5   [12937.085759057096]   [3160.524701758909]  [2126.6334580929847]   \n",
       "6   [13614.070429904985]  [3464.1587266336082]  [2247.3928059281016]   \n",
       "7   [13098.539844603398]  [3544.8057251414707]  [1913.0598719387688]   \n",
       "8   [13528.678679912924]  [3195.5457269611034]  [2225.0603825044986]   \n",
       "9    [13678.88758874181]  [2975.9502625768564]   [2393.929683066972]   \n",
       "10  [13377.509551357574]  [3158.3790478368483]   [2131.417210095063]   \n",
       "11  [13274.820328844891]  [3243.8845581787355]  [1985.4666709004864]   \n",
       "12  [13188.061019797928]  [3789.4458122662345]   [2301.541141668392]   \n",
       "13  [13437.466243570118]  [3578.4445506577877]  [2144.9246967412582]   \n",
       "14  [13543.764107504827]   [3301.014764082432]   [2250.411473018412]   \n",
       "15   [12638.08174566505]  [3121.0197277970624]  [1804.2461769526315]   \n",
       "16   [13444.40535752632]   [3493.850475932008]  [1932.6251062464867]   \n",
       "17  [13527.583426799234]   [3550.585360132843]  [2313.9946653324314]   \n",
       "18  [13444.238218862374]   [3832.183038563619]   [2570.109435632107]   \n",
       "19  [12809.587134572233]  [3127.7776715732994]   [1641.046112019444]   \n",
       "\n",
       "                      w3  testing_error  training_error iterations  \n",
       "0    [944.1314931017929]   2.721124e+10    5.931968e+10     145748  \n",
       "1   [1017.2222067520996]   2.681669e+10    5.953484e+10     146234  \n",
       "2    [790.2284052558074]   2.562279e+10    6.071248e+10     146397  \n",
       "3   [1059.8549849588344]   2.733418e+10    5.903676e+10     146206  \n",
       "4    [815.9715289865761]   2.485915e+10    6.141635e+10     146037  \n",
       "5    [851.2305561311847]   2.805668e+10    5.833751e+10     145597  \n",
       "6    [832.6618276575506]   2.188802e+10    6.448979e+10     146172  \n",
       "7    [577.1681235179586]   2.680380e+10    5.952613e+10     146331  \n",
       "8    [356.8996193981702]   2.416452e+10    6.221197e+10     145498  \n",
       "9    [649.2218335095786]   2.381969e+10    6.281163e+10     145862  \n",
       "10   [672.8564702387944]   2.649470e+10    5.979005e+10     146242  \n",
       "11   [678.1418119271857]   2.485241e+10    6.140602e+10     146145  \n",
       "12   [629.5097811802152]   2.756564e+10    5.885873e+10     146059  \n",
       "13   [779.1563168591605]   2.502616e+10    6.123135e+10     146351  \n",
       "14   [724.5498238798033]   2.376012e+10    6.256758e+10     146114  \n",
       "15   [383.5967396288762]   2.939910e+10    5.744889e+10     145438  \n",
       "16   [853.3921082778684]   2.544623e+10    6.086392e+10     147205  \n",
       "17  [397.17622157198974]   2.333507e+10    6.304335e+10     145808  \n",
       "18   [935.0896673225901]   2.445607e+10    6.228622e+10     145588  \n",
       "19    [959.140701053152]   3.091992e+10    5.568938e+10     145869  "
      ]
     },
     "execution_count": 17,
     "metadata": {},
     "output_type": "execute_result"
    }
   ],
   "source": [
    "lr_models.models2"
   ]
  },
  {
   "cell_type": "code",
   "execution_count": 18,
   "metadata": {},
   "outputs": [
    {
     "data": {
      "text/html": [
       "<div>\n",
       "<style scoped>\n",
       "    .dataframe tbody tr th:only-of-type {\n",
       "        vertical-align: middle;\n",
       "    }\n",
       "\n",
       "    .dataframe tbody tr th {\n",
       "        vertical-align: top;\n",
       "    }\n",
       "\n",
       "    .dataframe thead th {\n",
       "        text-align: right;\n",
       "    }\n",
       "</style>\n",
       "<table border=\"1\" class=\"dataframe\">\n",
       "  <thead>\n",
       "    <tr style=\"text-align: right;\">\n",
       "      <th></th>\n",
       "      <th>w0</th>\n",
       "      <th>w1</th>\n",
       "      <th>w2</th>\n",
       "      <th>w3</th>\n",
       "      <th>testing_error</th>\n",
       "      <th>training_error</th>\n",
       "      <th>iterations</th>\n",
       "    </tr>\n",
       "  </thead>\n",
       "  <tbody>\n",
       "    <tr>\n",
       "      <th>0</th>\n",
       "      <td>[12945.850300176444]</td>\n",
       "      <td>[3562.9000319925135]</td>\n",
       "      <td>[1799.8079234454735]</td>\n",
       "      <td>[944.7637689629065]</td>\n",
       "      <td>2.721358e+10</td>\n",
       "      <td>5.931971e+10</td>\n",
       "      <td>745220</td>\n",
       "    </tr>\n",
       "    <tr>\n",
       "      <th>1</th>\n",
       "      <td>[13185.407449116487]</td>\n",
       "      <td>[3501.5315155360104]</td>\n",
       "      <td>[1973.1043332646714]</td>\n",
       "      <td>[1018.9347416360016]</td>\n",
       "      <td>2.681804e+10</td>\n",
       "      <td>5.953485e+10</td>\n",
       "      <td>778314</td>\n",
       "    </tr>\n",
       "    <tr>\n",
       "      <th>2</th>\n",
       "      <td>[13472.265512795131]</td>\n",
       "      <td>[3301.2542565944814]</td>\n",
       "      <td>[2229.6007151658746]</td>\n",
       "      <td>[789.1484162138535]</td>\n",
       "      <td>2.562090e+10</td>\n",
       "      <td>6.071250e+10</td>\n",
       "      <td>786387</td>\n",
       "    </tr>\n",
       "    <tr>\n",
       "      <th>3</th>\n",
       "      <td>[13251.687010729718]</td>\n",
       "      <td>[3376.3559325387932]</td>\n",
       "      <td>[1889.1678111244266]</td>\n",
       "      <td>[1060.8362094571007]</td>\n",
       "      <td>2.733453e+10</td>\n",
       "      <td>5.903677e+10</td>\n",
       "      <td>810065</td>\n",
       "    </tr>\n",
       "    <tr>\n",
       "      <th>4</th>\n",
       "      <td>[13406.57879976333]</td>\n",
       "      <td>[3334.3509174826336]</td>\n",
       "      <td>[2167.2189187315676]</td>\n",
       "      <td>[815.3277114727235]</td>\n",
       "      <td>2.485738e+10</td>\n",
       "      <td>6.141638e+10</td>\n",
       "      <td>771309</td>\n",
       "    </tr>\n",
       "    <tr>\n",
       "      <th>5</th>\n",
       "      <td>[12935.47893869259]</td>\n",
       "      <td>[3159.941428366698]</td>\n",
       "      <td>[2129.1090421105587]</td>\n",
       "      <td>[852.4715761851593]</td>\n",
       "      <td>2.805813e+10</td>\n",
       "      <td>5.833751e+10</td>\n",
       "      <td>849555</td>\n",
       "    </tr>\n",
       "    <tr>\n",
       "      <th>6</th>\n",
       "      <td>[13593.403644381806]</td>\n",
       "      <td>[3460.823248108282]</td>\n",
       "      <td>[2247.073807574159]</td>\n",
       "      <td>[833.345492899195]</td>\n",
       "      <td>2.187817e+10</td>\n",
       "      <td>6.448999e+10</td>\n",
       "      <td>648729</td>\n",
       "    </tr>\n",
       "    <tr>\n",
       "      <th>7</th>\n",
       "      <td>[13096.781211115904]</td>\n",
       "      <td>[3544.181254931719]</td>\n",
       "      <td>[1913.1626093651562]</td>\n",
       "      <td>[576.3316789899666]</td>\n",
       "      <td>2.680415e+10</td>\n",
       "      <td>5.952614e+10</td>\n",
       "      <td>881455</td>\n",
       "    </tr>\n",
       "    <tr>\n",
       "      <th>8</th>\n",
       "      <td>[13527.801757223824]</td>\n",
       "      <td>[3195.792279690103]</td>\n",
       "      <td>[2227.321463807617]</td>\n",
       "      <td>[357.8279338904399]</td>\n",
       "      <td>2.416432e+10</td>\n",
       "      <td>6.221197e+10</td>\n",
       "      <td>904300</td>\n",
       "    </tr>\n",
       "    <tr>\n",
       "      <th>9</th>\n",
       "      <td>[13676.051012770906]</td>\n",
       "      <td>[2974.137107448426]</td>\n",
       "      <td>[2395.0946963444503]</td>\n",
       "      <td>[648.8576417337638]</td>\n",
       "      <td>2.381946e+10</td>\n",
       "      <td>6.281163e+10</td>\n",
       "      <td>850464</td>\n",
       "    </tr>\n",
       "    <tr>\n",
       "      <th>10</th>\n",
       "      <td>[13375.754265622936]</td>\n",
       "      <td>[3158.236311785545]</td>\n",
       "      <td>[2131.9794399943416]</td>\n",
       "      <td>[673.9535160095118]</td>\n",
       "      <td>2.649456e+10</td>\n",
       "      <td>5.979005e+10</td>\n",
       "      <td>876516</td>\n",
       "    </tr>\n",
       "    <tr>\n",
       "      <th>11</th>\n",
       "      <td>[13271.632937455128]</td>\n",
       "      <td>[3241.681790270921]</td>\n",
       "      <td>[1987.262556743568]</td>\n",
       "      <td>[679.0125597592148]</td>\n",
       "      <td>2.485264e+10</td>\n",
       "      <td>6.140603e+10</td>\n",
       "      <td>823191</td>\n",
       "    </tr>\n",
       "    <tr>\n",
       "      <th>12</th>\n",
       "      <td>[13185.84388618381]</td>\n",
       "      <td>[3787.3962472491125]</td>\n",
       "      <td>[2301.543780390992]</td>\n",
       "      <td>[628.051633161009]</td>\n",
       "      <td>2.756468e+10</td>\n",
       "      <td>5.885873e+10</td>\n",
       "      <td>830935</td>\n",
       "    </tr>\n",
       "    <tr>\n",
       "      <th>13</th>\n",
       "      <td>[13431.138222504138]</td>\n",
       "      <td>[3577.4791493688176]</td>\n",
       "      <td>[2142.8730314707427]</td>\n",
       "      <td>[779.6511353335889]</td>\n",
       "      <td>2.502421e+10</td>\n",
       "      <td>6.123137e+10</td>\n",
       "      <td>794928</td>\n",
       "    </tr>\n",
       "    <tr>\n",
       "      <th>14</th>\n",
       "      <td>[13538.718954523087]</td>\n",
       "      <td>[3297.754926484504]</td>\n",
       "      <td>[2251.965236007026]</td>\n",
       "      <td>[726.2930896441339]</td>\n",
       "      <td>2.375902e+10</td>\n",
       "      <td>6.256760e+10</td>\n",
       "      <td>776087</td>\n",
       "    </tr>\n",
       "    <tr>\n",
       "      <th>15</th>\n",
       "      <td>[12634.515529734537]</td>\n",
       "      <td>[3120.9280300823343]</td>\n",
       "      <td>[1806.106376176265]</td>\n",
       "      <td>[383.3547284455]</td>\n",
       "      <td>2.940156e+10</td>\n",
       "      <td>5.744889e+10</td>\n",
       "      <td>776663</td>\n",
       "    </tr>\n",
       "    <tr>\n",
       "      <th>16</th>\n",
       "      <td>[13440.339646810444]</td>\n",
       "      <td>[3491.7725778404424]</td>\n",
       "      <td>[1933.435791853601]</td>\n",
       "      <td>[851.4814826188949]</td>\n",
       "      <td>2.544434e+10</td>\n",
       "      <td>6.086393e+10</td>\n",
       "      <td>822128</td>\n",
       "    </tr>\n",
       "    <tr>\n",
       "      <th>17</th>\n",
       "      <td>[13528.912833420834]</td>\n",
       "      <td>[3549.649987908326]</td>\n",
       "      <td>[2316.649986897719]</td>\n",
       "      <td>[397.0796551999095]</td>\n",
       "      <td>2.333633e+10</td>\n",
       "      <td>6.304336e+10</td>\n",
       "      <td>904948</td>\n",
       "    </tr>\n",
       "    <tr>\n",
       "      <th>18</th>\n",
       "      <td>[13437.912475775282]</td>\n",
       "      <td>[3830.5208251731146]</td>\n",
       "      <td>[2568.0765117015358]</td>\n",
       "      <td>[933.7845495735436]</td>\n",
       "      <td>2.445126e+10</td>\n",
       "      <td>6.228624e+10</td>\n",
       "      <td>785762</td>\n",
       "    </tr>\n",
       "    <tr>\n",
       "      <th>19</th>\n",
       "      <td>[12806.639894736183]</td>\n",
       "      <td>[3127.859051903098]</td>\n",
       "      <td>[1640.3200658466212]</td>\n",
       "      <td>[959.7402446843303]</td>\n",
       "      <td>3.092235e+10</td>\n",
       "      <td>5.568939e+10</td>\n",
       "      <td>823502</td>\n",
       "    </tr>\n",
       "  </tbody>\n",
       "</table>\n",
       "</div>"
      ],
      "text/plain": [
       "                      w0                    w1                    w2  \\\n",
       "0   [12945.850300176444]  [3562.9000319925135]  [1799.8079234454735]   \n",
       "1   [13185.407449116487]  [3501.5315155360104]  [1973.1043332646714]   \n",
       "2   [13472.265512795131]  [3301.2542565944814]  [2229.6007151658746]   \n",
       "3   [13251.687010729718]  [3376.3559325387932]  [1889.1678111244266]   \n",
       "4    [13406.57879976333]  [3334.3509174826336]  [2167.2189187315676]   \n",
       "5    [12935.47893869259]   [3159.941428366698]  [2129.1090421105587]   \n",
       "6   [13593.403644381806]   [3460.823248108282]   [2247.073807574159]   \n",
       "7   [13096.781211115904]   [3544.181254931719]  [1913.1626093651562]   \n",
       "8   [13527.801757223824]   [3195.792279690103]   [2227.321463807617]   \n",
       "9   [13676.051012770906]   [2974.137107448426]  [2395.0946963444503]   \n",
       "10  [13375.754265622936]   [3158.236311785545]  [2131.9794399943416]   \n",
       "11  [13271.632937455128]   [3241.681790270921]   [1987.262556743568]   \n",
       "12   [13185.84388618381]  [3787.3962472491125]   [2301.543780390992]   \n",
       "13  [13431.138222504138]  [3577.4791493688176]  [2142.8730314707427]   \n",
       "14  [13538.718954523087]   [3297.754926484504]   [2251.965236007026]   \n",
       "15  [12634.515529734537]  [3120.9280300823343]   [1806.106376176265]   \n",
       "16  [13440.339646810444]  [3491.7725778404424]   [1933.435791853601]   \n",
       "17  [13528.912833420834]   [3549.649987908326]   [2316.649986897719]   \n",
       "18  [13437.912475775282]  [3830.5208251731146]  [2568.0765117015358]   \n",
       "19  [12806.639894736183]   [3127.859051903098]  [1640.3200658466212]   \n",
       "\n",
       "                      w3  testing_error  training_error iterations  \n",
       "0    [944.7637689629065]   2.721358e+10    5.931971e+10     745220  \n",
       "1   [1018.9347416360016]   2.681804e+10    5.953485e+10     778314  \n",
       "2    [789.1484162138535]   2.562090e+10    6.071250e+10     786387  \n",
       "3   [1060.8362094571007]   2.733453e+10    5.903677e+10     810065  \n",
       "4    [815.3277114727235]   2.485738e+10    6.141638e+10     771309  \n",
       "5    [852.4715761851593]   2.805813e+10    5.833751e+10     849555  \n",
       "6     [833.345492899195]   2.187817e+10    6.448999e+10     648729  \n",
       "7    [576.3316789899666]   2.680415e+10    5.952614e+10     881455  \n",
       "8    [357.8279338904399]   2.416432e+10    6.221197e+10     904300  \n",
       "9    [648.8576417337638]   2.381946e+10    6.281163e+10     850464  \n",
       "10   [673.9535160095118]   2.649456e+10    5.979005e+10     876516  \n",
       "11   [679.0125597592148]   2.485264e+10    6.140603e+10     823191  \n",
       "12    [628.051633161009]   2.756468e+10    5.885873e+10     830935  \n",
       "13   [779.6511353335889]   2.502421e+10    6.123137e+10     794928  \n",
       "14   [726.2930896441339]   2.375902e+10    6.256760e+10     776087  \n",
       "15      [383.3547284455]   2.940156e+10    5.744889e+10     776663  \n",
       "16   [851.4814826188949]   2.544434e+10    6.086393e+10     822128  \n",
       "17   [397.0796551999095]   2.333633e+10    6.304336e+10     904948  \n",
       "18   [933.7845495735436]   2.445126e+10    6.228624e+10     785762  \n",
       "19   [959.7402446843303]   3.092235e+10    5.568939e+10     823502  "
      ]
     },
     "execution_count": 18,
     "metadata": {},
     "output_type": "execute_result"
    }
   ],
   "source": [
    "lr_models.models3"
   ]
  },
  {
   "cell_type": "markdown",
   "metadata": {},
   "source": [
    "-------------------------------------------------------------------------------------------------------------------------------"
   ]
  },
  {
   "cell_type": "markdown",
   "metadata": {},
   "source": [
    "## Report"
   ]
  },
  {
   "cell_type": "markdown",
   "metadata": {},
   "source": [
    "### Pre-Processing:\n",
    "__1. Shuffling the data:__ The dataset was randomly shuffled to ensure the split into train and test data remains random and the model is general.<br>\n",
    "__2. Splitting the data:__ The dataset was split into training and testing data in 7:3 ratio in order.<br>\n",
    "__3. Standardising the data:__ The feature attributes of the training and testing datasets were standardised separately to prevent leakage of testing data into training data. Finally, the Panda Series were converted into Numpy Arrays for easier and faster computation.<br>"
   ]
  },
  {
   "cell_type": "markdown",
   "metadata": {},
   "source": [
    "### Describe Regression Models"
   ]
  },
  {
   "cell_type": "code",
   "execution_count": 19,
   "metadata": {},
   "outputs": [
    {
     "data": {
      "text/html": [
       "<div>\n",
       "<style scoped>\n",
       "    .dataframe tbody tr th:only-of-type {\n",
       "        vertical-align: middle;\n",
       "    }\n",
       "\n",
       "    .dataframe tbody tr th {\n",
       "        vertical-align: top;\n",
       "    }\n",
       "\n",
       "    .dataframe thead th {\n",
       "        text-align: right;\n",
       "    }\n",
       "</style>\n",
       "<table border=\"1\" class=\"dataframe\">\n",
       "  <thead>\n",
       "    <tr style=\"text-align: right;\">\n",
       "      <th></th>\n",
       "      <th>testing_error</th>\n",
       "      <th>training_error</th>\n",
       "    </tr>\n",
       "  </thead>\n",
       "  <tbody>\n",
       "    <tr>\n",
       "      <th>count</th>\n",
       "      <td>2.000000e+01</td>\n",
       "      <td>2.000000e+01</td>\n",
       "    </tr>\n",
       "    <tr>\n",
       "      <th>mean</th>\n",
       "      <td>2.589161e+10</td>\n",
       "      <td>6.052913e+10</td>\n",
       "    </tr>\n",
       "    <tr>\n",
       "      <th>std</th>\n",
       "      <td>2.183186e+09</td>\n",
       "      <td>2.130267e+09</td>\n",
       "    </tr>\n",
       "    <tr>\n",
       "      <th>min</th>\n",
       "      <td>2.188803e+10</td>\n",
       "      <td>5.568938e+10</td>\n",
       "    </tr>\n",
       "    <tr>\n",
       "      <th>25%</th>\n",
       "      <td>2.438319e+10</td>\n",
       "      <td>5.924895e+10</td>\n",
       "    </tr>\n",
       "    <tr>\n",
       "      <th>50%</th>\n",
       "      <td>2.553451e+10</td>\n",
       "      <td>6.078820e+10</td>\n",
       "    </tr>\n",
       "    <tr>\n",
       "      <th>75%</th>\n",
       "      <td>2.724197e+10</td>\n",
       "      <td>6.223053e+10</td>\n",
       "    </tr>\n",
       "    <tr>\n",
       "      <th>max</th>\n",
       "      <td>3.091991e+10</td>\n",
       "      <td>6.448979e+10</td>\n",
       "    </tr>\n",
       "  </tbody>\n",
       "</table>\n",
       "</div>"
      ],
      "text/plain": [
       "       testing_error  training_error\n",
       "count   2.000000e+01    2.000000e+01\n",
       "mean    2.589161e+10    6.052913e+10\n",
       "std     2.183186e+09    2.130267e+09\n",
       "min     2.188803e+10    5.568938e+10\n",
       "25%     2.438319e+10    5.924895e+10\n",
       "50%     2.553451e+10    6.078820e+10\n",
       "75%     2.724197e+10    6.223053e+10\n",
       "max     3.091991e+10    6.448979e+10"
      ]
     },
     "execution_count": 19,
     "metadata": {},
     "output_type": "execute_result"
    }
   ],
   "source": [
    "lr_models.models1.describe()"
   ]
  },
  {
   "cell_type": "code",
   "execution_count": 20,
   "metadata": {},
   "outputs": [
    {
     "data": {
      "text/html": [
       "<div>\n",
       "<style scoped>\n",
       "    .dataframe tbody tr th:only-of-type {\n",
       "        vertical-align: middle;\n",
       "    }\n",
       "\n",
       "    .dataframe tbody tr th {\n",
       "        vertical-align: top;\n",
       "    }\n",
       "\n",
       "    .dataframe thead th {\n",
       "        text-align: right;\n",
       "    }\n",
       "</style>\n",
       "<table border=\"1\" class=\"dataframe\">\n",
       "  <thead>\n",
       "    <tr style=\"text-align: right;\">\n",
       "      <th></th>\n",
       "      <th>testing_error</th>\n",
       "      <th>training_error</th>\n",
       "    </tr>\n",
       "  </thead>\n",
       "  <tbody>\n",
       "    <tr>\n",
       "      <th>count</th>\n",
       "      <td>2.000000e+01</td>\n",
       "      <td>2.000000e+01</td>\n",
       "    </tr>\n",
       "    <tr>\n",
       "      <th>mean</th>\n",
       "      <td>2.589161e+10</td>\n",
       "      <td>6.052913e+10</td>\n",
       "    </tr>\n",
       "    <tr>\n",
       "      <th>std</th>\n",
       "      <td>2.183191e+09</td>\n",
       "      <td>2.130267e+09</td>\n",
       "    </tr>\n",
       "    <tr>\n",
       "      <th>min</th>\n",
       "      <td>2.188802e+10</td>\n",
       "      <td>5.568938e+10</td>\n",
       "    </tr>\n",
       "    <tr>\n",
       "      <th>25%</th>\n",
       "      <td>2.438318e+10</td>\n",
       "      <td>5.924895e+10</td>\n",
       "    </tr>\n",
       "    <tr>\n",
       "      <th>50%</th>\n",
       "      <td>2.553451e+10</td>\n",
       "      <td>6.078820e+10</td>\n",
       "    </tr>\n",
       "    <tr>\n",
       "      <th>75%</th>\n",
       "      <td>2.724198e+10</td>\n",
       "      <td>6.223053e+10</td>\n",
       "    </tr>\n",
       "    <tr>\n",
       "      <th>max</th>\n",
       "      <td>3.091992e+10</td>\n",
       "      <td>6.448979e+10</td>\n",
       "    </tr>\n",
       "  </tbody>\n",
       "</table>\n",
       "</div>"
      ],
      "text/plain": [
       "       testing_error  training_error\n",
       "count   2.000000e+01    2.000000e+01\n",
       "mean    2.589161e+10    6.052913e+10\n",
       "std     2.183191e+09    2.130267e+09\n",
       "min     2.188802e+10    5.568938e+10\n",
       "25%     2.438318e+10    5.924895e+10\n",
       "50%     2.553451e+10    6.078820e+10\n",
       "75%     2.724198e+10    6.223053e+10\n",
       "max     3.091992e+10    6.448979e+10"
      ]
     },
     "execution_count": 20,
     "metadata": {},
     "output_type": "execute_result"
    }
   ],
   "source": [
    "lr_models.models2.describe()"
   ]
  },
  {
   "cell_type": "code",
   "execution_count": 21,
   "metadata": {},
   "outputs": [
    {
     "data": {
      "text/html": [
       "<div>\n",
       "<style scoped>\n",
       "    .dataframe tbody tr th:only-of-type {\n",
       "        vertical-align: middle;\n",
       "    }\n",
       "\n",
       "    .dataframe tbody tr th {\n",
       "        vertical-align: top;\n",
       "    }\n",
       "\n",
       "    .dataframe thead th {\n",
       "        text-align: right;\n",
       "    }\n",
       "</style>\n",
       "<table border=\"1\" class=\"dataframe\">\n",
       "  <thead>\n",
       "    <tr style=\"text-align: right;\">\n",
       "      <th></th>\n",
       "      <th>testing_error</th>\n",
       "      <th>training_error</th>\n",
       "    </tr>\n",
       "  </thead>\n",
       "  <tbody>\n",
       "    <tr>\n",
       "      <th>count</th>\n",
       "      <td>2.000000e+01</td>\n",
       "      <td>2.000000e+01</td>\n",
       "    </tr>\n",
       "    <tr>\n",
       "      <th>mean</th>\n",
       "      <td>2.589098e+10</td>\n",
       "      <td>6.052915e+10</td>\n",
       "    </tr>\n",
       "    <tr>\n",
       "      <th>std</th>\n",
       "      <td>2.185082e+09</td>\n",
       "      <td>2.130288e+09</td>\n",
       "    </tr>\n",
       "    <tr>\n",
       "      <th>min</th>\n",
       "      <td>2.187817e+10</td>\n",
       "      <td>5.568939e+10</td>\n",
       "    </tr>\n",
       "    <tr>\n",
       "      <th>25%</th>\n",
       "      <td>2.437952e+10</td>\n",
       "      <td>5.924898e+10</td>\n",
       "    </tr>\n",
       "    <tr>\n",
       "      <th>50%</th>\n",
       "      <td>2.553262e+10</td>\n",
       "      <td>6.078822e+10</td>\n",
       "    </tr>\n",
       "    <tr>\n",
       "      <th>75%</th>\n",
       "      <td>2.724382e+10</td>\n",
       "      <td>6.223054e+10</td>\n",
       "    </tr>\n",
       "    <tr>\n",
       "      <th>max</th>\n",
       "      <td>3.092235e+10</td>\n",
       "      <td>6.448999e+10</td>\n",
       "    </tr>\n",
       "  </tbody>\n",
       "</table>\n",
       "</div>"
      ],
      "text/plain": [
       "       testing_error  training_error\n",
       "count   2.000000e+01    2.000000e+01\n",
       "mean    2.589098e+10    6.052915e+10\n",
       "std     2.185082e+09    2.130288e+09\n",
       "min     2.187817e+10    5.568939e+10\n",
       "25%     2.437952e+10    5.924898e+10\n",
       "50%     2.553262e+10    6.078822e+10\n",
       "75%     2.724382e+10    6.223054e+10\n",
       "max     3.092235e+10    6.448999e+10"
      ]
     },
     "execution_count": 21,
     "metadata": {},
     "output_type": "execute_result"
    }
   ],
   "source": [
    "lr_models.models3.describe()"
   ]
  },
  {
   "cell_type": "markdown",
   "metadata": {},
   "source": [
    "### Model:"
   ]
  },
  {
   "cell_type": "markdown",
   "metadata": {},
   "source": [
    "Three models were generated, one by solving Normal Equations, one by Gradient Descent and another by Stochastic Gradient Descent after each random shuffle and split of the dataset. The intercept of the models was close to 13000 as expected, which is the mean of the target attribute. Sum of squares of errors was used to represent the accuracy of the predictive model. All three algorithms yieled very similar predictive linear regression models."
   ]
  },
  {
   "cell_type": "markdown",
   "metadata": {},
   "source": [
    "### Algorithms:"
   ]
  },
  {
   "cell_type": "markdown",
   "metadata": {},
   "source": [
    "### Mean, Variance and Minimum of Training Error"
   ]
  },
  {
   "cell_type": "markdown",
   "metadata": {},
   "source": [
    "__Normal Equations__"
   ]
  },
  {
   "cell_type": "code",
   "execution_count": 22,
   "metadata": {},
   "outputs": [
    {
     "name": "stdout",
     "output_type": "stream",
     "text": [
      "Mean of training error obtained over 20 regression models = 60529130937.16085\n"
     ]
    }
   ],
   "source": [
    "print(f\"Mean of training error obtained over 20 regression models = {lr_models.models1.training_error.mean()}\")"
   ]
  },
  {
   "cell_type": "code",
   "execution_count": 23,
   "metadata": {
    "scrolled": true
   },
   "outputs": [
    {
     "name": "stdout",
     "output_type": "stream",
     "text": [
      "Variance of training error obtained over 20 regression models = 4.53803876557059e+18\n"
     ]
    }
   ],
   "source": [
    "print(f\"Variance of training error obtained over 20 regression models = {lr_models.models1.training_error.var()}\")"
   ]
  },
  {
   "cell_type": "code",
   "execution_count": 24,
   "metadata": {},
   "outputs": [
    {
     "name": "stdout",
     "output_type": "stream",
     "text": [
      "Minimum training error obtained over 20 regression models = 55689381257.89566\n"
     ]
    }
   ],
   "source": [
    "print(f\"Minimum training error obtained over 20 regression models = {lr_models.models1.training_error.min()}\")"
   ]
  },
  {
   "cell_type": "markdown",
   "metadata": {},
   "source": [
    "__Gradient Descent__"
   ]
  },
  {
   "cell_type": "code",
   "execution_count": 25,
   "metadata": {},
   "outputs": [
    {
     "name": "stdout",
     "output_type": "stream",
     "text": [
      "Mean of training error obtained over 20 regression models = 60529130937.285446\n"
     ]
    }
   ],
   "source": [
    "print(f\"Mean of training error obtained over 20 regression models = {lr_models.models2.training_error.mean()}\")"
   ]
  },
  {
   "cell_type": "code",
   "execution_count": 26,
   "metadata": {},
   "outputs": [
    {
     "name": "stdout",
     "output_type": "stream",
     "text": [
      "Variance of training error obtained over 20 regression models = 4.538038765575359e+18\n"
     ]
    }
   ],
   "source": [
    "print(f\"Variance of training error obtained over 20 regression models = {lr_models.models2.training_error.var()}\")"
   ]
  },
  {
   "cell_type": "code",
   "execution_count": 27,
   "metadata": {},
   "outputs": [
    {
     "name": "stdout",
     "output_type": "stream",
     "text": [
      "Minimum training error obtained over 20 regression models = 55689381258.02037\n"
     ]
    }
   ],
   "source": [
    "print(f\"Minimum training error obtained over 20 regression models = {lr_models.models2.training_error.min()}\")"
   ]
  },
  {
   "cell_type": "markdown",
   "metadata": {},
   "source": [
    "__Stochastic Gradient Descent__"
   ]
  },
  {
   "cell_type": "code",
   "execution_count": 28,
   "metadata": {},
   "outputs": [
    {
     "name": "stdout",
     "output_type": "stream",
     "text": [
      "Mean of training error obtained over 20 regression models = 60529152717.74309\n"
     ]
    }
   ],
   "source": [
    "print(f\"Mean of training error obtained over 20 regression models = {lr_models.models3.training_error.mean()}\")"
   ]
  },
  {
   "cell_type": "code",
   "execution_count": 29,
   "metadata": {},
   "outputs": [
    {
     "name": "stdout",
     "output_type": "stream",
     "text": [
      "Variance of training error obtained over 20 regression models = 4.5381274834027704e+18\n"
     ]
    }
   ],
   "source": [
    "print(f\"Variance of training error obtained over 20 regression models = {lr_models.models3.training_error.var()}\")"
   ]
  },
  {
   "cell_type": "code",
   "execution_count": 30,
   "metadata": {},
   "outputs": [
    {
     "name": "stdout",
     "output_type": "stream",
     "text": [
      "Minimum training error obtained over 20 regression models = 55689385772.83497\n"
     ]
    }
   ],
   "source": [
    "print(f\"Minimum training error obtained over 20 regression models = {lr_models.models3.training_error.min()}\")"
   ]
  },
  {
   "cell_type": "markdown",
   "metadata": {},
   "source": [
    "### Mean, Variance and Mean of Testing Error"
   ]
  },
  {
   "cell_type": "markdown",
   "metadata": {},
   "source": [
    "__Normal Equations__"
   ]
  },
  {
   "cell_type": "code",
   "execution_count": 31,
   "metadata": {},
   "outputs": [
    {
     "name": "stdout",
     "output_type": "stream",
     "text": [
      "Mean of testing error obtained over 20 regression models = 25891610105.773758\n"
     ]
    }
   ],
   "source": [
    "print(f\"Mean of testing error obtained over 20 regression models = {lr_models.models1.testing_error.mean()}\")"
   ]
  },
  {
   "cell_type": "code",
   "execution_count": 32,
   "metadata": {},
   "outputs": [
    {
     "name": "stdout",
     "output_type": "stream",
     "text": [
      "Variance of training error obtained over 20 regression models = 4.766301987559905e+18\n"
     ]
    }
   ],
   "source": [
    "print(f\"Variance of training error obtained over 20 regression models = {lr_models.models1.testing_error.var()}\")"
   ]
  },
  {
   "cell_type": "code",
   "execution_count": 33,
   "metadata": {},
   "outputs": [
    {
     "name": "stdout",
     "output_type": "stream",
     "text": [
      "Minimum testing error obtained over 20 regression models = 21888026666.417202\n"
     ]
    }
   ],
   "source": [
    "print(f\"Minimum testing error obtained over 20 regression models = {lr_models.models1.testing_error.min()}\")"
   ]
  },
  {
   "cell_type": "markdown",
   "metadata": {},
   "source": [
    "__Gradient Descent__"
   ]
  },
  {
   "cell_type": "code",
   "execution_count": 34,
   "metadata": {},
   "outputs": [
    {
     "name": "stdout",
     "output_type": "stream",
     "text": [
      "Mean of testing error obtained over 20 regression models = 25891609427.058662\n"
     ]
    }
   ],
   "source": [
    "print(f\"Mean of testing error obtained over 20 regression models = {lr_models.models2.testing_error.mean()}\")"
   ]
  },
  {
   "cell_type": "code",
   "execution_count": 35,
   "metadata": {},
   "outputs": [
    {
     "name": "stdout",
     "output_type": "stream",
     "text": [
      "Variance of training error obtained over 20 regression models = 4.766324358881435e+18\n"
     ]
    }
   ],
   "source": [
    "print(f\"Variance of training error obtained over 20 regression models = {lr_models.models2.testing_error.var()}\")"
   ]
  },
  {
   "cell_type": "code",
   "execution_count": 36,
   "metadata": {},
   "outputs": [
    {
     "name": "stdout",
     "output_type": "stream",
     "text": [
      "Minimum testing error obtained over 20 regression models = 21888020266.194775\n"
     ]
    }
   ],
   "source": [
    "print(f\"Minimum testing error obtained over 20 regression models = {lr_models.models2.testing_error.min()}\")"
   ]
  },
  {
   "cell_type": "markdown",
   "metadata": {},
   "source": [
    "__Stochastic Gradient Descent__"
   ]
  },
  {
   "cell_type": "code",
   "execution_count": 37,
   "metadata": {},
   "outputs": [
    {
     "name": "stdout",
     "output_type": "stream",
     "text": [
      "Mean of testing error obtained over 20 regression models = 25890980657.431393\n"
     ]
    }
   ],
   "source": [
    "print(f\"Mean of testing error obtained over 20 regression models = {lr_models.models3.testing_error.mean()}\")"
   ]
  },
  {
   "cell_type": "code",
   "execution_count": 38,
   "metadata": {},
   "outputs": [
    {
     "name": "stdout",
     "output_type": "stream",
     "text": [
      "Variance of training error obtained over 20 regression models = 4.774582926308782e+18\n"
     ]
    }
   ],
   "source": [
    "print(f\"Variance of training error obtained over 20 regression models = {lr_models.models3.testing_error.var()}\")"
   ]
  },
  {
   "cell_type": "code",
   "execution_count": 39,
   "metadata": {},
   "outputs": [
    {
     "name": "stdout",
     "output_type": "stream",
     "text": [
      "Minimum testing error obtained over 20 regression models = 21878172569.07361\n"
     ]
    }
   ],
   "source": [
    "print(f\"Minimum testing error obtained over 20 regression models = {lr_models.models3.testing_error.min()}\")"
   ]
  },
  {
   "cell_type": "markdown",
   "metadata": {},
   "source": [
    "### Plot the Convergence: Error vs Epochs"
   ]
  },
  {
   "cell_type": "markdown",
   "metadata": {},
   "source": [
    "__Plot of $E(\\omega)$ against the number of iterations of Gradient Descent__"
   ]
  },
  {
   "cell_type": "code",
   "execution_count": 40,
   "metadata": {},
   "outputs": [],
   "source": [
    "errorsGD = np.array(lr_models.errors2, dtype=object)"
   ]
  },
  {
   "cell_type": "code",
   "execution_count": 41,
   "metadata": {},
   "outputs": [
    {
     "data": {
      "image/png": "[encoded data removed]",
      "text/plain": [
       "<Figure size 432x288 with 1 Axes>"
      ]
     },
     "metadata": {
      "needs_background": "light"
     },
     "output_type": "display_data"
    }
   ],
   "source": [
    "for error in errorsGD:\n",
    "    plt.plot(error)\n",
    "    plt.xlabel(\"Iterations\")\n",
    "    plt.ylabel(\"$E(\\omega)$\")\n",
    "    plt.title(\"Values of the Error Function over Iterations of Gradient Descent\");"
   ]
  },
  {
   "cell_type": "markdown",
   "metadata": {},
   "source": [
    "__Plot of $E(\\omega)$ against the number of iterations of Stochastic Gradient Descent__"
   ]
  },
  {
   "cell_type": "code",
   "execution_count": 42,
   "metadata": {},
   "outputs": [],
   "source": [
    "errorsSGD = np.array(lr_models.errors3, dtype=object)"
   ]
  },
  {
   "cell_type": "code",
   "execution_count": 43,
   "metadata": {},
   "outputs": [
    {
     "data": {
      "image/png": "[encoded data removed]",
      "text/plain": [
       "<Figure size 432x288 with 1 Axes>"
      ]
     },
     "metadata": {
      "needs_background": "light"
     },
     "output_type": "display_data"
    }
   ],
   "source": [
    "for error in errorsSGD:\n",
    "    plt.plot(error)\n",
    "    plt.xlabel(\"Iterations\")\n",
    "    plt.ylabel(\"$E(\\omega)$\")\n",
    "    plt.title(\"Values of the Error Function over Iterations of Stochastic Gradient Descent\");"
   ]
  }
 ],
 "metadata": {
  "kernelspec": {
   "display_name": "Python 3",
   "language": "python",
   "name": "python3"
  },
  "language_info": {
   "codemirror_mode": {
    "name": "ipython",
    "version": 3
   },
   "file_extension": ".py",
   "mimetype": "text/x-python",
   "name": "python",
   "nbconvert_exporter": "python",
   "pygments_lexer": "ipython3",
   "version": "3.8.6"
  }
 },
 "nbformat": 4,
 "nbformat_minor": 4
}
