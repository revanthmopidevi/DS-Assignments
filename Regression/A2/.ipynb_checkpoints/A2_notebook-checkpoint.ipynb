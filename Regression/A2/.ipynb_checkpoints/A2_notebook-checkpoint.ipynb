{
 "cells": [
  {
   "cell_type": "markdown",
   "metadata": {},
   "source": [
    "## Import Libraries"
   ]
  },
  {
   "cell_type": "code",
   "execution_count": 43,
   "metadata": {},
   "outputs": [],
   "source": [
    "import numpy as np\n",
    "import pandas as pd\n",
    "pd.options.mode.chained_assignment = None\n",
    "import matplotlib.pyplot as plt\n",
    "plt.style.use('ggplot')\n",
    "%matplotlib inline"
   ]
  },
  {
   "cell_type": "markdown",
   "metadata": {},
   "source": [
    "-------------------------------------------------------------------------------------------------------------------------------"
   ]
  },
  {
   "cell_type": "markdown",
   "metadata": {},
   "source": [
    "## Load and Inspect Data"
   ]
  },
  {
   "cell_type": "code",
   "execution_count": 2,
   "metadata": {},
   "outputs": [
    {
     "data": {
      "text/html": [
       "<div>\n",
       "<style scoped>\n",
       "    .dataframe tbody tr th:only-of-type {\n",
       "        vertical-align: middle;\n",
       "    }\n",
       "\n",
       "    .dataframe tbody tr th {\n",
       "        vertical-align: top;\n",
       "    }\n",
       "\n",
       "    .dataframe thead th {\n",
       "        text-align: right;\n",
       "    }\n",
       "</style>\n",
       "<table border=\"1\" class=\"dataframe\">\n",
       "  <thead>\n",
       "    <tr style=\"text-align: right;\">\n",
       "      <th></th>\n",
       "      <th>age</th>\n",
       "      <th>bmi</th>\n",
       "      <th>children</th>\n",
       "      <th>charges</th>\n",
       "    </tr>\n",
       "  </thead>\n",
       "  <tbody>\n",
       "    <tr>\n",
       "      <th>0</th>\n",
       "      <td>19</td>\n",
       "      <td>27.900</td>\n",
       "      <td>0</td>\n",
       "      <td>16884.92400</td>\n",
       "    </tr>\n",
       "    <tr>\n",
       "      <th>1</th>\n",
       "      <td>18</td>\n",
       "      <td>33.770</td>\n",
       "      <td>1</td>\n",
       "      <td>1725.55230</td>\n",
       "    </tr>\n",
       "    <tr>\n",
       "      <th>2</th>\n",
       "      <td>28</td>\n",
       "      <td>33.000</td>\n",
       "      <td>3</td>\n",
       "      <td>4449.46200</td>\n",
       "    </tr>\n",
       "    <tr>\n",
       "      <th>3</th>\n",
       "      <td>33</td>\n",
       "      <td>22.705</td>\n",
       "      <td>0</td>\n",
       "      <td>21984.47061</td>\n",
       "    </tr>\n",
       "    <tr>\n",
       "      <th>4</th>\n",
       "      <td>32</td>\n",
       "      <td>28.880</td>\n",
       "      <td>0</td>\n",
       "      <td>3866.85520</td>\n",
       "    </tr>\n",
       "  </tbody>\n",
       "</table>\n",
       "</div>"
      ],
      "text/plain": [
       "   age     bmi  children      charges\n",
       "0   19  27.900         0  16884.92400\n",
       "1   18  33.770         1   1725.55230\n",
       "2   28  33.000         3   4449.46200\n",
       "3   33  22.705         0  21984.47061\n",
       "4   32  28.880         0   3866.85520"
      ]
     },
     "execution_count": 2,
     "metadata": {},
     "output_type": "execute_result"
    }
   ],
   "source": [
    "data = pd.read_csv(\"insurance.txt\")\n",
    "data.head()"
   ]
  },
  {
   "cell_type": "code",
   "execution_count": 3,
   "metadata": {},
   "outputs": [
    {
     "name": "stdout",
     "output_type": "stream",
     "text": [
      "<class 'pandas.core.frame.DataFrame'>\n",
      "RangeIndex: 1338 entries, 0 to 1337\n",
      "Data columns (total 4 columns):\n",
      " #   Column    Non-Null Count  Dtype  \n",
      "---  ------    --------------  -----  \n",
      " 0   age       1338 non-null   int64  \n",
      " 1   bmi       1338 non-null   float64\n",
      " 2   children  1338 non-null   int64  \n",
      " 3   charges   1338 non-null   float64\n",
      "dtypes: float64(2), int64(2)\n",
      "memory usage: 41.9 KB\n"
     ]
    }
   ],
   "source": [
    "data.info()"
   ]
  },
  {
   "cell_type": "code",
   "execution_count": 4,
   "metadata": {},
   "outputs": [
    {
     "data": {
      "text/html": [
       "<div>\n",
       "<style scoped>\n",
       "    .dataframe tbody tr th:only-of-type {\n",
       "        vertical-align: middle;\n",
       "    }\n",
       "\n",
       "    .dataframe tbody tr th {\n",
       "        vertical-align: top;\n",
       "    }\n",
       "\n",
       "    .dataframe thead th {\n",
       "        text-align: right;\n",
       "    }\n",
       "</style>\n",
       "<table border=\"1\" class=\"dataframe\">\n",
       "  <thead>\n",
       "    <tr style=\"text-align: right;\">\n",
       "      <th></th>\n",
       "      <th>age</th>\n",
       "      <th>bmi</th>\n",
       "      <th>children</th>\n",
       "      <th>charges</th>\n",
       "    </tr>\n",
       "  </thead>\n",
       "  <tbody>\n",
       "    <tr>\n",
       "      <th>count</th>\n",
       "      <td>1338.000000</td>\n",
       "      <td>1338.000000</td>\n",
       "      <td>1338.000000</td>\n",
       "      <td>1338.000000</td>\n",
       "    </tr>\n",
       "    <tr>\n",
       "      <th>mean</th>\n",
       "      <td>39.207025</td>\n",
       "      <td>30.663397</td>\n",
       "      <td>1.094918</td>\n",
       "      <td>13270.422265</td>\n",
       "    </tr>\n",
       "    <tr>\n",
       "      <th>std</th>\n",
       "      <td>14.049960</td>\n",
       "      <td>6.098187</td>\n",
       "      <td>1.205493</td>\n",
       "      <td>12110.011237</td>\n",
       "    </tr>\n",
       "    <tr>\n",
       "      <th>min</th>\n",
       "      <td>18.000000</td>\n",
       "      <td>15.960000</td>\n",
       "      <td>0.000000</td>\n",
       "      <td>1121.873900</td>\n",
       "    </tr>\n",
       "    <tr>\n",
       "      <th>25%</th>\n",
       "      <td>27.000000</td>\n",
       "      <td>26.296250</td>\n",
       "      <td>0.000000</td>\n",
       "      <td>4740.287150</td>\n",
       "    </tr>\n",
       "    <tr>\n",
       "      <th>50%</th>\n",
       "      <td>39.000000</td>\n",
       "      <td>30.400000</td>\n",
       "      <td>1.000000</td>\n",
       "      <td>9382.033000</td>\n",
       "    </tr>\n",
       "    <tr>\n",
       "      <th>75%</th>\n",
       "      <td>51.000000</td>\n",
       "      <td>34.693750</td>\n",
       "      <td>2.000000</td>\n",
       "      <td>16639.912515</td>\n",
       "    </tr>\n",
       "    <tr>\n",
       "      <th>max</th>\n",
       "      <td>64.000000</td>\n",
       "      <td>53.130000</td>\n",
       "      <td>5.000000</td>\n",
       "      <td>63770.428010</td>\n",
       "    </tr>\n",
       "  </tbody>\n",
       "</table>\n",
       "</div>"
      ],
      "text/plain": [
       "               age          bmi     children       charges\n",
       "count  1338.000000  1338.000000  1338.000000   1338.000000\n",
       "mean     39.207025    30.663397     1.094918  13270.422265\n",
       "std      14.049960     6.098187     1.205493  12110.011237\n",
       "min      18.000000    15.960000     0.000000   1121.873900\n",
       "25%      27.000000    26.296250     0.000000   4740.287150\n",
       "50%      39.000000    30.400000     1.000000   9382.033000\n",
       "75%      51.000000    34.693750     2.000000  16639.912515\n",
       "max      64.000000    53.130000     5.000000  63770.428010"
      ]
     },
     "execution_count": 4,
     "metadata": {},
     "output_type": "execute_result"
    }
   ],
   "source": [
    "data.describe()"
   ]
  },
  {
   "cell_type": "markdown",
   "metadata": {},
   "source": [
    "-------------------------------------------------------------------------------------------------------------------------------"
   ]
  },
  {
   "cell_type": "markdown",
   "metadata": {},
   "source": [
    "## Preprocess Data"
   ]
  },
  {
   "cell_type": "markdown",
   "metadata": {},
   "source": [
    "__The purpose of the following preprocessing is to demonstrate that the employed method is functioning correctly. However, while building regression models, the training and testing datasets are standardised separately to prevent data leakage.__"
   ]
  },
  {
   "cell_type": "code",
   "execution_count": 5,
   "metadata": {},
   "outputs": [],
   "source": [
    "column_names = list(data.columns)\n",
    "standardize = lambda x : (x - x.mean()) / x.std() "
   ]
  },
  {
   "cell_type": "markdown",
   "metadata": {},
   "source": [
    "__Standardize Data__"
   ]
  },
  {
   "cell_type": "code",
   "execution_count": 6,
   "metadata": {},
   "outputs": [],
   "source": [
    "for column in column_names:\n",
    "    data[column] = standardize(data[column])"
   ]
  },
  {
   "cell_type": "code",
   "execution_count": 8,
   "metadata": {},
   "outputs": [
    {
     "data": {
      "text/plain": [
       "age        -1.246304e-16\n",
       "bmi        -1.810543e-16\n",
       "children   -3.116590e-16\n",
       "charges    -7.218939e-17\n",
       "dtype: float64"
      ]
     },
     "execution_count": 8,
     "metadata": {},
     "output_type": "execute_result"
    }
   ],
   "source": [
    "data.mean()"
   ]
  },
  {
   "cell_type": "markdown",
   "metadata": {},
   "source": [
    "Although standardised mean should be equal to 0, in reality they are infinitesimally close to zero. Double precision floats have 53 bits or 16 digits of precision, so this is expected behavior."
   ]
  },
  {
   "cell_type": "code",
   "execution_count": 9,
   "metadata": {},
   "outputs": [
    {
     "data": {
      "text/plain": [
       "age         1.0\n",
       "bmi         1.0\n",
       "children    1.0\n",
       "charges     1.0\n",
       "dtype: float64"
      ]
     },
     "execution_count": 9,
     "metadata": {},
     "output_type": "execute_result"
    }
   ],
   "source": [
    "data.std()"
   ]
  },
  {
   "cell_type": "code",
   "execution_count": 10,
   "metadata": {},
   "outputs": [],
   "source": [
    "x1, x2, x3, y = data[\"age\"], data[\"bmi\"], data[\"children\"], data[\"charges\"]"
   ]
  },
  {
   "cell_type": "markdown",
   "metadata": {},
   "source": [
    "-------------------------------------------------------------------------------------------------------------------------------"
   ]
  },
  {
   "cell_type": "markdown",
   "metadata": {},
   "source": [
    "## Visualize Data"
   ]
  },
  {
   "cell_type": "code",
   "execution_count": 11,
   "metadata": {},
   "outputs": [
    {
     "data": {
      "image/png": "[encoded data removed]",
      "text/plain": [
       "<Figure size 432x288 with 1 Axes>"
      ]
     },
     "metadata": {
      "needs_background": "light"
     },
     "output_type": "display_data"
    }
   ],
   "source": [
    "plt.scatter(x1, y)\n",
    "plt.xlabel(\"Age\")\n",
    "plt.ylabel(\"Charges\");"
   ]
  },
  {
   "cell_type": "code",
   "execution_count": 12,
   "metadata": {},
   "outputs": [
    {
     "data": {
      "image/png": "[encoded data removed]",
      "text/plain": [
       "<Figure size 432x288 with 1 Axes>"
      ]
     },
     "metadata": {
      "needs_background": "light"
     },
     "output_type": "display_data"
    }
   ],
   "source": [
    "plt.scatter(x2, y)\n",
    "plt.xlabel(\"BMI\")\n",
    "plt.ylabel(\"Charges\");"
   ]
  },
  {
   "cell_type": "code",
   "execution_count": 13,
   "metadata": {},
   "outputs": [
    {
     "data": {
      "image/png": "[encoded data removed]",
      "text/plain": [
       "<Figure size 432x288 with 1 Axes>"
      ]
     },
     "metadata": {
      "needs_background": "light"
     },
     "output_type": "display_data"
    }
   ],
   "source": [
    "plt.scatter(x3, y)\n",
    "plt.xlabel(\"Children\")\n",
    "plt.ylabel(\"Charges\");"
   ]
  },
  {
   "cell_type": "markdown",
   "metadata": {},
   "source": [
    "-------------------------------------------------------------------------------------------------------------------------------"
   ]
  },
  {
   "cell_type": "markdown",
   "metadata": {},
   "source": [
    "## Linear Regression Algorithms"
   ]
  },
  {
   "cell_type": "markdown",
   "metadata": {},
   "source": [
    "### Linear Regression by Solving Normal Equations"
   ]
  },
  {
   "cell_type": "markdown",
   "metadata": {},
   "source": [
    "$y = w_{0} + w_{1}x_{1} + w_{2}x_{2} + w_{3}x_{3}$"
   ]
  },
  {
   "cell_type": "markdown",
   "metadata": {},
   "source": [
    "$x_{1}, x_{2}, x_{3}$ represent the age, bmi and number of children respectively. $ w_{1},w_{2}, w_{3}$ are weights associated with $x_{1}, x_{2}, x_{3}$."
   ]
  },
  {
   "cell_type": "markdown",
   "metadata": {},
   "source": [
    "$$X = \n",
    "\\begin{bmatrix} \n",
    "1 & x_{11} & x_{12} & x_{13}\\\\\n",
    "1 & x_{21} & x_{22} & x_{23}\\\\\n",
    ". & . & . & . \\\\\n",
    ". & . & . & . \\\\\n",
    "1 & x_{m1} & x_{m2} & x_{m3}\\\\\n",
    "\\end{bmatrix}\n",
    "\\quad\n",
    "$$\n",
    "$$ $$\n",
    "$$Y = \n",
    "\\begin{bmatrix} \n",
    "y_{1}\\\\\n",
    "y_{2}\\\\\n",
    ".\\\\\n",
    ".\\\\\n",
    "y_{m}\\\\\n",
    "\\end{bmatrix}\n",
    "\\quad\n",
    "$$ where $m$ = size of training data\n",
    "$$ $$\n",
    "$$ω = \n",
    "\\begin{bmatrix} \n",
    "ω_{0}\\\\\n",
    "ω_{1}\\\\\n",
    "ω_{2}\\\\\n",
    "ω_{3}\\\\\n",
    "\\end{bmatrix}\n",
    "\\quad\n",
    "$$\n",
    "$$ $$\n",
    "$$b = X^{T} . Y$$"
   ]
  },
  {
   "cell_type": "markdown",
   "metadata": {},
   "source": [
    "$$ ω = (X^{T}.X)^{-1}x^{T}.Y = (X^{T}.X)^{-1}.b$$"
   ]
  },
  {
   "cell_type": "code",
   "execution_count": 14,
   "metadata": {},
   "outputs": [],
   "source": [
    "class NE:\n",
    "    def __init__(self, data):\n",
    "        self.data = data\n",
    "        self.models = pd.DataFrame(columns = [\"w0\", \"w1\", \"w2\", \"w3\", \"testing_error\", \"training_error\"])\n",
    "        self.model = np.zeros((4, 1))\n",
    "        self.min_error = float(\"inf\")\n",
    "    \n",
    "    # shuffles data randomly\n",
    "    def __shuffle(self):\n",
    "        self.data = self.data.sample(frac = 1)\n",
    "    \n",
    "    # splits a data frame in 70:30 ratio\n",
    "    def __split(self):\n",
    "        train = self.data[:int(0.7 * len(data))]\n",
    "        test = self.data[int(0.7 * len(data)):]\n",
    "        return train, test\n",
    "    \n",
    "    # standardizes data\n",
    "    def __standardize(self, data):\n",
    "        column_names = list(data.columns)\n",
    "        standardize = lambda x : (x - x.mean()) / x.std()\n",
    "        for column in column_names:\n",
    "            data[column] = standardize(data[column])\n",
    "        return data\n",
    "    \n",
    "    # computes and returns X and Y matrices\n",
    "    def __matrices(self, train):\n",
    "        x1, x2, x3, y = train[\"age\"], train[\"bmi\"], train[\"children\"], train[\"charges\"]\n",
    "        x1, x2, x3= np.array(x1), np.array(x2), np.array(x3)\n",
    "        Y = np.array(y)\n",
    "        n = len(Y)\n",
    "        Y = Y.reshape((n, 1))\n",
    "        x0 = np.ones((n,1))\n",
    "        x1 = np.reshape(x1, (n, 1))\n",
    "        x2 = np.reshape(x2, (n, 1))\n",
    "        x3 = np.reshape(x3, (n, 1))\n",
    "        X = np.append(x0, x1, axis=1)\n",
    "        X = np.append(X, x2, axis=1)\n",
    "        X = np.append(X, x3, axis=1)\n",
    "        return X, Y\n",
    "    \n",
    "    # calculates Mean Square Error\n",
    "    def __error(self, X, Y, w):\n",
    "        Y_pred = np.dot(X, w)\n",
    "        mse = (1/2) * np.average((Y_pred-Y)**2)\n",
    "        return float(mse)\n",
    "    \n",
    "    # tests the model against testing data\n",
    "    def __testModel(self, test, w):\n",
    "        Xt, Yt = self.__matrices(test)\n",
    "        testing_error = self.__error(Xt, Yt, w)\n",
    "        return testing_error\n",
    "    \n",
    "    # main function to build models\n",
    "    def buildModels(self, number = 20):\n",
    "        for i in range(number):\n",
    "            # shuffle dataset\n",
    "            self.__shuffle()\n",
    "            # split dataset\n",
    "            train, test = self.__split()\n",
    "            # standardise training and testing data\n",
    "            train = self.__standardize(train)\n",
    "            test = self.__standardize(test)\n",
    "            # obtain X and Y matrices\n",
    "            X, Y = self.__matrices(train)\n",
    "            # obtain the best-fit model weights\n",
    "            w = self.__solve(X, Y)\n",
    "            # calculate training error\n",
    "            training_error = self.__error(X, Y, w)\n",
    "            # calculate testing error\n",
    "            testing_error = self.__testModel(test, w)\n",
    "            # append the model, errors to models dataframe\n",
    "            model = list(w)\n",
    "            model.append(testing_error)\n",
    "            model.append(training_error)\n",
    "            model = pd.Series(model, index = self.models.columns)\n",
    "            # the model with least testing error is accepted as the final model\n",
    "            self.models = self.models.append(model, ignore_index=True)\n",
    "            if self.min_error > testing_error:\n",
    "                self.min_error = testing_error\n",
    "                self.model = w\n",
    "\n",
    "    #_____________________________________________________________________#           \n",
    "    # solves normal equations and returns corresponding regression weights\n",
    "    def __solve(self, X, Y):\n",
    "        XT = np.transpose(X)\n",
    "        A = XT.dot(X)\n",
    "        A_inv = np.linalg.inv(A)\n",
    "        b = XT.dot(Y)\n",
    "        w = A_inv.dot(b)\n",
    "        return w\n",
    "    #_____________________________________________________________________#"
   ]
  },
  {
   "cell_type": "markdown",
   "metadata": {},
   "source": [
    "### Linear Regression by Gradient Descent"
   ]
  },
  {
   "cell_type": "markdown",
   "metadata": {},
   "source": [
    "$$\n",
    "E(ω) = \n",
    "\\begin{equation}\n",
    "\\frac{1}{2} * \\frac{1}{N} * \\sum_{n=0}^{N} (x_{n}*ω - y_{n})^{2} \n",
    "\\end{equation}\n",
    "$$\n",
    "$$ $$\n",
    "$$Mean Square Error$$\n",
    "$$ $$\n",
    "$$ \n",
    "\\begin{equation}\n",
    "\\frac{\\partial E(ω)}{\\partial ω} = \\frac{1}{N}*(X.ω - Y).X\n",
    "\\end{equation}\n",
    "$$\n",
    "$$ $$\n",
    "$$ Gradient$$\n",
    "$$ $$\n",
    "$$\n",
    "ω = ω - η * \\frac{\\partial E(ω)}{\\partial ω}\n",
    "$$\n",
    "$$ $$\n",
    "where $η$ is the epoch or learning rate"
   ]
  },
  {
   "cell_type": "code",
   "execution_count": 59,
   "metadata": {},
   "outputs": [],
   "source": [
    "class GD:\n",
    "    def __init__(self, data, learning_rate = 0.01):\n",
    "        self.data = data\n",
    "        self.learning_rate = learning_rate\n",
    "        self.errors = []\n",
    "        self.models = pd.DataFrame(columns = [\"w0\", \"w1\", \"w2\", \"w3\", \"testing_error\", \"training_error\", \"iterations\"])\n",
    "    \n",
    "    # shuffles data randomly\n",
    "    def __shuffle(self):\n",
    "        self.data = self.data.sample(frac = 1)\n",
    "    \n",
    "    # splits a data frame in 70:30 ratio\n",
    "    def __split(self):\n",
    "        train = self.data[:int(0.7 * len(data))]\n",
    "        test = self.data[int(0.7 * len(data)):]\n",
    "        return train, test\n",
    "    \n",
    "    # standardizes data\n",
    "    def __standardize(self, data):\n",
    "        column_names = list(data.columns)\n",
    "        standardize = lambda x : (x - x.mean()) / x.std()\n",
    "        for column in column_names:\n",
    "            data[column] = standardize(data[column])\n",
    "        return data\n",
    "    \n",
    "    # computes and returns X and Y matrices\n",
    "    def __matrices(self, train):\n",
    "        x1, x2, x3, y = train[\"age\"], train[\"bmi\"], train[\"children\"], train[\"charges\"]\n",
    "        x1 = np.array(x1)\n",
    "        x2 = np.array(x2)\n",
    "        x3 = np.array(x3)\n",
    "        Y = np.array(y)\n",
    "        n = len(Y)\n",
    "        Y = Y.reshape(n, 1)\n",
    "        x0 = np.ones((n,1))\n",
    "        x1 = np.reshape(x1, (n, 1))\n",
    "        x2 = np.reshape(x2, (n, 1))\n",
    "        x3 = np.reshape(x3, (n, 1))\n",
    "        X = np.append(x0, x1, axis=1)\n",
    "        X = np.append(X, x2, axis=1)\n",
    "        X = np.append(X, x3, axis=1)\n",
    "        return X, Y\n",
    "    \n",
    "    # calculates Mean Square Error\n",
    "    def __error(self, X, Y, w):\n",
    "        Y_pred = np.dot(X, w)\n",
    "        mse = (1/2) * np.average((Y_pred-Y)**2)\n",
    "        return float(mse)\n",
    "    \n",
    "    # tests the model against testing data\n",
    "    def __testModel(self, test, w):\n",
    "        Xt, Yt = self.__matrices(test)\n",
    "        testing_error = self.__error(Xt, Yt, w)\n",
    "        return testing_error\n",
    "\n",
    "    \n",
    "    # main function to build models\n",
    "    def buildModels(self, number = 20):\n",
    "        for i in range(number):\n",
    "            # shuffle dataset\n",
    "            self.__shuffle()\n",
    "            # split dataset\n",
    "            train, test = self.__split()\n",
    "            # standardise training and testing data\n",
    "            train = self.__standardize(train)\n",
    "            test = self.__standardize(test)\n",
    "            # obtain X and Y matrices\n",
    "            X, Y = self.__matrices(train)\n",
    "            # obtain the best-fit model weights\n",
    "            w = np.random.rand(4, 1)\n",
    "            w, model_errors , iterations = self.__gradientDescent(X, Y, w)\n",
    "            # calculate training error\n",
    "            training_error = self.__error(X, Y, w)\n",
    "            # calculate testing error\n",
    "            testing_error = self.__testModel(test, w)\n",
    "            # append the model, errors to models dataframe\n",
    "            model = list(w)\n",
    "            model.append(testing_error)\n",
    "            model.append(training_error)\n",
    "            model.append(iterations)\n",
    "            model = pd.Series(model, index = self.models.columns)\n",
    "            # the model with least testing error is accepted as the final model\n",
    "            self.models = self.models.append(model, ignore_index=True)\n",
    "            self.errors.append(model_errors)\n",
    "    #___________________________________________________________#\n",
    "    # Implements Gradient Descent Algorithm\n",
    "    def __gradientDescent(self, X, Y, w):\n",
    "        learning_rate = self.learning_rate\n",
    "        m, i = len(Y), 1\n",
    "        errors = []\n",
    "        error, prev_error = float(\"inf\"), 0\n",
    "        while abs(prev_error-error) > 1e-7:\n",
    "            prev_error = error\n",
    "            Y_pred = X.dot(w)\n",
    "            gradient = (1/m) * np.dot(X.transpose(), Y_pred- Y)\n",
    "            w -= learning_rate * gradient\n",
    "            error = self.__error(X, Y, w)\n",
    "            errors.append(error)\n",
    "            i+=1\n",
    "        return w, errors, i\n",
    "    #___________________________________________________________#"
   ]
  },
  {
   "cell_type": "markdown",
   "metadata": {},
   "source": [
    "### Linear Regression by Stochastic Gradient Descent"
   ]
  },
  {
   "cell_type": "markdown",
   "metadata": {},
   "source": [
    "$$\n",
    "E(ω) = \n",
    "\\begin{equation}\n",
    "\\frac{1}{2} * \\frac{1}{N} * \\sum_{n=0}^{N} (x_{n}*ω - y_{n})^{2} \n",
    "\\end{equation}\n",
    "$$\n",
    "$$ $$\n",
    "$$Mean Square Error$$\n",
    "$$ $$\n",
    "$$ \n",
    "\\begin{equation}\n",
    "\\frac{\\partial E(ω)}{\\partial ω} = \\frac{1}{N}*(x_{n}.ω_{n} - y_{n}).x_{}n\n",
    "\\end{equation}\n",
    "$$\n",
    "$$ $$\n",
    "$$ Gradient$$\n",
    "$$ $$\n",
    "$$\n",
    "ω = ω - η * \\frac{\\partial E(ω)}{\\partial ω}\n",
    "$$\n",
    "$$ $$\n",
    "where $η$ is the epoch or learning rate"
   ]
  },
  {
   "cell_type": "code",
   "execution_count": 149,
   "metadata": {},
   "outputs": [],
   "source": [
    "class SGD:\n",
    "    def __init__(self, data, learning_rate = 0.01):\n",
    "        self.data = data\n",
    "        self.learning_rate = learning_rate\n",
    "        self.errors = []\n",
    "        self.models = pd.DataFrame(columns = [\"w0\", \"w1\", \"w2\", \"w3\", \"testing_error\", \"training_error\", \"iterations\"])\n",
    "    \n",
    "    # shuffles data randomly\n",
    "    def __shuffle(self):\n",
    "        self.data = self.data.sample(frac = 1)\n",
    "    \n",
    "    # splits a data frame in 70:30 ratio\n",
    "    def __split(self):\n",
    "        train = self.data[:int(0.7 * len(data))]\n",
    "        test = self.data[int(0.7 * len(data)):]\n",
    "        return train, test\n",
    "    \n",
    "    # standardizes data\n",
    "    def __standardize(self, data):\n",
    "        column_names = list(data.columns)\n",
    "        standardize = lambda x : (x - x.mean()) / x.std()\n",
    "        for col in column_names:\n",
    "            data[col] = standardize(data[col])\n",
    "        return data\n",
    "    \n",
    "    # computes and returns X and Y matrices\n",
    "    def __matrices(self, train):\n",
    "        x1, x2, x3, y = train[\"age\"], train[\"bmi\"], train[\"children\"], train[\"charges\"]\n",
    "        x1 = np.array(x1)\n",
    "        x2 = np.array(x2)\n",
    "        x3 = np.array(x3)\n",
    "        Y = np.array(y)\n",
    "        n = len(Y)\n",
    "        Y = Y.reshape(n, 1)\n",
    "        x0 = np.ones((n,1))\n",
    "        x1 = np.reshape(x1, (n, 1))\n",
    "        x2 = np.reshape(x2, (n, 1))\n",
    "        x3 = np.reshape(x3, (n, 1))\n",
    "        X = np.append(x0, x1, axis=1)\n",
    "        X = np.append(X, x2, axis=1)\n",
    "        X = np.append(X, x3, axis=1)\n",
    "        return X, Y\n",
    "    \n",
    "    # calculates Mean Square Error\n",
    "    def __error(self, X, Y, w):\n",
    "        Y_pred = np.dot(X, w)\n",
    "        mse = (1/2) * np.average((Y_pred-Y)**2)\n",
    "        return float(mse)\n",
    "    \n",
    "    # tests the model against testing data\n",
    "    def __testModel(self, test, w):\n",
    "        Xt, Yt = self.__matrices(test)\n",
    "        testing_error = self.__error(Xt, Yt, w)\n",
    "        return testing_error\n",
    "    \n",
    "    # main function to build models\n",
    "    def buildModels(self, number = 20):\n",
    "        for i in range(number):\n",
    "            # shuffle dataset\n",
    "            self.__shuffle()\n",
    "            # split dataset\n",
    "            train, test = self.__split()\n",
    "            # standardise training and testing data\n",
    "            train = self.__standardize(train)\n",
    "            test = self.__standardize(test)\n",
    "            # obtain X and Y matrices\n",
    "            X, Y = self.__matrices(train)\n",
    "            # obtain the best-fit model weights\n",
    "            w = np.random.rand(4, 1)\n",
    "            w, model_errors , iterations = self.__stochasticGradientDescent(X, Y, w)\n",
    "            # calculate training error\n",
    "            training_error = self.__error(X, Y, w)\n",
    "            # calculate testing error\n",
    "            testing_error = self.__testModel(test, w)\n",
    "            # append the model, errors to models dataframe\n",
    "            model = list(w)\n",
    "            model.append(testing_error)\n",
    "            model.append(training_error)\n",
    "            model.append(iterations)\n",
    "            model = pd.Series(model, index = self.models.columns)\n",
    "            # the model with least testing error is accepted as the final model\n",
    "            self.models = self.models.append(model, ignore_index=True)\n",
    "            self.errors.append(model_errors)\n",
    "    #___________________________________________________________#\n",
    "    # Implements Gradient Descent Algorithm\n",
    "    def __stochasticGradientDescent(self, X, Y, w, learning_rate = self.learning_rate):\n",
    "        m, i = len(Y), 0\n",
    "        errors = []\n",
    "        error, prev_error = float(\"inf\"), 0\n",
    "        while abs(prev_error-error) > 1e-12:\n",
    "            prev_error = error\n",
    "            x = X[i%m].reshape(1, 4)\n",
    "            y = Y[i%m].reshape(1, 1)\n",
    "            y_pred = x.dot(w)\n",
    "            gradient = (1/m) * np.dot(x.transpose(), y_pred- y)\n",
    "            w -= learning_rate * gradient\n",
    "            error = self.__error(X, Y, w)\n",
    "            errors.append(error)\n",
    "            i+=1\n",
    "        return w, errors, i + 1\n",
    "    #___________________________________________________________#"
   ]
  },
  {
   "cell_type": "markdown",
   "metadata": {},
   "source": [
    "-------------------------------------------------------------------------------------------------------------------------------"
   ]
  },
  {
   "cell_type": "markdown",
   "metadata": {},
   "source": [
    "## Build Regression Models"
   ]
  },
  {
   "cell_type": "code",
   "execution_count": 150,
   "metadata": {},
   "outputs": [],
   "source": [
    "data = pd.read_csv(\"insurance.txt\")"
   ]
  },
  {
   "cell_type": "code",
   "execution_count": 151,
   "metadata": {},
   "outputs": [],
   "source": [
    "LRNE = NE(data)\n",
    "LRGD = GD(data)\n",
    "LRSGD = SGD(data)"
   ]
  },
  {
   "cell_type": "code",
   "execution_count": 152,
   "metadata": {},
   "outputs": [],
   "source": [
    "LRNE.buildModels(20)\n",
    "LRGD.buildModels(20)\n",
    "LRSGD.buildModels(20)"
   ]
  },
  {
   "cell_type": "code",
   "execution_count": 153,
   "metadata": {},
   "outputs": [
    {
     "data": {
      "text/html": [
       "<div>\n",
       "<style scoped>\n",
       "    .dataframe tbody tr th:only-of-type {\n",
       "        vertical-align: middle;\n",
       "    }\n",
       "\n",
       "    .dataframe tbody tr th {\n",
       "        vertical-align: top;\n",
       "    }\n",
       "\n",
       "    .dataframe thead th {\n",
       "        text-align: right;\n",
       "    }\n",
       "</style>\n",
       "<table border=\"1\" class=\"dataframe\">\n",
       "  <thead>\n",
       "    <tr style=\"text-align: right;\">\n",
       "      <th></th>\n",
       "      <th>w0</th>\n",
       "      <th>w1</th>\n",
       "      <th>w2</th>\n",
       "      <th>w3</th>\n",
       "      <th>testing_error</th>\n",
       "      <th>training_error</th>\n",
       "    </tr>\n",
       "  </thead>\n",
       "  <tbody>\n",
       "    <tr>\n",
       "      <th>0</th>\n",
       "      <td>[1.5682946419279058e-16]</td>\n",
       "      <td>[0.2756454905467548]</td>\n",
       "      <td>[0.15486798257082862]</td>\n",
       "      <td>[0.05010233675789672]</td>\n",
       "      <td>0.431394</td>\n",
       "      <td>0.442640</td>\n",
       "    </tr>\n",
       "    <tr>\n",
       "      <th>1</th>\n",
       "      <td>[1.0952591574620231e-17]</td>\n",
       "      <td>[0.2645771838311224]</td>\n",
       "      <td>[0.18753166934491988]</td>\n",
       "      <td>[0.035905653139558846]</td>\n",
       "      <td>0.442387</td>\n",
       "      <td>0.438262</td>\n",
       "    </tr>\n",
       "    <tr>\n",
       "      <th>2</th>\n",
       "      <td>[5.961657402123747e-17]</td>\n",
       "      <td>[0.2590589302410638]</td>\n",
       "      <td>[0.17191102453863635]</td>\n",
       "      <td>[0.07871607604783516]</td>\n",
       "      <td>0.432450</td>\n",
       "      <td>0.442494</td>\n",
       "    </tr>\n",
       "    <tr>\n",
       "      <th>3</th>\n",
       "      <td>[-6.687809371618477e-19]</td>\n",
       "      <td>[0.30498191060248625]</td>\n",
       "      <td>[0.1778427415813859]</td>\n",
       "      <td>[0.062371789194007085]</td>\n",
       "      <td>0.467098</td>\n",
       "      <td>0.428178</td>\n",
       "    </tr>\n",
       "    <tr>\n",
       "      <th>4</th>\n",
       "      <td>[-6.161626959915533e-17]</td>\n",
       "      <td>[0.2569958584999099]</td>\n",
       "      <td>[0.2038991829817388]</td>\n",
       "      <td>[0.050802068246092236]</td>\n",
       "      <td>0.445721</td>\n",
       "      <td>0.438177</td>\n",
       "    </tr>\n",
       "    <tr>\n",
       "      <th>5</th>\n",
       "      <td>[4.8937160711369946e-17]</td>\n",
       "      <td>[0.31766290021274063]</td>\n",
       "      <td>[0.1493953423503364]</td>\n",
       "      <td>[0.05182782801725821]</td>\n",
       "      <td>0.466918</td>\n",
       "      <td>0.429296</td>\n",
       "    </tr>\n",
       "    <tr>\n",
       "      <th>6</th>\n",
       "      <td>[6.030284236732728e-17]</td>\n",
       "      <td>[0.29765950543359265]</td>\n",
       "      <td>[0.15290271875389766]</td>\n",
       "      <td>[0.07460952181046347]</td>\n",
       "      <td>0.448787</td>\n",
       "      <td>0.436608</td>\n",
       "    </tr>\n",
       "    <tr>\n",
       "      <th>7</th>\n",
       "      <td>[-1.0051356619620026e-17]</td>\n",
       "      <td>[0.27822300953694223]</td>\n",
       "      <td>[0.15943332542703775]</td>\n",
       "      <td>[0.060202606280891136]</td>\n",
       "      <td>0.443049</td>\n",
       "      <td>0.438478</td>\n",
       "    </tr>\n",
       "    <tr>\n",
       "      <th>8</th>\n",
       "      <td>[3.2201607237971825e-17]</td>\n",
       "      <td>[0.27502274624485273]</td>\n",
       "      <td>[0.17759759677302325]</td>\n",
       "      <td>[0.06729293989173497]</td>\n",
       "      <td>0.449038</td>\n",
       "      <td>0.435849</td>\n",
       "    </tr>\n",
       "    <tr>\n",
       "      <th>9</th>\n",
       "      <td>[-7.771236454039311e-18]</td>\n",
       "      <td>[0.26249603220901274]</td>\n",
       "      <td>[0.19022468764442357]</td>\n",
       "      <td>[0.04635874471337596]</td>\n",
       "      <td>0.438376</td>\n",
       "      <td>0.440607</td>\n",
       "    </tr>\n",
       "    <tr>\n",
       "      <th>10</th>\n",
       "      <td>[6.517872372058772e-17]</td>\n",
       "      <td>[0.29427820530471555]</td>\n",
       "      <td>[0.14962699076246502]</td>\n",
       "      <td>[0.0695893129623653]</td>\n",
       "      <td>0.444723</td>\n",
       "      <td>0.437386</td>\n",
       "    </tr>\n",
       "    <tr>\n",
       "      <th>11</th>\n",
       "      <td>[2.70538513963042e-17]</td>\n",
       "      <td>[0.24861561629649295]</td>\n",
       "      <td>[0.14942273011694876]</td>\n",
       "      <td>[0.06744992447803516]</td>\n",
       "      <td>0.416442</td>\n",
       "      <td>0.451031</td>\n",
       "    </tr>\n",
       "    <tr>\n",
       "      <th>12</th>\n",
       "      <td>[-3.754491535574282e-17]</td>\n",
       "      <td>[0.28145101795663413]</td>\n",
       "      <td>[0.16162988517227372]</td>\n",
       "      <td>[0.06011904207789828]</td>\n",
       "      <td>0.436181</td>\n",
       "      <td>0.441578</td>\n",
       "    </tr>\n",
       "    <tr>\n",
       "      <th>13</th>\n",
       "      <td>[3.344436249504081e-17]</td>\n",
       "      <td>[0.27277992400726064]</td>\n",
       "      <td>[0.16031804164958036]</td>\n",
       "      <td>[0.0699885524388555]</td>\n",
       "      <td>0.440269</td>\n",
       "      <td>0.440091</td>\n",
       "    </tr>\n",
       "    <tr>\n",
       "      <th>14</th>\n",
       "      <td>[-3.9323858500871476e-17]</td>\n",
       "      <td>[0.30529646822528084]</td>\n",
       "      <td>[0.16933910844010802]</td>\n",
       "      <td>[0.011545908110247253]</td>\n",
       "      <td>0.456762</td>\n",
       "      <td>0.434532</td>\n",
       "    </tr>\n",
       "    <tr>\n",
       "      <th>15</th>\n",
       "      <td>[4.2410923763377425e-17]</td>\n",
       "      <td>[0.2918392707098592]</td>\n",
       "      <td>[0.1613630012913298]</td>\n",
       "      <td>[0.07421601781940759]</td>\n",
       "      <td>0.455808</td>\n",
       "      <td>0.433065</td>\n",
       "    </tr>\n",
       "    <tr>\n",
       "      <th>16</th>\n",
       "      <td>[4.4273260306985074e-17]</td>\n",
       "      <td>[0.27938255413501945]</td>\n",
       "      <td>[0.19197281386554346]</td>\n",
       "      <td>[0.04745484739694593]</td>\n",
       "      <td>0.454132</td>\n",
       "      <td>0.434380</td>\n",
       "    </tr>\n",
       "    <tr>\n",
       "      <th>17</th>\n",
       "      <td>[-4.593859827953051e-17]</td>\n",
       "      <td>[0.27918352956011794]</td>\n",
       "      <td>[0.15227949018433617]</td>\n",
       "      <td>[0.05345368262389866]</td>\n",
       "      <td>0.433706</td>\n",
       "      <td>0.442719</td>\n",
       "    </tr>\n",
       "    <tr>\n",
       "      <th>18</th>\n",
       "      <td>[1.184261205584273e-18]</td>\n",
       "      <td>[0.2631539567612134]</td>\n",
       "      <td>[0.18765029064515942]</td>\n",
       "      <td>[0.06694795156112669]</td>\n",
       "      <td>0.448126</td>\n",
       "      <td>0.437312</td>\n",
       "    </tr>\n",
       "    <tr>\n",
       "      <th>19</th>\n",
       "      <td>[-1.3502014616288286e-17]</td>\n",
       "      <td>[0.26100180853175137]</td>\n",
       "      <td>[0.19541573264892917]</td>\n",
       "      <td>[0.05090689436686729]</td>\n",
       "      <td>0.445797</td>\n",
       "      <td>0.438111</td>\n",
       "    </tr>\n",
       "  </tbody>\n",
       "</table>\n",
       "</div>"
      ],
      "text/plain": [
       "                           w0                     w1                     w2  \\\n",
       "0    [1.5682946419279058e-16]   [0.2756454905467548]  [0.15486798257082862]   \n",
       "1    [1.0952591574620231e-17]   [0.2645771838311224]  [0.18753166934491988]   \n",
       "2     [5.961657402123747e-17]   [0.2590589302410638]  [0.17191102453863635]   \n",
       "3    [-6.687809371618477e-19]  [0.30498191060248625]   [0.1778427415813859]   \n",
       "4    [-6.161626959915533e-17]   [0.2569958584999099]   [0.2038991829817388]   \n",
       "5    [4.8937160711369946e-17]  [0.31766290021274063]   [0.1493953423503364]   \n",
       "6     [6.030284236732728e-17]  [0.29765950543359265]  [0.15290271875389766]   \n",
       "7   [-1.0051356619620026e-17]  [0.27822300953694223]  [0.15943332542703775]   \n",
       "8    [3.2201607237971825e-17]  [0.27502274624485273]  [0.17759759677302325]   \n",
       "9    [-7.771236454039311e-18]  [0.26249603220901274]  [0.19022468764442357]   \n",
       "10    [6.517872372058772e-17]  [0.29427820530471555]  [0.14962699076246502]   \n",
       "11     [2.70538513963042e-17]  [0.24861561629649295]  [0.14942273011694876]   \n",
       "12   [-3.754491535574282e-17]  [0.28145101795663413]  [0.16162988517227372]   \n",
       "13    [3.344436249504081e-17]  [0.27277992400726064]  [0.16031804164958036]   \n",
       "14  [-3.9323858500871476e-17]  [0.30529646822528084]  [0.16933910844010802]   \n",
       "15   [4.2410923763377425e-17]   [0.2918392707098592]   [0.1613630012913298]   \n",
       "16   [4.4273260306985074e-17]  [0.27938255413501945]  [0.19197281386554346]   \n",
       "17   [-4.593859827953051e-17]  [0.27918352956011794]  [0.15227949018433617]   \n",
       "18    [1.184261205584273e-18]   [0.2631539567612134]  [0.18765029064515942]   \n",
       "19  [-1.3502014616288286e-17]  [0.26100180853175137]  [0.19541573264892917]   \n",
       "\n",
       "                        w3  testing_error  training_error  \n",
       "0    [0.05010233675789672]       0.431394        0.442640  \n",
       "1   [0.035905653139558846]       0.442387        0.438262  \n",
       "2    [0.07871607604783516]       0.432450        0.442494  \n",
       "3   [0.062371789194007085]       0.467098        0.428178  \n",
       "4   [0.050802068246092236]       0.445721        0.438177  \n",
       "5    [0.05182782801725821]       0.466918        0.429296  \n",
       "6    [0.07460952181046347]       0.448787        0.436608  \n",
       "7   [0.060202606280891136]       0.443049        0.438478  \n",
       "8    [0.06729293989173497]       0.449038        0.435849  \n",
       "9    [0.04635874471337596]       0.438376        0.440607  \n",
       "10    [0.0695893129623653]       0.444723        0.437386  \n",
       "11   [0.06744992447803516]       0.416442        0.451031  \n",
       "12   [0.06011904207789828]       0.436181        0.441578  \n",
       "13    [0.0699885524388555]       0.440269        0.440091  \n",
       "14  [0.011545908110247253]       0.456762        0.434532  \n",
       "15   [0.07421601781940759]       0.455808        0.433065  \n",
       "16   [0.04745484739694593]       0.454132        0.434380  \n",
       "17   [0.05345368262389866]       0.433706        0.442719  \n",
       "18   [0.06694795156112669]       0.448126        0.437312  \n",
       "19   [0.05090689436686729]       0.445797        0.438111  "
      ]
     },
     "execution_count": 153,
     "metadata": {},
     "output_type": "execute_result"
    }
   ],
   "source": [
    "LRNE.models"
   ]
  },
  {
   "cell_type": "code",
   "execution_count": 154,
   "metadata": {},
   "outputs": [
    {
     "data": {
      "text/html": [
       "<div>\n",
       "<style scoped>\n",
       "    .dataframe tbody tr th:only-of-type {\n",
       "        vertical-align: middle;\n",
       "    }\n",
       "\n",
       "    .dataframe tbody tr th {\n",
       "        vertical-align: top;\n",
       "    }\n",
       "\n",
       "    .dataframe thead th {\n",
       "        text-align: right;\n",
       "    }\n",
       "</style>\n",
       "<table border=\"1\" class=\"dataframe\">\n",
       "  <thead>\n",
       "    <tr style=\"text-align: right;\">\n",
       "      <th></th>\n",
       "      <th>w0</th>\n",
       "      <th>w1</th>\n",
       "      <th>w2</th>\n",
       "      <th>w3</th>\n",
       "      <th>testing_error</th>\n",
       "      <th>training_error</th>\n",
       "      <th>iterations</th>\n",
       "    </tr>\n",
       "  </thead>\n",
       "  <tbody>\n",
       "    <tr>\n",
       "      <th>0</th>\n",
       "      <td>[0.00284638450734225]</td>\n",
       "      <td>[0.2954895502301184]</td>\n",
       "      <td>[0.16556775027927365]</td>\n",
       "      <td>[0.07789493812928582]</td>\n",
       "      <td>0.456340</td>\n",
       "      <td>0.433322</td>\n",
       "      <td>556</td>\n",
       "    </tr>\n",
       "    <tr>\n",
       "      <th>1</th>\n",
       "      <td>[0.0027543496112535752]</td>\n",
       "      <td>[0.29207327178911996]</td>\n",
       "      <td>[0.17209106115017508]</td>\n",
       "      <td>[0.039248206972476773]</td>\n",
       "      <td>0.448848</td>\n",
       "      <td>0.436113</td>\n",
       "      <td>555</td>\n",
       "    </tr>\n",
       "    <tr>\n",
       "      <th>2</th>\n",
       "      <td>[0.0026702601273207683]</td>\n",
       "      <td>[0.278261111049634]</td>\n",
       "      <td>[0.15664435901611604]</td>\n",
       "      <td>[0.08221025102338284]</td>\n",
       "      <td>0.440797</td>\n",
       "      <td>0.440076</td>\n",
       "      <td>537</td>\n",
       "    </tr>\n",
       "    <tr>\n",
       "      <th>3</th>\n",
       "      <td>[0.0020675073673849897]</td>\n",
       "      <td>[0.29186546746938974]</td>\n",
       "      <td>[0.1473931753491963]</td>\n",
       "      <td>[0.06148574789278816]</td>\n",
       "      <td>0.442863</td>\n",
       "      <td>0.438479</td>\n",
       "      <td>563</td>\n",
       "    </tr>\n",
       "    <tr>\n",
       "      <th>4</th>\n",
       "      <td>[0.0013361895485610373]</td>\n",
       "      <td>[0.2569950805367649]</td>\n",
       "      <td>[0.17741363024036835]</td>\n",
       "      <td>[0.05133534328961407]</td>\n",
       "      <td>0.426680</td>\n",
       "      <td>0.444444</td>\n",
       "      <td>487</td>\n",
       "    </tr>\n",
       "    <tr>\n",
       "      <th>5</th>\n",
       "      <td>[0.002733728230614328]</td>\n",
       "      <td>[0.2787826355247699]</td>\n",
       "      <td>[0.1835836206412255]</td>\n",
       "      <td>[0.06421502667484238]</td>\n",
       "      <td>0.448494</td>\n",
       "      <td>0.435008</td>\n",
       "      <td>580</td>\n",
       "    </tr>\n",
       "    <tr>\n",
       "      <th>6</th>\n",
       "      <td>[0.002578551272754118]</td>\n",
       "      <td>[0.29127465592577506]</td>\n",
       "      <td>[0.1759943344696538]</td>\n",
       "      <td>[0.06979411871210654]</td>\n",
       "      <td>0.453114</td>\n",
       "      <td>0.433389</td>\n",
       "      <td>573</td>\n",
       "    </tr>\n",
       "    <tr>\n",
       "      <th>7</th>\n",
       "      <td>[0.0013725733458411458]</td>\n",
       "      <td>[0.2688925392067137]</td>\n",
       "      <td>[0.18000391236276178]</td>\n",
       "      <td>[0.055493548902991546]</td>\n",
       "      <td>0.438993</td>\n",
       "      <td>0.439040</td>\n",
       "      <td>549</td>\n",
       "    </tr>\n",
       "    <tr>\n",
       "      <th>8</th>\n",
       "      <td>[0.0021470466018340064]</td>\n",
       "      <td>[0.2818251599020389]</td>\n",
       "      <td>[0.15873990783104866]</td>\n",
       "      <td>[0.0595776359201003]</td>\n",
       "      <td>0.437511</td>\n",
       "      <td>0.439625</td>\n",
       "      <td>562</td>\n",
       "    </tr>\n",
       "    <tr>\n",
       "      <th>9</th>\n",
       "      <td>[0.0013877753356601379]</td>\n",
       "      <td>[0.26788334849873735]</td>\n",
       "      <td>[0.19289648578113303]</td>\n",
       "      <td>[0.06299267578949978]</td>\n",
       "      <td>0.447282</td>\n",
       "      <td>0.436170</td>\n",
       "      <td>603</td>\n",
       "    </tr>\n",
       "    <tr>\n",
       "      <th>10</th>\n",
       "      <td>[0.00021900952225884993]</td>\n",
       "      <td>[0.2743953457439297]</td>\n",
       "      <td>[0.1506826153574506]</td>\n",
       "      <td>[0.040800571760477106]</td>\n",
       "      <td>0.425521</td>\n",
       "      <td>0.445535</td>\n",
       "      <td>480</td>\n",
       "    </tr>\n",
       "    <tr>\n",
       "      <th>11</th>\n",
       "      <td>[0.00224767679916026]</td>\n",
       "      <td>[0.2891087011955124]</td>\n",
       "      <td>[0.18117776305293648]</td>\n",
       "      <td>[0.06756720931489295]</td>\n",
       "      <td>0.453719</td>\n",
       "      <td>0.433605</td>\n",
       "      <td>597</td>\n",
       "    </tr>\n",
       "    <tr>\n",
       "      <th>12</th>\n",
       "      <td>[0.00019085459289477718]</td>\n",
       "      <td>[0.2884600812623459]</td>\n",
       "      <td>[0.15503711641453102]</td>\n",
       "      <td>[0.040182850737186034]</td>\n",
       "      <td>0.437186</td>\n",
       "      <td>0.439922</td>\n",
       "      <td>572</td>\n",
       "    </tr>\n",
       "    <tr>\n",
       "      <th>13</th>\n",
       "      <td>[0.0024779790382599576]</td>\n",
       "      <td>[0.29729424645751024]</td>\n",
       "      <td>[0.13299519436115698]</td>\n",
       "      <td>[0.05653693209006139]</td>\n",
       "      <td>0.438649</td>\n",
       "      <td>0.439614</td>\n",
       "      <td>584</td>\n",
       "    </tr>\n",
       "    <tr>\n",
       "      <th>14</th>\n",
       "      <td>[0.002524653733797997]</td>\n",
       "      <td>[0.281841400845752]</td>\n",
       "      <td>[0.16073320006036407]</td>\n",
       "      <td>[0.044624549083655325]</td>\n",
       "      <td>0.435675</td>\n",
       "      <td>0.440117</td>\n",
       "      <td>546</td>\n",
       "    </tr>\n",
       "    <tr>\n",
       "      <th>15</th>\n",
       "      <td>[0.00115147470209591]</td>\n",
       "      <td>[0.3063739212364117]</td>\n",
       "      <td>[0.17325782759171773]</td>\n",
       "      <td>[0.05691165990806268]</td>\n",
       "      <td>0.460271</td>\n",
       "      <td>0.430224</td>\n",
       "      <td>484</td>\n",
       "    </tr>\n",
       "    <tr>\n",
       "      <th>16</th>\n",
       "      <td>[0.0019844608958183192]</td>\n",
       "      <td>[0.26575154385976624]</td>\n",
       "      <td>[0.1453078409444678]</td>\n",
       "      <td>[0.04828019756006164]</td>\n",
       "      <td>0.417339</td>\n",
       "      <td>0.448947</td>\n",
       "      <td>585</td>\n",
       "    </tr>\n",
       "    <tr>\n",
       "      <th>17</th>\n",
       "      <td>[0.0025306173377625026]</td>\n",
       "      <td>[0.2666370269098571]</td>\n",
       "      <td>[0.1662638800708746]</td>\n",
       "      <td>[0.049837204324976514]</td>\n",
       "      <td>0.429516</td>\n",
       "      <td>0.443243</td>\n",
       "      <td>590</td>\n",
       "    </tr>\n",
       "    <tr>\n",
       "      <th>18</th>\n",
       "      <td>[0.00041413555518232225]</td>\n",
       "      <td>[0.2824837151167883]</td>\n",
       "      <td>[0.13917728510104435]</td>\n",
       "      <td>[0.08136018462404537]</td>\n",
       "      <td>0.433184</td>\n",
       "      <td>0.442472</td>\n",
       "      <td>428</td>\n",
       "    </tr>\n",
       "    <tr>\n",
       "      <th>19</th>\n",
       "      <td>[0.00125991730142015]</td>\n",
       "      <td>[0.2859251857020483]</td>\n",
       "      <td>[0.1709372290540885]</td>\n",
       "      <td>[0.09065259295868512]</td>\n",
       "      <td>0.447493</td>\n",
       "      <td>0.436420</td>\n",
       "      <td>539</td>\n",
       "    </tr>\n",
       "  </tbody>\n",
       "</table>\n",
       "</div>"
      ],
      "text/plain": [
       "                          w0                     w1                     w2  \\\n",
       "0      [0.00284638450734225]   [0.2954895502301184]  [0.16556775027927365]   \n",
       "1    [0.0027543496112535752]  [0.29207327178911996]  [0.17209106115017508]   \n",
       "2    [0.0026702601273207683]    [0.278261111049634]  [0.15664435901611604]   \n",
       "3    [0.0020675073673849897]  [0.29186546746938974]   [0.1473931753491963]   \n",
       "4    [0.0013361895485610373]   [0.2569950805367649]  [0.17741363024036835]   \n",
       "5     [0.002733728230614328]   [0.2787826355247699]   [0.1835836206412255]   \n",
       "6     [0.002578551272754118]  [0.29127465592577506]   [0.1759943344696538]   \n",
       "7    [0.0013725733458411458]   [0.2688925392067137]  [0.18000391236276178]   \n",
       "8    [0.0021470466018340064]   [0.2818251599020389]  [0.15873990783104866]   \n",
       "9    [0.0013877753356601379]  [0.26788334849873735]  [0.19289648578113303]   \n",
       "10  [0.00021900952225884993]   [0.2743953457439297]   [0.1506826153574506]   \n",
       "11     [0.00224767679916026]   [0.2891087011955124]  [0.18117776305293648]   \n",
       "12  [0.00019085459289477718]   [0.2884600812623459]  [0.15503711641453102]   \n",
       "13   [0.0024779790382599576]  [0.29729424645751024]  [0.13299519436115698]   \n",
       "14    [0.002524653733797997]    [0.281841400845752]  [0.16073320006036407]   \n",
       "15     [0.00115147470209591]   [0.3063739212364117]  [0.17325782759171773]   \n",
       "16   [0.0019844608958183192]  [0.26575154385976624]   [0.1453078409444678]   \n",
       "17   [0.0025306173377625026]   [0.2666370269098571]   [0.1662638800708746]   \n",
       "18  [0.00041413555518232225]   [0.2824837151167883]  [0.13917728510104435]   \n",
       "19     [0.00125991730142015]   [0.2859251857020483]   [0.1709372290540885]   \n",
       "\n",
       "                        w3  testing_error  training_error iterations  \n",
       "0    [0.07789493812928582]       0.456340        0.433322        556  \n",
       "1   [0.039248206972476773]       0.448848        0.436113        555  \n",
       "2    [0.08221025102338284]       0.440797        0.440076        537  \n",
       "3    [0.06148574789278816]       0.442863        0.438479        563  \n",
       "4    [0.05133534328961407]       0.426680        0.444444        487  \n",
       "5    [0.06421502667484238]       0.448494        0.435008        580  \n",
       "6    [0.06979411871210654]       0.453114        0.433389        573  \n",
       "7   [0.055493548902991546]       0.438993        0.439040        549  \n",
       "8     [0.0595776359201003]       0.437511        0.439625        562  \n",
       "9    [0.06299267578949978]       0.447282        0.436170        603  \n",
       "10  [0.040800571760477106]       0.425521        0.445535        480  \n",
       "11   [0.06756720931489295]       0.453719        0.433605        597  \n",
       "12  [0.040182850737186034]       0.437186        0.439922        572  \n",
       "13   [0.05653693209006139]       0.438649        0.439614        584  \n",
       "14  [0.044624549083655325]       0.435675        0.440117        546  \n",
       "15   [0.05691165990806268]       0.460271        0.430224        484  \n",
       "16   [0.04828019756006164]       0.417339        0.448947        585  \n",
       "17  [0.049837204324976514]       0.429516        0.443243        590  \n",
       "18   [0.08136018462404537]       0.433184        0.442472        428  \n",
       "19   [0.09065259295868512]       0.447493        0.436420        539  "
      ]
     },
     "execution_count": 154,
     "metadata": {},
     "output_type": "execute_result"
    }
   ],
   "source": [
    "LRGD.models"
   ]
  },
  {
   "cell_type": "code",
   "execution_count": 155,
   "metadata": {},
   "outputs": [
    {
     "data": {
      "text/html": [
       "<div>\n",
       "<style scoped>\n",
       "    .dataframe tbody tr th:only-of-type {\n",
       "        vertical-align: middle;\n",
       "    }\n",
       "\n",
       "    .dataframe tbody tr th {\n",
       "        vertical-align: top;\n",
       "    }\n",
       "\n",
       "    .dataframe thead th {\n",
       "        text-align: right;\n",
       "    }\n",
       "</style>\n",
       "<table border=\"1\" class=\"dataframe\">\n",
       "  <thead>\n",
       "    <tr style=\"text-align: right;\">\n",
       "      <th></th>\n",
       "      <th>w0</th>\n",
       "      <th>w1</th>\n",
       "      <th>w2</th>\n",
       "      <th>w3</th>\n",
       "      <th>testing_error</th>\n",
       "      <th>training_error</th>\n",
       "      <th>iterations</th>\n",
       "    </tr>\n",
       "  </thead>\n",
       "  <tbody>\n",
       "    <tr>\n",
       "      <th>0</th>\n",
       "      <td>[0.06137824002776813]</td>\n",
       "      <td>[0.26474229624444423]</td>\n",
       "      <td>[0.20909454055392687]</td>\n",
       "      <td>[0.10174544325180203]</td>\n",
       "      <td>0.441627</td>\n",
       "      <td>0.443141</td>\n",
       "      <td>241002</td>\n",
       "    </tr>\n",
       "    <tr>\n",
       "      <th>1</th>\n",
       "      <td>[0.011952225833323053]</td>\n",
       "      <td>[0.30515669670901097]</td>\n",
       "      <td>[0.13956160617398886]</td>\n",
       "      <td>[0.051519586751588714]</td>\n",
       "      <td>0.425972</td>\n",
       "      <td>0.445481</td>\n",
       "      <td>334368</td>\n",
       "    </tr>\n",
       "    <tr>\n",
       "      <th>2</th>\n",
       "      <td>[0.028215225782386864]</td>\n",
       "      <td>[0.29416448646869575]</td>\n",
       "      <td>[0.2047635822175162]</td>\n",
       "      <td>[0.04911945201951449]</td>\n",
       "      <td>0.450349</td>\n",
       "      <td>0.435989</td>\n",
       "      <td>286254</td>\n",
       "    </tr>\n",
       "    <tr>\n",
       "      <th>3</th>\n",
       "      <td>[0.018518130803842327]</td>\n",
       "      <td>[0.3029769740646596]</td>\n",
       "      <td>[0.19463612929053462]</td>\n",
       "      <td>[0.050381165577320794]</td>\n",
       "      <td>0.451840</td>\n",
       "      <td>0.435261</td>\n",
       "      <td>319847</td>\n",
       "    </tr>\n",
       "    <tr>\n",
       "      <th>4</th>\n",
       "      <td>[0.05408965237143678]</td>\n",
       "      <td>[0.46031237925313373]</td>\n",
       "      <td>[0.22197044697526377]</td>\n",
       "      <td>[0.057345424643147215]</td>\n",
       "      <td>0.475744</td>\n",
       "      <td>0.452472</td>\n",
       "      <td>101324</td>\n",
       "    </tr>\n",
       "    <tr>\n",
       "      <th>5</th>\n",
       "      <td>[0.0526679036646255]</td>\n",
       "      <td>[0.2521405648214105]</td>\n",
       "      <td>[0.3452218375943502]</td>\n",
       "      <td>[0.1096362784697768]</td>\n",
       "      <td>0.489019</td>\n",
       "      <td>0.446242</td>\n",
       "      <td>120386</td>\n",
       "    </tr>\n",
       "    <tr>\n",
       "      <th>6</th>\n",
       "      <td>[0.3016186689424318]</td>\n",
       "      <td>[0.2329920503993272]</td>\n",
       "      <td>[0.18745224916194994]</td>\n",
       "      <td>[0.45059318749118027]</td>\n",
       "      <td>0.594303</td>\n",
       "      <td>0.553016</td>\n",
       "      <td>78142</td>\n",
       "    </tr>\n",
       "    <tr>\n",
       "      <th>7</th>\n",
       "      <td>[0.046692025280557936]</td>\n",
       "      <td>[0.23837388797635758]</td>\n",
       "      <td>[0.2635329753597014]</td>\n",
       "      <td>[0.16510882879594496]</td>\n",
       "      <td>0.440501</td>\n",
       "      <td>0.457669</td>\n",
       "      <td>155570</td>\n",
       "    </tr>\n",
       "    <tr>\n",
       "      <th>8</th>\n",
       "      <td>[0.009077478001344959]</td>\n",
       "      <td>[0.2808379613391756]</td>\n",
       "      <td>[0.152344944503371]</td>\n",
       "      <td>[0.07806108372823106]</td>\n",
       "      <td>0.437147</td>\n",
       "      <td>0.440009</td>\n",
       "      <td>439612</td>\n",
       "    </tr>\n",
       "    <tr>\n",
       "      <th>9</th>\n",
       "      <td>[0.007601310328192332]</td>\n",
       "      <td>[0.2831967947059934]</td>\n",
       "      <td>[0.18597298305168555]</td>\n",
       "      <td>[0.04416992442364896]</td>\n",
       "      <td>0.446525</td>\n",
       "      <td>0.435872</td>\n",
       "      <td>393505</td>\n",
       "    </tr>\n",
       "    <tr>\n",
       "      <th>10</th>\n",
       "      <td>[0.09394538464550957]</td>\n",
       "      <td>[0.36401858371031387]</td>\n",
       "      <td>[0.22350648223918823]</td>\n",
       "      <td>[0.07201423556545608]</td>\n",
       "      <td>0.407175</td>\n",
       "      <td>0.468437</td>\n",
       "      <td>166536</td>\n",
       "    </tr>\n",
       "    <tr>\n",
       "      <th>11</th>\n",
       "      <td>[0.019128341030462598]</td>\n",
       "      <td>[0.28589495269911663]</td>\n",
       "      <td>[0.16829773980890894]</td>\n",
       "      <td>[0.034975422857801156]</td>\n",
       "      <td>0.438348</td>\n",
       "      <td>0.440621</td>\n",
       "      <td>323264</td>\n",
       "    </tr>\n",
       "    <tr>\n",
       "      <th>12</th>\n",
       "      <td>[0.016951578240734202]</td>\n",
       "      <td>[0.2706125941896861]</td>\n",
       "      <td>[0.2062700206752655]</td>\n",
       "      <td>[0.02847522024506069]</td>\n",
       "      <td>0.450714</td>\n",
       "      <td>0.437327</td>\n",
       "      <td>299974</td>\n",
       "    </tr>\n",
       "    <tr>\n",
       "      <th>13</th>\n",
       "      <td>[0.03358854835535637]</td>\n",
       "      <td>[0.2995585274758964]</td>\n",
       "      <td>[0.1942886837767815]</td>\n",
       "      <td>[0.09477544600836006]</td>\n",
       "      <td>0.439488</td>\n",
       "      <td>0.442262</td>\n",
       "      <td>221361</td>\n",
       "    </tr>\n",
       "    <tr>\n",
       "      <th>14</th>\n",
       "      <td>[0.005161692014358398]</td>\n",
       "      <td>[0.29061742873924107]</td>\n",
       "      <td>[0.14965232112386712]</td>\n",
       "      <td>[0.07723676387474805]</td>\n",
       "      <td>0.441843</td>\n",
       "      <td>0.438797</td>\n",
       "      <td>452687</td>\n",
       "    </tr>\n",
       "    <tr>\n",
       "      <th>15</th>\n",
       "      <td>[0.044110064929824]</td>\n",
       "      <td>[0.2556456797158287]</td>\n",
       "      <td>[0.19795550153947936]</td>\n",
       "      <td>[0.14079503799386833]</td>\n",
       "      <td>0.434861</td>\n",
       "      <td>0.449166</td>\n",
       "      <td>247687</td>\n",
       "    </tr>\n",
       "    <tr>\n",
       "      <th>16</th>\n",
       "      <td>[0.004015679311668368]</td>\n",
       "      <td>[0.26744037463145437]</td>\n",
       "      <td>[0.12556972556996904]</td>\n",
       "      <td>[0.04927136464413075]</td>\n",
       "      <td>0.418784</td>\n",
       "      <td>0.449428</td>\n",
       "      <td>479181</td>\n",
       "    </tr>\n",
       "    <tr>\n",
       "      <th>17</th>\n",
       "      <td>[0.003412194668473738]</td>\n",
       "      <td>[0.30285316819266184]</td>\n",
       "      <td>[0.15272979042881057]</td>\n",
       "      <td>[0.021649658427951714]</td>\n",
       "      <td>0.443626</td>\n",
       "      <td>0.438096</td>\n",
       "      <td>386307</td>\n",
       "    </tr>\n",
       "    <tr>\n",
       "      <th>18</th>\n",
       "      <td>[0.020133869146447676]</td>\n",
       "      <td>[0.2945003472619695]</td>\n",
       "      <td>[0.15787219217435078]</td>\n",
       "      <td>[0.06781851803919979]</td>\n",
       "      <td>0.450568</td>\n",
       "      <td>0.434345</td>\n",
       "      <td>297924</td>\n",
       "    </tr>\n",
       "    <tr>\n",
       "      <th>19</th>\n",
       "      <td>[0.004981233513120371]</td>\n",
       "      <td>[0.30572761551199107]</td>\n",
       "      <td>[0.18821437399101787]</td>\n",
       "      <td>[0.0679521818125072]</td>\n",
       "      <td>0.470241</td>\n",
       "      <td>0.427423</td>\n",
       "      <td>382952</td>\n",
       "    </tr>\n",
       "  </tbody>\n",
       "</table>\n",
       "</div>"
      ],
      "text/plain": [
       "                        w0                     w1                     w2  \\\n",
       "0    [0.06137824002776813]  [0.26474229624444423]  [0.20909454055392687]   \n",
       "1   [0.011952225833323053]  [0.30515669670901097]  [0.13956160617398886]   \n",
       "2   [0.028215225782386864]  [0.29416448646869575]   [0.2047635822175162]   \n",
       "3   [0.018518130803842327]   [0.3029769740646596]  [0.19463612929053462]   \n",
       "4    [0.05408965237143678]  [0.46031237925313373]  [0.22197044697526377]   \n",
       "5     [0.0526679036646255]   [0.2521405648214105]   [0.3452218375943502]   \n",
       "6     [0.3016186689424318]   [0.2329920503993272]  [0.18745224916194994]   \n",
       "7   [0.046692025280557936]  [0.23837388797635758]   [0.2635329753597014]   \n",
       "8   [0.009077478001344959]   [0.2808379613391756]    [0.152344944503371]   \n",
       "9   [0.007601310328192332]   [0.2831967947059934]  [0.18597298305168555]   \n",
       "10   [0.09394538464550957]  [0.36401858371031387]  [0.22350648223918823]   \n",
       "11  [0.019128341030462598]  [0.28589495269911663]  [0.16829773980890894]   \n",
       "12  [0.016951578240734202]   [0.2706125941896861]   [0.2062700206752655]   \n",
       "13   [0.03358854835535637]   [0.2995585274758964]   [0.1942886837767815]   \n",
       "14  [0.005161692014358398]  [0.29061742873924107]  [0.14965232112386712]   \n",
       "15     [0.044110064929824]   [0.2556456797158287]  [0.19795550153947936]   \n",
       "16  [0.004015679311668368]  [0.26744037463145437]  [0.12556972556996904]   \n",
       "17  [0.003412194668473738]  [0.30285316819266184]  [0.15272979042881057]   \n",
       "18  [0.020133869146447676]   [0.2945003472619695]  [0.15787219217435078]   \n",
       "19  [0.004981233513120371]  [0.30572761551199107]  [0.18821437399101787]   \n",
       "\n",
       "                        w3  testing_error  training_error iterations  \n",
       "0    [0.10174544325180203]       0.441627        0.443141     241002  \n",
       "1   [0.051519586751588714]       0.425972        0.445481     334368  \n",
       "2    [0.04911945201951449]       0.450349        0.435989     286254  \n",
       "3   [0.050381165577320794]       0.451840        0.435261     319847  \n",
       "4   [0.057345424643147215]       0.475744        0.452472     101324  \n",
       "5     [0.1096362784697768]       0.489019        0.446242     120386  \n",
       "6    [0.45059318749118027]       0.594303        0.553016      78142  \n",
       "7    [0.16510882879594496]       0.440501        0.457669     155570  \n",
       "8    [0.07806108372823106]       0.437147        0.440009     439612  \n",
       "9    [0.04416992442364896]       0.446525        0.435872     393505  \n",
       "10   [0.07201423556545608]       0.407175        0.468437     166536  \n",
       "11  [0.034975422857801156]       0.438348        0.440621     323264  \n",
       "12   [0.02847522024506069]       0.450714        0.437327     299974  \n",
       "13   [0.09477544600836006]       0.439488        0.442262     221361  \n",
       "14   [0.07723676387474805]       0.441843        0.438797     452687  \n",
       "15   [0.14079503799386833]       0.434861        0.449166     247687  \n",
       "16   [0.04927136464413075]       0.418784        0.449428     479181  \n",
       "17  [0.021649658427951714]       0.443626        0.438096     386307  \n",
       "18   [0.06781851803919979]       0.450568        0.434345     297924  \n",
       "19    [0.0679521818125072]       0.470241        0.427423     382952  "
      ]
     },
     "execution_count": 155,
     "metadata": {},
     "output_type": "execute_result"
    }
   ],
   "source": [
    "LRSGD.models"
   ]
  },
  {
   "cell_type": "markdown",
   "metadata": {},
   "source": [
    "### Describe Regression Models"
   ]
  },
  {
   "cell_type": "code",
   "execution_count": 156,
   "metadata": {},
   "outputs": [
    {
     "data": {
      "text/html": [
       "<div>\n",
       "<style scoped>\n",
       "    .dataframe tbody tr th:only-of-type {\n",
       "        vertical-align: middle;\n",
       "    }\n",
       "\n",
       "    .dataframe tbody tr th {\n",
       "        vertical-align: top;\n",
       "    }\n",
       "\n",
       "    .dataframe thead th {\n",
       "        text-align: right;\n",
       "    }\n",
       "</style>\n",
       "<table border=\"1\" class=\"dataframe\">\n",
       "  <thead>\n",
       "    <tr style=\"text-align: right;\">\n",
       "      <th></th>\n",
       "      <th>testing_error</th>\n",
       "      <th>training_error</th>\n",
       "    </tr>\n",
       "  </thead>\n",
       "  <tbody>\n",
       "    <tr>\n",
       "      <th>count</th>\n",
       "      <td>20.000000</td>\n",
       "      <td>20.000000</td>\n",
       "    </tr>\n",
       "    <tr>\n",
       "      <th>mean</th>\n",
       "      <td>0.444858</td>\n",
       "      <td>0.438040</td>\n",
       "    </tr>\n",
       "    <tr>\n",
       "      <th>std</th>\n",
       "      <td>0.012115</td>\n",
       "      <td>0.005064</td>\n",
       "    </tr>\n",
       "    <tr>\n",
       "      <th>min</th>\n",
       "      <td>0.416442</td>\n",
       "      <td>0.428178</td>\n",
       "    </tr>\n",
       "    <tr>\n",
       "      <th>25%</th>\n",
       "      <td>0.437827</td>\n",
       "      <td>0.435520</td>\n",
       "    </tr>\n",
       "    <tr>\n",
       "      <th>50%</th>\n",
       "      <td>0.445222</td>\n",
       "      <td>0.438144</td>\n",
       "    </tr>\n",
       "    <tr>\n",
       "      <th>75%</th>\n",
       "      <td>0.450311</td>\n",
       "      <td>0.440849</td>\n",
       "    </tr>\n",
       "    <tr>\n",
       "      <th>max</th>\n",
       "      <td>0.467098</td>\n",
       "      <td>0.451031</td>\n",
       "    </tr>\n",
       "  </tbody>\n",
       "</table>\n",
       "</div>"
      ],
      "text/plain": [
       "       testing_error  training_error\n",
       "count      20.000000       20.000000\n",
       "mean        0.444858        0.438040\n",
       "std         0.012115        0.005064\n",
       "min         0.416442        0.428178\n",
       "25%         0.437827        0.435520\n",
       "50%         0.445222        0.438144\n",
       "75%         0.450311        0.440849\n",
       "max         0.467098        0.451031"
      ]
     },
     "execution_count": 156,
     "metadata": {},
     "output_type": "execute_result"
    }
   ],
   "source": [
    "LRNE.models.describe()"
   ]
  },
  {
   "cell_type": "code",
   "execution_count": 157,
   "metadata": {},
   "outputs": [
    {
     "data": {
      "text/html": [
       "<div>\n",
       "<style scoped>\n",
       "    .dataframe tbody tr th:only-of-type {\n",
       "        vertical-align: middle;\n",
       "    }\n",
       "\n",
       "    .dataframe tbody tr th {\n",
       "        vertical-align: top;\n",
       "    }\n",
       "\n",
       "    .dataframe thead th {\n",
       "        text-align: right;\n",
       "    }\n",
       "</style>\n",
       "<table border=\"1\" class=\"dataframe\">\n",
       "  <thead>\n",
       "    <tr style=\"text-align: right;\">\n",
       "      <th></th>\n",
       "      <th>testing_error</th>\n",
       "      <th>training_error</th>\n",
       "    </tr>\n",
       "  </thead>\n",
       "  <tbody>\n",
       "    <tr>\n",
       "      <th>count</th>\n",
       "      <td>20.000000</td>\n",
       "      <td>20.000000</td>\n",
       "    </tr>\n",
       "    <tr>\n",
       "      <th>mean</th>\n",
       "      <td>0.440974</td>\n",
       "      <td>0.438788</td>\n",
       "    </tr>\n",
       "    <tr>\n",
       "      <th>std</th>\n",
       "      <td>0.011192</td>\n",
       "      <td>0.004665</td>\n",
       "    </tr>\n",
       "    <tr>\n",
       "      <th>min</th>\n",
       "      <td>0.417339</td>\n",
       "      <td>0.430224</td>\n",
       "    </tr>\n",
       "    <tr>\n",
       "      <th>25%</th>\n",
       "      <td>0.435052</td>\n",
       "      <td>0.435837</td>\n",
       "    </tr>\n",
       "    <tr>\n",
       "      <th>50%</th>\n",
       "      <td>0.439895</td>\n",
       "      <td>0.439327</td>\n",
       "    </tr>\n",
       "    <tr>\n",
       "      <th>75%</th>\n",
       "      <td>0.448582</td>\n",
       "      <td>0.440706</td>\n",
       "    </tr>\n",
       "    <tr>\n",
       "      <th>max</th>\n",
       "      <td>0.460271</td>\n",
       "      <td>0.448947</td>\n",
       "    </tr>\n",
       "  </tbody>\n",
       "</table>\n",
       "</div>"
      ],
      "text/plain": [
       "       testing_error  training_error\n",
       "count      20.000000       20.000000\n",
       "mean        0.440974        0.438788\n",
       "std         0.011192        0.004665\n",
       "min         0.417339        0.430224\n",
       "25%         0.435052        0.435837\n",
       "50%         0.439895        0.439327\n",
       "75%         0.448582        0.440706\n",
       "max         0.460271        0.448947"
      ]
     },
     "execution_count": 157,
     "metadata": {},
     "output_type": "execute_result"
    }
   ],
   "source": [
    "LRGD.models.describe()"
   ]
  },
  {
   "cell_type": "code",
   "execution_count": 158,
   "metadata": {},
   "outputs": [
    {
     "data": {
      "text/html": [
       "<div>\n",
       "<style scoped>\n",
       "    .dataframe tbody tr th:only-of-type {\n",
       "        vertical-align: middle;\n",
       "    }\n",
       "\n",
       "    .dataframe tbody tr th {\n",
       "        vertical-align: top;\n",
       "    }\n",
       "\n",
       "    .dataframe thead th {\n",
       "        text-align: right;\n",
       "    }\n",
       "</style>\n",
       "<table border=\"1\" class=\"dataframe\">\n",
       "  <thead>\n",
       "    <tr style=\"text-align: right;\">\n",
       "      <th></th>\n",
       "      <th>testing_error</th>\n",
       "      <th>training_error</th>\n",
       "    </tr>\n",
       "  </thead>\n",
       "  <tbody>\n",
       "    <tr>\n",
       "      <th>count</th>\n",
       "      <td>20.000000</td>\n",
       "      <td>20.000000</td>\n",
       "    </tr>\n",
       "    <tr>\n",
       "      <th>mean</th>\n",
       "      <td>0.452434</td>\n",
       "      <td>0.448553</td>\n",
       "    </tr>\n",
       "    <tr>\n",
       "      <th>std</th>\n",
       "      <td>0.038121</td>\n",
       "      <td>0.026259</td>\n",
       "    </tr>\n",
       "    <tr>\n",
       "      <th>min</th>\n",
       "      <td>0.407175</td>\n",
       "      <td>0.427423</td>\n",
       "    </tr>\n",
       "    <tr>\n",
       "      <th>25%</th>\n",
       "      <td>0.438048</td>\n",
       "      <td>0.436993</td>\n",
       "    </tr>\n",
       "    <tr>\n",
       "      <th>50%</th>\n",
       "      <td>0.442735</td>\n",
       "      <td>0.441442</td>\n",
       "    </tr>\n",
       "    <tr>\n",
       "      <th>75%</th>\n",
       "      <td>0.450996</td>\n",
       "      <td>0.449232</td>\n",
       "    </tr>\n",
       "    <tr>\n",
       "      <th>max</th>\n",
       "      <td>0.594303</td>\n",
       "      <td>0.553016</td>\n",
       "    </tr>\n",
       "  </tbody>\n",
       "</table>\n",
       "</div>"
      ],
      "text/plain": [
       "       testing_error  training_error\n",
       "count      20.000000       20.000000\n",
       "mean        0.452434        0.448553\n",
       "std         0.038121        0.026259\n",
       "min         0.407175        0.427423\n",
       "25%         0.438048        0.436993\n",
       "50%         0.442735        0.441442\n",
       "75%         0.450996        0.449232\n",
       "max         0.594303        0.553016"
      ]
     },
     "execution_count": 158,
     "metadata": {},
     "output_type": "execute_result"
    }
   ],
   "source": [
    "LRSGD.models.describe()"
   ]
  },
  {
   "cell_type": "markdown",
   "metadata": {},
   "source": [
    "### Training Error"
   ]
  },
  {
   "cell_type": "markdown",
   "metadata": {},
   "source": [
    "__Normal Equations__"
   ]
  },
  {
   "cell_type": "code",
   "execution_count": 159,
   "metadata": {},
   "outputs": [
    {
     "name": "stdout",
     "output_type": "stream",
     "text": [
      "Mean of training error obtained over 20 regression models = 0.43803967962208823\n"
     ]
    }
   ],
   "source": [
    "print(f\"Mean of training error obtained over 20 regression models = {LRNE.models.training_error.mean()}\")"
   ]
  },
  {
   "cell_type": "code",
   "execution_count": 160,
   "metadata": {},
   "outputs": [
    {
     "name": "stdout",
     "output_type": "stream",
     "text": [
      "Mean of training error obtained over 20 regression models = 0.43803967962208823\n"
     ]
    }
   ],
   "source": [
    "print(f\"Mean of training error obtained over 20 regression models = {LRNE.models.training_error.mean()}\")"
   ]
  },
  {
   "cell_type": "code",
   "execution_count": 161,
   "metadata": {},
   "outputs": [
    {
     "name": "stdout",
     "output_type": "stream",
     "text": [
      "Minimum training error obtained over 20 regression models = 0.42817812623176715\n"
     ]
    }
   ],
   "source": [
    "print(f\"Minimum training error obtained over 20 regression models = {LRNE.models.training_error.min()}\")"
   ]
  },
  {
   "cell_type": "markdown",
   "metadata": {},
   "source": [
    "__Gradient Descent__"
   ]
  },
  {
   "cell_type": "code",
   "execution_count": 162,
   "metadata": {},
   "outputs": [
    {
     "name": "stdout",
     "output_type": "stream",
     "text": [
      "Mean of training error obtained over 20 regression models = 0.4387881903070216\n"
     ]
    }
   ],
   "source": [
    "print(f\"Mean of training error obtained over 20 regression models = {LRGD.models.training_error.mean()}\")"
   ]
  },
  {
   "cell_type": "code",
   "execution_count": 163,
   "metadata": {},
   "outputs": [
    {
     "name": "stdout",
     "output_type": "stream",
     "text": [
      "Variance of training error obtained over 20 regression models = 2.176415596222171e-05\n"
     ]
    }
   ],
   "source": [
    "print(f\"Variance of training error obtained over 20 regression models = {LRGD.models.training_error.var()}\")"
   ]
  },
  {
   "cell_type": "code",
   "execution_count": 164,
   "metadata": {},
   "outputs": [
    {
     "name": "stdout",
     "output_type": "stream",
     "text": [
      "Minimum training error obtained over 20 regression models = 0.43022399211026524\n"
     ]
    }
   ],
   "source": [
    "print(f\"Minimum training error obtained over 20 regression models = {LRGD.models.training_error.min()}\")"
   ]
  },
  {
   "cell_type": "markdown",
   "metadata": {},
   "source": [
    "__Stochastic Gradient Descent__"
   ]
  },
  {
   "cell_type": "code",
   "execution_count": 165,
   "metadata": {},
   "outputs": [
    {
     "name": "stdout",
     "output_type": "stream",
     "text": [
      "Mean of training error obtained over 20 regression models = 0.44855276937232613\n"
     ]
    }
   ],
   "source": [
    "print(f\"Mean of training error obtained over 20 regression models = {LRSGD.models.training_error.mean()}\")"
   ]
  },
  {
   "cell_type": "code",
   "execution_count": 166,
   "metadata": {},
   "outputs": [
    {
     "name": "stdout",
     "output_type": "stream",
     "text": [
      "Variance of training error obtained over 20 regression models = 0.0006895443382686309\n"
     ]
    }
   ],
   "source": [
    "print(f\"Variance of training error obtained over 20 regression models = {LRSGD.models.training_error.var()}\")"
   ]
  },
  {
   "cell_type": "code",
   "execution_count": 167,
   "metadata": {},
   "outputs": [
    {
     "name": "stdout",
     "output_type": "stream",
     "text": [
      "Minimum training error obtained over 20 regression models = 0.4274231102016831\n"
     ]
    }
   ],
   "source": [
    "print(f\"Minimum training error obtained over 20 regression models = {LRSGD.models.training_error.min()}\")"
   ]
  },
  {
   "cell_type": "markdown",
   "metadata": {},
   "source": [
    "### Testing Error"
   ]
  },
  {
   "cell_type": "markdown",
   "metadata": {},
   "source": [
    "__Normal Equations__"
   ]
  },
  {
   "cell_type": "code",
   "execution_count": 168,
   "metadata": {},
   "outputs": [
    {
     "name": "stdout",
     "output_type": "stream",
     "text": [
      "Mean of testing error obtained over 20 regression models = 0.44485821525898706\n"
     ]
    }
   ],
   "source": [
    "print(f\"Mean of testing error obtained over 20 regression models = {LRNE.models.testing_error.mean()}\")"
   ]
  },
  {
   "cell_type": "code",
   "execution_count": 169,
   "metadata": {},
   "outputs": [
    {
     "name": "stdout",
     "output_type": "stream",
     "text": [
      "Mean of testing error obtained over 20 regression models = 0.44485821525898706\n"
     ]
    }
   ],
   "source": [
    "print(f\"Mean of testing error obtained over 20 regression models = {LRNE.models.testing_error.mean()}\")"
   ]
  },
  {
   "cell_type": "code",
   "execution_count": 170,
   "metadata": {},
   "outputs": [
    {
     "name": "stdout",
     "output_type": "stream",
     "text": [
      "Minimum testing error obtained over 20 regression models = 0.41644238817520307\n"
     ]
    }
   ],
   "source": [
    "print(f\"Minimum testing error obtained over 20 regression models = {LRNE.models.testing_error.min()}\")"
   ]
  },
  {
   "cell_type": "markdown",
   "metadata": {},
   "source": [
    "__Gradient Descent__"
   ]
  },
  {
   "cell_type": "code",
   "execution_count": 171,
   "metadata": {},
   "outputs": [
    {
     "name": "stdout",
     "output_type": "stream",
     "text": [
      "Mean of testing error obtained over 20 regression models = 0.4409736717412807\n"
     ]
    }
   ],
   "source": [
    "print(f\"Mean of testing error obtained over 20 regression models = {LRGD.models.testing_error.mean()}\")"
   ]
  },
  {
   "cell_type": "code",
   "execution_count": 172,
   "metadata": {},
   "outputs": [
    {
     "name": "stdout",
     "output_type": "stream",
     "text": [
      "Variance of testing error obtained over 20 regression models = 0.00012527154728278163\n"
     ]
    }
   ],
   "source": [
    "print(f\"Variance of testing error obtained over 20 regression models = {LRGD.models.testing_error.var()}\")"
   ]
  },
  {
   "cell_type": "code",
   "execution_count": 173,
   "metadata": {},
   "outputs": [
    {
     "name": "stdout",
     "output_type": "stream",
     "text": [
      "Minimum testing error obtained over 20 regression models = 0.4173394722809983\n"
     ]
    }
   ],
   "source": [
    "print(f\"Minimum testing error obtained over 20 regression models = {LRGD.models.testing_error.min()}\")"
   ]
  },
  {
   "cell_type": "markdown",
   "metadata": {},
   "source": [
    "__Stochastic Gradient Descent__"
   ]
  },
  {
   "cell_type": "code",
   "execution_count": 174,
   "metadata": {},
   "outputs": [
    {
     "name": "stdout",
     "output_type": "stream",
     "text": [
      "Mean of testing error obtained over 20 regression models = 0.45243376292248627\n"
     ]
    }
   ],
   "source": [
    "print(f\"Mean of testing error obtained over 20 regression models = {LRSGD.models.testing_error.mean()}\")"
   ]
  },
  {
   "cell_type": "code",
   "execution_count": 175,
   "metadata": {},
   "outputs": [
    {
     "name": "stdout",
     "output_type": "stream",
     "text": [
      "Variance of testing error obtained over 20 regression models = 0.0014531771585751122\n"
     ]
    }
   ],
   "source": [
    "print(f\"Variance of testing error obtained over 20 regression models = {LRSGD.models.testing_error.var()}\")"
   ]
  },
  {
   "cell_type": "code",
   "execution_count": 176,
   "metadata": {},
   "outputs": [
    {
     "name": "stdout",
     "output_type": "stream",
     "text": [
      "Minimum testing error obtained over 20 regression models = 0.4071746120438539\n"
     ]
    }
   ],
   "source": [
    "print(f\"Minimum testing error obtained over 20 regression models = {LRSGD.models.testing_error.min()}\")"
   ]
  },
  {
   "cell_type": "markdown",
   "metadata": {},
   "source": [
    "-------------------------------------------------------------------------------------------------------------------------------"
   ]
  },
  {
   "cell_type": "markdown",
   "metadata": {},
   "source": [
    "## Plot the Convergence"
   ]
  },
  {
   "cell_type": "markdown",
   "metadata": {},
   "source": [
    "__Plot $E(\\omega)$ against the number of iterations of Gradient Descent__"
   ]
  },
  {
   "cell_type": "code",
   "execution_count": 179,
   "metadata": {},
   "outputs": [],
   "source": [
    "errorsGD = np.array(LRGD.errors, dtype=object)"
   ]
  },
  {
   "cell_type": "code",
   "execution_count": 180,
   "metadata": {},
   "outputs": [
    {
     "data": {
      "image/png": "[encoded data removed]",
      "text/plain": [
       "<Figure size 432x288 with 1 Axes>"
      ]
     },
     "metadata": {
      "needs_background": "light"
     },
     "output_type": "display_data"
    }
   ],
   "source": [
    "for error in errorsGD:\n",
    "    plt.plot(error)\n",
    "    plt.xlabel(\"Iterations\")\n",
    "    plt.ylabel(\"$E(\\omega)$\")\n",
    "    plt.title(\"Values of the Error Function over Iterations of Gradient Descent\");"
   ]
  },
  {
   "cell_type": "markdown",
   "metadata": {},
   "source": [
    "__Plot $E(\\omega)$ against the number of iterations of Stochastic Gradient Descent__"
   ]
  },
  {
   "cell_type": "code",
   "execution_count": 181,
   "metadata": {},
   "outputs": [],
   "source": [
    "errorsSGD = np.array(LRSGD.errors, dtype=object)"
   ]
  },
  {
   "cell_type": "code",
   "execution_count": 182,
   "metadata": {},
   "outputs": [
    {
     "data": {
      "image/png": "[encoded data removed]",
      "text/plain": [
       "<Figure size 432x288 with 1 Axes>"
      ]
     },
     "metadata": {
      "needs_background": "light"
     },
     "output_type": "display_data"
    }
   ],
   "source": [
    "for error in errorsSGD:\n",
    "    plt.plot(error)\n",
    "    plt.xlabel(\"Iterations\")\n",
    "    plt.ylabel(\"$E(\\omega)$\")\n",
    "    plt.title(\"Values of the Error Function over Iterations of Stochastic Gradient Descent\");"
   ]
  },
  {
   "cell_type": "markdown",
   "metadata": {},
   "source": [
    "-------------------------------------------------------------------------------------------------------------------------------"
   ]
  },
  {
   "cell_type": "code",
   "execution_count": null,
   "metadata": {},
   "outputs": [],
   "source": []
  }
 ],
 "metadata": {
  "kernelspec": {
   "display_name": "Python 3",
   "language": "python",
   "name": "python3"
  },
  "language_info": {
   "codemirror_mode": {
    "name": "ipython",
    "version": 3
   },
   "file_extension": ".py",
   "mimetype": "text/x-python",
   "name": "python",
   "nbconvert_exporter": "python",
   "pygments_lexer": "ipython3",
   "version": "3.8.6"
  }
 },
 "nbformat": 4,
 "nbformat_minor": 4
}
