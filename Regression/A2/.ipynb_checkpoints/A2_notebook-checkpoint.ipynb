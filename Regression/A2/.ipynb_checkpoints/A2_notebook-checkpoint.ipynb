{
 "cells": [
  {
   "cell_type": "markdown",
   "metadata": {},
   "source": [
    "## Import Libraries"
   ]
  },
  {
   "cell_type": "code",
   "execution_count": 1,
   "metadata": {},
   "outputs": [],
   "source": [
    "import numpy as np\n",
    "import pandas as pd\n",
    "import matplotlib.pyplot as plt\n",
    "plt.style.use('ggplot')\n",
    "%matplotlib inline"
   ]
  },
  {
   "cell_type": "markdown",
   "metadata": {},
   "source": [
    "-------------------------------------------------------------------------------------------------------------------------------"
   ]
  },
  {
   "cell_type": "markdown",
   "metadata": {},
   "source": [
    "## Load and Inspect Data"
   ]
  },
  {
   "cell_type": "code",
   "execution_count": 4,
   "metadata": {},
   "outputs": [
    {
     "data": {
      "text/html": [
       "<div>\n",
       "<style scoped>\n",
       "    .dataframe tbody tr th:only-of-type {\n",
       "        vertical-align: middle;\n",
       "    }\n",
       "\n",
       "    .dataframe tbody tr th {\n",
       "        vertical-align: top;\n",
       "    }\n",
       "\n",
       "    .dataframe thead th {\n",
       "        text-align: right;\n",
       "    }\n",
       "</style>\n",
       "<table border=\"1\" class=\"dataframe\">\n",
       "  <thead>\n",
       "    <tr style=\"text-align: right;\">\n",
       "      <th></th>\n",
       "      <th>age</th>\n",
       "      <th>bmi</th>\n",
       "      <th>children</th>\n",
       "      <th>charges</th>\n",
       "    </tr>\n",
       "  </thead>\n",
       "  <tbody>\n",
       "    <tr>\n",
       "      <th>0</th>\n",
       "      <td>19</td>\n",
       "      <td>27.900</td>\n",
       "      <td>0</td>\n",
       "      <td>16884.92400</td>\n",
       "    </tr>\n",
       "    <tr>\n",
       "      <th>1</th>\n",
       "      <td>18</td>\n",
       "      <td>33.770</td>\n",
       "      <td>1</td>\n",
       "      <td>1725.55230</td>\n",
       "    </tr>\n",
       "    <tr>\n",
       "      <th>2</th>\n",
       "      <td>28</td>\n",
       "      <td>33.000</td>\n",
       "      <td>3</td>\n",
       "      <td>4449.46200</td>\n",
       "    </tr>\n",
       "    <tr>\n",
       "      <th>3</th>\n",
       "      <td>33</td>\n",
       "      <td>22.705</td>\n",
       "      <td>0</td>\n",
       "      <td>21984.47061</td>\n",
       "    </tr>\n",
       "    <tr>\n",
       "      <th>4</th>\n",
       "      <td>32</td>\n",
       "      <td>28.880</td>\n",
       "      <td>0</td>\n",
       "      <td>3866.85520</td>\n",
       "    </tr>\n",
       "  </tbody>\n",
       "</table>\n",
       "</div>"
      ],
      "text/plain": [
       "   age     bmi  children      charges\n",
       "0   19  27.900         0  16884.92400\n",
       "1   18  33.770         1   1725.55230\n",
       "2   28  33.000         3   4449.46200\n",
       "3   33  22.705         0  21984.47061\n",
       "4   32  28.880         0   3866.85520"
      ]
     },
     "execution_count": 4,
     "metadata": {},
     "output_type": "execute_result"
    }
   ],
   "source": [
    "data = pd.read_csv(\"insurance.txt\")\n",
    "data.head()"
   ]
  },
  {
   "cell_type": "code",
   "execution_count": 5,
   "metadata": {},
   "outputs": [
    {
     "name": "stdout",
     "output_type": "stream",
     "text": [
      "<class 'pandas.core.frame.DataFrame'>\n",
      "RangeIndex: 1338 entries, 0 to 1337\n",
      "Data columns (total 4 columns):\n",
      " #   Column    Non-Null Count  Dtype  \n",
      "---  ------    --------------  -----  \n",
      " 0   age       1338 non-null   int64  \n",
      " 1   bmi       1338 non-null   float64\n",
      " 2   children  1338 non-null   int64  \n",
      " 3   charges   1338 non-null   float64\n",
      "dtypes: float64(2), int64(2)\n",
      "memory usage: 41.9 KB\n"
     ]
    }
   ],
   "source": [
    "data.info()"
   ]
  },
  {
   "cell_type": "code",
   "execution_count": 6,
   "metadata": {},
   "outputs": [
    {
     "data": {
      "text/html": [
       "<div>\n",
       "<style scoped>\n",
       "    .dataframe tbody tr th:only-of-type {\n",
       "        vertical-align: middle;\n",
       "    }\n",
       "\n",
       "    .dataframe tbody tr th {\n",
       "        vertical-align: top;\n",
       "    }\n",
       "\n",
       "    .dataframe thead th {\n",
       "        text-align: right;\n",
       "    }\n",
       "</style>\n",
       "<table border=\"1\" class=\"dataframe\">\n",
       "  <thead>\n",
       "    <tr style=\"text-align: right;\">\n",
       "      <th></th>\n",
       "      <th>age</th>\n",
       "      <th>bmi</th>\n",
       "      <th>children</th>\n",
       "      <th>charges</th>\n",
       "    </tr>\n",
       "  </thead>\n",
       "  <tbody>\n",
       "    <tr>\n",
       "      <th>count</th>\n",
       "      <td>1338.000000</td>\n",
       "      <td>1338.000000</td>\n",
       "      <td>1338.000000</td>\n",
       "      <td>1338.000000</td>\n",
       "    </tr>\n",
       "    <tr>\n",
       "      <th>mean</th>\n",
       "      <td>39.207025</td>\n",
       "      <td>30.663397</td>\n",
       "      <td>1.094918</td>\n",
       "      <td>13270.422265</td>\n",
       "    </tr>\n",
       "    <tr>\n",
       "      <th>std</th>\n",
       "      <td>14.049960</td>\n",
       "      <td>6.098187</td>\n",
       "      <td>1.205493</td>\n",
       "      <td>12110.011237</td>\n",
       "    </tr>\n",
       "    <tr>\n",
       "      <th>min</th>\n",
       "      <td>18.000000</td>\n",
       "      <td>15.960000</td>\n",
       "      <td>0.000000</td>\n",
       "      <td>1121.873900</td>\n",
       "    </tr>\n",
       "    <tr>\n",
       "      <th>25%</th>\n",
       "      <td>27.000000</td>\n",
       "      <td>26.296250</td>\n",
       "      <td>0.000000</td>\n",
       "      <td>4740.287150</td>\n",
       "    </tr>\n",
       "    <tr>\n",
       "      <th>50%</th>\n",
       "      <td>39.000000</td>\n",
       "      <td>30.400000</td>\n",
       "      <td>1.000000</td>\n",
       "      <td>9382.033000</td>\n",
       "    </tr>\n",
       "    <tr>\n",
       "      <th>75%</th>\n",
       "      <td>51.000000</td>\n",
       "      <td>34.693750</td>\n",
       "      <td>2.000000</td>\n",
       "      <td>16639.912515</td>\n",
       "    </tr>\n",
       "    <tr>\n",
       "      <th>max</th>\n",
       "      <td>64.000000</td>\n",
       "      <td>53.130000</td>\n",
       "      <td>5.000000</td>\n",
       "      <td>63770.428010</td>\n",
       "    </tr>\n",
       "  </tbody>\n",
       "</table>\n",
       "</div>"
      ],
      "text/plain": [
       "               age          bmi     children       charges\n",
       "count  1338.000000  1338.000000  1338.000000   1338.000000\n",
       "mean     39.207025    30.663397     1.094918  13270.422265\n",
       "std      14.049960     6.098187     1.205493  12110.011237\n",
       "min      18.000000    15.960000     0.000000   1121.873900\n",
       "25%      27.000000    26.296250     0.000000   4740.287150\n",
       "50%      39.000000    30.400000     1.000000   9382.033000\n",
       "75%      51.000000    34.693750     2.000000  16639.912515\n",
       "max      64.000000    53.130000     5.000000  63770.428010"
      ]
     },
     "execution_count": 6,
     "metadata": {},
     "output_type": "execute_result"
    }
   ],
   "source": [
    "data.describe()"
   ]
  },
  {
   "cell_type": "markdown",
   "metadata": {},
   "source": [
    "-------------------------------------------------------------------------------------------------------------------------------"
   ]
  },
  {
   "cell_type": "markdown",
   "metadata": {},
   "source": [
    "## Preprocess Data"
   ]
  },
  {
   "cell_type": "markdown",
   "metadata": {},
   "source": [
    "__The purpose of the following preprocessing is to demonstrate that the employed method is functioning correctly. However, while building regression models, the training and testing datasets are standardised separately to prevent data leakage.__"
   ]
  },
  {
   "cell_type": "code",
   "execution_count": 7,
   "metadata": {},
   "outputs": [],
   "source": [
    "column_names = list(data.columns)\n",
    "standardize = lambda x : (x - x.mean()) / x.std() "
   ]
  },
  {
   "cell_type": "markdown",
   "metadata": {},
   "source": [
    "__Standardize Data__"
   ]
  },
  {
   "cell_type": "code",
   "execution_count": 8,
   "metadata": {},
   "outputs": [],
   "source": [
    "for column in column_names:\n",
    "    data[column] = standardize(data[column])"
   ]
  },
  {
   "cell_type": "code",
   "execution_count": 9,
   "metadata": {},
   "outputs": [
    {
     "data": {
      "text/plain": [
       "age        -1.246304e-16\n",
       "bmi        -1.810543e-16\n",
       "children   -3.116590e-16\n",
       "charges    -7.218939e-17\n",
       "dtype: float64"
      ]
     },
     "execution_count": 9,
     "metadata": {},
     "output_type": "execute_result"
    }
   ],
   "source": [
    "data.mean()"
   ]
  },
  {
   "cell_type": "markdown",
   "metadata": {},
   "source": [
    "Although standardised mean should be equal to 0, in reality they are infinitesimally close to zero. Double precision floats have 53 bits or 16 digits of precision, so this is expected behavior."
   ]
  },
  {
   "cell_type": "code",
   "execution_count": 10,
   "metadata": {},
   "outputs": [
    {
     "data": {
      "text/plain": [
       "age         1.0\n",
       "bmi         1.0\n",
       "children    1.0\n",
       "charges     1.0\n",
       "dtype: float64"
      ]
     },
     "execution_count": 10,
     "metadata": {},
     "output_type": "execute_result"
    }
   ],
   "source": [
    "data.std()"
   ]
  },
  {
   "cell_type": "code",
   "execution_count": 11,
   "metadata": {},
   "outputs": [],
   "source": [
    "x1, x2, x3, y = data[\"age\"], data[\"bmi\"], data[\"children\"], data[\"charges\"]"
   ]
  },
  {
   "cell_type": "markdown",
   "metadata": {},
   "source": [
    "-------------------------------------------------------------------------------------------------------------------------------"
   ]
  },
  {
   "cell_type": "markdown",
   "metadata": {},
   "source": [
    "## Visualize Data"
   ]
  },
  {
   "cell_type": "code",
   "execution_count": 12,
   "metadata": {},
   "outputs": [
    {
     "data": {
      "image/png": "[encoded data removed]",
      "text/plain": [
       "<Figure size 432x288 with 1 Axes>"
      ]
     },
     "metadata": {
      "needs_background": "light"
     },
     "output_type": "display_data"
    }
   ],
   "source": [
    "plt.scatter(x1, y)\n",
    "plt.xlabel(\"Age\")\n",
    "plt.ylabel(\"Charges\");"
   ]
  },
  {
   "cell_type": "code",
   "execution_count": 13,
   "metadata": {},
   "outputs": [
    {
     "data": {
      "image/png": "[encoded data removed]",
      "text/plain": [
       "<Figure size 432x288 with 1 Axes>"
      ]
     },
     "metadata": {
      "needs_background": "light"
     },
     "output_type": "display_data"
    }
   ],
   "source": [
    "plt.scatter(x2, y)\n",
    "plt.xlabel(\"BMI\")\n",
    "plt.ylabel(\"Charges\");"
   ]
  },
  {
   "cell_type": "code",
   "execution_count": 14,
   "metadata": {},
   "outputs": [
    {
     "data": {
      "image/png": "[encoded data removed]",
      "text/plain": [
       "<Figure size 432x288 with 1 Axes>"
      ]
     },
     "metadata": {
      "needs_background": "light"
     },
     "output_type": "display_data"
    }
   ],
   "source": [
    "plt.scatter(x3, y)\n",
    "plt.xlabel(\"Children\")\n",
    "plt.ylabel(\"Charges\");"
   ]
  },
  {
   "cell_type": "markdown",
   "metadata": {},
   "source": [
    "-------------------------------------------------------------------------------------------------------------------------------"
   ]
  },
  {
   "cell_type": "markdown",
   "metadata": {},
   "source": [
    "## Linear Regression Models"
   ]
  },
  {
   "cell_type": "markdown",
   "metadata": {},
   "source": [
    "### Linear Regression by Solving Normal Equations"
   ]
  },
  {
   "cell_type": "markdown",
   "metadata": {},
   "source": [
    "$y = w_{0} + w_{1}x_{1} + w_{2}x_{2} + w_{3}x_{3}$"
   ]
  },
  {
   "cell_type": "markdown",
   "metadata": {},
   "source": [
    "$x_{1}, x_{2}, x_{3}$ represent the age, bmi and number of children respectively. $ w_{1},w_{2}, w_{3}$ are weights associated with $x_{1}, x_{2}, x_{3}$."
   ]
  },
  {
   "cell_type": "markdown",
   "metadata": {},
   "source": [
    "$$X = \n",
    "\\begin{bmatrix} \n",
    "1 & x_{11} & x_{12} & x_{13}\\\\\n",
    "1 & x_{21} & x_{22} & x_{23}\\\\\n",
    ". & . & . & . \\\\\n",
    ". & . & . & . \\\\\n",
    "1 & x_{m1} & x_{m2} & x_{m3}\\\\\n",
    "\\end{bmatrix}\n",
    "\\quad\n",
    "$$\n",
    "$$ $$\n",
    "$$Y = \n",
    "\\begin{bmatrix} \n",
    "y_{1}\\\\\n",
    "y_{2}\\\\\n",
    ".\\\\\n",
    ".\\\\\n",
    "y_{m}\\\\\n",
    "\\end{bmatrix}\n",
    "\\quad\n",
    "$$ where $m$ = size of training data\n",
    "$$ $$\n",
    "$$ω = \n",
    "\\begin{bmatrix} \n",
    "ω_{0}\\\\\n",
    "ω_{1}\\\\\n",
    "ω_{2}\\\\\n",
    "ω_{3}\\\\\n",
    "\\end{bmatrix}\n",
    "\\quad\n",
    "$$\n",
    "$$ $$\n",
    "$$b = X^{T} . Y$$"
   ]
  },
  {
   "cell_type": "markdown",
   "metadata": {},
   "source": [
    "$$ ω = (X^{T}.X)^{-1}x^{T}.Y = (X^{T}.X)^{-1}.b$$"
   ]
  },
  {
   "cell_type": "code",
   "execution_count": 34,
   "metadata": {},
   "outputs": [],
   "source": [
    "class NE:\n",
    "    def __init__(self, data):\n",
    "        self.data = data\n",
    "        self.models = pd.DataFrame(columns = [\"w0\", \"w1\", \"w2\", \"w3\", \"testing_error\", \"training_error\"])\n",
    "        self.model = np.zeros((4, 1))\n",
    "        self.min_error = float(\"inf\")\n",
    "    \n",
    "    # shuffles data randomly\n",
    "    def __shuffle(self):\n",
    "        self.data = self.data.sample(frac = 1)\n",
    "    \n",
    "    # splits a data frame in 70:30 ratio\n",
    "    def __split(self):\n",
    "        train = self.data[:int(0.7 * len(data))]\n",
    "        test = self.data[int(0.7 * len(data)):]\n",
    "        return train, test\n",
    "    \n",
    "    # standardizes data\n",
    "    def __standardize(self, data):\n",
    "        column_names = list(data.columns)\n",
    "        standardize = lambda x : (x - x.mean()) / x.std()\n",
    "        for column in column_names:\n",
    "            data[column] = standardize(data[column])\n",
    "        return data\n",
    "    \n",
    "    # computes and returns X and Y matrices\n",
    "    def __matrices(self, train):\n",
    "        x1, x2, x3, y = train[\"age\"], train[\"bmi\"], train[\"children\"], train[\"charges\"]\n",
    "        x1, x2, x3= np.array(x1), np.array(x2), np.array(x3)\n",
    "        Y = np.array(y)\n",
    "        n = len(Y)\n",
    "        Y = Y.reshape((n, 1))\n",
    "        x0 = np.ones((n,1))\n",
    "        x1 = np.reshape(x1, (n, 1))\n",
    "        x2 = np.reshape(x2, (n, 1))\n",
    "        x3 = np.reshape(x3, (n, 1))\n",
    "        X = np.append(x0, x1, axis=1)\n",
    "        X = np.append(X, x2, axis=1)\n",
    "        X = np.append(X, x3, axis=1)\n",
    "        return X, Y\n",
    "    \n",
    "    # calculates Mean Square Error\n",
    "    def __error(self, X, Y, w):\n",
    "        Y_pred = np.dot(X, w)\n",
    "        mse = (1/2) * np.average((Y_pred-Y)**2)\n",
    "        return float(mse)\n",
    "    \n",
    "    # tests the model against testing data\n",
    "    def __testModel(self, test, w):\n",
    "        Xt, Yt = self.__matrices(test)\n",
    "        testing_error = self.__error(Xt, Yt, w)\n",
    "        return testing_error\n",
    "    \n",
    "    # main function to build models\n",
    "    def buildModels(self, number = 20):\n",
    "        for i in range(number):\n",
    "            # shuffle dataset\n",
    "            self.__shuffle()\n",
    "            # split dataset\n",
    "            train, test = self.__split()\n",
    "            # standardise training and testing data\n",
    "            train = self.__standardize(train)\n",
    "            test = self.__standardize(test)\n",
    "            # obtain X and Y matrices\n",
    "            X, Y = self.__matrices(train)\n",
    "            # obtain the best-fit model weights\n",
    "            w = self.__solve(X, Y)\n",
    "            # calculate training error\n",
    "            training_error = self.__error(X, Y, w)\n",
    "            # calculate testing error\n",
    "            testing_error = self.__testModel(test, w)\n",
    "            # append the model, errors to models dataframe\n",
    "            model = list(w)\n",
    "            model.append(testing_error)\n",
    "            model.append(training_error)\n",
    "            model = pd.Series(model, index = self.models.columns)\n",
    "            # the model with least testing error is accepted as the final model\n",
    "            self.models = self.models.append(model, ignore_index=True)\n",
    "            if self.min_error > testing_error:\n",
    "                self.min_error = testing_error\n",
    "                self.model = w\n",
    "\n",
    "    #_____________________________________________________________________#           \n",
    "    # solves normal equations and returns corresponding regression weights\n",
    "    def __solve(self, X, Y):\n",
    "        XT = np.transpose(X)\n",
    "        A = XT.dot(X)\n",
    "        A_inv = np.linalg.inv(A)\n",
    "        b = XT.dot(Y)\n",
    "        w = A_inv.dot(b)\n",
    "        return w\n",
    "    #_____________________________________________________________________#"
   ]
  },
  {
   "cell_type": "markdown",
   "metadata": {},
   "source": [
    "### Linear Regression by Gradient Descent"
   ]
  },
  {
   "cell_type": "markdown",
   "metadata": {},
   "source": [
    "$$\n",
    "E(ω) = \n",
    "\\begin{equation}\n",
    "\\frac{1}{2} * \\frac{1}{N} * \\sum_{n=0}^{N} (x_{n}*ω - y_{n})^{2} \n",
    "\\end{equation}\n",
    "$$\n",
    "$$ $$\n",
    "$$Mean Square Error$$\n",
    "$$ $$\n",
    "$$ \n",
    "\\begin{equation}\n",
    "\\frac{\\partial E(ω)}{\\partial ω} = \\frac{1}{N}*(X.ω - Y).X\n",
    "\\end{equation}\n",
    "$$\n",
    "$$ $$\n",
    "$$ Gradient$$\n",
    "$$ $$\n",
    "$$\n",
    "ω = ω - η * \\frac{\\partial E(ω)}{\\partial ω}\n",
    "$$\n",
    "$$ $$\n",
    "where $η$ is the epoch or learning rate"
   ]
  },
  {
   "cell_type": "code",
   "execution_count": 36,
   "metadata": {},
   "outputs": [],
   "source": [
    "class GD:\n",
    "    def __init__(self, data, learning_rate = 1e-5):\n",
    "        self.data = data\n",
    "        self.learning_rate = learning_rate\n",
    "        self.errors = []\n",
    "        self.models = pd.DataFrame(columns = [\"w0\", \"w1\", \"w2\", \"w3\", \"testing_error\", \"training_error\", \"iterations\"])\n",
    "    \n",
    "    # shuffles data randomly\n",
    "    def __shuffle(self):\n",
    "        self.data = self.data.sample(frac = 1)\n",
    "    \n",
    "    # splits a data frame in 70:30 ratio\n",
    "    def __split(self):\n",
    "        train = self.data[:int(0.7 * len(data))]\n",
    "        test = self.data[int(0.7 * len(data)):]\n",
    "        return train, test\n",
    "    \n",
    "    # standardizes data\n",
    "    def __standardize(self, data):\n",
    "        column_names = list(data.columns)\n",
    "        standardize = lambda x : (x - x.mean()) / x.std()\n",
    "        for column in column_names:\n",
    "            data[column] = standardize(data[column])\n",
    "        return data\n",
    "    \n",
    "    # computes and returns X and Y matrices\n",
    "    def __matrices(self, train):\n",
    "        x1, x2, x3, y = train[\"age\"], train[\"bmi\"], train[\"children\"], train[\"charges\"]\n",
    "        x1 = np.array(x1)\n",
    "        x2 = np.array(x2)\n",
    "        x3 = np.array(x3)\n",
    "        Y = np.array(y)\n",
    "        n = len(Y)\n",
    "        Y = Y.reshape(n, 1)\n",
    "        x0 = np.ones((n,1))\n",
    "        x1 = np.reshape(x1, (n, 1))\n",
    "        x2 = np.reshape(x2, (n, 1))\n",
    "        x3 = np.reshape(x3, (n, 1))\n",
    "        X = np.append(x0, x1, axis=1)\n",
    "        X = np.append(X, x2, axis=1)\n",
    "        X = np.append(X, x3, axis=1)\n",
    "        return X, Y\n",
    "    \n",
    "    # calculates Mean Square Error\n",
    "    def __error(self, X, Y, w):\n",
    "        Y_pred = np.dot(X, w)\n",
    "        mse = (1/2) * np.average((Y_pred-Y)**2)\n",
    "        return float(mse)\n",
    "    \n",
    "    # tests the model against testing data\n",
    "    def __testModel(self, test, w):\n",
    "        Xt, Yt = self.__matrices(test)\n",
    "        testing_error = self.__error(Xt, Yt, w)\n",
    "        return testing_error\n",
    "    \n",
    "    # main function to build models\n",
    "    def buildModels(self, number = 20):\n",
    "        for i in range(number):\n",
    "            # shuffle dataset\n",
    "            self.__shuffle()\n",
    "            # split dataset\n",
    "            train, test = self.__split()\n",
    "            # standardise training and testing data\n",
    "            train = self.__standardize(train)\n",
    "            test = self.__standardize(test)\n",
    "            # obtain X and Y matrices\n",
    "            X, Y = self.__matrices(train)\n",
    "            # obtain the best-fit model weights\n",
    "            w = np.random.rand(4, 1)\n",
    "            w, model_errors , iterations = self.__gradientDescent(X, Y, w)\n",
    "            # calculate training error\n",
    "            training_error = self.__error(X, Y, w)\n",
    "            # calculate testing error\n",
    "            testing_error = self.__testModel(test, w)\n",
    "            # append the model, errors to models dataframe\n",
    "            model = list(w)\n",
    "            model.append(testing_error)\n",
    "            model.append(training_error)\n",
    "            model.append(iterations)\n",
    "            model = pd.Series(model, index = self.models.columns)\n",
    "            # the model with least testing error is accepted as the final model\n",
    "            self.models = self.models.append(model, ignore_index=True)\n",
    "            self.errors.append(model_errors)\n",
    "    #___________________________________________________________#\n",
    "    # Implements Gradient Descent Algorithm\n",
    "    def __gradientDescent(self, X, Y, w):\n",
    "        learning_rate = self.learning_rate\n",
    "        m, i = len(Y), 1\n",
    "        errors = []\n",
    "        error, prev_error = float(\"inf\"), 0\n",
    "        while abs(prev_error-error) > 1e-7:\n",
    "            prev_error = error\n",
    "            Y_pred = X.dot(w)\n",
    "            gradient = (1/m) * np.dot(X.transpose(), Y_pred- Y)\n",
    "            w -= learning_rate * gradient\n",
    "            error = self.__error(X, Y, w)\n",
    "            errors.append(error)\n",
    "            i+=1\n",
    "        return w, errors, i\n",
    "    #___________________________________________________________#"
   ]
  },
  {
   "cell_type": "markdown",
   "metadata": {},
   "source": [
    "### Linear Regression by Stochastic Gradient Descent"
   ]
  },
  {
   "cell_type": "code",
   "execution_count": 78,
   "metadata": {},
   "outputs": [],
   "source": [
    "class SGD:\n",
    "    def __init__(self, data, learning_rate = 1e-5):\n",
    "        self.data = data\n",
    "        self.learning_rate = learning_rate\n",
    "        self.errors = []\n",
    "        self.models = pd.DataFrame(columns = [\"w0\", \"w1\", \"w2\", \"w3\", \"testing_error\", \"training_error\", \"iterations\"])\n",
    "    \n",
    "    # shuffles data randomly\n",
    "    def __shuffle(self):\n",
    "        self.data = self.data.sample(frac = 1)\n",
    "    \n",
    "    # splits a data frame in 70:30 ratio\n",
    "    def __split(self):\n",
    "        train = self.data[:int(0.7 * len(data))]\n",
    "        test = self.data[int(0.7 * len(data)):]\n",
    "        return train, test\n",
    "    \n",
    "    # standardizes data\n",
    "    def __standardize(self, data):\n",
    "        column_names = list(data.columns)\n",
    "        standardize = lambda x : (x - x.mean()) / x.std()\n",
    "        for column in column_names:\n",
    "            data[column] = standardize(data[column])\n",
    "        return data\n",
    "    \n",
    "    # computes and returns X and Y matrices\n",
    "    def __matrices(self, train):\n",
    "        x1, x2, x3, y = train[\"age\"], train[\"bmi\"], train[\"children\"], train[\"charges\"]\n",
    "        x1 = np.array(x1)\n",
    "        x2 = np.array(x2)\n",
    "        x3 = np.array(x3)\n",
    "        Y = np.array(y)\n",
    "        n = len(Y)\n",
    "        Y = Y.reshape(n, 1)\n",
    "        x0 = np.ones((n,1))\n",
    "        x1 = np.reshape(x1, (n, 1))\n",
    "        x2 = np.reshape(x2, (n, 1))\n",
    "        x3 = np.reshape(x3, (n, 1))\n",
    "        X = np.append(x0, x1, axis=1)\n",
    "        X = np.append(X, x2, axis=1)\n",
    "        X = np.append(X, x3, axis=1)\n",
    "        return X, Y\n",
    "    \n",
    "    # calculates Mean Square Error\n",
    "    def __error(self, X, Y, w):\n",
    "        Y_pred = np.dot(X, w)\n",
    "        mse = (1/2) * np.average((Y_pred-Y)**2)\n",
    "        return float(mse)\n",
    "    \n",
    "    # tests the model against testing data\n",
    "    def __testModel(self, test, w):\n",
    "        Xt, Yt = self.__matrices(test)\n",
    "        testing_error = self.__error(Xt, Yt, w)\n",
    "        return testing_error\n",
    "    \n",
    "    # main function to build models\n",
    "    def buildModels(self, number = 20):\n",
    "        for i in range(number):\n",
    "            # shuffle dataset\n",
    "            self.__shuffle()\n",
    "            # split dataset\n",
    "            train, test = self.__split()\n",
    "            # standardise training and testing data\n",
    "            train = self.__standardize(train)\n",
    "            test = self.__standardize(test)\n",
    "            # obtain X and Y matrices\n",
    "            X, Y = self.__matrices(train)\n",
    "            # obtain the best-fit model weights\n",
    "            w = np.random.rand(4, 1)\n",
    "            w, model_errors , iterations = self.__stochasticGradientDescent(X, Y, w)\n",
    "            # calculate training error\n",
    "            training_error = self.__error(X, Y, w)\n",
    "            # calculate testing error\n",
    "            testing_error = self.__testModel(test, w)\n",
    "            # append the model, errors to models dataframe\n",
    "            model = list(w)\n",
    "            model.append(testing_error)\n",
    "            model.append(training_error)\n",
    "            model.append(iterations)\n",
    "            model = pd.Series(model, index = self.models.columns)\n",
    "            # the model with least testing error is accepted as the final model\n",
    "            self.models = self.models.append(model, ignore_index=True)\n",
    "            self.errors.append(model_errors)\n",
    "    #___________________________________________________________#\n",
    "    # Implements Gradient Descent Algorithm\n",
    "    def __stochasticGradientDescent(self, X, Y, w):\n",
    "        learning_rate = self.learning_rate\n",
    "        m, i = len(Y), 0\n",
    "        errors = []\n",
    "        error, prev_error = float(\"inf\"), 0\n",
    "        while abs(prev_error-error) > 1e-12:\n",
    "            prev_error = error\n",
    "            x = X[i%m].reshape(1, 4)\n",
    "            y = Y[i%m].reshape(1, 1)\n",
    "            y_pred = x.dot(w)\n",
    "            gradient = (1/m) * np.dot(x.transpose(), y_pred- y)\n",
    "            w -= learning_rate * gradient\n",
    "            error = self.__error(X, Y, w)\n",
    "            errors.append(error)\n",
    "            i+=1\n",
    "        return w, errors, i + 1\n",
    "    #___________________________________________________________#"
   ]
  },
  {
   "cell_type": "code",
   "execution_count": 75,
   "metadata": {},
   "outputs": [],
   "source": [
    "data = pd.read_csv(\"insurance.txt\")"
   ]
  },
  {
   "cell_type": "code",
   "execution_count": 83,
   "metadata": {},
   "outputs": [
    {
     "data": {
      "text/html": [
       "<div>\n",
       "<style scoped>\n",
       "    .dataframe tbody tr th:only-of-type {\n",
       "        vertical-align: middle;\n",
       "    }\n",
       "\n",
       "    .dataframe tbody tr th {\n",
       "        vertical-align: top;\n",
       "    }\n",
       "\n",
       "    .dataframe thead th {\n",
       "        text-align: right;\n",
       "    }\n",
       "</style>\n",
       "<table border=\"1\" class=\"dataframe\">\n",
       "  <thead>\n",
       "    <tr style=\"text-align: right;\">\n",
       "      <th></th>\n",
       "      <th>w0</th>\n",
       "      <th>w1</th>\n",
       "      <th>w2</th>\n",
       "      <th>w3</th>\n",
       "      <th>testing_error</th>\n",
       "      <th>training_error</th>\n",
       "      <th>iterations</th>\n",
       "    </tr>\n",
       "  </thead>\n",
       "  <tbody>\n",
       "    <tr>\n",
       "      <th>0</th>\n",
       "      <td>[0.6466622877495065]</td>\n",
       "      <td>[0.5074311557659442]</td>\n",
       "      <td>[0.9154431016582337]</td>\n",
       "      <td>[0.3639978820783321]</td>\n",
       "      <td>1.096254</td>\n",
       "      <td>0.997617</td>\n",
       "      <td>661362</td>\n",
       "    </tr>\n",
       "  </tbody>\n",
       "</table>\n",
       "</div>"
      ],
      "text/plain": [
       "                     w0                    w1                    w2  \\\n",
       "0  [0.6466622877495065]  [0.5074311557659442]  [0.9154431016582337]   \n",
       "\n",
       "                     w3  testing_error  training_error iterations  \n",
       "0  [0.3639978820783321]       1.096254        0.997617     661362  "
      ]
     },
     "execution_count": 83,
     "metadata": {},
     "output_type": "execute_result"
    }
   ],
   "source": [
    "test = SGD(data, 0.00001)\n",
    "test.buildModels(1)\n",
    "test.models"
   ]
  },
  {
   "cell_type": "markdown",
   "metadata": {},
   "source": [
    "## Building Regression Models"
   ]
  },
  {
   "cell_type": "code",
   "execution_count": 17,
   "metadata": {},
   "outputs": [
    {
     "data": {
      "text/html": [
       "<div>\n",
       "<style scoped>\n",
       "    .dataframe tbody tr th:only-of-type {\n",
       "        vertical-align: middle;\n",
       "    }\n",
       "\n",
       "    .dataframe tbody tr th {\n",
       "        vertical-align: top;\n",
       "    }\n",
       "\n",
       "    .dataframe thead th {\n",
       "        text-align: right;\n",
       "    }\n",
       "</style>\n",
       "<table border=\"1\" class=\"dataframe\">\n",
       "  <thead>\n",
       "    <tr style=\"text-align: right;\">\n",
       "      <th></th>\n",
       "      <th>w0</th>\n",
       "      <th>w1</th>\n",
       "      <th>w2</th>\n",
       "      <th>w3</th>\n",
       "      <th>testing_error</th>\n",
       "      <th>training_error</th>\n",
       "    </tr>\n",
       "  </thead>\n",
       "  <tbody>\n",
       "    <tr>\n",
       "      <th>0</th>\n",
       "      <td>[6.164845497553392e-17]</td>\n",
       "      <td>[0.2502117357532656]</td>\n",
       "      <td>[0.18525266099737753]</td>\n",
       "      <td>[0.019587770535106602]</td>\n",
       "      <td>0.428862</td>\n",
       "      <td>0.445247</td>\n",
       "    </tr>\n",
       "    <tr>\n",
       "      <th>1</th>\n",
       "      <td>[2.1777488310292514e-17]</td>\n",
       "      <td>[0.2774290050673648]</td>\n",
       "      <td>[0.18442814167891416]</td>\n",
       "      <td>[0.07552937262624408]</td>\n",
       "      <td>0.453537</td>\n",
       "      <td>0.433439</td>\n",
       "    </tr>\n",
       "    <tr>\n",
       "      <th>2</th>\n",
       "      <td>[-2.6196833015907494e-17]</td>\n",
       "      <td>[0.2702704667777726]</td>\n",
       "      <td>[0.19022865834051658]</td>\n",
       "      <td>[0.07257451492825977]</td>\n",
       "      <td>0.445999</td>\n",
       "      <td>0.436933</td>\n",
       "    </tr>\n",
       "    <tr>\n",
       "      <th>3</th>\n",
       "      <td>[4.169795926430932e-17]</td>\n",
       "      <td>[0.24472946809797966]</td>\n",
       "      <td>[0.17117572145670476]</td>\n",
       "      <td>[0.024030529004662193]</td>\n",
       "      <td>0.418400</td>\n",
       "      <td>0.450027</td>\n",
       "    </tr>\n",
       "    <tr>\n",
       "      <th>4</th>\n",
       "      <td>[-5.216539058253589e-17]</td>\n",
       "      <td>[0.2908377913625453]</td>\n",
       "      <td>[0.16951367412359888]</td>\n",
       "      <td>[0.059043146631779876]</td>\n",
       "      <td>0.453248</td>\n",
       "      <td>0.433658</td>\n",
       "    </tr>\n",
       "    <tr>\n",
       "      <th>5</th>\n",
       "      <td>[-8.864307989024009e-18]</td>\n",
       "      <td>[0.2884989829279831]</td>\n",
       "      <td>[0.15204579992009618]</td>\n",
       "      <td>[0.0665705387084657]</td>\n",
       "      <td>0.443497</td>\n",
       "      <td>0.437882</td>\n",
       "    </tr>\n",
       "    <tr>\n",
       "      <th>6</th>\n",
       "      <td>[6.121843128986584e-17]</td>\n",
       "      <td>[0.25695839032424156]</td>\n",
       "      <td>[0.18117932263521194]</td>\n",
       "      <td>[0.03212278462727205]</td>\n",
       "      <td>0.430210</td>\n",
       "      <td>0.444228</td>\n",
       "    </tr>\n",
       "    <tr>\n",
       "      <th>7</th>\n",
       "      <td>[-3.3572768017116273e-17]</td>\n",
       "      <td>[0.2754094628619915]</td>\n",
       "      <td>[0.12287947843409823]</td>\n",
       "      <td>[0.03690358896646556]</td>\n",
       "      <td>0.422148</td>\n",
       "      <td>0.449141</td>\n",
       "    </tr>\n",
       "    <tr>\n",
       "      <th>8</th>\n",
       "      <td>[-4.6360012807587604e-17]</td>\n",
       "      <td>[0.2853648706550786]</td>\n",
       "      <td>[0.15685356599962075]</td>\n",
       "      <td>[0.08624646448378022]</td>\n",
       "      <td>0.453408</td>\n",
       "      <td>0.434721</td>\n",
       "    </tr>\n",
       "    <tr>\n",
       "      <th>9</th>\n",
       "      <td>[-3.9921673252068246e-17]</td>\n",
       "      <td>[0.2863535515886233]</td>\n",
       "      <td>[0.15900437452569588]</td>\n",
       "      <td>[0.04571256222425976]</td>\n",
       "      <td>0.440118</td>\n",
       "      <td>0.440042</td>\n",
       "    </tr>\n",
       "    <tr>\n",
       "      <th>10</th>\n",
       "      <td>[-5.7753165244297134e-18]</td>\n",
       "      <td>[0.2531059990690392]</td>\n",
       "      <td>[0.16089977818238255]</td>\n",
       "      <td>[0.04726386871302138]</td>\n",
       "      <td>0.418744</td>\n",
       "      <td>0.449412</td>\n",
       "    </tr>\n",
       "    <tr>\n",
       "      <th>11</th>\n",
       "      <td>[2.258472073624953e-17]</td>\n",
       "      <td>[0.26297182757775245]</td>\n",
       "      <td>[0.17465883854342912]</td>\n",
       "      <td>[0.04474921172175379]</td>\n",
       "      <td>0.435893</td>\n",
       "      <td>0.442228</td>\n",
       "    </tr>\n",
       "    <tr>\n",
       "      <th>12</th>\n",
       "      <td>[3.9051062778326025e-18]</td>\n",
       "      <td>[0.2857115250961985]</td>\n",
       "      <td>[0.16265764446697323]</td>\n",
       "      <td>[0.054343099159889934]</td>\n",
       "      <td>0.444437</td>\n",
       "      <td>0.438024</td>\n",
       "    </tr>\n",
       "    <tr>\n",
       "      <th>13</th>\n",
       "      <td>[3.563743051417962e-17]</td>\n",
       "      <td>[0.2726212829187516]</td>\n",
       "      <td>[0.1729448079866935]</td>\n",
       "      <td>[0.061467673643421886]</td>\n",
       "      <td>0.438332</td>\n",
       "      <td>0.440839</td>\n",
       "    </tr>\n",
       "    <tr>\n",
       "      <th>14</th>\n",
       "      <td>[-1.3417883816757144e-17]</td>\n",
       "      <td>[0.26825091056267436]</td>\n",
       "      <td>[0.17288181778167844]</td>\n",
       "      <td>[0.021914445566039907]</td>\n",
       "      <td>0.434520</td>\n",
       "      <td>0.443311</td>\n",
       "    </tr>\n",
       "    <tr>\n",
       "      <th>15</th>\n",
       "      <td>[-5.195279569221661e-17]</td>\n",
       "      <td>[0.2810083487713679]</td>\n",
       "      <td>[0.17485100151193972]</td>\n",
       "      <td>[0.0621925904029647]</td>\n",
       "      <td>0.446382</td>\n",
       "      <td>0.437432</td>\n",
       "    </tr>\n",
       "    <tr>\n",
       "      <th>16</th>\n",
       "      <td>[6.844970962677495e-17]</td>\n",
       "      <td>[0.30440636395989046]</td>\n",
       "      <td>[0.14375724812674215]</td>\n",
       "      <td>[0.059706978636561533]</td>\n",
       "      <td>0.451863</td>\n",
       "      <td>0.435637</td>\n",
       "    </tr>\n",
       "    <tr>\n",
       "      <th>17</th>\n",
       "      <td>[-7.426774926200222e-17]</td>\n",
       "      <td>[0.26199441691204606]</td>\n",
       "      <td>[0.2130576363106361]</td>\n",
       "      <td>[0.04763934796596123]</td>\n",
       "      <td>0.459006</td>\n",
       "      <td>0.433374</td>\n",
       "    </tr>\n",
       "    <tr>\n",
       "      <th>18</th>\n",
       "      <td>[-5.640707312517399e-17]</td>\n",
       "      <td>[0.2624207795474179]</td>\n",
       "      <td>[0.16519782874723396]</td>\n",
       "      <td>[0.06720427238234286]</td>\n",
       "      <td>0.433332</td>\n",
       "      <td>0.443030</td>\n",
       "    </tr>\n",
       "    <tr>\n",
       "      <th>19</th>\n",
       "      <td>[-5.489114969046594e-17]</td>\n",
       "      <td>[0.26444569113078936]</td>\n",
       "      <td>[0.18476151609187846]</td>\n",
       "      <td>[0.08571889070359465]</td>\n",
       "      <td>0.448257</td>\n",
       "      <td>0.437199</td>\n",
       "    </tr>\n",
       "  </tbody>\n",
       "</table>\n",
       "</div>"
      ],
      "text/plain": [
       "                           w0                     w1                     w2  \\\n",
       "0     [6.164845497553392e-17]   [0.2502117357532656]  [0.18525266099737753]   \n",
       "1    [2.1777488310292514e-17]   [0.2774290050673648]  [0.18442814167891416]   \n",
       "2   [-2.6196833015907494e-17]   [0.2702704667777726]  [0.19022865834051658]   \n",
       "3     [4.169795926430932e-17]  [0.24472946809797966]  [0.17117572145670476]   \n",
       "4    [-5.216539058253589e-17]   [0.2908377913625453]  [0.16951367412359888]   \n",
       "5    [-8.864307989024009e-18]   [0.2884989829279831]  [0.15204579992009618]   \n",
       "6     [6.121843128986584e-17]  [0.25695839032424156]  [0.18117932263521194]   \n",
       "7   [-3.3572768017116273e-17]   [0.2754094628619915]  [0.12287947843409823]   \n",
       "8   [-4.6360012807587604e-17]   [0.2853648706550786]  [0.15685356599962075]   \n",
       "9   [-3.9921673252068246e-17]   [0.2863535515886233]  [0.15900437452569588]   \n",
       "10  [-5.7753165244297134e-18]   [0.2531059990690392]  [0.16089977818238255]   \n",
       "11    [2.258472073624953e-17]  [0.26297182757775245]  [0.17465883854342912]   \n",
       "12   [3.9051062778326025e-18]   [0.2857115250961985]  [0.16265764446697323]   \n",
       "13    [3.563743051417962e-17]   [0.2726212829187516]   [0.1729448079866935]   \n",
       "14  [-1.3417883816757144e-17]  [0.26825091056267436]  [0.17288181778167844]   \n",
       "15   [-5.195279569221661e-17]   [0.2810083487713679]  [0.17485100151193972]   \n",
       "16    [6.844970962677495e-17]  [0.30440636395989046]  [0.14375724812674215]   \n",
       "17   [-7.426774926200222e-17]  [0.26199441691204606]   [0.2130576363106361]   \n",
       "18   [-5.640707312517399e-17]   [0.2624207795474179]  [0.16519782874723396]   \n",
       "19   [-5.489114969046594e-17]  [0.26444569113078936]  [0.18476151609187846]   \n",
       "\n",
       "                        w3  testing_error  training_error  \n",
       "0   [0.019587770535106602]       0.428862        0.445247  \n",
       "1    [0.07552937262624408]       0.453537        0.433439  \n",
       "2    [0.07257451492825977]       0.445999        0.436933  \n",
       "3   [0.024030529004662193]       0.418400        0.450027  \n",
       "4   [0.059043146631779876]       0.453248        0.433658  \n",
       "5     [0.0665705387084657]       0.443497        0.437882  \n",
       "6    [0.03212278462727205]       0.430210        0.444228  \n",
       "7    [0.03690358896646556]       0.422148        0.449141  \n",
       "8    [0.08624646448378022]       0.453408        0.434721  \n",
       "9    [0.04571256222425976]       0.440118        0.440042  \n",
       "10   [0.04726386871302138]       0.418744        0.449412  \n",
       "11   [0.04474921172175379]       0.435893        0.442228  \n",
       "12  [0.054343099159889934]       0.444437        0.438024  \n",
       "13  [0.061467673643421886]       0.438332        0.440839  \n",
       "14  [0.021914445566039907]       0.434520        0.443311  \n",
       "15    [0.0621925904029647]       0.446382        0.437432  \n",
       "16  [0.059706978636561533]       0.451863        0.435637  \n",
       "17   [0.04763934796596123]       0.459006        0.433374  \n",
       "18   [0.06720427238234286]       0.433332        0.443030  \n",
       "19   [0.08571889070359465]       0.448257        0.437199  "
      ]
     },
     "execution_count": 17,
     "metadata": {},
     "output_type": "execute_result"
    }
   ],
   "source": [
    "final_modelNE = LinearRegressionNE(data)\n",
    "final_modelNE.models"
   ]
  },
  {
   "cell_type": "code",
   "execution_count": 26,
   "metadata": {},
   "outputs": [
    {
     "data": {
      "text/html": [
       "<div>\n",
       "<style scoped>\n",
       "    .dataframe tbody tr th:only-of-type {\n",
       "        vertical-align: middle;\n",
       "    }\n",
       "\n",
       "    .dataframe tbody tr th {\n",
       "        vertical-align: top;\n",
       "    }\n",
       "\n",
       "    .dataframe thead th {\n",
       "        text-align: right;\n",
       "    }\n",
       "</style>\n",
       "<table border=\"1\" class=\"dataframe\">\n",
       "  <thead>\n",
       "    <tr style=\"text-align: right;\">\n",
       "      <th></th>\n",
       "      <th>w0</th>\n",
       "      <th>w1</th>\n",
       "      <th>w2</th>\n",
       "      <th>w3</th>\n",
       "      <th>testing_error</th>\n",
       "      <th>training_error</th>\n",
       "      <th>iterations</th>\n",
       "    </tr>\n",
       "  </thead>\n",
       "  <tbody>\n",
       "    <tr>\n",
       "      <th>0</th>\n",
       "      <td>[0.03257538466926052]</td>\n",
       "      <td>[0.3043425566653231]</td>\n",
       "      <td>[0.18388047553767292]</td>\n",
       "      <td>[0.1321034261634152]</td>\n",
       "      <td>0.433160</td>\n",
       "      <td>0.447986</td>\n",
       "      <td>129736</td>\n",
       "    </tr>\n",
       "    <tr>\n",
       "      <th>1</th>\n",
       "      <td>[0.0684491632086386]</td>\n",
       "      <td>[0.30334933215293586]</td>\n",
       "      <td>[0.21449465831655778]</td>\n",
       "      <td>[0.12020720700553864]</td>\n",
       "      <td>0.449811</td>\n",
       "      <td>0.443448</td>\n",
       "      <td>252689</td>\n",
       "    </tr>\n",
       "    <tr>\n",
       "      <th>2</th>\n",
       "      <td>[0.05235756559253253]</td>\n",
       "      <td>[0.28314521185093966]</td>\n",
       "      <td>[0.2304286899552909]</td>\n",
       "      <td>[0.054731934055570974]</td>\n",
       "      <td>0.431210</td>\n",
       "      <td>0.447602</td>\n",
       "      <td>234448</td>\n",
       "    </tr>\n",
       "    <tr>\n",
       "      <th>3</th>\n",
       "      <td>[0.07587876874045345]</td>\n",
       "      <td>[0.287664961296604]</td>\n",
       "      <td>[0.24077705045781314]</td>\n",
       "      <td>[0.09100442296475764]</td>\n",
       "      <td>0.462961</td>\n",
       "      <td>0.438930</td>\n",
       "      <td>252153</td>\n",
       "    </tr>\n",
       "    <tr>\n",
       "      <th>4</th>\n",
       "      <td>[0.07511143461336556]</td>\n",
       "      <td>[0.3393398225494634]</td>\n",
       "      <td>[0.12558880819373758]</td>\n",
       "      <td>[0.1152436879642487]</td>\n",
       "      <td>0.472348</td>\n",
       "      <td>0.435800</td>\n",
       "      <td>231490</td>\n",
       "    </tr>\n",
       "    <tr>\n",
       "      <th>5</th>\n",
       "      <td>[0.028761264066285125]</td>\n",
       "      <td>[0.3955326017790591]</td>\n",
       "      <td>[0.09733604876282098]</td>\n",
       "      <td>[0.0784871693760256]</td>\n",
       "      <td>0.451541</td>\n",
       "      <td>0.446117</td>\n",
       "      <td>149313</td>\n",
       "    </tr>\n",
       "    <tr>\n",
       "      <th>6</th>\n",
       "      <td>[0.07878673534802502]</td>\n",
       "      <td>[0.310052267034571]</td>\n",
       "      <td>[0.14569481148371433]</td>\n",
       "      <td>[0.11285785852181682]</td>\n",
       "      <td>0.434588</td>\n",
       "      <td>0.448823</td>\n",
       "      <td>248254</td>\n",
       "    </tr>\n",
       "    <tr>\n",
       "      <th>7</th>\n",
       "      <td>[0.0761648968019895]</td>\n",
       "      <td>[0.25392655690114063]</td>\n",
       "      <td>[0.16770976334984256]</td>\n",
       "      <td>[0.11875487935675089]</td>\n",
       "      <td>0.441586</td>\n",
       "      <td>0.446064</td>\n",
       "      <td>237599</td>\n",
       "    </tr>\n",
       "    <tr>\n",
       "      <th>8</th>\n",
       "      <td>[0.07836224069356196]</td>\n",
       "      <td>[0.23064145803613706]</td>\n",
       "      <td>[0.2208376590094562]</td>\n",
       "      <td>[0.07105287799919079]</td>\n",
       "      <td>0.419883</td>\n",
       "      <td>0.456889</td>\n",
       "      <td>221343</td>\n",
       "    </tr>\n",
       "    <tr>\n",
       "      <th>9</th>\n",
       "      <td>[0.01646856789362735]</td>\n",
       "      <td>[0.2780769969572435]</td>\n",
       "      <td>[0.20643140974108729]</td>\n",
       "      <td>[0.13046681211631633]</td>\n",
       "      <td>0.421700</td>\n",
       "      <td>0.453242</td>\n",
       "      <td>236689</td>\n",
       "    </tr>\n",
       "    <tr>\n",
       "      <th>10</th>\n",
       "      <td>[0.045977871969588226]</td>\n",
       "      <td>[0.25561138435815783]</td>\n",
       "      <td>[0.20525197994358824]</td>\n",
       "      <td>[0.12547351466167553]</td>\n",
       "      <td>0.450060</td>\n",
       "      <td>0.442216</td>\n",
       "      <td>272815</td>\n",
       "    </tr>\n",
       "    <tr>\n",
       "      <th>11</th>\n",
       "      <td>[0.06297245574289656]</td>\n",
       "      <td>[0.2154846827113045]</td>\n",
       "      <td>[0.26176145237658044]</td>\n",
       "      <td>[0.04586304476510868]</td>\n",
       "      <td>0.446351</td>\n",
       "      <td>0.448744</td>\n",
       "      <td>186199</td>\n",
       "    </tr>\n",
       "    <tr>\n",
       "      <th>12</th>\n",
       "      <td>[0.07275094388164491]</td>\n",
       "      <td>[0.3366793492960356]</td>\n",
       "      <td>[0.14977094463023313]</td>\n",
       "      <td>[0.05970099867339042]</td>\n",
       "      <td>0.427117</td>\n",
       "      <td>0.451174</td>\n",
       "      <td>214580</td>\n",
       "    </tr>\n",
       "    <tr>\n",
       "      <th>13</th>\n",
       "      <td>[0.06144869272169958]</td>\n",
       "      <td>[0.3189851627230312]</td>\n",
       "      <td>[0.18965477000570288]</td>\n",
       "      <td>[0.10028665770651007]</td>\n",
       "      <td>0.464264</td>\n",
       "      <td>0.436321</td>\n",
       "      <td>205323</td>\n",
       "    </tr>\n",
       "    <tr>\n",
       "      <th>14</th>\n",
       "      <td>[0.06844269128596042]</td>\n",
       "      <td>[0.25978928047748495]</td>\n",
       "      <td>[0.14549016473700946]</td>\n",
       "      <td>[0.11295963298762765]</td>\n",
       "      <td>0.427512</td>\n",
       "      <td>0.452971</td>\n",
       "      <td>233610</td>\n",
       "    </tr>\n",
       "    <tr>\n",
       "      <th>15</th>\n",
       "      <td>[0.09341185917832287]</td>\n",
       "      <td>[0.2833110125613794]</td>\n",
       "      <td>[0.16374182428084624]</td>\n",
       "      <td>[0.10244207600961859]</td>\n",
       "      <td>0.459712</td>\n",
       "      <td>0.440831</td>\n",
       "      <td>229122</td>\n",
       "    </tr>\n",
       "    <tr>\n",
       "      <th>16</th>\n",
       "      <td>[0.07121664863675278]</td>\n",
       "      <td>[0.2925231804989225]</td>\n",
       "      <td>[0.24226806380193924]</td>\n",
       "      <td>[0.03413724866881978]</td>\n",
       "      <td>0.467360</td>\n",
       "      <td>0.438185</td>\n",
       "      <td>183902</td>\n",
       "    </tr>\n",
       "    <tr>\n",
       "      <th>17</th>\n",
       "      <td>[0.07141127623230571]</td>\n",
       "      <td>[0.3357002208640102]</td>\n",
       "      <td>[0.12052459865270376]</td>\n",
       "      <td>[0.08060690536556221]</td>\n",
       "      <td>0.442025</td>\n",
       "      <td>0.447701</td>\n",
       "      <td>258752</td>\n",
       "    </tr>\n",
       "    <tr>\n",
       "      <th>18</th>\n",
       "      <td>[0.06986314229234288]</td>\n",
       "      <td>[0.32849061018211384]</td>\n",
       "      <td>[0.1853052076722595]</td>\n",
       "      <td>[0.09252206950491702]</td>\n",
       "      <td>0.448710</td>\n",
       "      <td>0.444486</td>\n",
       "      <td>217903</td>\n",
       "    </tr>\n",
       "    <tr>\n",
       "      <th>19</th>\n",
       "      <td>[0.01761671101344448]</td>\n",
       "      <td>[0.3139207053885737]</td>\n",
       "      <td>[0.1280814924374018]</td>\n",
       "      <td>[0.13428712248789218]</td>\n",
       "      <td>0.442015</td>\n",
       "      <td>0.447058</td>\n",
       "      <td>171813</td>\n",
       "    </tr>\n",
       "  </tbody>\n",
       "</table>\n",
       "</div>"
      ],
      "text/plain": [
       "                        w0                     w1                     w2  \\\n",
       "0    [0.03257538466926052]   [0.3043425566653231]  [0.18388047553767292]   \n",
       "1     [0.0684491632086386]  [0.30334933215293586]  [0.21449465831655778]   \n",
       "2    [0.05235756559253253]  [0.28314521185093966]   [0.2304286899552909]   \n",
       "3    [0.07587876874045345]    [0.287664961296604]  [0.24077705045781314]   \n",
       "4    [0.07511143461336556]   [0.3393398225494634]  [0.12558880819373758]   \n",
       "5   [0.028761264066285125]   [0.3955326017790591]  [0.09733604876282098]   \n",
       "6    [0.07878673534802502]    [0.310052267034571]  [0.14569481148371433]   \n",
       "7     [0.0761648968019895]  [0.25392655690114063]  [0.16770976334984256]   \n",
       "8    [0.07836224069356196]  [0.23064145803613706]   [0.2208376590094562]   \n",
       "9    [0.01646856789362735]   [0.2780769969572435]  [0.20643140974108729]   \n",
       "10  [0.045977871969588226]  [0.25561138435815783]  [0.20525197994358824]   \n",
       "11   [0.06297245574289656]   [0.2154846827113045]  [0.26176145237658044]   \n",
       "12   [0.07275094388164491]   [0.3366793492960356]  [0.14977094463023313]   \n",
       "13   [0.06144869272169958]   [0.3189851627230312]  [0.18965477000570288]   \n",
       "14   [0.06844269128596042]  [0.25978928047748495]  [0.14549016473700946]   \n",
       "15   [0.09341185917832287]   [0.2833110125613794]  [0.16374182428084624]   \n",
       "16   [0.07121664863675278]   [0.2925231804989225]  [0.24226806380193924]   \n",
       "17   [0.07141127623230571]   [0.3357002208640102]  [0.12052459865270376]   \n",
       "18   [0.06986314229234288]  [0.32849061018211384]   [0.1853052076722595]   \n",
       "19   [0.01761671101344448]   [0.3139207053885737]   [0.1280814924374018]   \n",
       "\n",
       "                        w3  testing_error  training_error iterations  \n",
       "0     [0.1321034261634152]       0.433160        0.447986     129736  \n",
       "1    [0.12020720700553864]       0.449811        0.443448     252689  \n",
       "2   [0.054731934055570974]       0.431210        0.447602     234448  \n",
       "3    [0.09100442296475764]       0.462961        0.438930     252153  \n",
       "4     [0.1152436879642487]       0.472348        0.435800     231490  \n",
       "5     [0.0784871693760256]       0.451541        0.446117     149313  \n",
       "6    [0.11285785852181682]       0.434588        0.448823     248254  \n",
       "7    [0.11875487935675089]       0.441586        0.446064     237599  \n",
       "8    [0.07105287799919079]       0.419883        0.456889     221343  \n",
       "9    [0.13046681211631633]       0.421700        0.453242     236689  \n",
       "10   [0.12547351466167553]       0.450060        0.442216     272815  \n",
       "11   [0.04586304476510868]       0.446351        0.448744     186199  \n",
       "12   [0.05970099867339042]       0.427117        0.451174     214580  \n",
       "13   [0.10028665770651007]       0.464264        0.436321     205323  \n",
       "14   [0.11295963298762765]       0.427512        0.452971     233610  \n",
       "15   [0.10244207600961859]       0.459712        0.440831     229122  \n",
       "16   [0.03413724866881978]       0.467360        0.438185     183902  \n",
       "17   [0.08060690536556221]       0.442025        0.447701     258752  \n",
       "18   [0.09252206950491702]       0.448710        0.444486     217903  \n",
       "19   [0.13428712248789218]       0.442015        0.447058     171813  "
      ]
     },
     "execution_count": 26,
     "metadata": {},
     "output_type": "execute_result"
    }
   ],
   "source": [
    "final_modelGD.models"
   ]
  },
  {
   "cell_type": "code",
   "execution_count": 18,
   "metadata": {},
   "outputs": [
    {
     "data": {
      "text/html": [
       "<div>\n",
       "<style scoped>\n",
       "    .dataframe tbody tr th:only-of-type {\n",
       "        vertical-align: middle;\n",
       "    }\n",
       "\n",
       "    .dataframe tbody tr th {\n",
       "        vertical-align: top;\n",
       "    }\n",
       "\n",
       "    .dataframe thead th {\n",
       "        text-align: right;\n",
       "    }\n",
       "</style>\n",
       "<table border=\"1\" class=\"dataframe\">\n",
       "  <thead>\n",
       "    <tr style=\"text-align: right;\">\n",
       "      <th></th>\n",
       "      <th>testing_error</th>\n",
       "      <th>training_error</th>\n",
       "    </tr>\n",
       "  </thead>\n",
       "  <tbody>\n",
       "    <tr>\n",
       "      <th>count</th>\n",
       "      <td>20.000000</td>\n",
       "      <td>20.000000</td>\n",
       "    </tr>\n",
       "    <tr>\n",
       "      <th>mean</th>\n",
       "      <td>0.440010</td>\n",
       "      <td>0.440290</td>\n",
       "    </tr>\n",
       "    <tr>\n",
       "      <th>std</th>\n",
       "      <td>0.012071</td>\n",
       "      <td>0.005373</td>\n",
       "    </tr>\n",
       "    <tr>\n",
       "      <th>min</th>\n",
       "      <td>0.418400</td>\n",
       "      <td>0.433374</td>\n",
       "    </tr>\n",
       "    <tr>\n",
       "      <th>25%</th>\n",
       "      <td>0.432551</td>\n",
       "      <td>0.436609</td>\n",
       "    </tr>\n",
       "    <tr>\n",
       "      <th>50%</th>\n",
       "      <td>0.441807</td>\n",
       "      <td>0.439033</td>\n",
       "    </tr>\n",
       "    <tr>\n",
       "      <th>75%</th>\n",
       "      <td>0.449158</td>\n",
       "      <td>0.443540</td>\n",
       "    </tr>\n",
       "    <tr>\n",
       "      <th>max</th>\n",
       "      <td>0.459006</td>\n",
       "      <td>0.450027</td>\n",
       "    </tr>\n",
       "  </tbody>\n",
       "</table>\n",
       "</div>"
      ],
      "text/plain": [
       "       testing_error  training_error\n",
       "count      20.000000       20.000000\n",
       "mean        0.440010        0.440290\n",
       "std         0.012071        0.005373\n",
       "min         0.418400        0.433374\n",
       "25%         0.432551        0.436609\n",
       "50%         0.441807        0.439033\n",
       "75%         0.449158        0.443540\n",
       "max         0.459006        0.450027"
      ]
     },
     "execution_count": 18,
     "metadata": {},
     "output_type": "execute_result"
    }
   ],
   "source": [
    "final_modelNE.models.describe()"
   ]
  },
  {
   "cell_type": "code",
   "execution_count": 19,
   "metadata": {},
   "outputs": [
    {
     "name": "stdout",
     "output_type": "stream",
     "text": [
      "Mean of testing error obtained over 20 regression models = 0.4400095096280897\n"
     ]
    }
   ],
   "source": [
    "print(f\"Mean of testing error obtained over 20 regression models = {final_modelNE.models.testing_error.mean()}\")"
   ]
  },
  {
   "cell_type": "code",
   "execution_count": 20,
   "metadata": {},
   "outputs": [
    {
     "name": "stdout",
     "output_type": "stream",
     "text": [
      "Variance of testing error obtained over 20 regression models = 0.00014570554941349076\n"
     ]
    }
   ],
   "source": [
    "print(f\"Variance of testing error obtained over 20 regression models = {final_modelNE.models.testing_error.var()}\")"
   ]
  },
  {
   "cell_type": "code",
   "execution_count": 21,
   "metadata": {},
   "outputs": [
    {
     "name": "stdout",
     "output_type": "stream",
     "text": [
      "Minimum testing error obtained over 20 regression models = 0.41840018674709567\n"
     ]
    }
   ],
   "source": [
    "print(f\"Minimum testing error obtained over 20 regression models = {final_modelNE.models.testing_error.min()}\")"
   ]
  },
  {
   "cell_type": "code",
   "execution_count": 22,
   "metadata": {},
   "outputs": [
    {
     "name": "stdout",
     "output_type": "stream",
     "text": [
      "Minimum training error obtained over 20 regression models = 0.4333741283569073\n"
     ]
    }
   ],
   "source": [
    "print(f\"Minimum training error obtained over 20 regression models = {final_modelNE.models.training_error.min()}\")"
   ]
  },
  {
   "cell_type": "markdown",
   "metadata": {},
   "source": [
    "-------------------------------------------------------------------------------------------------------------------------------"
   ]
  },
  {
   "cell_type": "code",
   "execution_count": 23,
   "metadata": {},
   "outputs": [],
   "source": [
    "data = pd.read_csv(\"insurance.txt\")"
   ]
  },
  {
   "cell_type": "code",
   "execution_count": 25,
   "metadata": {},
   "outputs": [],
   "source": [
    "final_modelGD = LinearRegressionGD(data)\n",
    "final_modelGD.buildModels(20)"
   ]
  },
  {
   "cell_type": "markdown",
   "metadata": {},
   "source": [
    "__Plotting the Convergence__"
   ]
  },
  {
   "cell_type": "markdown",
   "metadata": {},
   "source": [
    "Plot $E(\\omega)$ against the number of iterations of gradient descent"
   ]
  },
  {
   "cell_type": "code",
   "execution_count": 27,
   "metadata": {},
   "outputs": [],
   "source": [
    "errors = np.array(final_modelGD.errors, dtype=object)"
   ]
  },
  {
   "cell_type": "code",
   "execution_count": 28,
   "metadata": {},
   "outputs": [
    {
     "data": {
      "image/png": "[encoded data removed]",
      "text/plain": [
       "<Figure size 432x288 with 1 Axes>"
      ]
     },
     "metadata": {
      "needs_background": "light"
     },
     "output_type": "display_data"
    }
   ],
   "source": [
    "for error in errors:\n",
    "    plt.plot(error)\n",
    "    plt.title(\"Values of the Error Function over Iterations of Gradient Descent\");"
   ]
  },
  {
   "cell_type": "code",
   "execution_count": 29,
   "metadata": {},
   "outputs": [
    {
     "data": {
      "text/html": [
       "<div>\n",
       "<style scoped>\n",
       "    .dataframe tbody tr th:only-of-type {\n",
       "        vertical-align: middle;\n",
       "    }\n",
       "\n",
       "    .dataframe tbody tr th {\n",
       "        vertical-align: top;\n",
       "    }\n",
       "\n",
       "    .dataframe thead th {\n",
       "        text-align: right;\n",
       "    }\n",
       "</style>\n",
       "<table border=\"1\" class=\"dataframe\">\n",
       "  <thead>\n",
       "    <tr style=\"text-align: right;\">\n",
       "      <th></th>\n",
       "      <th>testing_error</th>\n",
       "      <th>training_error</th>\n",
       "    </tr>\n",
       "  </thead>\n",
       "  <tbody>\n",
       "    <tr>\n",
       "      <th>count</th>\n",
       "      <td>20.000000</td>\n",
       "      <td>20.000000</td>\n",
       "    </tr>\n",
       "    <tr>\n",
       "      <th>mean</th>\n",
       "      <td>0.444696</td>\n",
       "      <td>0.445729</td>\n",
       "    </tr>\n",
       "    <tr>\n",
       "      <th>std</th>\n",
       "      <td>0.015442</td>\n",
       "      <td>0.005756</td>\n",
       "    </tr>\n",
       "    <tr>\n",
       "      <th>min</th>\n",
       "      <td>0.419883</td>\n",
       "      <td>0.435800</td>\n",
       "    </tr>\n",
       "    <tr>\n",
       "      <th>25%</th>\n",
       "      <td>0.432673</td>\n",
       "      <td>0.441870</td>\n",
       "    </tr>\n",
       "    <tr>\n",
       "      <th>50%</th>\n",
       "      <td>0.444188</td>\n",
       "      <td>0.446587</td>\n",
       "    </tr>\n",
       "    <tr>\n",
       "      <th>75%</th>\n",
       "      <td>0.453584</td>\n",
       "      <td>0.448764</td>\n",
       "    </tr>\n",
       "    <tr>\n",
       "      <th>max</th>\n",
       "      <td>0.472348</td>\n",
       "      <td>0.456889</td>\n",
       "    </tr>\n",
       "  </tbody>\n",
       "</table>\n",
       "</div>"
      ],
      "text/plain": [
       "       testing_error  training_error\n",
       "count      20.000000       20.000000\n",
       "mean        0.444696        0.445729\n",
       "std         0.015442        0.005756\n",
       "min         0.419883        0.435800\n",
       "25%         0.432673        0.441870\n",
       "50%         0.444188        0.446587\n",
       "75%         0.453584        0.448764\n",
       "max         0.472348        0.456889"
      ]
     },
     "execution_count": 29,
     "metadata": {},
     "output_type": "execute_result"
    }
   ],
   "source": [
    "final_modelGD.models.describe()"
   ]
  },
  {
   "cell_type": "code",
   "execution_count": 30,
   "metadata": {},
   "outputs": [
    {
     "name": "stdout",
     "output_type": "stream",
     "text": [
      "Mean of testing error obtained over 20 regression models = 0.444695695991255\n"
     ]
    }
   ],
   "source": [
    "print(f\"Mean of testing error obtained over 20 regression models = {final_modelGD.models.testing_error.mean()}\")"
   ]
  },
  {
   "cell_type": "code",
   "execution_count": 31,
   "metadata": {},
   "outputs": [
    {
     "name": "stdout",
     "output_type": "stream",
     "text": [
      "Variance of testing error obtained over 20 regression models = 0.00023846587575257816\n"
     ]
    }
   ],
   "source": [
    "print(f\"Variance of testing error obtained over 20 regression models = {final_modelGD.models.testing_error.var()}\")"
   ]
  },
  {
   "cell_type": "code",
   "execution_count": 32,
   "metadata": {},
   "outputs": [
    {
     "name": "stdout",
     "output_type": "stream",
     "text": [
      "Minimum of testing error obtained over 20 regression models = 0.41988266560175874\n"
     ]
    }
   ],
   "source": [
    "print(f\"Minimum of testing error obtained over 20 regression models = {final_modelGD.models.testing_error.min()}\")"
   ]
  },
  {
   "cell_type": "code",
   "execution_count": 33,
   "metadata": {},
   "outputs": [
    {
     "name": "stdout",
     "output_type": "stream",
     "text": [
      "Minimum of training error obtained over 20 regression models = 0.4358003521086279\n"
     ]
    }
   ],
   "source": [
    "print(f\"Minimum of training error obtained over 20 regression models = {final_modelGD.models.training_error.min()}\")"
   ]
  }
 ],
 "metadata": {
  "kernelspec": {
   "display_name": "Python 3",
   "language": "python",
   "name": "python3"
  },
  "language_info": {
   "codemirror_mode": {
    "name": "ipython",
    "version": 3
   },
   "file_extension": ".py",
   "mimetype": "text/x-python",
   "name": "python",
   "nbconvert_exporter": "python",
   "pygments_lexer": "ipython3",
   "version": "3.8.6"
  }
 },
 "nbformat": 4,
 "nbformat_minor": 4
}
