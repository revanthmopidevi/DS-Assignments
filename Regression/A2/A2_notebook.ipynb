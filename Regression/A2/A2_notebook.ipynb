{
 "cells": [
  {
   "cell_type": "markdown",
   "metadata": {},
   "source": [
    "## Import Libraries"
   ]
  },
  {
   "cell_type": "code",
   "execution_count": 1,
   "metadata": {},
   "outputs": [],
   "source": [
    "import numpy as np\n",
    "import pandas as pd\n",
    "pd.options.mode.chained_assignment = None\n",
    "import matplotlib.pyplot as plt\n",
    "plt.style.use('ggplot')\n",
    "%matplotlib inline"
   ]
  },
  {
   "cell_type": "markdown",
   "metadata": {},
   "source": [
    "-------------------------------------------------------------------------------------------------------------------------------"
   ]
  },
  {
   "cell_type": "markdown",
   "metadata": {},
   "source": [
    "## Load and Inspect Data"
   ]
  },
  {
   "cell_type": "code",
   "execution_count": 2,
   "metadata": {},
   "outputs": [
    {
     "data": {
      "text/html": [
       "<div>\n",
       "<style scoped>\n",
       "    .dataframe tbody tr th:only-of-type {\n",
       "        vertical-align: middle;\n",
       "    }\n",
       "\n",
       "    .dataframe tbody tr th {\n",
       "        vertical-align: top;\n",
       "    }\n",
       "\n",
       "    .dataframe thead th {\n",
       "        text-align: right;\n",
       "    }\n",
       "</style>\n",
       "<table border=\"1\" class=\"dataframe\">\n",
       "  <thead>\n",
       "    <tr style=\"text-align: right;\">\n",
       "      <th></th>\n",
       "      <th>age</th>\n",
       "      <th>bmi</th>\n",
       "      <th>children</th>\n",
       "      <th>charges</th>\n",
       "    </tr>\n",
       "  </thead>\n",
       "  <tbody>\n",
       "    <tr>\n",
       "      <th>0</th>\n",
       "      <td>19</td>\n",
       "      <td>27.900</td>\n",
       "      <td>0</td>\n",
       "      <td>16884.92400</td>\n",
       "    </tr>\n",
       "    <tr>\n",
       "      <th>1</th>\n",
       "      <td>18</td>\n",
       "      <td>33.770</td>\n",
       "      <td>1</td>\n",
       "      <td>1725.55230</td>\n",
       "    </tr>\n",
       "    <tr>\n",
       "      <th>2</th>\n",
       "      <td>28</td>\n",
       "      <td>33.000</td>\n",
       "      <td>3</td>\n",
       "      <td>4449.46200</td>\n",
       "    </tr>\n",
       "    <tr>\n",
       "      <th>3</th>\n",
       "      <td>33</td>\n",
       "      <td>22.705</td>\n",
       "      <td>0</td>\n",
       "      <td>21984.47061</td>\n",
       "    </tr>\n",
       "    <tr>\n",
       "      <th>4</th>\n",
       "      <td>32</td>\n",
       "      <td>28.880</td>\n",
       "      <td>0</td>\n",
       "      <td>3866.85520</td>\n",
       "    </tr>\n",
       "  </tbody>\n",
       "</table>\n",
       "</div>"
      ],
      "text/plain": [
       "   age     bmi  children      charges\n",
       "0   19  27.900         0  16884.92400\n",
       "1   18  33.770         1   1725.55230\n",
       "2   28  33.000         3   4449.46200\n",
       "3   33  22.705         0  21984.47061\n",
       "4   32  28.880         0   3866.85520"
      ]
     },
     "execution_count": 2,
     "metadata": {},
     "output_type": "execute_result"
    }
   ],
   "source": [
    "data = pd.read_csv(\"insurance.txt\")\n",
    "data.head()"
   ]
  },
  {
   "cell_type": "code",
   "execution_count": 3,
   "metadata": {},
   "outputs": [
    {
     "name": "stdout",
     "output_type": "stream",
     "text": [
      "<class 'pandas.core.frame.DataFrame'>\n",
      "RangeIndex: 1338 entries, 0 to 1337\n",
      "Data columns (total 4 columns):\n",
      " #   Column    Non-Null Count  Dtype  \n",
      "---  ------    --------------  -----  \n",
      " 0   age       1338 non-null   int64  \n",
      " 1   bmi       1338 non-null   float64\n",
      " 2   children  1338 non-null   int64  \n",
      " 3   charges   1338 non-null   float64\n",
      "dtypes: float64(2), int64(2)\n",
      "memory usage: 41.9 KB\n"
     ]
    }
   ],
   "source": [
    "data.info()"
   ]
  },
  {
   "cell_type": "code",
   "execution_count": 4,
   "metadata": {},
   "outputs": [
    {
     "data": {
      "text/html": [
       "<div>\n",
       "<style scoped>\n",
       "    .dataframe tbody tr th:only-of-type {\n",
       "        vertical-align: middle;\n",
       "    }\n",
       "\n",
       "    .dataframe tbody tr th {\n",
       "        vertical-align: top;\n",
       "    }\n",
       "\n",
       "    .dataframe thead th {\n",
       "        text-align: right;\n",
       "    }\n",
       "</style>\n",
       "<table border=\"1\" class=\"dataframe\">\n",
       "  <thead>\n",
       "    <tr style=\"text-align: right;\">\n",
       "      <th></th>\n",
       "      <th>age</th>\n",
       "      <th>bmi</th>\n",
       "      <th>children</th>\n",
       "      <th>charges</th>\n",
       "    </tr>\n",
       "  </thead>\n",
       "  <tbody>\n",
       "    <tr>\n",
       "      <th>count</th>\n",
       "      <td>1338.000000</td>\n",
       "      <td>1338.000000</td>\n",
       "      <td>1338.000000</td>\n",
       "      <td>1338.000000</td>\n",
       "    </tr>\n",
       "    <tr>\n",
       "      <th>mean</th>\n",
       "      <td>39.207025</td>\n",
       "      <td>30.663397</td>\n",
       "      <td>1.094918</td>\n",
       "      <td>13270.422265</td>\n",
       "    </tr>\n",
       "    <tr>\n",
       "      <th>std</th>\n",
       "      <td>14.049960</td>\n",
       "      <td>6.098187</td>\n",
       "      <td>1.205493</td>\n",
       "      <td>12110.011237</td>\n",
       "    </tr>\n",
       "    <tr>\n",
       "      <th>min</th>\n",
       "      <td>18.000000</td>\n",
       "      <td>15.960000</td>\n",
       "      <td>0.000000</td>\n",
       "      <td>1121.873900</td>\n",
       "    </tr>\n",
       "    <tr>\n",
       "      <th>25%</th>\n",
       "      <td>27.000000</td>\n",
       "      <td>26.296250</td>\n",
       "      <td>0.000000</td>\n",
       "      <td>4740.287150</td>\n",
       "    </tr>\n",
       "    <tr>\n",
       "      <th>50%</th>\n",
       "      <td>39.000000</td>\n",
       "      <td>30.400000</td>\n",
       "      <td>1.000000</td>\n",
       "      <td>9382.033000</td>\n",
       "    </tr>\n",
       "    <tr>\n",
       "      <th>75%</th>\n",
       "      <td>51.000000</td>\n",
       "      <td>34.693750</td>\n",
       "      <td>2.000000</td>\n",
       "      <td>16639.912515</td>\n",
       "    </tr>\n",
       "    <tr>\n",
       "      <th>max</th>\n",
       "      <td>64.000000</td>\n",
       "      <td>53.130000</td>\n",
       "      <td>5.000000</td>\n",
       "      <td>63770.428010</td>\n",
       "    </tr>\n",
       "  </tbody>\n",
       "</table>\n",
       "</div>"
      ],
      "text/plain": [
       "               age          bmi     children       charges\n",
       "count  1338.000000  1338.000000  1338.000000   1338.000000\n",
       "mean     39.207025    30.663397     1.094918  13270.422265\n",
       "std      14.049960     6.098187     1.205493  12110.011237\n",
       "min      18.000000    15.960000     0.000000   1121.873900\n",
       "25%      27.000000    26.296250     0.000000   4740.287150\n",
       "50%      39.000000    30.400000     1.000000   9382.033000\n",
       "75%      51.000000    34.693750     2.000000  16639.912515\n",
       "max      64.000000    53.130000     5.000000  63770.428010"
      ]
     },
     "execution_count": 4,
     "metadata": {},
     "output_type": "execute_result"
    }
   ],
   "source": [
    "data.describe()"
   ]
  },
  {
   "cell_type": "markdown",
   "metadata": {},
   "source": [
    "-------------------------------------------------------------------------------------------------------------------------------"
   ]
  },
  {
   "cell_type": "markdown",
   "metadata": {},
   "source": [
    "## Preprocess Data"
   ]
  },
  {
   "cell_type": "markdown",
   "metadata": {},
   "source": [
    "__The purpose of the following preprocessing is to demonstrate that the employed method is functioning correctly. However, while building regression models, the training and testing datasets are standardised separately to prevent data leakage.__"
   ]
  },
  {
   "cell_type": "code",
   "execution_count": 5,
   "metadata": {},
   "outputs": [],
   "source": [
    "column_names = list(data.columns)\n",
    "standardize = lambda x : (x - x.mean()) / x.std() "
   ]
  },
  {
   "cell_type": "markdown",
   "metadata": {},
   "source": [
    "__Standardize Data__"
   ]
  },
  {
   "cell_type": "code",
   "execution_count": 6,
   "metadata": {},
   "outputs": [],
   "source": [
    "for column in column_names:\n",
    "    if column == \"charges\":\n",
    "        continue\n",
    "    data[column] = standardize(data[column])"
   ]
  },
  {
   "cell_type": "code",
   "execution_count": 7,
   "metadata": {},
   "outputs": [
    {
     "data": {
      "text/plain": [
       "age        -1.246304e-16\n",
       "bmi        -1.810543e-16\n",
       "children   -3.116590e-16\n",
       "charges     1.327042e+04\n",
       "dtype: float64"
      ]
     },
     "execution_count": 7,
     "metadata": {},
     "output_type": "execute_result"
    }
   ],
   "source": [
    "data.mean()"
   ]
  },
  {
   "cell_type": "markdown",
   "metadata": {},
   "source": [
    "Although standardised mean should be equal to 0, in reality they are infinitesimally close to zero. Double precision floats have 53 bits or 16 digits of precision, so this is expected behavior."
   ]
  },
  {
   "cell_type": "code",
   "execution_count": 8,
   "metadata": {},
   "outputs": [
    {
     "data": {
      "text/plain": [
       "age             1.000000\n",
       "bmi             1.000000\n",
       "children        1.000000\n",
       "charges     12110.011237\n",
       "dtype: float64"
      ]
     },
     "execution_count": 8,
     "metadata": {},
     "output_type": "execute_result"
    }
   ],
   "source": [
    "data.std()"
   ]
  },
  {
   "cell_type": "code",
   "execution_count": 9,
   "metadata": {},
   "outputs": [],
   "source": [
    "x1, x2, x3, y = data[\"age\"], data[\"bmi\"], data[\"children\"], data[\"charges\"]"
   ]
  },
  {
   "cell_type": "markdown",
   "metadata": {},
   "source": [
    "-------------------------------------------------------------------------------------------------------------------------------"
   ]
  },
  {
   "cell_type": "markdown",
   "metadata": {},
   "source": [
    "## Visualize Data"
   ]
  },
  {
   "cell_type": "code",
   "execution_count": 10,
   "metadata": {},
   "outputs": [
    {
     "data": {
      "image/png": "[encoded data removed]",
      "text/plain": [
       "<Figure size 432x288 with 1 Axes>"
      ]
     },
     "metadata": {
      "needs_background": "light"
     },
     "output_type": "display_data"
    }
   ],
   "source": [
    "plt.scatter(x1, y)\n",
    "plt.xlabel(\"Age\")\n",
    "plt.ylabel(\"Charges\");"
   ]
  },
  {
   "cell_type": "code",
   "execution_count": 11,
   "metadata": {},
   "outputs": [
    {
     "data": {
      "image/png": "[encoded data removed]",
      "text/plain": [
       "<Figure size 432x288 with 1 Axes>"
      ]
     },
     "metadata": {
      "needs_background": "light"
     },
     "output_type": "display_data"
    }
   ],
   "source": [
    "plt.scatter(x2, y)\n",
    "plt.xlabel(\"BMI\")\n",
    "plt.ylabel(\"Charges\");"
   ]
  },
  {
   "cell_type": "code",
   "execution_count": 12,
   "metadata": {},
   "outputs": [
    {
     "data": {
      "image/png": "[encoded data removed]",
      "text/plain": [
       "<Figure size 432x288 with 1 Axes>"
      ]
     },
     "metadata": {
      "needs_background": "light"
     },
     "output_type": "display_data"
    }
   ],
   "source": [
    "plt.scatter(x3, y)\n",
    "plt.xlabel(\"Children\")\n",
    "plt.ylabel(\"Charges\");"
   ]
  },
  {
   "cell_type": "markdown",
   "metadata": {},
   "source": [
    "-------------------------------------------------------------------------------------------------------------------------------"
   ]
  },
  {
   "cell_type": "markdown",
   "metadata": {},
   "source": [
    "## Linear Regression Algorithms"
   ]
  },
  {
   "cell_type": "markdown",
   "metadata": {},
   "source": [
    "### Linear Regression by Solving Normal Equations"
   ]
  },
  {
   "cell_type": "markdown",
   "metadata": {},
   "source": [
    "$y = w_{0} + w_{1}x_{1} + w_{2}x_{2} + w_{3}x_{3}$"
   ]
  },
  {
   "cell_type": "markdown",
   "metadata": {},
   "source": [
    "$x_{1}, x_{2}, x_{3}$ represent the age, bmi and number of children respectively. $ w_{1},w_{2}, w_{3}$ are weights associated with $x_{1}, x_{2}, x_{3}$."
   ]
  },
  {
   "cell_type": "markdown",
   "metadata": {},
   "source": [
    "$$X = \n",
    "\\begin{bmatrix} \n",
    "1 & x_{11} & x_{12} & x_{13}\\\\\n",
    "1 & x_{21} & x_{22} & x_{23}\\\\\n",
    ". & . & . & . \\\\\n",
    ". & . & . & . \\\\\n",
    "1 & x_{m1} & x_{m2} & x_{m3}\\\\\n",
    "\\end{bmatrix}\n",
    "\\quad\n",
    "$$\n",
    "$$ $$\n",
    "$$Y = \n",
    "\\begin{bmatrix} \n",
    "y_{1}\\\\\n",
    "y_{2}\\\\\n",
    ".\\\\\n",
    ".\\\\\n",
    "y_{m}\\\\\n",
    "\\end{bmatrix}\n",
    "\\quad\n",
    "$$ where $m$ = size of training data\n",
    "$$ $$\n",
    "$$ω = \n",
    "\\begin{bmatrix} \n",
    "ω_{0}\\\\\n",
    "ω_{1}\\\\\n",
    "ω_{2}\\\\\n",
    "ω_{3}\\\\\n",
    "\\end{bmatrix}\n",
    "\\quad\n",
    "$$\n",
    "$$ $$\n",
    "$$b = X^{T} . Y$$"
   ]
  },
  {
   "cell_type": "markdown",
   "metadata": {},
   "source": [
    "$$ ω = (X^{T}.X)^{-1}x^{T}.Y = (X^{T}.X)^{-1}.b$$"
   ]
  },
  {
   "cell_type": "markdown",
   "metadata": {},
   "source": [
    "### Linear Regression by Gradient Descent"
   ]
  },
  {
   "cell_type": "markdown",
   "metadata": {},
   "source": [
    "$$\n",
    "E(ω) = \n",
    "\\begin{equation}\n",
    "\\frac{1}{2} * \\sum_{n=0}^{N} (x_{n}*ω - y_{n})^{2} \n",
    "\\end{equation}\n",
    "$$\n",
    "$$ $$\n",
    "$$Sum of Squares of Errors$$\n",
    "$$ $$\n",
    "$$ \n",
    "\\begin{equation}\n",
    "\\frac{\\partial E(ω)}{\\partial ω} = (X.ω - Y).X\n",
    "\\end{equation}\n",
    "$$\n",
    "$$ $$\n",
    "$$ Gradient$$\n",
    "$$ $$\n",
    "$$\n",
    "ω = ω - η * \\frac{\\partial E(ω)}{\\partial ω}\n",
    "$$\n",
    "$$ $$\n",
    "where $η$ is the learning rate"
   ]
  },
  {
   "cell_type": "markdown",
   "metadata": {},
   "source": [
    "### Linear Regression by Stochastic Gradient Descent"
   ]
  },
  {
   "cell_type": "markdown",
   "metadata": {},
   "source": [
    "SGD makes sequential passes over the training data, and during each pass, updates feature weights one example at a time with the aim of approaching the optimal weights that minimize the loss."
   ]
  },
  {
   "cell_type": "markdown",
   "metadata": {},
   "source": [
    "$$ \n",
    "\\begin{equation}\n",
    "\\frac{\\partial E(ω)}{\\partial ω}_{ω=ω_{n}} = (x_{n}.ω_{n} - y_{n}).x_{n}\n",
    "\\end{equation}\n",
    "$$\n",
    "$$ $$\n",
    "$$ Gradient$$\n",
    "$$ $$\n",
    "$$\n",
    "ω = ω - η * \\frac{\\partial E(ω)}{\\partial ω}_{ω = w_{n}}\n",
    "$$\n",
    "$$ $$\n",
    "where $η$ is the learning rate"
   ]
  },
  {
   "cell_type": "code",
   "execution_count": 13,
   "metadata": {},
   "outputs": [],
   "source": [
    "class LinearRegression:\n",
    "    def __init__(self, data):\n",
    "        self.data = data\n",
    "        self.models1 = pd.DataFrame(columns = [\"w0\", \"w1\", \"w2\", \"w3\", \"testing_error\", \"training_error\"])\n",
    "        self.models2 = pd.DataFrame(columns = [\"w0\", \"w1\", \"w2\", \"w3\", \"testing_error\", \"training_error\", \"iterations\"])\n",
    "        self.models3 = pd.DataFrame(columns = [\"w0\", \"w1\", \"w2\", \"w3\", \"testing_error\", \"training_error\", \"iterations\"])\n",
    "        self.errors2 = []\n",
    "        self.errors3 = []\n",
    "    \n",
    "    # shuffles data randomly\n",
    "    def shuffle(self):\n",
    "        self.data = self.data.sample(frac = 1)\n",
    "    \n",
    "    # splits a data frame in 70:30 ratio\n",
    "    def split(self):\n",
    "        train = self.data[:int(0.7 * len(data))]\n",
    "        test = self.data[int(0.7 * len(data)):]\n",
    "        return train, test\n",
    "    \n",
    "    # standardizes data\n",
    "    def standardize(self, data):\n",
    "        column_names = list(data.columns)\n",
    "        standardize = lambda x : (x - x.mean()) / x.std()\n",
    "        for column in column_names:\n",
    "            if column == \"charges\":\n",
    "                continue\n",
    "            data[column] = standardize(data[column])\n",
    "        return data\n",
    "    \n",
    "    # computes and returns X and Y matrices\n",
    "    def matrices(self, train):\n",
    "        x1, x2, x3, y = train[\"age\"], train[\"bmi\"], train[\"children\"], train[\"charges\"]\n",
    "        x1, x2, x3= np.array(x1), np.array(x2), np.array(x3)\n",
    "        Y = np.array(y)\n",
    "        n = len(Y)\n",
    "        Y = Y.reshape((n, 1))\n",
    "        x0 = np.ones((n,1))\n",
    "        x1 = np.reshape(x1, (n, 1))\n",
    "        x2 = np.reshape(x2, (n, 1))\n",
    "        x3 = np.reshape(x3, (n, 1))\n",
    "        X = np.append(x0, x1, axis=1)\n",
    "        X = np.append(X, x2, axis=1)\n",
    "        X = np.append(X, x3, axis=1)\n",
    "        return X, Y\n",
    "    \n",
    "    # Sum of Squares Error Function\n",
    "    def error(self, X, Y, w):\n",
    "        Y_pred = np.dot(X, w)\n",
    "        mse = (1/2) * np.sum(np.square(Y_pred-Y))\n",
    "        return float(mse)\n",
    "    \n",
    "    # tests the model against testing data\n",
    "    def testModel(self, test, w):\n",
    "        Xt, Yt = self.matrices(test)\n",
    "        testing_error = self.error(Xt, Yt, w)\n",
    "        return testing_error\n",
    "           \n",
    "    # Performs Linear Regression by Normal Equations and returns corresponding Regression Weights\n",
    "    def solve(self, X, Y):\n",
    "        XT = np.transpose(X)\n",
    "        A = XT.dot(X)\n",
    "        A_inv = np.linalg.inv(A)\n",
    "        b = XT.dot(Y)\n",
    "        w = A_inv.dot(b)\n",
    "        return w\n",
    "\n",
    "    # Implements Gradient Descent Algorithm\n",
    "    def gradientDescent(self, X, Y, w, learning_rate = 1e-7):\n",
    "        i = 1\n",
    "        errors = []\n",
    "        error, prev_error = float(\"inf\"), 0\n",
    "        while abs(prev_error-error) > 1e-5:\n",
    "            prev_error = error\n",
    "            Y_pred = X.dot(w)\n",
    "            gradient = np.dot(X.transpose(), Y_pred- Y)\n",
    "            w -= learning_rate * gradient\n",
    "            error = self.error(X, Y, w)\n",
    "            errors.append(error)\n",
    "            i+=1\n",
    "        return w, errors, i\n",
    "\n",
    "    # Implements Stochastic Gradient Descent Algorithm\n",
    "    def stochasticGradientDescent(self, X, Y, w, learning_rate = 1e-5):\n",
    "        m, i = len(Y), 0\n",
    "        errors = []\n",
    "        error, prev_error = float(\"inf\"), 0\n",
    "        while abs(prev_error-error) > 1e-2:\n",
    "            prev_error = error\n",
    "            x = X[i%m].reshape(1, 4)\n",
    "            y = Y[i%m].reshape(1, 1)\n",
    "            y_pred = x.dot(w)\n",
    "            gradient = np.dot(x.transpose(), y_pred- y)\n",
    "            w -= learning_rate * gradient\n",
    "            error = self.error(X, Y, w)\n",
    "            errors.append(error)\n",
    "            i+=1\n",
    "        return w, errors, i + 1\n",
    "\n",
    "    # main function to build models\n",
    "    def buildModels(self, number = 20):\n",
    "        for i in range(number):\n",
    "            self.shuffle()                                                                  # shuffle dataset\n",
    "            train, test = self.split()                                                      # split dataset\n",
    "            train = self.standardize(train)                                                 # standardise training data\n",
    "            test = self.standardize(test)                                                   # standardise testing data\n",
    "            X, Y = self.matrices(train)                                                     # obtain X and Y matrices\n",
    "            w1 = self.solve(X, Y)                                                           # regression by normal equations\n",
    "            w2 = np.random.rand(4, 1)                                                       # generate random weights w for grad. desc.\n",
    "            w2, model_errors2 , iterations2 = self.gradientDescent(X, Y, w2)                # regression by gradient descent\n",
    "            w3 = np.random.rand(4, 1)                                                       # generate random weights w for st. grad. desc.\n",
    "            w3, model_errors3 , iterations3 = self.stochasticGradientDescent(X, Y, w3)      # regression by stochastic grad. desc.\n",
    "            training_error1 = self.error(X, Y, w1)                                          # calculate training error\n",
    "            training_error2 = self.error(X, Y, w2)                                          # calculate training error\n",
    "            training_error3 = self.error(X, Y, w3)                                          # calculate training error\n",
    "            testing_error1 = self.testModel(test, w1)                                       # calculate testing error\n",
    "            testing_error2 = self.testModel(test, w2)                                       # calculate testing error\n",
    "            testing_error3 = self.testModel(test, w3)                                       # calculate testing error\n",
    "            # append the model, errors to models dataframe\n",
    "            model1 = list(w1)\n",
    "            model2 = list(w2)\n",
    "            model3 = list(w3)\n",
    "            model1.append(testing_error1)\n",
    "            model2.append(testing_error2)\n",
    "            model3.append(testing_error3)\n",
    "            model1.append(training_error1)\n",
    "            model2.append(training_error2)\n",
    "            model3.append(training_error3)\n",
    "            model2.append(iterations2)\n",
    "            model3.append(iterations3)\n",
    "            model1 = pd.Series(model1, index = self.models1.columns)\n",
    "            model2 = pd.Series(model2, index = self.models2.columns)\n",
    "            model3 = pd.Series(model3, index = self.models3.columns)\n",
    "            self.models1 = self.models1.append(model1, ignore_index=True)\n",
    "            self.models2 = self.models2.append(model2, ignore_index=True)\n",
    "            self.models3 = self.models3.append(model3, ignore_index=True)\n",
    "            self.errors2.append(model_errors2)\n",
    "            self.errors3.append(model_errors3)"
   ]
  },
  {
   "cell_type": "markdown",
   "metadata": {},
   "source": [
    "-------------------------------------------------------------------------------------------------------------------------------"
   ]
  },
  {
   "cell_type": "markdown",
   "metadata": {},
   "source": [
    "## Build Regression Models"
   ]
  },
  {
   "cell_type": "code",
   "execution_count": 14,
   "metadata": {},
   "outputs": [],
   "source": [
    "data = pd.read_csv(\"insurance.txt\")"
   ]
  },
  {
   "cell_type": "code",
   "execution_count": 15,
   "metadata": {},
   "outputs": [],
   "source": [
    "lr_models = LinearRegression(data)\n",
    "lr_models.buildModels(20)"
   ]
  },
  {
   "cell_type": "code",
   "execution_count": 16,
   "metadata": {},
   "outputs": [
    {
     "data": {
      "text/html": [
       "<div>\n",
       "<style scoped>\n",
       "    .dataframe tbody tr th:only-of-type {\n",
       "        vertical-align: middle;\n",
       "    }\n",
       "\n",
       "    .dataframe tbody tr th {\n",
       "        vertical-align: top;\n",
       "    }\n",
       "\n",
       "    .dataframe thead th {\n",
       "        text-align: right;\n",
       "    }\n",
       "</style>\n",
       "<table border=\"1\" class=\"dataframe\">\n",
       "  <thead>\n",
       "    <tr style=\"text-align: right;\">\n",
       "      <th></th>\n",
       "      <th>w0</th>\n",
       "      <th>w1</th>\n",
       "      <th>w2</th>\n",
       "      <th>w3</th>\n",
       "      <th>testing_error</th>\n",
       "      <th>training_error</th>\n",
       "    </tr>\n",
       "  </thead>\n",
       "  <tbody>\n",
       "    <tr>\n",
       "      <th>0</th>\n",
       "      <td>[12785.7209692938]</td>\n",
       "      <td>[3218.4308448869438]</td>\n",
       "      <td>[1993.2949363807866]</td>\n",
       "      <td>[833.8292579290325]</td>\n",
       "      <td>2.774383e+10</td>\n",
       "      <td>5.855827e+10</td>\n",
       "    </tr>\n",
       "    <tr>\n",
       "      <th>1</th>\n",
       "      <td>[13187.06869228525]</td>\n",
       "      <td>[3655.8024947155827]</td>\n",
       "      <td>[2008.7161689542515]</td>\n",
       "      <td>[596.1470129798473]</td>\n",
       "      <td>2.612396e+10</td>\n",
       "      <td>6.006470e+10</td>\n",
       "    </tr>\n",
       "    <tr>\n",
       "      <th>2</th>\n",
       "      <td>[13450.890631911323]</td>\n",
       "      <td>[3264.500405752952]</td>\n",
       "      <td>[2465.5630849391137]</td>\n",
       "      <td>[715.8020676746733]</td>\n",
       "      <td>2.466853e+10</td>\n",
       "      <td>6.155293e+10</td>\n",
       "    </tr>\n",
       "    <tr>\n",
       "      <th>3</th>\n",
       "      <td>[13088.950621676291]</td>\n",
       "      <td>[2871.0850774314767]</td>\n",
       "      <td>[2323.126347195842]</td>\n",
       "      <td>[750.7138231612689]</td>\n",
       "      <td>2.761109e+10</td>\n",
       "      <td>5.877664e+10</td>\n",
       "    </tr>\n",
       "    <tr>\n",
       "      <th>4</th>\n",
       "      <td>[13147.564093867528]</td>\n",
       "      <td>[3218.7719719666884]</td>\n",
       "      <td>[1840.4360924001]</td>\n",
       "      <td>[858.5726679032239]</td>\n",
       "      <td>2.702176e+10</td>\n",
       "      <td>5.920699e+10</td>\n",
       "    </tr>\n",
       "    <tr>\n",
       "      <th>5</th>\n",
       "      <td>[13234.643741987184]</td>\n",
       "      <td>[3243.6525720163067]</td>\n",
       "      <td>[2438.7277512552573]</td>\n",
       "      <td>[538.8411765290195]</td>\n",
       "      <td>2.606549e+10</td>\n",
       "      <td>6.008189e+10</td>\n",
       "    </tr>\n",
       "    <tr>\n",
       "      <th>6</th>\n",
       "      <td>[13644.61580239209]</td>\n",
       "      <td>[3419.7076315207555]</td>\n",
       "      <td>[2060.842077302632]</td>\n",
       "      <td>[336.6820857761744]</td>\n",
       "      <td>2.538624e+10</td>\n",
       "      <td>6.097637e+10</td>\n",
       "    </tr>\n",
       "    <tr>\n",
       "      <th>7</th>\n",
       "      <td>[13044.110772125005]</td>\n",
       "      <td>[3008.3274683457753]</td>\n",
       "      <td>[2417.0591750705653]</td>\n",
       "      <td>[708.1011841097376]</td>\n",
       "      <td>2.698067e+10</td>\n",
       "      <td>5.935671e+10</td>\n",
       "    </tr>\n",
       "    <tr>\n",
       "      <th>8</th>\n",
       "      <td>[13189.895961110044]</td>\n",
       "      <td>[3494.2161390661613]</td>\n",
       "      <td>[1809.312776045806]</td>\n",
       "      <td>[954.0928003685109]</td>\n",
       "      <td>2.740359e+10</td>\n",
       "      <td>5.882282e+10</td>\n",
       "    </tr>\n",
       "    <tr>\n",
       "      <th>9</th>\n",
       "      <td>[13254.829052637828]</td>\n",
       "      <td>[3335.352174326074]</td>\n",
       "      <td>[2154.731456845511]</td>\n",
       "      <td>[410.5460427487169]</td>\n",
       "      <td>2.573493e+10</td>\n",
       "      <td>6.043877e+10</td>\n",
       "    </tr>\n",
       "    <tr>\n",
       "      <th>10</th>\n",
       "      <td>[12947.537821975424]</td>\n",
       "      <td>[3273.646820105869]</td>\n",
       "      <td>[1686.092537261793]</td>\n",
       "      <td>[781.5913065660794]</td>\n",
       "      <td>2.797406e+10</td>\n",
       "      <td>5.843406e+10</td>\n",
       "    </tr>\n",
       "    <tr>\n",
       "      <th>11</th>\n",
       "      <td>[13333.78502024573]</td>\n",
       "      <td>[3374.279250570632]</td>\n",
       "      <td>[2179.2181640799117]</td>\n",
       "      <td>[579.5189861875888]</td>\n",
       "      <td>2.484471e+10</td>\n",
       "      <td>6.129448e+10</td>\n",
       "    </tr>\n",
       "    <tr>\n",
       "      <th>12</th>\n",
       "      <td>[12892.381981227552]</td>\n",
       "      <td>[3499.3130766887257]</td>\n",
       "      <td>[1592.4397491321245]</td>\n",
       "      <td>[688.6376918331632]</td>\n",
       "      <td>2.983967e+10</td>\n",
       "      <td>5.653452e+10</td>\n",
       "    </tr>\n",
       "    <tr>\n",
       "      <th>13</th>\n",
       "      <td>[13099.286366207269]</td>\n",
       "      <td>[3296.6479113886057]</td>\n",
       "      <td>[2010.3599588392499]</td>\n",
       "      <td>[652.3867968979391]</td>\n",
       "      <td>2.797824e+10</td>\n",
       "      <td>5.822250e+10</td>\n",
       "    </tr>\n",
       "    <tr>\n",
       "      <th>14</th>\n",
       "      <td>[13211.253531013894]</td>\n",
       "      <td>[3554.535795725517]</td>\n",
       "      <td>[2077.2970352464044]</td>\n",
       "      <td>[872.1023624237058]</td>\n",
       "      <td>2.596157e+10</td>\n",
       "      <td>6.029617e+10</td>\n",
       "    </tr>\n",
       "    <tr>\n",
       "      <th>15</th>\n",
       "      <td>[13298.154333385688]</td>\n",
       "      <td>[3503.906279838192]</td>\n",
       "      <td>[1825.1717050001969]</td>\n",
       "      <td>[745.1436229347344]</td>\n",
       "      <td>2.362015e+10</td>\n",
       "      <td>6.256008e+10</td>\n",
       "    </tr>\n",
       "    <tr>\n",
       "      <th>16</th>\n",
       "      <td>[12965.305197179485]</td>\n",
       "      <td>[3452.155186573118]</td>\n",
       "      <td>[1904.1764228905006]</td>\n",
       "      <td>[1023.463252369319]</td>\n",
       "      <td>2.968226e+10</td>\n",
       "      <td>5.664762e+10</td>\n",
       "    </tr>\n",
       "    <tr>\n",
       "      <th>17</th>\n",
       "      <td>[13365.561870821595]</td>\n",
       "      <td>[3141.7039486473227]</td>\n",
       "      <td>[2097.9098979781415]</td>\n",
       "      <td>[680.4874042408569]</td>\n",
       "      <td>2.574498e+10</td>\n",
       "      <td>6.047932e+10</td>\n",
       "    </tr>\n",
       "    <tr>\n",
       "      <th>18</th>\n",
       "      <td>[13494.073402082275]</td>\n",
       "      <td>[3166.2984475437097]</td>\n",
       "      <td>[2174.9229787795425]</td>\n",
       "      <td>[563.7792622540658]</td>\n",
       "      <td>2.450896e+10</td>\n",
       "      <td>6.171958e+10</td>\n",
       "    </tr>\n",
       "    <tr>\n",
       "      <th>19</th>\n",
       "      <td>[13351.65709795834]</td>\n",
       "      <td>[3197.7611399278367]</td>\n",
       "      <td>[2002.7247051435163]</td>\n",
       "      <td>[661.7078631724793]</td>\n",
       "      <td>2.724690e+10</td>\n",
       "      <td>5.892750e+10</td>\n",
       "    </tr>\n",
       "  </tbody>\n",
       "</table>\n",
       "</div>"
      ],
      "text/plain": [
       "                      w0                    w1                    w2  \\\n",
       "0     [12785.7209692938]  [3218.4308448869438]  [1993.2949363807866]   \n",
       "1    [13187.06869228525]  [3655.8024947155827]  [2008.7161689542515]   \n",
       "2   [13450.890631911323]   [3264.500405752952]  [2465.5630849391137]   \n",
       "3   [13088.950621676291]  [2871.0850774314767]   [2323.126347195842]   \n",
       "4   [13147.564093867528]  [3218.7719719666884]     [1840.4360924001]   \n",
       "5   [13234.643741987184]  [3243.6525720163067]  [2438.7277512552573]   \n",
       "6    [13644.61580239209]  [3419.7076315207555]   [2060.842077302632]   \n",
       "7   [13044.110772125005]  [3008.3274683457753]  [2417.0591750705653]   \n",
       "8   [13189.895961110044]  [3494.2161390661613]   [1809.312776045806]   \n",
       "9   [13254.829052637828]   [3335.352174326074]   [2154.731456845511]   \n",
       "10  [12947.537821975424]   [3273.646820105869]   [1686.092537261793]   \n",
       "11   [13333.78502024573]   [3374.279250570632]  [2179.2181640799117]   \n",
       "12  [12892.381981227552]  [3499.3130766887257]  [1592.4397491321245]   \n",
       "13  [13099.286366207269]  [3296.6479113886057]  [2010.3599588392499]   \n",
       "14  [13211.253531013894]   [3554.535795725517]  [2077.2970352464044]   \n",
       "15  [13298.154333385688]   [3503.906279838192]  [1825.1717050001969]   \n",
       "16  [12965.305197179485]   [3452.155186573118]  [1904.1764228905006]   \n",
       "17  [13365.561870821595]  [3141.7039486473227]  [2097.9098979781415]   \n",
       "18  [13494.073402082275]  [3166.2984475437097]  [2174.9229787795425]   \n",
       "19   [13351.65709795834]  [3197.7611399278367]  [2002.7247051435163]   \n",
       "\n",
       "                     w3  testing_error  training_error  \n",
       "0   [833.8292579290325]   2.774383e+10    5.855827e+10  \n",
       "1   [596.1470129798473]   2.612396e+10    6.006470e+10  \n",
       "2   [715.8020676746733]   2.466853e+10    6.155293e+10  \n",
       "3   [750.7138231612689]   2.761109e+10    5.877664e+10  \n",
       "4   [858.5726679032239]   2.702176e+10    5.920699e+10  \n",
       "5   [538.8411765290195]   2.606549e+10    6.008189e+10  \n",
       "6   [336.6820857761744]   2.538624e+10    6.097637e+10  \n",
       "7   [708.1011841097376]   2.698067e+10    5.935671e+10  \n",
       "8   [954.0928003685109]   2.740359e+10    5.882282e+10  \n",
       "9   [410.5460427487169]   2.573493e+10    6.043877e+10  \n",
       "10  [781.5913065660794]   2.797406e+10    5.843406e+10  \n",
       "11  [579.5189861875888]   2.484471e+10    6.129448e+10  \n",
       "12  [688.6376918331632]   2.983967e+10    5.653452e+10  \n",
       "13  [652.3867968979391]   2.797824e+10    5.822250e+10  \n",
       "14  [872.1023624237058]   2.596157e+10    6.029617e+10  \n",
       "15  [745.1436229347344]   2.362015e+10    6.256008e+10  \n",
       "16  [1023.463252369319]   2.968226e+10    5.664762e+10  \n",
       "17  [680.4874042408569]   2.574498e+10    6.047932e+10  \n",
       "18  [563.7792622540658]   2.450896e+10    6.171958e+10  \n",
       "19  [661.7078631724793]   2.724690e+10    5.892750e+10  "
      ]
     },
     "execution_count": 16,
     "metadata": {},
     "output_type": "execute_result"
    }
   ],
   "source": [
    "lr_models.models1"
   ]
  },
  {
   "cell_type": "code",
   "execution_count": 17,
   "metadata": {},
   "outputs": [
    {
     "data": {
      "text/html": [
       "<div>\n",
       "<style scoped>\n",
       "    .dataframe tbody tr th:only-of-type {\n",
       "        vertical-align: middle;\n",
       "    }\n",
       "\n",
       "    .dataframe tbody tr th {\n",
       "        vertical-align: top;\n",
       "    }\n",
       "\n",
       "    .dataframe thead th {\n",
       "        text-align: right;\n",
       "    }\n",
       "</style>\n",
       "<table border=\"1\" class=\"dataframe\">\n",
       "  <thead>\n",
       "    <tr style=\"text-align: right;\">\n",
       "      <th></th>\n",
       "      <th>w0</th>\n",
       "      <th>w1</th>\n",
       "      <th>w2</th>\n",
       "      <th>w3</th>\n",
       "      <th>testing_error</th>\n",
       "      <th>training_error</th>\n",
       "      <th>iterations</th>\n",
       "    </tr>\n",
       "  </thead>\n",
       "  <tbody>\n",
       "    <tr>\n",
       "      <th>0</th>\n",
       "      <td>[12785.704806958458]</td>\n",
       "      <td>[3218.4267587211043]</td>\n",
       "      <td>[1993.2975738164735]</td>\n",
       "      <td>[833.8302584963193]</td>\n",
       "      <td>2.774384e+10</td>\n",
       "      <td>5.855827e+10</td>\n",
       "      <td>145092</td>\n",
       "    </tr>\n",
       "    <tr>\n",
       "      <th>1</th>\n",
       "      <td>[13187.054830291276]</td>\n",
       "      <td>[3655.7953035339015]</td>\n",
       "      <td>[2008.7206140077694]</td>\n",
       "      <td>[596.1514484517481]</td>\n",
       "      <td>2.612396e+10</td>\n",
       "      <td>6.006470e+10</td>\n",
       "      <td>147062</td>\n",
       "    </tr>\n",
       "    <tr>\n",
       "      <th>2</th>\n",
       "      <td>[13450.874615936287]</td>\n",
       "      <td>[3264.496730886144]</td>\n",
       "      <td>[2465.5657704121413]</td>\n",
       "      <td>[715.8028777959819]</td>\n",
       "      <td>2.466853e+10</td>\n",
       "      <td>6.155293e+10</td>\n",
       "      <td>145731</td>\n",
       "    </tr>\n",
       "    <tr>\n",
       "      <th>3</th>\n",
       "      <td>[13088.934544362737]</td>\n",
       "      <td>[2871.0823031421046]</td>\n",
       "      <td>[2323.1267086526686]</td>\n",
       "      <td>[750.7158517659404]</td>\n",
       "      <td>2.761110e+10</td>\n",
       "      <td>5.877664e+10</td>\n",
       "      <td>145398</td>\n",
       "    </tr>\n",
       "    <tr>\n",
       "      <th>4</th>\n",
       "      <td>[13147.548664057944]</td>\n",
       "      <td>[3218.766138599871]</td>\n",
       "      <td>[1840.441154464836]</td>\n",
       "      <td>[858.5721127759415]</td>\n",
       "      <td>2.702176e+10</td>\n",
       "      <td>5.920699e+10</td>\n",
       "      <td>145885</td>\n",
       "    </tr>\n",
       "    <tr>\n",
       "      <th>5</th>\n",
       "      <td>[13234.627356482984]</td>\n",
       "      <td>[3243.649609527797]</td>\n",
       "      <td>[2438.7287766834343]</td>\n",
       "      <td>[538.8417565534571]</td>\n",
       "      <td>2.606549e+10</td>\n",
       "      <td>6.008189e+10</td>\n",
       "      <td>145314</td>\n",
       "    </tr>\n",
       "    <tr>\n",
       "      <th>6</th>\n",
       "      <td>[13644.59949108557]</td>\n",
       "      <td>[3419.7027274214815]</td>\n",
       "      <td>[2060.845370048979]</td>\n",
       "      <td>[336.68288717051263]</td>\n",
       "      <td>2.538623e+10</td>\n",
       "      <td>6.097637e+10</td>\n",
       "      <td>145688</td>\n",
       "    </tr>\n",
       "    <tr>\n",
       "      <th>7</th>\n",
       "      <td>[13044.095490370457]</td>\n",
       "      <td>[3008.324615662804]</td>\n",
       "      <td>[2417.05941783423]</td>\n",
       "      <td>[708.1033650832742]</td>\n",
       "      <td>2.698067e+10</td>\n",
       "      <td>5.935671e+10</td>\n",
       "      <td>145904</td>\n",
       "    </tr>\n",
       "    <tr>\n",
       "      <th>8</th>\n",
       "      <td>[13189.880570875705]</td>\n",
       "      <td>[3494.2123239921043]</td>\n",
       "      <td>[1809.314238239843]</td>\n",
       "      <td>[954.0935773477859]</td>\n",
       "      <td>2.740359e+10</td>\n",
       "      <td>5.882282e+10</td>\n",
       "      <td>145947</td>\n",
       "    </tr>\n",
       "    <tr>\n",
       "      <th>9</th>\n",
       "      <td>[13254.813564462345]</td>\n",
       "      <td>[3335.347761690922]</td>\n",
       "      <td>[2154.7346578298316]</td>\n",
       "      <td>[410.5463477787721]</td>\n",
       "      <td>2.573493e+10</td>\n",
       "      <td>6.043877e+10</td>\n",
       "      <td>145932</td>\n",
       "    </tr>\n",
       "    <tr>\n",
       "      <th>10</th>\n",
       "      <td>[12947.523183905181]</td>\n",
       "      <td>[3273.641625095603]</td>\n",
       "      <td>[1686.0965207235988]</td>\n",
       "      <td>[781.5911866010032]</td>\n",
       "      <td>2.797407e+10</td>\n",
       "      <td>5.843406e+10</td>\n",
       "      <td>146284</td>\n",
       "    </tr>\n",
       "    <tr>\n",
       "      <th>11</th>\n",
       "      <td>[13333.768864877205]</td>\n",
       "      <td>[3374.2750380709576]</td>\n",
       "      <td>[2179.2208881839347]</td>\n",
       "      <td>[579.5194187241378]</td>\n",
       "      <td>2.484471e+10</td>\n",
       "      <td>6.129448e+10</td>\n",
       "      <td>145545</td>\n",
       "    </tr>\n",
       "    <tr>\n",
       "      <th>12</th>\n",
       "      <td>[12892.366257372953]</td>\n",
       "      <td>[3499.3074798759358]</td>\n",
       "      <td>[1592.4419253585925]</td>\n",
       "      <td>[688.6406975058923]</td>\n",
       "      <td>2.983967e+10</td>\n",
       "      <td>5.653452e+10</td>\n",
       "      <td>145474</td>\n",
       "    </tr>\n",
       "    <tr>\n",
       "      <th>13</th>\n",
       "      <td>[13099.27151715835]</td>\n",
       "      <td>[3296.642491414553]</td>\n",
       "      <td>[2010.363599443112]</td>\n",
       "      <td>[652.3891565969681]</td>\n",
       "      <td>2.797825e+10</td>\n",
       "      <td>5.822250e+10</td>\n",
       "      <td>146256</td>\n",
       "    </tr>\n",
       "    <tr>\n",
       "      <th>14</th>\n",
       "      <td>[13211.238098409887]</td>\n",
       "      <td>[3554.5311880694408]</td>\n",
       "      <td>[2077.297759101392]</td>\n",
       "      <td>[872.1054621421242]</td>\n",
       "      <td>2.596157e+10</td>\n",
       "      <td>6.029617e+10</td>\n",
       "      <td>145935</td>\n",
       "    </tr>\n",
       "    <tr>\n",
       "      <th>15</th>\n",
       "      <td>[13298.13940610499]</td>\n",
       "      <td>[3503.9007555532417]</td>\n",
       "      <td>[1825.1753320671853]</td>\n",
       "      <td>[745.1448393314117]</td>\n",
       "      <td>2.362015e+10</td>\n",
       "      <td>6.256008e+10</td>\n",
       "      <td>146361</td>\n",
       "    </tr>\n",
       "    <tr>\n",
       "      <th>16</th>\n",
       "      <td>[12965.290462514513]</td>\n",
       "      <td>[3452.149850817586]</td>\n",
       "      <td>[1904.1807225313046]</td>\n",
       "      <td>[1023.4625200589009]</td>\n",
       "      <td>2.968226e+10</td>\n",
       "      <td>5.664762e+10</td>\n",
       "      <td>146229</td>\n",
       "    </tr>\n",
       "    <tr>\n",
       "      <th>17</th>\n",
       "      <td>[13365.546465920692]</td>\n",
       "      <td>[3141.7002358218406]</td>\n",
       "      <td>[2097.9120812188667]</td>\n",
       "      <td>[680.4887976729194]</td>\n",
       "      <td>2.574498e+10</td>\n",
       "      <td>6.047932e+10</td>\n",
       "      <td>146078</td>\n",
       "    </tr>\n",
       "    <tr>\n",
       "      <th>18</th>\n",
       "      <td>[13494.057845616606]</td>\n",
       "      <td>[3166.2938954265783]</td>\n",
       "      <td>[2174.925355914075]</td>\n",
       "      <td>[563.7819730075529]</td>\n",
       "      <td>2.450896e+10</td>\n",
       "      <td>6.171958e+10</td>\n",
       "      <td>146076</td>\n",
       "    </tr>\n",
       "    <tr>\n",
       "      <th>19</th>\n",
       "      <td>[13351.641022827567]</td>\n",
       "      <td>[3197.756906742533]</td>\n",
       "      <td>[2002.7275247265115]</td>\n",
       "      <td>[661.7090703268615]</td>\n",
       "      <td>2.724689e+10</td>\n",
       "      <td>5.892750e+10</td>\n",
       "      <td>145612</td>\n",
       "    </tr>\n",
       "  </tbody>\n",
       "</table>\n",
       "</div>"
      ],
      "text/plain": [
       "                      w0                    w1                    w2  \\\n",
       "0   [12785.704806958458]  [3218.4267587211043]  [1993.2975738164735]   \n",
       "1   [13187.054830291276]  [3655.7953035339015]  [2008.7206140077694]   \n",
       "2   [13450.874615936287]   [3264.496730886144]  [2465.5657704121413]   \n",
       "3   [13088.934544362737]  [2871.0823031421046]  [2323.1267086526686]   \n",
       "4   [13147.548664057944]   [3218.766138599871]   [1840.441154464836]   \n",
       "5   [13234.627356482984]   [3243.649609527797]  [2438.7287766834343]   \n",
       "6    [13644.59949108557]  [3419.7027274214815]   [2060.845370048979]   \n",
       "7   [13044.095490370457]   [3008.324615662804]    [2417.05941783423]   \n",
       "8   [13189.880570875705]  [3494.2123239921043]   [1809.314238239843]   \n",
       "9   [13254.813564462345]   [3335.347761690922]  [2154.7346578298316]   \n",
       "10  [12947.523183905181]   [3273.641625095603]  [1686.0965207235988]   \n",
       "11  [13333.768864877205]  [3374.2750380709576]  [2179.2208881839347]   \n",
       "12  [12892.366257372953]  [3499.3074798759358]  [1592.4419253585925]   \n",
       "13   [13099.27151715835]   [3296.642491414553]   [2010.363599443112]   \n",
       "14  [13211.238098409887]  [3554.5311880694408]   [2077.297759101392]   \n",
       "15   [13298.13940610499]  [3503.9007555532417]  [1825.1753320671853]   \n",
       "16  [12965.290462514513]   [3452.149850817586]  [1904.1807225313046]   \n",
       "17  [13365.546465920692]  [3141.7002358218406]  [2097.9120812188667]   \n",
       "18  [13494.057845616606]  [3166.2938954265783]   [2174.925355914075]   \n",
       "19  [13351.641022827567]   [3197.756906742533]  [2002.7275247265115]   \n",
       "\n",
       "                      w3  testing_error  training_error iterations  \n",
       "0    [833.8302584963193]   2.774384e+10    5.855827e+10     145092  \n",
       "1    [596.1514484517481]   2.612396e+10    6.006470e+10     147062  \n",
       "2    [715.8028777959819]   2.466853e+10    6.155293e+10     145731  \n",
       "3    [750.7158517659404]   2.761110e+10    5.877664e+10     145398  \n",
       "4    [858.5721127759415]   2.702176e+10    5.920699e+10     145885  \n",
       "5    [538.8417565534571]   2.606549e+10    6.008189e+10     145314  \n",
       "6   [336.68288717051263]   2.538623e+10    6.097637e+10     145688  \n",
       "7    [708.1033650832742]   2.698067e+10    5.935671e+10     145904  \n",
       "8    [954.0935773477859]   2.740359e+10    5.882282e+10     145947  \n",
       "9    [410.5463477787721]   2.573493e+10    6.043877e+10     145932  \n",
       "10   [781.5911866010032]   2.797407e+10    5.843406e+10     146284  \n",
       "11   [579.5194187241378]   2.484471e+10    6.129448e+10     145545  \n",
       "12   [688.6406975058923]   2.983967e+10    5.653452e+10     145474  \n",
       "13   [652.3891565969681]   2.797825e+10    5.822250e+10     146256  \n",
       "14   [872.1054621421242]   2.596157e+10    6.029617e+10     145935  \n",
       "15   [745.1448393314117]   2.362015e+10    6.256008e+10     146361  \n",
       "16  [1023.4625200589009]   2.968226e+10    5.664762e+10     146229  \n",
       "17   [680.4887976729194]   2.574498e+10    6.047932e+10     146078  \n",
       "18   [563.7819730075529]   2.450896e+10    6.171958e+10     146076  \n",
       "19   [661.7090703268615]   2.724689e+10    5.892750e+10     145612  "
      ]
     },
     "execution_count": 17,
     "metadata": {},
     "output_type": "execute_result"
    }
   ],
   "source": [
    "lr_models.models2"
   ]
  },
  {
   "cell_type": "code",
   "execution_count": 18,
   "metadata": {},
   "outputs": [
    {
     "data": {
      "text/html": [
       "<div>\n",
       "<style scoped>\n",
       "    .dataframe tbody tr th:only-of-type {\n",
       "        vertical-align: middle;\n",
       "    }\n",
       "\n",
       "    .dataframe tbody tr th {\n",
       "        vertical-align: top;\n",
       "    }\n",
       "\n",
       "    .dataframe thead th {\n",
       "        text-align: right;\n",
       "    }\n",
       "</style>\n",
       "<table border=\"1\" class=\"dataframe\">\n",
       "  <thead>\n",
       "    <tr style=\"text-align: right;\">\n",
       "      <th></th>\n",
       "      <th>w0</th>\n",
       "      <th>w1</th>\n",
       "      <th>w2</th>\n",
       "      <th>w3</th>\n",
       "      <th>testing_error</th>\n",
       "      <th>training_error</th>\n",
       "      <th>iterations</th>\n",
       "    </tr>\n",
       "  </thead>\n",
       "  <tbody>\n",
       "    <tr>\n",
       "      <th>0</th>\n",
       "      <td>[12716.838208221132]</td>\n",
       "      <td>[3207.6691465779218]</td>\n",
       "      <td>[1990.6188464513657]</td>\n",
       "      <td>[832.168930110985]</td>\n",
       "      <td>2.779172e+10</td>\n",
       "      <td>5.856055e+10</td>\n",
       "      <td>523637</td>\n",
       "    </tr>\n",
       "    <tr>\n",
       "      <th>1</th>\n",
       "      <td>[13183.18520136311]</td>\n",
       "      <td>[3655.733303109121]</td>\n",
       "      <td>[2008.6390157031985]</td>\n",
       "      <td>[597.5618920145848]</td>\n",
       "      <td>2.612430e+10</td>\n",
       "      <td>6.006470e+10</td>\n",
       "      <td>808746</td>\n",
       "    </tr>\n",
       "    <tr>\n",
       "      <th>2</th>\n",
       "      <td>[13447.588116084431]</td>\n",
       "      <td>[3265.880733509023]</td>\n",
       "      <td>[2463.5155191760823]</td>\n",
       "      <td>[714.6613544565416]</td>\n",
       "      <td>2.466651e+10</td>\n",
       "      <td>6.155294e+10</td>\n",
       "      <td>848129</td>\n",
       "    </tr>\n",
       "    <tr>\n",
       "      <th>3</th>\n",
       "      <td>[13088.292890707191]</td>\n",
       "      <td>[2870.0662656455106]</td>\n",
       "      <td>[2324.436496014601]</td>\n",
       "      <td>[750.7804725464691]</td>\n",
       "      <td>2.761221e+10</td>\n",
       "      <td>5.877664e+10</td>\n",
       "      <td>904197</td>\n",
       "    </tr>\n",
       "    <tr>\n",
       "      <th>4</th>\n",
       "      <td>[13143.074358668775]</td>\n",
       "      <td>[3216.7795761512825]</td>\n",
       "      <td>[1839.3106374606448]</td>\n",
       "      <td>[855.9585490868212]</td>\n",
       "      <td>2.702265e+10</td>\n",
       "      <td>5.920701e+10</td>\n",
       "      <td>799093</td>\n",
       "    </tr>\n",
       "    <tr>\n",
       "      <th>5</th>\n",
       "      <td>[13226.745983061795]</td>\n",
       "      <td>[3242.683249542699]</td>\n",
       "      <td>[2438.2115749358077]</td>\n",
       "      <td>[539.2518208648563]</td>\n",
       "      <td>2.606572e+10</td>\n",
       "      <td>6.008192e+10</td>\n",
       "      <td>745692</td>\n",
       "    </tr>\n",
       "    <tr>\n",
       "      <th>6</th>\n",
       "      <td>[13639.299584194392]</td>\n",
       "      <td>[3418.091227829294]</td>\n",
       "      <td>[2059.6916287044896]</td>\n",
       "      <td>[337.06012083247134]</td>\n",
       "      <td>2.538335e+10</td>\n",
       "      <td>6.097639e+10</td>\n",
       "      <td>778441</td>\n",
       "    </tr>\n",
       "    <tr>\n",
       "      <th>7</th>\n",
       "      <td>[13037.333307618599]</td>\n",
       "      <td>[3008.30145242029]</td>\n",
       "      <td>[2415.4571575637115]</td>\n",
       "      <td>[708.5987946575852]</td>\n",
       "      <td>2.698213e+10</td>\n",
       "      <td>5.935673e+10</td>\n",
       "      <td>759147</td>\n",
       "    </tr>\n",
       "    <tr>\n",
       "      <th>8</th>\n",
       "      <td>[13182.435206796592]</td>\n",
       "      <td>[3491.07184041248]</td>\n",
       "      <td>[1806.99445693432]</td>\n",
       "      <td>[951.8777957313948]</td>\n",
       "      <td>2.740381e+10</td>\n",
       "      <td>5.882285e+10</td>\n",
       "      <td>766482</td>\n",
       "    </tr>\n",
       "    <tr>\n",
       "      <th>9</th>\n",
       "      <td>[13250.191297202527]</td>\n",
       "      <td>[3334.250799886082]</td>\n",
       "      <td>[2156.021723456456]</td>\n",
       "      <td>[411.9697538069722]</td>\n",
       "      <td>2.573479e+10</td>\n",
       "      <td>6.043879e+10</td>\n",
       "      <td>775159</td>\n",
       "    </tr>\n",
       "    <tr>\n",
       "      <th>10</th>\n",
       "      <td>[12944.707468793069]</td>\n",
       "      <td>[3273.7605501242556]</td>\n",
       "      <td>[1687.579660099877]</td>\n",
       "      <td>[780.582799896639]</td>\n",
       "      <td>2.797430e+10</td>\n",
       "      <td>5.843407e+10</td>\n",
       "      <td>855594</td>\n",
       "    </tr>\n",
       "    <tr>\n",
       "      <th>11</th>\n",
       "      <td>[13332.440850280127]</td>\n",
       "      <td>[3374.314418553924]</td>\n",
       "      <td>[2177.448905995426]</td>\n",
       "      <td>[579.9338265163062]</td>\n",
       "      <td>2.484433e+10</td>\n",
       "      <td>6.129449e+10</td>\n",
       "      <td>896414</td>\n",
       "    </tr>\n",
       "    <tr>\n",
       "      <th>12</th>\n",
       "      <td>[12892.535298528308]</td>\n",
       "      <td>[3499.673798980625]</td>\n",
       "      <td>[1592.600075961396]</td>\n",
       "      <td>[687.4817433727934]</td>\n",
       "      <td>2.983947e+10</td>\n",
       "      <td>5.653452e+10</td>\n",
       "      <td>965040</td>\n",
       "    </tr>\n",
       "    <tr>\n",
       "      <th>13</th>\n",
       "      <td>[13097.182161064584]</td>\n",
       "      <td>[3296.928784323169]</td>\n",
       "      <td>[2010.3066936743435]</td>\n",
       "      <td>[652.9787521298803]</td>\n",
       "      <td>2.797871e+10</td>\n",
       "      <td>5.822250e+10</td>\n",
       "      <td>868788</td>\n",
       "    </tr>\n",
       "    <tr>\n",
       "      <th>14</th>\n",
       "      <td>[13174.966781902864]</td>\n",
       "      <td>[3547.217383573061]</td>\n",
       "      <td>[2075.279166708174]</td>\n",
       "      <td>[875.1432523325077]</td>\n",
       "      <td>2.596367e+10</td>\n",
       "      <td>6.029682e+10</td>\n",
       "      <td>591810</td>\n",
       "    </tr>\n",
       "    <tr>\n",
       "      <th>15</th>\n",
       "      <td>[13292.076171212175]</td>\n",
       "      <td>[3501.1648031611917]</td>\n",
       "      <td>[1823.291370922746]</td>\n",
       "      <td>[745.8730820055441]</td>\n",
       "      <td>2.362017e+10</td>\n",
       "      <td>6.256010e+10</td>\n",
       "      <td>822188</td>\n",
       "    </tr>\n",
       "    <tr>\n",
       "      <th>16</th>\n",
       "      <td>[12958.670069043908]</td>\n",
       "      <td>[3449.441576711367]</td>\n",
       "      <td>[1903.0438835843281]</td>\n",
       "      <td>[1023.1194079112839]</td>\n",
       "      <td>2.968473e+10</td>\n",
       "      <td>5.664765e+10</td>\n",
       "      <td>772699</td>\n",
       "    </tr>\n",
       "    <tr>\n",
       "      <th>17</th>\n",
       "      <td>[13365.04436792185]</td>\n",
       "      <td>[3141.3042394922336]</td>\n",
       "      <td>[2098.765707608426]</td>\n",
       "      <td>[679.9178979299322]</td>\n",
       "      <td>2.574506e+10</td>\n",
       "      <td>6.047932e+10</td>\n",
       "      <td>872925</td>\n",
       "    </tr>\n",
       "    <tr>\n",
       "      <th>18</th>\n",
       "      <td>[13492.13012289471]</td>\n",
       "      <td>[3166.80568397493]</td>\n",
       "      <td>[2175.2285213602186]</td>\n",
       "      <td>[562.5083594441925]</td>\n",
       "      <td>2.450844e+10</td>\n",
       "      <td>6.171959e+10</td>\n",
       "      <td>871295</td>\n",
       "    </tr>\n",
       "    <tr>\n",
       "      <th>19</th>\n",
       "      <td>[13348.390634114308]</td>\n",
       "      <td>[3197.2606125205903]</td>\n",
       "      <td>[2001.4115506699084]</td>\n",
       "      <td>[662.9137436892078]</td>\n",
       "      <td>2.724681e+10</td>\n",
       "      <td>5.892751e+10</td>\n",
       "      <td>813779</td>\n",
       "    </tr>\n",
       "  </tbody>\n",
       "</table>\n",
       "</div>"
      ],
      "text/plain": [
       "                      w0                    w1                    w2  \\\n",
       "0   [12716.838208221132]  [3207.6691465779218]  [1990.6188464513657]   \n",
       "1    [13183.18520136311]   [3655.733303109121]  [2008.6390157031985]   \n",
       "2   [13447.588116084431]   [3265.880733509023]  [2463.5155191760823]   \n",
       "3   [13088.292890707191]  [2870.0662656455106]   [2324.436496014601]   \n",
       "4   [13143.074358668775]  [3216.7795761512825]  [1839.3106374606448]   \n",
       "5   [13226.745983061795]   [3242.683249542699]  [2438.2115749358077]   \n",
       "6   [13639.299584194392]   [3418.091227829294]  [2059.6916287044896]   \n",
       "7   [13037.333307618599]    [3008.30145242029]  [2415.4571575637115]   \n",
       "8   [13182.435206796592]    [3491.07184041248]    [1806.99445693432]   \n",
       "9   [13250.191297202527]   [3334.250799886082]   [2156.021723456456]   \n",
       "10  [12944.707468793069]  [3273.7605501242556]   [1687.579660099877]   \n",
       "11  [13332.440850280127]   [3374.314418553924]   [2177.448905995426]   \n",
       "12  [12892.535298528308]   [3499.673798980625]   [1592.600075961396]   \n",
       "13  [13097.182161064584]   [3296.928784323169]  [2010.3066936743435]   \n",
       "14  [13174.966781902864]   [3547.217383573061]   [2075.279166708174]   \n",
       "15  [13292.076171212175]  [3501.1648031611917]   [1823.291370922746]   \n",
       "16  [12958.670069043908]   [3449.441576711367]  [1903.0438835843281]   \n",
       "17   [13365.04436792185]  [3141.3042394922336]   [2098.765707608426]   \n",
       "18   [13492.13012289471]    [3166.80568397493]  [2175.2285213602186]   \n",
       "19  [13348.390634114308]  [3197.2606125205903]  [2001.4115506699084]   \n",
       "\n",
       "                      w3  testing_error  training_error iterations  \n",
       "0     [832.168930110985]   2.779172e+10    5.856055e+10     523637  \n",
       "1    [597.5618920145848]   2.612430e+10    6.006470e+10     808746  \n",
       "2    [714.6613544565416]   2.466651e+10    6.155294e+10     848129  \n",
       "3    [750.7804725464691]   2.761221e+10    5.877664e+10     904197  \n",
       "4    [855.9585490868212]   2.702265e+10    5.920701e+10     799093  \n",
       "5    [539.2518208648563]   2.606572e+10    6.008192e+10     745692  \n",
       "6   [337.06012083247134]   2.538335e+10    6.097639e+10     778441  \n",
       "7    [708.5987946575852]   2.698213e+10    5.935673e+10     759147  \n",
       "8    [951.8777957313948]   2.740381e+10    5.882285e+10     766482  \n",
       "9    [411.9697538069722]   2.573479e+10    6.043879e+10     775159  \n",
       "10    [780.582799896639]   2.797430e+10    5.843407e+10     855594  \n",
       "11   [579.9338265163062]   2.484433e+10    6.129449e+10     896414  \n",
       "12   [687.4817433727934]   2.983947e+10    5.653452e+10     965040  \n",
       "13   [652.9787521298803]   2.797871e+10    5.822250e+10     868788  \n",
       "14   [875.1432523325077]   2.596367e+10    6.029682e+10     591810  \n",
       "15   [745.8730820055441]   2.362017e+10    6.256010e+10     822188  \n",
       "16  [1023.1194079112839]   2.968473e+10    5.664765e+10     772699  \n",
       "17   [679.9178979299322]   2.574506e+10    6.047932e+10     872925  \n",
       "18   [562.5083594441925]   2.450844e+10    6.171959e+10     871295  \n",
       "19   [662.9137436892078]   2.724681e+10    5.892751e+10     813779  "
      ]
     },
     "execution_count": 18,
     "metadata": {},
     "output_type": "execute_result"
    }
   ],
   "source": [
    "lr_models.models3"
   ]
  },
  {
   "cell_type": "markdown",
   "metadata": {},
   "source": [
    "### Describe Regression Models"
   ]
  },
  {
   "cell_type": "code",
   "execution_count": 19,
   "metadata": {},
   "outputs": [
    {
     "data": {
      "text/html": [
       "<div>\n",
       "<style scoped>\n",
       "    .dataframe tbody tr th:only-of-type {\n",
       "        vertical-align: middle;\n",
       "    }\n",
       "\n",
       "    .dataframe tbody tr th {\n",
       "        vertical-align: top;\n",
       "    }\n",
       "\n",
       "    .dataframe thead th {\n",
       "        text-align: right;\n",
       "    }\n",
       "</style>\n",
       "<table border=\"1\" class=\"dataframe\">\n",
       "  <thead>\n",
       "    <tr style=\"text-align: right;\">\n",
       "      <th></th>\n",
       "      <th>testing_error</th>\n",
       "      <th>training_error</th>\n",
       "    </tr>\n",
       "  </thead>\n",
       "  <tbody>\n",
       "    <tr>\n",
       "      <th>count</th>\n",
       "      <td>2.000000e+01</td>\n",
       "      <td>2.000000e+01</td>\n",
       "    </tr>\n",
       "    <tr>\n",
       "      <th>mean</th>\n",
       "      <td>2.660708e+10</td>\n",
       "      <td>5.964760e+10</td>\n",
       "    </tr>\n",
       "    <tr>\n",
       "      <th>std</th>\n",
       "      <td>1.645346e+09</td>\n",
       "      <td>1.599378e+09</td>\n",
       "    </tr>\n",
       "    <tr>\n",
       "      <th>min</th>\n",
       "      <td>2.362015e+10</td>\n",
       "      <td>5.653452e+10</td>\n",
       "    </tr>\n",
       "    <tr>\n",
       "      <th>25%</th>\n",
       "      <td>2.564776e+10</td>\n",
       "      <td>5.872204e+10</td>\n",
       "    </tr>\n",
       "    <tr>\n",
       "      <th>50%</th>\n",
       "      <td>2.655231e+10</td>\n",
       "      <td>5.971070e+10</td>\n",
       "    </tr>\n",
       "    <tr>\n",
       "      <th>75%</th>\n",
       "      <td>2.764428e+10</td>\n",
       "      <td>6.060359e+10</td>\n",
       "    </tr>\n",
       "    <tr>\n",
       "      <th>max</th>\n",
       "      <td>2.983967e+10</td>\n",
       "      <td>6.256008e+10</td>\n",
       "    </tr>\n",
       "  </tbody>\n",
       "</table>\n",
       "</div>"
      ],
      "text/plain": [
       "       testing_error  training_error\n",
       "count   2.000000e+01    2.000000e+01\n",
       "mean    2.660708e+10    5.964760e+10\n",
       "std     1.645346e+09    1.599378e+09\n",
       "min     2.362015e+10    5.653452e+10\n",
       "25%     2.564776e+10    5.872204e+10\n",
       "50%     2.655231e+10    5.971070e+10\n",
       "75%     2.764428e+10    6.060359e+10\n",
       "max     2.983967e+10    6.256008e+10"
      ]
     },
     "execution_count": 19,
     "metadata": {},
     "output_type": "execute_result"
    }
   ],
   "source": [
    "lr_models.models1.describe()"
   ]
  },
  {
   "cell_type": "code",
   "execution_count": 20,
   "metadata": {},
   "outputs": [
    {
     "data": {
      "text/html": [
       "<div>\n",
       "<style scoped>\n",
       "    .dataframe tbody tr th:only-of-type {\n",
       "        vertical-align: middle;\n",
       "    }\n",
       "\n",
       "    .dataframe tbody tr th {\n",
       "        vertical-align: top;\n",
       "    }\n",
       "\n",
       "    .dataframe thead th {\n",
       "        text-align: right;\n",
       "    }\n",
       "</style>\n",
       "<table border=\"1\" class=\"dataframe\">\n",
       "  <thead>\n",
       "    <tr style=\"text-align: right;\">\n",
       "      <th></th>\n",
       "      <th>testing_error</th>\n",
       "      <th>training_error</th>\n",
       "    </tr>\n",
       "  </thead>\n",
       "  <tbody>\n",
       "    <tr>\n",
       "      <th>count</th>\n",
       "      <td>2.000000e+01</td>\n",
       "      <td>2.000000e+01</td>\n",
       "    </tr>\n",
       "    <tr>\n",
       "      <th>mean</th>\n",
       "      <td>2.660708e+10</td>\n",
       "      <td>5.964760e+10</td>\n",
       "    </tr>\n",
       "    <tr>\n",
       "      <th>std</th>\n",
       "      <td>1.645349e+09</td>\n",
       "      <td>1.599378e+09</td>\n",
       "    </tr>\n",
       "    <tr>\n",
       "      <th>min</th>\n",
       "      <td>2.362015e+10</td>\n",
       "      <td>5.653452e+10</td>\n",
       "    </tr>\n",
       "    <tr>\n",
       "      <th>25%</th>\n",
       "      <td>2.564776e+10</td>\n",
       "      <td>5.872204e+10</td>\n",
       "    </tr>\n",
       "    <tr>\n",
       "      <th>50%</th>\n",
       "      <td>2.655232e+10</td>\n",
       "      <td>5.971070e+10</td>\n",
       "    </tr>\n",
       "    <tr>\n",
       "      <th>75%</th>\n",
       "      <td>2.764428e+10</td>\n",
       "      <td>6.060359e+10</td>\n",
       "    </tr>\n",
       "    <tr>\n",
       "      <th>max</th>\n",
       "      <td>2.983967e+10</td>\n",
       "      <td>6.256008e+10</td>\n",
       "    </tr>\n",
       "  </tbody>\n",
       "</table>\n",
       "</div>"
      ],
      "text/plain": [
       "       testing_error  training_error\n",
       "count   2.000000e+01    2.000000e+01\n",
       "mean    2.660708e+10    5.964760e+10\n",
       "std     1.645349e+09    1.599378e+09\n",
       "min     2.362015e+10    5.653452e+10\n",
       "25%     2.564776e+10    5.872204e+10\n",
       "50%     2.655232e+10    5.971070e+10\n",
       "75%     2.764428e+10    6.060359e+10\n",
       "max     2.983967e+10    6.256008e+10"
      ]
     },
     "execution_count": 20,
     "metadata": {},
     "output_type": "execute_result"
    }
   ],
   "source": [
    "lr_models.models2.describe()"
   ]
  },
  {
   "cell_type": "code",
   "execution_count": 21,
   "metadata": {},
   "outputs": [
    {
     "data": {
      "text/html": [
       "<div>\n",
       "<style scoped>\n",
       "    .dataframe tbody tr th:only-of-type {\n",
       "        vertical-align: middle;\n",
       "    }\n",
       "\n",
       "    .dataframe tbody tr th {\n",
       "        vertical-align: top;\n",
       "    }\n",
       "\n",
       "    .dataframe thead th {\n",
       "        text-align: right;\n",
       "    }\n",
       "</style>\n",
       "<table border=\"1\" class=\"dataframe\">\n",
       "  <thead>\n",
       "    <tr style=\"text-align: right;\">\n",
       "      <th></th>\n",
       "      <th>testing_error</th>\n",
       "      <th>training_error</th>\n",
       "    </tr>\n",
       "  </thead>\n",
       "  <tbody>\n",
       "    <tr>\n",
       "      <th>count</th>\n",
       "      <td>2.000000e+01</td>\n",
       "      <td>2.000000e+01</td>\n",
       "    </tr>\n",
       "    <tr>\n",
       "      <th>mean</th>\n",
       "      <td>2.660964e+10</td>\n",
       "      <td>5.964775e+10</td>\n",
       "    </tr>\n",
       "    <tr>\n",
       "      <th>std</th>\n",
       "      <td>1.647685e+09</td>\n",
       "      <td>1.599310e+09</td>\n",
       "    </tr>\n",
       "    <tr>\n",
       "      <th>min</th>\n",
       "      <td>2.362017e+10</td>\n",
       "      <td>5.653452e+10</td>\n",
       "    </tr>\n",
       "    <tr>\n",
       "      <th>25%</th>\n",
       "      <td>2.564693e+10</td>\n",
       "      <td>5.872262e+10</td>\n",
       "    </tr>\n",
       "    <tr>\n",
       "      <th>50%</th>\n",
       "      <td>2.655322e+10</td>\n",
       "      <td>5.971072e+10</td>\n",
       "    </tr>\n",
       "    <tr>\n",
       "      <th>75%</th>\n",
       "      <td>2.765709e+10</td>\n",
       "      <td>6.060359e+10</td>\n",
       "    </tr>\n",
       "    <tr>\n",
       "      <th>max</th>\n",
       "      <td>2.983947e+10</td>\n",
       "      <td>6.256010e+10</td>\n",
       "    </tr>\n",
       "  </tbody>\n",
       "</table>\n",
       "</div>"
      ],
      "text/plain": [
       "       testing_error  training_error\n",
       "count   2.000000e+01    2.000000e+01\n",
       "mean    2.660964e+10    5.964775e+10\n",
       "std     1.647685e+09    1.599310e+09\n",
       "min     2.362017e+10    5.653452e+10\n",
       "25%     2.564693e+10    5.872262e+10\n",
       "50%     2.655322e+10    5.971072e+10\n",
       "75%     2.765709e+10    6.060359e+10\n",
       "max     2.983947e+10    6.256010e+10"
      ]
     },
     "execution_count": 21,
     "metadata": {},
     "output_type": "execute_result"
    }
   ],
   "source": [
    "lr_models.models3.describe()"
   ]
  },
  {
   "cell_type": "markdown",
   "metadata": {},
   "source": [
    "### Training Error"
   ]
  },
  {
   "cell_type": "markdown",
   "metadata": {},
   "source": [
    "__Normal Equations__"
   ]
  },
  {
   "cell_type": "code",
   "execution_count": 22,
   "metadata": {},
   "outputs": [
    {
     "name": "stdout",
     "output_type": "stream",
     "text": [
      "Mean of training error obtained over 20 regression models = 59647597431.33492\n"
     ]
    }
   ],
   "source": [
    "print(f\"Mean of training error obtained over 20 regression models = {lr_models.models1.training_error.mean()}\")"
   ]
  },
  {
   "cell_type": "code",
   "execution_count": 23,
   "metadata": {},
   "outputs": [
    {
     "name": "stdout",
     "output_type": "stream",
     "text": [
      "Minimum training error obtained over 20 regression models = 56534523919.390465\n"
     ]
    }
   ],
   "source": [
    "print(f\"Minimum training error obtained over 20 regression models = {lr_models.models1.training_error.min()}\")"
   ]
  },
  {
   "cell_type": "markdown",
   "metadata": {},
   "source": [
    "__Gradient Descent__"
   ]
  },
  {
   "cell_type": "code",
   "execution_count": 24,
   "metadata": {},
   "outputs": [
    {
     "name": "stdout",
     "output_type": "stream",
     "text": [
      "Mean of training error obtained over 20 regression models = 59647597431.46159\n"
     ]
    }
   ],
   "source": [
    "print(f\"Mean of training error obtained over 20 regression models = {lr_models.models2.training_error.mean()}\")"
   ]
  },
  {
   "cell_type": "code",
   "execution_count": 25,
   "metadata": {},
   "outputs": [
    {
     "name": "stdout",
     "output_type": "stream",
     "text": [
      "Minimum training error obtained over 20 regression models = 56534523919.52552\n"
     ]
    }
   ],
   "source": [
    "print(f\"Minimum training error obtained over 20 regression models = {lr_models.models2.training_error.min()}\")"
   ]
  },
  {
   "cell_type": "markdown",
   "metadata": {},
   "source": [
    "__Stochastic Gradient Descent__"
   ]
  },
  {
   "cell_type": "code",
   "execution_count": 26,
   "metadata": {},
   "outputs": [
    {
     "name": "stdout",
     "output_type": "stream",
     "text": [
      "Mean of training error obtained over 20 regression models = 59647754829.26682\n"
     ]
    }
   ],
   "source": [
    "print(f\"Mean of training error obtained over 20 regression models = {lr_models.models3.training_error.mean()}\")"
   ]
  },
  {
   "cell_type": "code",
   "execution_count": 27,
   "metadata": {},
   "outputs": [
    {
     "name": "stdout",
     "output_type": "stream",
     "text": [
      "Minimum training error obtained over 20 regression models = 56534524598.4773\n"
     ]
    }
   ],
   "source": [
    "print(f\"Minimum training error obtained over 20 regression models = {lr_models.models3.training_error.min()}\")"
   ]
  },
  {
   "cell_type": "markdown",
   "metadata": {},
   "source": [
    "### Testing Error"
   ]
  },
  {
   "cell_type": "markdown",
   "metadata": {},
   "source": [
    "__Normal Equations__"
   ]
  },
  {
   "cell_type": "code",
   "execution_count": 28,
   "metadata": {},
   "outputs": [
    {
     "name": "stdout",
     "output_type": "stream",
     "text": [
      "Mean of testing error obtained over 20 regression models = 26607080060.292473\n"
     ]
    }
   ],
   "source": [
    "print(f\"Mean of testing error obtained over 20 regression models = {lr_models.models1.testing_error.mean()}\")"
   ]
  },
  {
   "cell_type": "code",
   "execution_count": 29,
   "metadata": {},
   "outputs": [
    {
     "name": "stdout",
     "output_type": "stream",
     "text": [
      "Minimum testing error obtained over 20 regression models = 23620151155.09215\n"
     ]
    }
   ],
   "source": [
    "print(f\"Minimum testing error obtained over 20 regression models = {lr_models.models1.testing_error.min()}\")"
   ]
  },
  {
   "cell_type": "markdown",
   "metadata": {},
   "source": [
    "__Gradient Descent__"
   ]
  },
  {
   "cell_type": "code",
   "execution_count": 30,
   "metadata": {},
   "outputs": [
    {
     "name": "stdout",
     "output_type": "stream",
     "text": [
      "Mean of testing error obtained over 20 regression models = 26607081449.48668\n"
     ]
    }
   ],
   "source": [
    "print(f\"Mean of testing error obtained over 20 regression models = {lr_models.models2.testing_error.mean()}\")"
   ]
  },
  {
   "cell_type": "code",
   "execution_count": 31,
   "metadata": {},
   "outputs": [
    {
     "name": "stdout",
     "output_type": "stream",
     "text": [
      "Minimum testing error obtained over 20 regression models = 23620148955.51576\n"
     ]
    }
   ],
   "source": [
    "print(f\"Minimum testing error obtained over 20 regression models = {lr_models.models2.testing_error.min()}\")"
   ]
  },
  {
   "cell_type": "markdown",
   "metadata": {},
   "source": [
    "__Stochastic Gradient Descent__"
   ]
  },
  {
   "cell_type": "code",
   "execution_count": 32,
   "metadata": {},
   "outputs": [
    {
     "name": "stdout",
     "output_type": "stream",
     "text": [
      "Mean of testing error obtained over 20 regression models = 26609644311.551937\n"
     ]
    }
   ],
   "source": [
    "print(f\"Mean of testing error obtained over 20 regression models = {lr_models.models3.testing_error.mean()}\")"
   ]
  },
  {
   "cell_type": "code",
   "execution_count": 33,
   "metadata": {},
   "outputs": [
    {
     "name": "stdout",
     "output_type": "stream",
     "text": [
      "Minimum testing error obtained over 20 regression models = 23620173673.723877\n"
     ]
    }
   ],
   "source": [
    "print(f\"Minimum testing error obtained over 20 regression models = {lr_models.models3.testing_error.min()}\")"
   ]
  },
  {
   "cell_type": "markdown",
   "metadata": {},
   "source": [
    "-------------------------------------------------------------------------------------------------------------------------------"
   ]
  },
  {
   "cell_type": "markdown",
   "metadata": {},
   "source": [
    "## Plot the Convergence"
   ]
  },
  {
   "cell_type": "markdown",
   "metadata": {},
   "source": [
    "__Plot $E(\\omega)$ against the number of iterations of Gradient Descent__"
   ]
  },
  {
   "cell_type": "code",
   "execution_count": 34,
   "metadata": {},
   "outputs": [],
   "source": [
    "errorsGD = np.array(lr_models.errors2, dtype=object)"
   ]
  },
  {
   "cell_type": "code",
   "execution_count": 35,
   "metadata": {},
   "outputs": [
    {
     "data": {
      "image/png": "[encoded data removed]",
      "text/plain": [
       "<Figure size 432x288 with 1 Axes>"
      ]
     },
     "metadata": {
      "needs_background": "light"
     },
     "output_type": "display_data"
    }
   ],
   "source": [
    "for error in errorsGD:\n",
    "    plt.plot(error)\n",
    "    plt.xlabel(\"Iterations\")\n",
    "    plt.ylabel(\"$E(\\omega)$\")\n",
    "    plt.title(\"Values of the Error Function over Iterations of Gradient Descent\");"
   ]
  },
  {
   "cell_type": "markdown",
   "metadata": {},
   "source": [
    "__Plot $E(\\omega)$ against the number of iterations of Stochastic Gradient Descent__"
   ]
  },
  {
   "cell_type": "code",
   "execution_count": 36,
   "metadata": {},
   "outputs": [],
   "source": [
    "errorsSGD = np.array(lr_models.errors3, dtype=object)"
   ]
  },
  {
   "cell_type": "code",
   "execution_count": 37,
   "metadata": {},
   "outputs": [
    {
     "data": {
      "image/png": "[encoded data removed]",
      "text/plain": [
       "<Figure size 432x288 with 1 Axes>"
      ]
     },
     "metadata": {
      "needs_background": "light"
     },
     "output_type": "display_data"
    }
   ],
   "source": [
    "for error in errorsSGD:\n",
    "    plt.plot(error)\n",
    "    plt.xlabel(\"Iterations\")\n",
    "    plt.ylabel(\"$E(\\omega)$\")\n",
    "    plt.title(\"Values of the Error Function over Iterations of Stochastic Gradient Descent\");"
   ]
  },
  {
   "cell_type": "markdown",
   "metadata": {},
   "source": [
    "-------------------------------------------------------------------------------------------------------------------------------"
   ]
  }
 ],
 "metadata": {
  "kernelspec": {
   "display_name": "Python 3",
   "language": "python",
   "name": "python3"
  },
  "language_info": {
   "codemirror_mode": {
    "name": "ipython",
    "version": 3
   },
   "file_extension": ".py",
   "mimetype": "text/x-python",
   "name": "python",
   "nbconvert_exporter": "python",
   "pygments_lexer": "ipython3",
   "version": "3.8.6"
  }
 },
 "nbformat": 4,
 "nbformat_minor": 4
}
