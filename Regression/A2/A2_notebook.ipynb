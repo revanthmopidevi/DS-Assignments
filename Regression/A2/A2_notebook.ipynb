{
 "cells": [
  {
   "cell_type": "markdown",
   "metadata": {},
   "source": [
    "# Linear Regression by solving Normal Equations"
   ]
  },
  {
   "cell_type": "markdown",
   "metadata": {},
   "source": [
    "## Import Libraries"
   ]
  },
  {
   "cell_type": "code",
   "execution_count": 1,
   "metadata": {},
   "outputs": [],
   "source": [
    "import numpy as np\n",
    "import pandas as pd\n",
    "import matplotlib.pyplot as plt\n",
    "plt.style.use('ggplot')\n",
    "%matplotlib inline"
   ]
  },
  {
   "cell_type": "markdown",
   "metadata": {},
   "source": [
    "## Load and Inspect Data"
   ]
  },
  {
   "cell_type": "code",
   "execution_count": 2,
   "metadata": {},
   "outputs": [
    {
     "data": {
      "text/html": [
       "<div>\n",
       "<style scoped>\n",
       "    .dataframe tbody tr th:only-of-type {\n",
       "        vertical-align: middle;\n",
       "    }\n",
       "\n",
       "    .dataframe tbody tr th {\n",
       "        vertical-align: top;\n",
       "    }\n",
       "\n",
       "    .dataframe thead th {\n",
       "        text-align: right;\n",
       "    }\n",
       "</style>\n",
       "<table border=\"1\" class=\"dataframe\">\n",
       "  <thead>\n",
       "    <tr style=\"text-align: right;\">\n",
       "      <th></th>\n",
       "      <th>age</th>\n",
       "      <th>bmi</th>\n",
       "      <th>children</th>\n",
       "      <th>charges</th>\n",
       "    </tr>\n",
       "  </thead>\n",
       "  <tbody>\n",
       "    <tr>\n",
       "      <th>0</th>\n",
       "      <td>19</td>\n",
       "      <td>27.9</td>\n",
       "      <td>0</td>\n",
       "      <td>16884.924</td>\n",
       "    </tr>\n",
       "  </tbody>\n",
       "</table>\n",
       "</div>"
      ],
      "text/plain": [
       "   age   bmi  children    charges\n",
       "0   19  27.9         0  16884.924"
      ]
     },
     "execution_count": 2,
     "metadata": {},
     "output_type": "execute_result"
    }
   ],
   "source": [
    "data = pd.read_csv(\"insurance.txt\")\n",
    "data.head(1)"
   ]
  },
  {
   "cell_type": "code",
   "execution_count": 3,
   "metadata": {},
   "outputs": [
    {
     "name": "stdout",
     "output_type": "stream",
     "text": [
      "<class 'pandas.core.frame.DataFrame'>\n",
      "RangeIndex: 1338 entries, 0 to 1337\n",
      "Data columns (total 4 columns):\n",
      " #   Column    Non-Null Count  Dtype  \n",
      "---  ------    --------------  -----  \n",
      " 0   age       1338 non-null   int64  \n",
      " 1   bmi       1338 non-null   float64\n",
      " 2   children  1338 non-null   int64  \n",
      " 3   charges   1338 non-null   float64\n",
      "dtypes: float64(2), int64(2)\n",
      "memory usage: 41.9 KB\n"
     ]
    }
   ],
   "source": [
    "data.info()"
   ]
  },
  {
   "cell_type": "code",
   "execution_count": 4,
   "metadata": {},
   "outputs": [
    {
     "data": {
      "text/html": [
       "<div>\n",
       "<style scoped>\n",
       "    .dataframe tbody tr th:only-of-type {\n",
       "        vertical-align: middle;\n",
       "    }\n",
       "\n",
       "    .dataframe tbody tr th {\n",
       "        vertical-align: top;\n",
       "    }\n",
       "\n",
       "    .dataframe thead th {\n",
       "        text-align: right;\n",
       "    }\n",
       "</style>\n",
       "<table border=\"1\" class=\"dataframe\">\n",
       "  <thead>\n",
       "    <tr style=\"text-align: right;\">\n",
       "      <th></th>\n",
       "      <th>age</th>\n",
       "      <th>bmi</th>\n",
       "      <th>children</th>\n",
       "      <th>charges</th>\n",
       "    </tr>\n",
       "  </thead>\n",
       "  <tbody>\n",
       "    <tr>\n",
       "      <th>count</th>\n",
       "      <td>1338.000000</td>\n",
       "      <td>1338.000000</td>\n",
       "      <td>1338.000000</td>\n",
       "      <td>1338.000000</td>\n",
       "    </tr>\n",
       "    <tr>\n",
       "      <th>mean</th>\n",
       "      <td>39.207025</td>\n",
       "      <td>30.663397</td>\n",
       "      <td>1.094918</td>\n",
       "      <td>13270.422265</td>\n",
       "    </tr>\n",
       "    <tr>\n",
       "      <th>std</th>\n",
       "      <td>14.049960</td>\n",
       "      <td>6.098187</td>\n",
       "      <td>1.205493</td>\n",
       "      <td>12110.011237</td>\n",
       "    </tr>\n",
       "    <tr>\n",
       "      <th>min</th>\n",
       "      <td>18.000000</td>\n",
       "      <td>15.960000</td>\n",
       "      <td>0.000000</td>\n",
       "      <td>1121.873900</td>\n",
       "    </tr>\n",
       "    <tr>\n",
       "      <th>25%</th>\n",
       "      <td>27.000000</td>\n",
       "      <td>26.296250</td>\n",
       "      <td>0.000000</td>\n",
       "      <td>4740.287150</td>\n",
       "    </tr>\n",
       "    <tr>\n",
       "      <th>50%</th>\n",
       "      <td>39.000000</td>\n",
       "      <td>30.400000</td>\n",
       "      <td>1.000000</td>\n",
       "      <td>9382.033000</td>\n",
       "    </tr>\n",
       "    <tr>\n",
       "      <th>75%</th>\n",
       "      <td>51.000000</td>\n",
       "      <td>34.693750</td>\n",
       "      <td>2.000000</td>\n",
       "      <td>16639.912515</td>\n",
       "    </tr>\n",
       "    <tr>\n",
       "      <th>max</th>\n",
       "      <td>64.000000</td>\n",
       "      <td>53.130000</td>\n",
       "      <td>5.000000</td>\n",
       "      <td>63770.428010</td>\n",
       "    </tr>\n",
       "  </tbody>\n",
       "</table>\n",
       "</div>"
      ],
      "text/plain": [
       "               age          bmi     children       charges\n",
       "count  1338.000000  1338.000000  1338.000000   1338.000000\n",
       "mean     39.207025    30.663397     1.094918  13270.422265\n",
       "std      14.049960     6.098187     1.205493  12110.011237\n",
       "min      18.000000    15.960000     0.000000   1121.873900\n",
       "25%      27.000000    26.296250     0.000000   4740.287150\n",
       "50%      39.000000    30.400000     1.000000   9382.033000\n",
       "75%      51.000000    34.693750     2.000000  16639.912515\n",
       "max      64.000000    53.130000     5.000000  63770.428010"
      ]
     },
     "execution_count": 4,
     "metadata": {},
     "output_type": "execute_result"
    }
   ],
   "source": [
    "data.describe()"
   ]
  },
  {
   "cell_type": "markdown",
   "metadata": {},
   "source": [
    "## Preprocess Data"
   ]
  },
  {
   "cell_type": "markdown",
   "metadata": {},
   "source": [
    "__The purpose of the following preprocessing is to demonstrate that the employed method is functioning correctly. However, while building regression models, the training and testing datasets are standardised separately to prevent data leakage.__"
   ]
  },
  {
   "cell_type": "code",
   "execution_count": 5,
   "metadata": {},
   "outputs": [],
   "source": [
    "column_names = list(data.columns)\n",
    "standardize = lambda x : (x - x.mean()) / x.std() "
   ]
  },
  {
   "cell_type": "markdown",
   "metadata": {},
   "source": [
    "__Standardize Data__"
   ]
  },
  {
   "cell_type": "code",
   "execution_count": 6,
   "metadata": {},
   "outputs": [],
   "source": [
    "for column in column_names:\n",
    "    data[column] = standardize(data[column])"
   ]
  },
  {
   "cell_type": "code",
   "execution_count": 7,
   "metadata": {},
   "outputs": [
    {
     "data": {
      "text/plain": [
       "age        -1.246304e-16\n",
       "bmi        -1.810543e-16\n",
       "children   -3.116590e-16\n",
       "charges    -7.218939e-17\n",
       "dtype: float64"
      ]
     },
     "execution_count": 7,
     "metadata": {},
     "output_type": "execute_result"
    }
   ],
   "source": [
    "data.mean()"
   ]
  },
  {
   "cell_type": "markdown",
   "metadata": {},
   "source": [
    "Although standardised mean should be equal to 0, in reality they are infinitesimally close to zero. Double precision floats have 53 bits or 16 digits of precision, so this is expected behavior."
   ]
  },
  {
   "cell_type": "code",
   "execution_count": 8,
   "metadata": {},
   "outputs": [
    {
     "data": {
      "text/plain": [
       "age         1.0\n",
       "bmi         1.0\n",
       "children    1.0\n",
       "charges     1.0\n",
       "dtype: float64"
      ]
     },
     "execution_count": 8,
     "metadata": {},
     "output_type": "execute_result"
    }
   ],
   "source": [
    "data.std()"
   ]
  },
  {
   "cell_type": "code",
   "execution_count": 9,
   "metadata": {},
   "outputs": [],
   "source": [
    "x1, x2, x3, y = data[\"age\"], data[\"bmi\"], data[\"children\"], data[\"charges\"]"
   ]
  },
  {
   "cell_type": "markdown",
   "metadata": {},
   "source": [
    "## Visualize Data"
   ]
  },
  {
   "cell_type": "code",
   "execution_count": 10,
   "metadata": {},
   "outputs": [
    {
     "data": {
      "image/png": "[encoded data removed]",
      "text/plain": [
       "<Figure size 432x288 with 1 Axes>"
      ]
     },
     "metadata": {
      "needs_background": "light"
     },
     "output_type": "display_data"
    }
   ],
   "source": [
    "plt.scatter(x1, y)\n",
    "plt.xlabel(\"Age\")\n",
    "plt.ylabel(\"Charges\");"
   ]
  },
  {
   "cell_type": "code",
   "execution_count": 11,
   "metadata": {},
   "outputs": [
    {
     "data": {
      "image/png": "[encoded data removed]",
      "text/plain": [
       "<Figure size 432x288 with 1 Axes>"
      ]
     },
     "metadata": {
      "needs_background": "light"
     },
     "output_type": "display_data"
    }
   ],
   "source": [
    "plt.scatter(x2, y)\n",
    "plt.xlabel(\"BMI\")\n",
    "plt.ylabel(\"Charges\");"
   ]
  },
  {
   "cell_type": "code",
   "execution_count": 12,
   "metadata": {},
   "outputs": [
    {
     "data": {
      "image/png": "[encoded data removed]",
      "text/plain": [
       "<Figure size 432x288 with 1 Axes>"
      ]
     },
     "metadata": {
      "needs_background": "light"
     },
     "output_type": "display_data"
    }
   ],
   "source": [
    "plt.scatter(x3, y)\n",
    "plt.xlabel(\"Children\")\n",
    "plt.ylabel(\"Charges\");"
   ]
  },
  {
   "cell_type": "markdown",
   "metadata": {},
   "source": [
    "## Build Regression Models"
   ]
  },
  {
   "cell_type": "markdown",
   "metadata": {},
   "source": [
    "$y = w_{0} + w_{1}x_{1} + w_{2}x_{2} + w_{3}x_{3}$"
   ]
  },
  {
   "cell_type": "markdown",
   "metadata": {},
   "source": [
    "$x_{1}, x_{2}, x_{3}$ represent the age, bmi and number of children respectively. $ w_{1},w_{2}, w_{3}$ are weights associated with $x_{1}, x_{2}, x_{3}$."
   ]
  },
  {
   "cell_type": "markdown",
   "metadata": {},
   "source": [
    "$$X = \n",
    "\\begin{bmatrix} \n",
    "1 & x_{11} & x_{12} & x_{13}\\\\\n",
    "1 & x_{21} & x_{22} & x_{23}\\\\\n",
    ". & . & . & . \\\\\n",
    ". & . & . & . \\\\\n",
    "1 & x_{m1} & x_{m2} & x_{m3}\\\\\n",
    "\\end{bmatrix}\n",
    "\\quad\n",
    "$$\n",
    "$$ $$\n",
    "$$Y = \n",
    "\\begin{bmatrix} \n",
    "y_{1}\\\\\n",
    "y_{2}\\\\\n",
    ".\\\\\n",
    ".\\\\\n",
    "y_{m}\\\\\n",
    "\\end{bmatrix}\n",
    "\\quad\n",
    "$$ where $m$ = size of training data\n",
    "$$ $$\n",
    "$$ω = \n",
    "\\begin{bmatrix} \n",
    "ω_{0}\\\\\n",
    "ω_{1}\\\\\n",
    "ω_{2}\\\\\n",
    "ω_{3}\\\\\n",
    "\\end{bmatrix}\n",
    "\\quad\n",
    "$$\n",
    "$$ $$\n",
    "$$b = X^{T} . Y$$"
   ]
  },
  {
   "cell_type": "markdown",
   "metadata": {},
   "source": [
    "$$ ω = (X^{T}.X)^{-1}x^{T}.Y = (X^{T}.X)^{-1}.b$$"
   ]
  },
  {
   "cell_type": "markdown",
   "metadata": {},
   "source": [
    "__Re-importing Unprocessed Data__"
   ]
  },
  {
   "cell_type": "code",
   "execution_count": 13,
   "metadata": {},
   "outputs": [],
   "source": [
    "data = pd.read_csv(\"insurance.txt\")\n",
    "pd.options.mode.chained_assignment = None"
   ]
  },
  {
   "cell_type": "code",
   "execution_count": 14,
   "metadata": {},
   "outputs": [],
   "source": [
    "class LinearRegressionNE:\n",
    "    def __init__(self, data):\n",
    "        self.data = data\n",
    "        self.models = pd.DataFrame(columns = [\"w0\", \"w1\", \"w2\", \"w3\", \"testing_error\", \"training_error\"])\n",
    "        self.model = np.zeros((4, 1))\n",
    "        self.min_error = float(\"inf\")\n",
    "        self.buildModels()\n",
    "    \n",
    "    # shuffles data randomly\n",
    "    def __shuffle(self):\n",
    "        self.data = self.data.sample(frac = 1)\n",
    "    \n",
    "    # splits a data frame in 70:30 ratio\n",
    "    def __split(self):\n",
    "        train = self.data[:int(0.7 * len(data))]\n",
    "        test = self.data[int(0.7 * len(data)):]\n",
    "        return train, test\n",
    "    \n",
    "    # standardizes data\n",
    "    def __standardize(self, data):\n",
    "        column_names = list(data.columns)\n",
    "        standardize = lambda x : (x - x.mean()) / x.std()\n",
    "        for column in column_names:\n",
    "            data[column] = standardize(data[column])\n",
    "        return data\n",
    "    \n",
    "    # computes and returns X and Y matrices\n",
    "    def __matrices(self, train):\n",
    "        x1, x2, x3, y = train[\"age\"], train[\"bmi\"], train[\"children\"], train[\"charges\"]\n",
    "        x1 = np.array(x1)\n",
    "        x2 = np.array(x2)\n",
    "        x3 = np.array(x3)\n",
    "        Y = np.array(y)\n",
    "        n = len(Y)\n",
    "        Y = Y.reshape((n, 1))\n",
    "        x0 = np.ones((n,1))\n",
    "        x1 = np.reshape(x1, (n, 1))\n",
    "        x2 = np.reshape(x2, (n, 1))\n",
    "        x3 = np.reshape(x3, (n, 1))\n",
    "        X = np.append(x0, x1, axis=1)\n",
    "        X = np.append(X, x2, axis=1)\n",
    "        X = np.append(X, x3, axis=1)\n",
    "        return X, Y\n",
    "    \n",
    "    # calculates Mean Square Error\n",
    "    def __error(self, X, Y, w):\n",
    "        Y_pred = np.dot(X, w)\n",
    "        mse = (1/2) * np.average((Y_pred-Y)**2)\n",
    "        return float(mse)\n",
    "    \n",
    "    # tests the model against testing data\n",
    "    def __testModel(self, test, w):\n",
    "        Xt, Yt = self.__matrices(test)\n",
    "        testing_error = self.__error(Xt, Yt, w)\n",
    "        return testing_error\n",
    "    \n",
    "    # main function to build models\n",
    "    def buildModels(self, number = 20):\n",
    "        for i in range(number):\n",
    "            # shuffle dataset\n",
    "            self.__shuffle()\n",
    "            # split dataset\n",
    "            train, test = self.__split()\n",
    "            # standardise training and testing data\n",
    "            train = self.__standardize(train)\n",
    "            test = self.__standardize(test)\n",
    "            # obtain X and Y matrices\n",
    "            X, Y = self.__matrices(train)\n",
    "            # obtain the best-fit model weights\n",
    "            w = self.__solve(X, Y)\n",
    "            # calculate training error\n",
    "            training_error = self.__error(X, Y, w)\n",
    "            # calculate testing error\n",
    "            testing_error = self.__testModel(test, w)\n",
    "            # append the model, errors to models dataframe\n",
    "            model = list(w)\n",
    "            model.append(testing_error)\n",
    "            model.append(training_error)\n",
    "            model = pd.Series(model, index = self.models.columns)\n",
    "            # the model with least testing error is accepted as the final model\n",
    "            self.models = self.models.append(model, ignore_index=True)\n",
    "            if self.min_error > testing_error:\n",
    "                self.min_error = testing_error\n",
    "                self.model = w\n",
    "\n",
    "    #_____________________________________________________________________#           \n",
    "    # solves normal equations and returns corresponding regression weights\n",
    "    def __solve(self, X, Y):\n",
    "        XT = np.transpose(X)\n",
    "        A = XT.dot(X)\n",
    "        A_inv = np.linalg.inv(A)\n",
    "        b = XT.dot(Y)\n",
    "        w = A_inv.dot(b)\n",
    "        return w\n",
    "    #_____________________________________________________________________#"
   ]
  },
  {
   "cell_type": "markdown",
   "metadata": {},
   "source": [
    "__20 Linear Regression Models__"
   ]
  },
  {
   "cell_type": "code",
   "execution_count": 15,
   "metadata": {},
   "outputs": [
    {
     "data": {
      "text/html": [
       "<div>\n",
       "<style scoped>\n",
       "    .dataframe tbody tr th:only-of-type {\n",
       "        vertical-align: middle;\n",
       "    }\n",
       "\n",
       "    .dataframe tbody tr th {\n",
       "        vertical-align: top;\n",
       "    }\n",
       "\n",
       "    .dataframe thead th {\n",
       "        text-align: right;\n",
       "    }\n",
       "</style>\n",
       "<table border=\"1\" class=\"dataframe\">\n",
       "  <thead>\n",
       "    <tr style=\"text-align: right;\">\n",
       "      <th></th>\n",
       "      <th>w0</th>\n",
       "      <th>w1</th>\n",
       "      <th>w2</th>\n",
       "      <th>w3</th>\n",
       "      <th>testing_error</th>\n",
       "      <th>training_error</th>\n",
       "    </tr>\n",
       "  </thead>\n",
       "  <tbody>\n",
       "    <tr>\n",
       "      <th>0</th>\n",
       "      <td>[-1.6644339610682954e-16]</td>\n",
       "      <td>[0.30129949645932597]</td>\n",
       "      <td>[0.1854497737831175]</td>\n",
       "      <td>[0.0255000465832643]</td>\n",
       "      <td>0.467203</td>\n",
       "      <td>0.430174</td>\n",
       "    </tr>\n",
       "    <tr>\n",
       "      <th>1</th>\n",
       "      <td>[5.988829953248174e-18]</td>\n",
       "      <td>[0.29127578548400374]</td>\n",
       "      <td>[0.11995105299189263]</td>\n",
       "      <td>[0.10411440370945722]</td>\n",
       "      <td>0.449835</td>\n",
       "      <td>0.438739</td>\n",
       "    </tr>\n",
       "    <tr>\n",
       "      <th>2</th>\n",
       "      <td>[-7.609399595181167e-18]</td>\n",
       "      <td>[0.2709194960989275]</td>\n",
       "      <td>[0.1848947274916516]</td>\n",
       "      <td>[0.03743922940994991]</td>\n",
       "      <td>0.448474</td>\n",
       "      <td>0.437455</td>\n",
       "    </tr>\n",
       "    <tr>\n",
       "      <th>3</th>\n",
       "      <td>[-5.115373834742053e-17]</td>\n",
       "      <td>[0.28240060717554044]</td>\n",
       "      <td>[0.16864807667258386]</td>\n",
       "      <td>[0.05059261791549355]</td>\n",
       "      <td>0.444930</td>\n",
       "      <td>0.438049</td>\n",
       "    </tr>\n",
       "    <tr>\n",
       "      <th>4</th>\n",
       "      <td>[-2.3826735193306947e-17]</td>\n",
       "      <td>[0.26721656696500345]</td>\n",
       "      <td>[0.15546025211677567]</td>\n",
       "      <td>[0.034344483822252]</td>\n",
       "      <td>0.424080</td>\n",
       "      <td>0.447544</td>\n",
       "    </tr>\n",
       "    <tr>\n",
       "      <th>5</th>\n",
       "      <td>[-9.886033207740174e-17]</td>\n",
       "      <td>[0.27146383358135473]</td>\n",
       "      <td>[0.1814694164858694]</td>\n",
       "      <td>[0.054279009259675735]</td>\n",
       "      <td>0.441752</td>\n",
       "      <td>0.440187</td>\n",
       "    </tr>\n",
       "    <tr>\n",
       "      <th>6</th>\n",
       "      <td>[-4.564963432958722e-18]</td>\n",
       "      <td>[0.2568817921535577]</td>\n",
       "      <td>[0.17868026693902725]</td>\n",
       "      <td>[0.06014338654004174]</td>\n",
       "      <td>0.437467</td>\n",
       "      <td>0.442936</td>\n",
       "    </tr>\n",
       "    <tr>\n",
       "      <th>7</th>\n",
       "      <td>[-2.90676465521033e-17]</td>\n",
       "      <td>[0.2908155440377612]</td>\n",
       "      <td>[0.15202203292511085]</td>\n",
       "      <td>[0.035871763193301175]</td>\n",
       "      <td>0.449314</td>\n",
       "      <td>0.438379</td>\n",
       "    </tr>\n",
       "    <tr>\n",
       "      <th>8</th>\n",
       "      <td>[-2.7263416873878178e-17]</td>\n",
       "      <td>[0.291309969094549]</td>\n",
       "      <td>[0.16743002262202816]</td>\n",
       "      <td>[0.09356400137541533]</td>\n",
       "      <td>0.461902</td>\n",
       "      <td>0.433047</td>\n",
       "    </tr>\n",
       "    <tr>\n",
       "      <th>9</th>\n",
       "      <td>[-4.466863376730421e-17]</td>\n",
       "      <td>[0.22153789021203274]</td>\n",
       "      <td>[0.1924377735054202]</td>\n",
       "      <td>[0.030571396807272753]</td>\n",
       "      <td>0.421364</td>\n",
       "      <td>0.451258</td>\n",
       "    </tr>\n",
       "    <tr>\n",
       "      <th>10</th>\n",
       "      <td>[1.113112631916552e-17]</td>\n",
       "      <td>[0.30379876046750703]</td>\n",
       "      <td>[0.1504902430623267]</td>\n",
       "      <td>[0.03918685091518301]</td>\n",
       "      <td>0.448661</td>\n",
       "      <td>0.436129</td>\n",
       "    </tr>\n",
       "    <tr>\n",
       "      <th>11</th>\n",
       "      <td>[3.965933500974902e-17]</td>\n",
       "      <td>[0.2767529241395408]</td>\n",
       "      <td>[0.1581517099202101]</td>\n",
       "      <td>[0.04944281551348162]</td>\n",
       "      <td>0.436009</td>\n",
       "      <td>0.441315</td>\n",
       "    </tr>\n",
       "    <tr>\n",
       "      <th>12</th>\n",
       "      <td>[4.926633987342713e-17]</td>\n",
       "      <td>[0.27164588595100386]</td>\n",
       "      <td>[0.1748441069755843]</td>\n",
       "      <td>[0.04475496311279468]</td>\n",
       "      <td>0.440968</td>\n",
       "      <td>0.439712</td>\n",
       "    </tr>\n",
       "    <tr>\n",
       "      <th>13</th>\n",
       "      <td>[-3.922639632241325e-17]</td>\n",
       "      <td>[0.260703621076054]</td>\n",
       "      <td>[0.17127584590759987]</td>\n",
       "      <td>[0.051745001798853725]</td>\n",
       "      <td>0.431861</td>\n",
       "      <td>0.443888</td>\n",
       "    </tr>\n",
       "    <tr>\n",
       "      <th>14</th>\n",
       "      <td>[5.294861839622562e-17]</td>\n",
       "      <td>[0.28663230730883643]</td>\n",
       "      <td>[0.16352433087537266]</td>\n",
       "      <td>[0.07100574950972445]</td>\n",
       "      <td>0.450115</td>\n",
       "      <td>0.436123</td>\n",
       "    </tr>\n",
       "    <tr>\n",
       "      <th>15</th>\n",
       "      <td>[-1.0328496263646251e-17]</td>\n",
       "      <td>[0.26867383271873535]</td>\n",
       "      <td>[0.1765264934356055]</td>\n",
       "      <td>[0.03485569929758501]</td>\n",
       "      <td>0.435873</td>\n",
       "      <td>0.442649</td>\n",
       "    </tr>\n",
       "    <tr>\n",
       "      <th>16</th>\n",
       "      <td>[-7.403137555581063e-17]</td>\n",
       "      <td>[0.28718216915572514]</td>\n",
       "      <td>[0.14031657160323144]</td>\n",
       "      <td>[0.03162810200374333]</td>\n",
       "      <td>0.436399</td>\n",
       "      <td>0.443341</td>\n",
       "    </tr>\n",
       "    <tr>\n",
       "      <th>17</th>\n",
       "      <td>[-8.437346420305964e-17]</td>\n",
       "      <td>[0.27108398162925407]</td>\n",
       "      <td>[0.14669510127088686]</td>\n",
       "      <td>[0.04469334033758029]</td>\n",
       "      <td>0.428309</td>\n",
       "      <td>0.446931</td>\n",
       "    </tr>\n",
       "    <tr>\n",
       "      <th>18</th>\n",
       "      <td>[-1.8120132008484282e-17]</td>\n",
       "      <td>[0.27983886674537095]</td>\n",
       "      <td>[0.15898724746904178]</td>\n",
       "      <td>[0.040475727879044465]</td>\n",
       "      <td>0.443528</td>\n",
       "      <td>0.440302</td>\n",
       "    </tr>\n",
       "    <tr>\n",
       "      <th>19</th>\n",
       "      <td>[-5.970805838743272e-17]</td>\n",
       "      <td>[0.2636521888860577]</td>\n",
       "      <td>[0.15090825711090008]</td>\n",
       "      <td>[0.04866148471493542]</td>\n",
       "      <td>0.430125</td>\n",
       "      <td>0.447914</td>\n",
       "    </tr>\n",
       "  </tbody>\n",
       "</table>\n",
       "</div>"
      ],
      "text/plain": [
       "                           w0                     w1                     w2  \\\n",
       "0   [-1.6644339610682954e-16]  [0.30129949645932597]   [0.1854497737831175]   \n",
       "1     [5.988829953248174e-18]  [0.29127578548400374]  [0.11995105299189263]   \n",
       "2    [-7.609399595181167e-18]   [0.2709194960989275]   [0.1848947274916516]   \n",
       "3    [-5.115373834742053e-17]  [0.28240060717554044]  [0.16864807667258386]   \n",
       "4   [-2.3826735193306947e-17]  [0.26721656696500345]  [0.15546025211677567]   \n",
       "5    [-9.886033207740174e-17]  [0.27146383358135473]   [0.1814694164858694]   \n",
       "6    [-4.564963432958722e-18]   [0.2568817921535577]  [0.17868026693902725]   \n",
       "7     [-2.90676465521033e-17]   [0.2908155440377612]  [0.15202203292511085]   \n",
       "8   [-2.7263416873878178e-17]    [0.291309969094549]  [0.16743002262202816]   \n",
       "9    [-4.466863376730421e-17]  [0.22153789021203274]   [0.1924377735054202]   \n",
       "10    [1.113112631916552e-17]  [0.30379876046750703]   [0.1504902430623267]   \n",
       "11    [3.965933500974902e-17]   [0.2767529241395408]   [0.1581517099202101]   \n",
       "12    [4.926633987342713e-17]  [0.27164588595100386]   [0.1748441069755843]   \n",
       "13   [-3.922639632241325e-17]    [0.260703621076054]  [0.17127584590759987]   \n",
       "14    [5.294861839622562e-17]  [0.28663230730883643]  [0.16352433087537266]   \n",
       "15  [-1.0328496263646251e-17]  [0.26867383271873535]   [0.1765264934356055]   \n",
       "16   [-7.403137555581063e-17]  [0.28718216915572514]  [0.14031657160323144]   \n",
       "17   [-8.437346420305964e-17]  [0.27108398162925407]  [0.14669510127088686]   \n",
       "18  [-1.8120132008484282e-17]  [0.27983886674537095]  [0.15898724746904178]   \n",
       "19   [-5.970805838743272e-17]   [0.2636521888860577]  [0.15090825711090008]   \n",
       "\n",
       "                        w3  testing_error  training_error  \n",
       "0     [0.0255000465832643]       0.467203        0.430174  \n",
       "1    [0.10411440370945722]       0.449835        0.438739  \n",
       "2    [0.03743922940994991]       0.448474        0.437455  \n",
       "3    [0.05059261791549355]       0.444930        0.438049  \n",
       "4      [0.034344483822252]       0.424080        0.447544  \n",
       "5   [0.054279009259675735]       0.441752        0.440187  \n",
       "6    [0.06014338654004174]       0.437467        0.442936  \n",
       "7   [0.035871763193301175]       0.449314        0.438379  \n",
       "8    [0.09356400137541533]       0.461902        0.433047  \n",
       "9   [0.030571396807272753]       0.421364        0.451258  \n",
       "10   [0.03918685091518301]       0.448661        0.436129  \n",
       "11   [0.04944281551348162]       0.436009        0.441315  \n",
       "12   [0.04475496311279468]       0.440968        0.439712  \n",
       "13  [0.051745001798853725]       0.431861        0.443888  \n",
       "14   [0.07100574950972445]       0.450115        0.436123  \n",
       "15   [0.03485569929758501]       0.435873        0.442649  \n",
       "16   [0.03162810200374333]       0.436399        0.443341  \n",
       "17   [0.04469334033758029]       0.428309        0.446931  \n",
       "18  [0.040475727879044465]       0.443528        0.440302  \n",
       "19   [0.04866148471493542]       0.430125        0.447914  "
      ]
     },
     "execution_count": 15,
     "metadata": {},
     "output_type": "execute_result"
    }
   ],
   "source": [
    "final_modelNE = LinearRegressionNE(data)\n",
    "final_modelNE.models"
   ]
  },
  {
   "cell_type": "markdown",
   "metadata": {},
   "source": [
    "$$Mean Square Error$$\n",
    "$$\n",
    "E(ω) = \n",
    "\\begin{equation}\n",
    "\\frac{1}{2} * \\frac{1}{N} * \\sum_{n=0}^{N} (x_{n}*ω - y_{n})^{2} \n",
    "\\end{equation}\n",
    "$$\n"
   ]
  },
  {
   "cell_type": "code",
   "execution_count": 16,
   "metadata": {},
   "outputs": [
    {
     "data": {
      "text/html": [
       "<div>\n",
       "<style scoped>\n",
       "    .dataframe tbody tr th:only-of-type {\n",
       "        vertical-align: middle;\n",
       "    }\n",
       "\n",
       "    .dataframe tbody tr th {\n",
       "        vertical-align: top;\n",
       "    }\n",
       "\n",
       "    .dataframe thead th {\n",
       "        text-align: right;\n",
       "    }\n",
       "</style>\n",
       "<table border=\"1\" class=\"dataframe\">\n",
       "  <thead>\n",
       "    <tr style=\"text-align: right;\">\n",
       "      <th></th>\n",
       "      <th>testing_error</th>\n",
       "      <th>training_error</th>\n",
       "    </tr>\n",
       "  </thead>\n",
       "  <tbody>\n",
       "    <tr>\n",
       "      <th>count</th>\n",
       "      <td>20.000000</td>\n",
       "      <td>20.000000</td>\n",
       "    </tr>\n",
       "    <tr>\n",
       "      <th>mean</th>\n",
       "      <td>0.441408</td>\n",
       "      <td>0.440803</td>\n",
       "    </tr>\n",
       "    <tr>\n",
       "      <th>std</th>\n",
       "      <td>0.011714</td>\n",
       "      <td>0.005205</td>\n",
       "    </tr>\n",
       "    <tr>\n",
       "      <th>min</th>\n",
       "      <td>0.421364</td>\n",
       "      <td>0.430174</td>\n",
       "    </tr>\n",
       "    <tr>\n",
       "      <th>25%</th>\n",
       "      <td>0.434870</td>\n",
       "      <td>0.437900</td>\n",
       "    </tr>\n",
       "    <tr>\n",
       "      <th>50%</th>\n",
       "      <td>0.441360</td>\n",
       "      <td>0.440244</td>\n",
       "    </tr>\n",
       "    <tr>\n",
       "      <th>75%</th>\n",
       "      <td>0.448824</td>\n",
       "      <td>0.443478</td>\n",
       "    </tr>\n",
       "    <tr>\n",
       "      <th>max</th>\n",
       "      <td>0.467203</td>\n",
       "      <td>0.451258</td>\n",
       "    </tr>\n",
       "  </tbody>\n",
       "</table>\n",
       "</div>"
      ],
      "text/plain": [
       "       testing_error  training_error\n",
       "count      20.000000       20.000000\n",
       "mean        0.441408        0.440803\n",
       "std         0.011714        0.005205\n",
       "min         0.421364        0.430174\n",
       "25%         0.434870        0.437900\n",
       "50%         0.441360        0.440244\n",
       "75%         0.448824        0.443478\n",
       "max         0.467203        0.451258"
      ]
     },
     "execution_count": 16,
     "metadata": {},
     "output_type": "execute_result"
    }
   ],
   "source": [
    "final_modelNE.models.describe()"
   ]
  },
  {
   "cell_type": "code",
   "execution_count": 17,
   "metadata": {},
   "outputs": [
    {
     "name": "stdout",
     "output_type": "stream",
     "text": [
      "Mean of testing error obtained over 20 regression models = 0.44140832620071563\n"
     ]
    }
   ],
   "source": [
    "print(f\"Mean of testing error obtained over 20 regression models = {final_modelNE.models.testing_error.mean()}\")"
   ]
  },
  {
   "cell_type": "code",
   "execution_count": 18,
   "metadata": {},
   "outputs": [
    {
     "name": "stdout",
     "output_type": "stream",
     "text": [
      "Variance of testing error obtained over 20 regression models = 0.00013720677321985494\n"
     ]
    }
   ],
   "source": [
    "print(f\"Variance of testing error obtained over 20 regression models = {final_modelNE.models.testing_error.var()}\")"
   ]
  },
  {
   "cell_type": "code",
   "execution_count": 19,
   "metadata": {},
   "outputs": [
    {
     "name": "stdout",
     "output_type": "stream",
     "text": [
      "Minimum testing error obtained over 20 regression models = 0.42136371863997374\n"
     ]
    }
   ],
   "source": [
    "print(f\"Minimum testing error obtained over 20 regression models = {final_modelNE.models.testing_error.min()}\")"
   ]
  },
  {
   "cell_type": "code",
   "execution_count": 20,
   "metadata": {},
   "outputs": [
    {
     "name": "stdout",
     "output_type": "stream",
     "text": [
      "Minimum training error obtained over 20 regression models = 0.4301738357582889\n"
     ]
    }
   ],
   "source": [
    "print(f\"Minimum training error obtained over 20 regression models = {final_modelNE.models.training_error.min()}\")"
   ]
  },
  {
   "cell_type": "markdown",
   "metadata": {},
   "source": [
    "-------------------------------------------------------------------------------------------------------------------------------"
   ]
  },
  {
   "cell_type": "markdown",
   "metadata": {},
   "source": [
    "# Linear Regression Gradient Descent"
   ]
  },
  {
   "cell_type": "markdown",
   "metadata": {},
   "source": [
    "$$\n",
    "E(ω) = \n",
    "\\begin{equation}\n",
    "\\frac{1}{2} * \\frac{1}{N} * \\sum_{n=0}^{N} (x_{n}*ω - y_{n})^{2} \n",
    "\\end{equation}\n",
    "$$\n",
    "$$ $$\n",
    "$$ \n",
    "\\begin{equation}\n",
    "\\frac{\\partial E(ω)}{\\partial ω} = \\frac{1}{N}*(X.ω - Y).X\n",
    "\\end{equation}\n",
    "$$\n",
    "$$ $$\n",
    "$$\n",
    "ω = ω - η * \\frac{\\partial E(ω)}{\\partial ω}\n",
    "$$"
   ]
  },
  {
   "cell_type": "code",
   "execution_count": 21,
   "metadata": {},
   "outputs": [],
   "source": [
    "data = pd.read_csv(\"insurance.txt\")"
   ]
  },
  {
   "cell_type": "code",
   "execution_count": 22,
   "metadata": {},
   "outputs": [],
   "source": [
    "class LinearRegressionGD:\n",
    "    def __init__(self, data):\n",
    "        self.data = data\n",
    "        self.errors = []\n",
    "        self.models = pd.DataFrame(columns = [\"w0\", \"w1\", \"w2\", \"w3\", \"testing_error\", \"training_error\", \"iterations\"])\n",
    "    \n",
    "    # shuffles data randomly\n",
    "    def __shuffle(self):\n",
    "        self.data = self.data.sample(frac = 1)\n",
    "    \n",
    "    # splits a data frame in 70:30 ratio\n",
    "    def __split(self):\n",
    "        train = self.data[:int(0.7 * len(data))]\n",
    "        test = self.data[int(0.7 * len(data)):]\n",
    "        return train, test\n",
    "    \n",
    "    # standardizes data\n",
    "    def __standardize(self, data):\n",
    "        column_names = list(data.columns)\n",
    "        standardize = lambda x : (x - x.mean()) / x.std()\n",
    "        for column in column_names:\n",
    "            data[column] = standardize(data[column])\n",
    "        return data\n",
    "    \n",
    "    # computes and returns X and Y matrices\n",
    "    def __matrices(self, train):\n",
    "        x1, x2, x3, y = train[\"age\"], train[\"bmi\"], train[\"children\"], train[\"charges\"]\n",
    "        x1 = np.array(x1)\n",
    "        x2 = np.array(x2)\n",
    "        x3 = np.array(x3)\n",
    "        Y = np.array(y)\n",
    "        n = len(Y)\n",
    "        Y = Y.reshape(n, 1)\n",
    "        x0 = np.ones((n,1))\n",
    "        x1 = np.reshape(x1, (n, 1))\n",
    "        x2 = np.reshape(x2, (n, 1))\n",
    "        x3 = np.reshape(x3, (n, 1))\n",
    "        X = np.append(x0, x1, axis=1)\n",
    "        X = np.append(X, x2, axis=1)\n",
    "        X = np.append(X, x3, axis=1)\n",
    "        return X, Y\n",
    "    \n",
    "    # calculates Mean Square Error\n",
    "    def __error(self, X, Y, w):\n",
    "        Y_pred = np.dot(X, w)\n",
    "        mse = (1/2) * np.average((Y_pred-Y)**2)\n",
    "        return float(mse)\n",
    "    \n",
    "    # tests the model against testing data\n",
    "    def __testModel(self, test, w):\n",
    "        Xt, Yt = self.__matrices(test)\n",
    "        testing_error = self.__error(Xt, Yt, w)\n",
    "        return testing_error\n",
    "    \n",
    "    # main function to build models\n",
    "    def buildModels(self, number = 20):\n",
    "        for i in range(number):\n",
    "            # shuffle dataset\n",
    "            self.__shuffle()\n",
    "            # split dataset\n",
    "            train, test = self.__split()\n",
    "            # standardise training and testing data\n",
    "            train = self.__standardize(train)\n",
    "            test = self.__standardize(test)\n",
    "            # obtain X and Y matrices\n",
    "            X, Y = self.__matrices(train)\n",
    "            # obtain the best-fit model weights\n",
    "            w = np.random.rand(4, 1)\n",
    "            w, model_errors , iterations = self.__gradientDescent(X, Y, w)\n",
    "            # calculate training error\n",
    "            training_error = self.__error(X, Y, w)\n",
    "            # calculate testing error\n",
    "            testing_error = self.__testModel(test, w)\n",
    "            # append the model, errors to models dataframe\n",
    "            model = list(w)\n",
    "            model.append(testing_error)\n",
    "            model.append(training_error)\n",
    "            model.append(iterations)\n",
    "            model = pd.Series(model, index = self.models.columns)\n",
    "            # the model with least testing error is accepted as the final model\n",
    "            self.models = self.models.append(model, ignore_index=True)\n",
    "            self.errors.append(model_errors)\n",
    "    #___________________________________________________________#\n",
    "    # Implements Gradient Descent Algorithm\n",
    "    def __gradientDescent(self, X, Y, w):\n",
    "        learning_rate = 1e-5\n",
    "        m, i = len(Y), 1\n",
    "        errors = []\n",
    "        error, prev_error = float(\"inf\"), 0\n",
    "        while abs(prev_error-error) > 1e-7:\n",
    "            prev_error = error\n",
    "            Y_pred = X.dot(w)\n",
    "            gradient = (1/m) * np.dot(X.transpose(), Y_pred- Y)\n",
    "            w -= learning_rate * gradient\n",
    "            error = self.__error(X, Y, w)\n",
    "            errors.append(error)\n",
    "            i+=1\n",
    "        return w, errors, i\n",
    "    #___________________________________________________________#"
   ]
  },
  {
   "cell_type": "code",
   "execution_count": 23,
   "metadata": {},
   "outputs": [],
   "source": [
    "final_modelGD = LinearRegressionGD(data)\n",
    "final_modelGD.buildModels(20)"
   ]
  },
  {
   "cell_type": "markdown",
   "metadata": {},
   "source": [
    "__20 Regression Models__"
   ]
  },
  {
   "cell_type": "code",
   "execution_count": 24,
   "metadata": {},
   "outputs": [
    {
     "data": {
      "text/html": [
       "<div>\n",
       "<style scoped>\n",
       "    .dataframe tbody tr th:only-of-type {\n",
       "        vertical-align: middle;\n",
       "    }\n",
       "\n",
       "    .dataframe tbody tr th {\n",
       "        vertical-align: top;\n",
       "    }\n",
       "\n",
       "    .dataframe thead th {\n",
       "        text-align: right;\n",
       "    }\n",
       "</style>\n",
       "<table border=\"1\" class=\"dataframe\">\n",
       "  <thead>\n",
       "    <tr style=\"text-align: right;\">\n",
       "      <th></th>\n",
       "      <th>w0</th>\n",
       "      <th>w1</th>\n",
       "      <th>w2</th>\n",
       "      <th>w3</th>\n",
       "      <th>testing_error</th>\n",
       "      <th>training_error</th>\n",
       "      <th>iterations</th>\n",
       "    </tr>\n",
       "  </thead>\n",
       "  <tbody>\n",
       "    <tr>\n",
       "      <th>0</th>\n",
       "      <td>[0.07893912497771075]</td>\n",
       "      <td>[0.28467775962431874]</td>\n",
       "      <td>[0.21627685507332164]</td>\n",
       "      <td>[0.11739171141784059]</td>\n",
       "      <td>0.454916</td>\n",
       "      <td>0.442253</td>\n",
       "      <td>229249</td>\n",
       "    </tr>\n",
       "    <tr>\n",
       "      <th>1</th>\n",
       "      <td>[0.05370040899436789]</td>\n",
       "      <td>[0.31210728061363296]</td>\n",
       "      <td>[0.2167446525809627]</td>\n",
       "      <td>[0.08685863478152984]</td>\n",
       "      <td>0.447536</td>\n",
       "      <td>0.441594</td>\n",
       "      <td>223853</td>\n",
       "    </tr>\n",
       "    <tr>\n",
       "      <th>2</th>\n",
       "      <td>[0.07271929191362236]</td>\n",
       "      <td>[0.26384442044858125]</td>\n",
       "      <td>[0.22185815793992933]</td>\n",
       "      <td>[0.06224609694760765]</td>\n",
       "      <td>0.435386</td>\n",
       "      <td>0.446819</td>\n",
       "      <td>232910</td>\n",
       "    </tr>\n",
       "    <tr>\n",
       "      <th>3</th>\n",
       "      <td>[0.03876987362195896]</td>\n",
       "      <td>[0.26190596752466644]</td>\n",
       "      <td>[0.25983802064954703]</td>\n",
       "      <td>[0.09187365871626806]</td>\n",
       "      <td>0.444287</td>\n",
       "      <td>0.445358</td>\n",
       "      <td>204873</td>\n",
       "    </tr>\n",
       "    <tr>\n",
       "      <th>4</th>\n",
       "      <td>[0.06790669437351542]</td>\n",
       "      <td>[0.2862773112059406]</td>\n",
       "      <td>[0.21770511414411522]</td>\n",
       "      <td>[0.1281924330073985]</td>\n",
       "      <td>0.482974</td>\n",
       "      <td>0.430330</td>\n",
       "      <td>268767</td>\n",
       "    </tr>\n",
       "    <tr>\n",
       "      <th>5</th>\n",
       "      <td>[0.07489020072511432]</td>\n",
       "      <td>[0.2967146228275708]</td>\n",
       "      <td>[0.23555636609612488]</td>\n",
       "      <td>[0.09861733781789452]</td>\n",
       "      <td>0.456185</td>\n",
       "      <td>0.442382</td>\n",
       "      <td>227689</td>\n",
       "    </tr>\n",
       "    <tr>\n",
       "      <th>6</th>\n",
       "      <td>[0.07952759558361834]</td>\n",
       "      <td>[0.25874232043219014]</td>\n",
       "      <td>[0.20890973808217972]</td>\n",
       "      <td>[0.13065103897950847]</td>\n",
       "      <td>0.464885</td>\n",
       "      <td>0.439234</td>\n",
       "      <td>175454</td>\n",
       "    </tr>\n",
       "    <tr>\n",
       "      <th>7</th>\n",
       "      <td>[0.05519978447709493]</td>\n",
       "      <td>[0.3081249471081407]</td>\n",
       "      <td>[0.2157660875427068]</td>\n",
       "      <td>[0.14772950212923766]</td>\n",
       "      <td>0.475614</td>\n",
       "      <td>0.436070</td>\n",
       "      <td>210525</td>\n",
       "    </tr>\n",
       "    <tr>\n",
       "      <th>8</th>\n",
       "      <td>[0.0539184460366949]</td>\n",
       "      <td>[0.23913676577671183]</td>\n",
       "      <td>[0.2460343854084339]</td>\n",
       "      <td>[0.1054196727808764]</td>\n",
       "      <td>0.442462</td>\n",
       "      <td>0.447364</td>\n",
       "      <td>194213</td>\n",
       "    </tr>\n",
       "    <tr>\n",
       "      <th>9</th>\n",
       "      <td>[0.08308200477564905]</td>\n",
       "      <td>[0.3271603264027193]</td>\n",
       "      <td>[0.2156021432600069]</td>\n",
       "      <td>[0.03273835489634159]</td>\n",
       "      <td>0.457961</td>\n",
       "      <td>0.440530</td>\n",
       "      <td>225362</td>\n",
       "    </tr>\n",
       "    <tr>\n",
       "      <th>10</th>\n",
       "      <td>[0.07128057627391148]</td>\n",
       "      <td>[0.31503813947690945]</td>\n",
       "      <td>[0.2132630561616062]</td>\n",
       "      <td>[0.11546027418055643]</td>\n",
       "      <td>0.481851</td>\n",
       "      <td>0.432187</td>\n",
       "      <td>261551</td>\n",
       "    </tr>\n",
       "    <tr>\n",
       "      <th>11</th>\n",
       "      <td>[0.05176562367496503]</td>\n",
       "      <td>[0.3453902225451779]</td>\n",
       "      <td>[0.177196326763389]</td>\n",
       "      <td>[0.11931328688076441]</td>\n",
       "      <td>0.455394</td>\n",
       "      <td>0.442481</td>\n",
       "      <td>241565</td>\n",
       "    </tr>\n",
       "    <tr>\n",
       "      <th>12</th>\n",
       "      <td>[0.03067006767209433]</td>\n",
       "      <td>[0.318645007589514]</td>\n",
       "      <td>[0.21990310092762783]</td>\n",
       "      <td>[0.128946647292182]</td>\n",
       "      <td>0.468094</td>\n",
       "      <td>0.437364</td>\n",
       "      <td>179103</td>\n",
       "    </tr>\n",
       "    <tr>\n",
       "      <th>13</th>\n",
       "      <td>[0.06520229619025225]</td>\n",
       "      <td>[0.3019603881152417]</td>\n",
       "      <td>[0.20635627249894314]</td>\n",
       "      <td>[0.09239862134200644]</td>\n",
       "      <td>0.441488</td>\n",
       "      <td>0.445517</td>\n",
       "      <td>256418</td>\n",
       "    </tr>\n",
       "    <tr>\n",
       "      <th>14</th>\n",
       "      <td>[0.051319316623357]</td>\n",
       "      <td>[0.3163830587370518]</td>\n",
       "      <td>[0.15853640954344297]</td>\n",
       "      <td>[0.14453944068176305]</td>\n",
       "      <td>0.444312</td>\n",
       "      <td>0.447311</td>\n",
       "      <td>226810</td>\n",
       "    </tr>\n",
       "    <tr>\n",
       "      <th>15</th>\n",
       "      <td>[0.04426435740753578]</td>\n",
       "      <td>[0.2715039741060773]</td>\n",
       "      <td>[0.26567530578392057]</td>\n",
       "      <td>[0.05357051154331679]</td>\n",
       "      <td>0.444643</td>\n",
       "      <td>0.447125</td>\n",
       "      <td>157900</td>\n",
       "    </tr>\n",
       "    <tr>\n",
       "      <th>16</th>\n",
       "      <td>[0.009335415453560534]</td>\n",
       "      <td>[0.34383709226052533]</td>\n",
       "      <td>[0.23334248024532797]</td>\n",
       "      <td>[0.09230405022724038]</td>\n",
       "      <td>0.456646</td>\n",
       "      <td>0.441282</td>\n",
       "      <td>242913</td>\n",
       "    </tr>\n",
       "    <tr>\n",
       "      <th>17</th>\n",
       "      <td>[0.04583973657273046]</td>\n",
       "      <td>[0.29970306409808484]</td>\n",
       "      <td>[0.1838932747679836]</td>\n",
       "      <td>[0.14835933618172]</td>\n",
       "      <td>0.439775</td>\n",
       "      <td>0.448568</td>\n",
       "      <td>236515</td>\n",
       "    </tr>\n",
       "    <tr>\n",
       "      <th>18</th>\n",
       "      <td>[0.06276714744788663]</td>\n",
       "      <td>[0.3175394703571381]</td>\n",
       "      <td>[0.18922081238313]</td>\n",
       "      <td>[0.08478092134117234]</td>\n",
       "      <td>0.432304</td>\n",
       "      <td>0.448920</td>\n",
       "      <td>255928</td>\n",
       "    </tr>\n",
       "    <tr>\n",
       "      <th>19</th>\n",
       "      <td>[0.0666726448558993]</td>\n",
       "      <td>[0.29955336064603205]</td>\n",
       "      <td>[0.19744049192646387]</td>\n",
       "      <td>[0.10694765863087526]</td>\n",
       "      <td>0.443691</td>\n",
       "      <td>0.445250</td>\n",
       "      <td>267564</td>\n",
       "    </tr>\n",
       "  </tbody>\n",
       "</table>\n",
       "</div>"
      ],
      "text/plain": [
       "                        w0                     w1                     w2  \\\n",
       "0    [0.07893912497771075]  [0.28467775962431874]  [0.21627685507332164]   \n",
       "1    [0.05370040899436789]  [0.31210728061363296]   [0.2167446525809627]   \n",
       "2    [0.07271929191362236]  [0.26384442044858125]  [0.22185815793992933]   \n",
       "3    [0.03876987362195896]  [0.26190596752466644]  [0.25983802064954703]   \n",
       "4    [0.06790669437351542]   [0.2862773112059406]  [0.21770511414411522]   \n",
       "5    [0.07489020072511432]   [0.2967146228275708]  [0.23555636609612488]   \n",
       "6    [0.07952759558361834]  [0.25874232043219014]  [0.20890973808217972]   \n",
       "7    [0.05519978447709493]   [0.3081249471081407]   [0.2157660875427068]   \n",
       "8     [0.0539184460366949]  [0.23913676577671183]   [0.2460343854084339]   \n",
       "9    [0.08308200477564905]   [0.3271603264027193]   [0.2156021432600069]   \n",
       "10   [0.07128057627391148]  [0.31503813947690945]   [0.2132630561616062]   \n",
       "11   [0.05176562367496503]   [0.3453902225451779]    [0.177196326763389]   \n",
       "12   [0.03067006767209433]    [0.318645007589514]  [0.21990310092762783]   \n",
       "13   [0.06520229619025225]   [0.3019603881152417]  [0.20635627249894314]   \n",
       "14     [0.051319316623357]   [0.3163830587370518]  [0.15853640954344297]   \n",
       "15   [0.04426435740753578]   [0.2715039741060773]  [0.26567530578392057]   \n",
       "16  [0.009335415453560534]  [0.34383709226052533]  [0.23334248024532797]   \n",
       "17   [0.04583973657273046]  [0.29970306409808484]   [0.1838932747679836]   \n",
       "18   [0.06276714744788663]   [0.3175394703571381]     [0.18922081238313]   \n",
       "19    [0.0666726448558993]  [0.29955336064603205]  [0.19744049192646387]   \n",
       "\n",
       "                       w3  testing_error  training_error iterations  \n",
       "0   [0.11739171141784059]       0.454916        0.442253     229249  \n",
       "1   [0.08685863478152984]       0.447536        0.441594     223853  \n",
       "2   [0.06224609694760765]       0.435386        0.446819     232910  \n",
       "3   [0.09187365871626806]       0.444287        0.445358     204873  \n",
       "4    [0.1281924330073985]       0.482974        0.430330     268767  \n",
       "5   [0.09861733781789452]       0.456185        0.442382     227689  \n",
       "6   [0.13065103897950847]       0.464885        0.439234     175454  \n",
       "7   [0.14772950212923766]       0.475614        0.436070     210525  \n",
       "8    [0.1054196727808764]       0.442462        0.447364     194213  \n",
       "9   [0.03273835489634159]       0.457961        0.440530     225362  \n",
       "10  [0.11546027418055643]       0.481851        0.432187     261551  \n",
       "11  [0.11931328688076441]       0.455394        0.442481     241565  \n",
       "12    [0.128946647292182]       0.468094        0.437364     179103  \n",
       "13  [0.09239862134200644]       0.441488        0.445517     256418  \n",
       "14  [0.14453944068176305]       0.444312        0.447311     226810  \n",
       "15  [0.05357051154331679]       0.444643        0.447125     157900  \n",
       "16  [0.09230405022724038]       0.456646        0.441282     242913  \n",
       "17     [0.14835933618172]       0.439775        0.448568     236515  \n",
       "18  [0.08478092134117234]       0.432304        0.448920     255928  \n",
       "19  [0.10694765863087526]       0.443691        0.445250     267564  "
      ]
     },
     "execution_count": 24,
     "metadata": {},
     "output_type": "execute_result"
    }
   ],
   "source": [
    "final_modelGD.models"
   ]
  },
  {
   "cell_type": "markdown",
   "metadata": {},
   "source": [
    "__Plotting the Convergence__"
   ]
  },
  {
   "cell_type": "markdown",
   "metadata": {},
   "source": [
    "Plot $E(\\omega)$ against the number of iterations of gradient descent"
   ]
  },
  {
   "cell_type": "code",
   "execution_count": 26,
   "metadata": {},
   "outputs": [],
   "source": [
    "errors = np.array(final_modelGD.errors, dtype=object)"
   ]
  },
  {
   "cell_type": "code",
   "execution_count": 27,
   "metadata": {},
   "outputs": [
    {
     "data": {
      "image/png": "[encoded data removed]",
      "text/plain": [
       "<Figure size 432x288 with 1 Axes>"
      ]
     },
     "metadata": {
      "needs_background": "light"
     },
     "output_type": "display_data"
    }
   ],
   "source": [
    "for error in errors:\n",
    "    plt.plot(error)\n",
    "    plt.title(\"Values of the Error Function over Iterations of Gradient Descent\");"
   ]
  },
  {
   "cell_type": "code",
   "execution_count": 28,
   "metadata": {},
   "outputs": [
    {
     "data": {
      "text/html": [
       "<div>\n",
       "<style scoped>\n",
       "    .dataframe tbody tr th:only-of-type {\n",
       "        vertical-align: middle;\n",
       "    }\n",
       "\n",
       "    .dataframe tbody tr th {\n",
       "        vertical-align: top;\n",
       "    }\n",
       "\n",
       "    .dataframe thead th {\n",
       "        text-align: right;\n",
       "    }\n",
       "</style>\n",
       "<table border=\"1\" class=\"dataframe\">\n",
       "  <thead>\n",
       "    <tr style=\"text-align: right;\">\n",
       "      <th></th>\n",
       "      <th>testing_error</th>\n",
       "      <th>training_error</th>\n",
       "    </tr>\n",
       "  </thead>\n",
       "  <tbody>\n",
       "    <tr>\n",
       "      <th>count</th>\n",
       "      <td>20.000000</td>\n",
       "      <td>20.000000</td>\n",
       "    </tr>\n",
       "    <tr>\n",
       "      <th>mean</th>\n",
       "      <td>0.453520</td>\n",
       "      <td>0.442397</td>\n",
       "    </tr>\n",
       "    <tr>\n",
       "      <th>std</th>\n",
       "      <td>0.014794</td>\n",
       "      <td>0.005275</td>\n",
       "    </tr>\n",
       "    <tr>\n",
       "      <th>min</th>\n",
       "      <td>0.432304</td>\n",
       "      <td>0.430330</td>\n",
       "    </tr>\n",
       "    <tr>\n",
       "      <th>25%</th>\n",
       "      <td>0.443384</td>\n",
       "      <td>0.440206</td>\n",
       "    </tr>\n",
       "    <tr>\n",
       "      <th>50%</th>\n",
       "      <td>0.451226</td>\n",
       "      <td>0.442431</td>\n",
       "    </tr>\n",
       "    <tr>\n",
       "      <th>75%</th>\n",
       "      <td>0.459692</td>\n",
       "      <td>0.446895</td>\n",
       "    </tr>\n",
       "    <tr>\n",
       "      <th>max</th>\n",
       "      <td>0.482974</td>\n",
       "      <td>0.448920</td>\n",
       "    </tr>\n",
       "  </tbody>\n",
       "</table>\n",
       "</div>"
      ],
      "text/plain": [
       "       testing_error  training_error\n",
       "count      20.000000       20.000000\n",
       "mean        0.453520        0.442397\n",
       "std         0.014794        0.005275\n",
       "min         0.432304        0.430330\n",
       "25%         0.443384        0.440206\n",
       "50%         0.451226        0.442431\n",
       "75%         0.459692        0.446895\n",
       "max         0.482974        0.448920"
      ]
     },
     "execution_count": 28,
     "metadata": {},
     "output_type": "execute_result"
    }
   ],
   "source": [
    "final_modelGD.models.describe()"
   ]
  },
  {
   "cell_type": "code",
   "execution_count": 29,
   "metadata": {},
   "outputs": [
    {
     "name": "stdout",
     "output_type": "stream",
     "text": [
      "Mean of testing error obtained over 20 regression models = 0.45352021088400835\n"
     ]
    }
   ],
   "source": [
    "print(f\"Mean of testing error obtained over 20 regression models = {final_modelGD.models.testing_error.mean()}\")"
   ]
  },
  {
   "cell_type": "code",
   "execution_count": 30,
   "metadata": {},
   "outputs": [
    {
     "name": "stdout",
     "output_type": "stream",
     "text": [
      "Variance of testing error obtained over 20 regression models = 0.0002188487900490819\n"
     ]
    }
   ],
   "source": [
    "print(f\"Variance of testing error obtained over 20 regression models = {final_modelGD.models.testing_error.var()}\")"
   ]
  },
  {
   "cell_type": "code",
   "execution_count": 31,
   "metadata": {},
   "outputs": [
    {
     "name": "stdout",
     "output_type": "stream",
     "text": [
      "Mean of training error obtained over 20 regression models = 0.44239677433398966\n"
     ]
    }
   ],
   "source": [
    "print(f\"Mean of training error obtained over 20 regression models = {final_modelGD.models.training_error.mean()}\")"
   ]
  },
  {
   "cell_type": "code",
   "execution_count": 32,
   "metadata": {},
   "outputs": [
    {
     "name": "stdout",
     "output_type": "stream",
     "text": [
      "Variance of training error obtained over 20 regression models = 2.7822123785268208e-05\n"
     ]
    }
   ],
   "source": [
    "print(f\"Variance of training error obtained over 20 regression models = {final_modelGD.models.training_error.var()}\")"
   ]
  }
 ],
 "metadata": {
  "kernelspec": {
   "display_name": "Python 3",
   "language": "python",
   "name": "python3"
  },
  "language_info": {
   "codemirror_mode": {
    "name": "ipython",
    "version": 3
   },
   "file_extension": ".py",
   "mimetype": "text/x-python",
   "name": "python",
   "nbconvert_exporter": "python",
   "pygments_lexer": "ipython3",
   "version": "3.8.6"
  }
 },
 "nbformat": 4,
 "nbformat_minor": 4
}
